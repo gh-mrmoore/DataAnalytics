{
 "cells": [
  {
   "source": [
    "# Regular Expressions with Functions\n",
    "\n",
    "## Instructions\n",
    "\n",
    "* Create a function that can find the amount of times a question was asked in a text file by searching for lines that end with a question mark.\n",
    "  * Print the results for how many questions were asked in the Alice in Wonderland text file.\n",
    "  * Print the results for how many questions were asked in the Sherlock Holmes text file.\n",
    "* Create a function that will create a DataFrame for all times a word of 6+ length follows a character.\n",
    "* Use the function to retrieve the following:\n",
    "  * Print the word counts for the character 'Alice'.\n",
    "  * Print the word count for the character 'Hatter'.\n",
    "  * Print the word count for the character 'Holmes'.\n",
    "* **Note** each function should be flexible for either text file."
   ],
   "cell_type": "markdown",
   "metadata": {}
  },
  {
   "cell_type": "code",
   "execution_count": 41,
   "metadata": {},
   "outputs": [],
   "source": [
    "import pandas as pd\n",
    "import re, os\n",
    "pd.options.display.max_colwidth = 100"
   ]
  },
  {
   "cell_type": "code",
   "execution_count": 42,
   "metadata": {},
   "outputs": [],
   "source": [
    "# Set variables to text files\n",
    "alice_text = os.path.join(\"Resources\", \"alice.txt\")\n",
    "sherlock_text = os.path.join(\"Resources\", \"sherlock.txt\")"
   ]
  },
  {
   "cell_type": "code",
   "execution_count": 43,
   "metadata": {},
   "outputs": [],
   "source": [
    "# Create a function to find how many questions are asked in a text\n",
    "def how_many_questions(text_file):\n",
    "    # convert text file to DataFrame\n",
    "    text_df = pd.read_csv(text_file, sep=\"\\n\", header=None)\n",
    "    text_df.columns = [\"Line Text\"]\n",
    "\n",
    "    # set RegEx pattern\n",
    "    form = r'(\\?$)'\n",
    "\n",
    "    return len(text_df['Line Text'].str.extractall(form, flags=re.I)[0].sum())"
   ]
  },
  {
   "cell_type": "code",
   "execution_count": 44,
   "metadata": {
    "tags": []
   },
   "outputs": [
    {
     "output_type": "execute_result",
     "data": {
      "text/plain": [
       "12"
      ]
     },
     "metadata": {},
     "execution_count": 44
    }
   ],
   "source": [
    "# Print questions asked in the Alice text\n",
    "how_many_questions(alice_text)"
   ]
  },
  {
   "cell_type": "code",
   "execution_count": 45,
   "metadata": {},
   "outputs": [
    {
     "output_type": "execute_result",
     "data": {
      "text/plain": [
       "18"
      ]
     },
     "metadata": {},
     "execution_count": 45
    }
   ],
   "source": [
    "# Print Questions asked in the Holmes text\n",
    "how_many_questions(sherlock_text)"
   ]
  },
  {
   "cell_type": "code",
   "execution_count": 46,
   "metadata": {},
   "outputs": [],
   "source": [
    "# Create a function that will create a DataFrame for all 6+ lengths word following a character\n",
    "def character_length(text_file, character):\n",
    "    # convert text file to dataframe\n",
    "    file_df = pd.read_csv(text_file, sep=\"\\n\", header=None)\n",
    "    file_df.columns = [\"Text\"]\n",
    "\n",
    "    # set RegEx pattern\n",
    "    # find but exclude the character -> ?:\n",
    "    # length of 6+ -> {6,}\n",
    "    # group both sets -> ()()\n",
    "    # non-word characters /W\n",
    "    # word characters \\w\n",
    "    # occurrences until the next match -> +\n",
    "    pattern = '('+ character + ')' + '(\\s*\\w{6,})'\n",
    "\n",
    "    # get results and create new dataframe\n",
    "    results_df = file_df['Text'].str.extractall(pattern)\n",
    "\n",
    "    # return the counts\n",
    "    return results_df[1].value_counts()"
   ]
  },
  {
   "cell_type": "code",
   "execution_count": 47,
   "metadata": {},
   "outputs": [
    {
     "output_type": "execute_result",
     "data": {
      "text/plain": [
       " thought         11\n",
       " looked           8\n",
       " replied          8\n",
       " ventured         4\n",
       " hastily          4\n",
       " indignantly      3\n",
       " waited           3\n",
       " called           2\n",
       " whispered        2\n",
       " guessed          2\n",
       " cautiously       2\n",
       " noticed          2\n",
       " remarked         2\n",
       " opened           1\n",
       " herself          1\n",
       " angrily          1\n",
       " timidly          1\n",
       " turned           1\n",
       " sighed           1\n",
       " desperately      1\n",
       " considered       1\n",
       " panted           1\n",
       " glanced          1\n",
       " sharply          1\n",
       " watched          1\n",
       " appeared         1\n",
       " started          1\n",
       " thoughtfully     1\n",
       " rather           1\n",
       " severely         1\n",
       " recognised       1\n",
       " caught           1\n",
       " folded           1\n",
       " gently           1\n",
       " crouched         1\n",
       " quietly          1\n",
       " doubtfully       1\n",
       " joined           1\n",
       " remained         1\n",
       " dodged           1\n",
       " loudly           1\n",
       " laughed          1\n",
       "Name: 1, dtype: int64"
      ]
     },
     "metadata": {},
     "execution_count": 47
    }
   ],
   "source": [
    "# Print the Word count for the character Alice\n",
    "alice_character = \"Alice\"\n",
    "character_length(alice_text, alice_character)"
   ]
  },
  {
   "cell_type": "code",
   "execution_count": 48,
   "metadata": {},
   "outputs": [
    {
     "output_type": "execute_result",
     "data": {
      "text/plain": [
       " hurriedly    1\n",
       " looked       1\n",
       " dropped      1\n",
       " grumbled     1\n",
       " continued    1\n",
       " replied      1\n",
       " instead      1\n",
       " opened       1\n",
       " trembled     1\n",
       "Name: 1, dtype: int64"
      ]
     },
     "metadata": {},
     "execution_count": 48
    }
   ],
   "source": [
    "# Print the Word count for the characters Hatter\n",
    "hatter_character = 'Hatter'\n",
    "character_length(alice_text, hatter_character)"
   ]
  },
  {
   "cell_type": "code",
   "execution_count": 49,
   "metadata": {},
   "outputs": [
    {
     "output_type": "execute_result",
     "data": {
      "text/plain": [
       " quietly         4\n",
       " answered        3\n",
       " blandly         3\n",
       " turned          3\n",
       " sprang          3\n",
       " pushed          3\n",
       " laughed         3\n",
       " returned        3\n",
       " leaned          2\n",
       " chuckled        2\n",
       " cheerily        2\n",
       " gravely         2\n",
       " suavely         2\n",
       " pulled          2\n",
       " clapped         2\n",
       " walked          2\n",
       " refused         1\n",
       " calmly          1\n",
       " stopped         1\n",
       " gently          1\n",
       " sternly         1\n",
       " lately          1\n",
       " interposed      1\n",
       " twisted         1\n",
       " without         1\n",
       " stepped         1\n",
       " desired         1\n",
       " welcomed        1\n",
       " changed         1\n",
       " looked          1\n",
       " struck          1\n",
       " caught          1\n",
       " thrust          1\n",
       " coldly          1\n",
       " rushed          1\n",
       " grinned         1\n",
       " before          1\n",
       " thoughtfully    1\n",
       " continued       1\n",
       " laying          1\n",
       " sweetly         1\n",
       " seemed          1\n",
       " unlocked        1\n",
       " remarked        1\n",
       " impatient       1\n",
       " nodded          1\n",
       " standing        1\n",
       " glanced         1\n",
       " closed          1\n",
       " carelessly      1\n",
       " suddenly        1\n",
       " scribbled       1\n",
       " staggered       1\n",
       " hailed          1\n",
       " demurely        1\n",
       "Name: 1, dtype: int64"
      ]
     },
     "metadata": {},
     "execution_count": 49
    }
   ],
   "source": [
    "# Print the Word count for the characters Holmes\n",
    "holmes_character = 'Holmes'\n",
    "character_length(sherlock_text, holmes_character)"
   ]
  }
 ],
 "metadata": {
  "kernelspec": {
   "name": "python3710jvsc74a57bd0acda147c8dd3b8f0274d48e33490c3394fd067fdf96c410e3ee71258c53f02eb",
   "display_name": "Python 3.7.10 64-bit ('PythonData': conda)"
  },
  "language_info": {
   "codemirror_mode": {
    "name": "ipython",
    "version": 3
   },
   "file_extension": ".py",
   "mimetype": "text/x-python",
   "name": "python",
   "nbconvert_exporter": "python",
   "pygments_lexer": "ipython3",
   "version": "3.7.10"
  }
 },
 "nbformat": 4,
 "nbformat_minor": 4
}