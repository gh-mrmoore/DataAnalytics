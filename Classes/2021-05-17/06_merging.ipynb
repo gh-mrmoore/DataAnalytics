{
 "cells": [
  {
   "cell_type": "code",
   "execution_count": 65,
   "metadata": {},
   "outputs": [],
   "source": [
    "# Dependencies\n",
    "import pandas as pd\n",
    "import os"
   ]
  },
  {
   "cell_type": "code",
   "execution_count": 66,
   "metadata": {},
   "outputs": [],
   "source": [
    "# Read in the following data into a DataFrame.\n",
    "raw_data_info = {\n",
    "    \"customer_id\": [112, 403, 999, 543, 123],\n",
    "    \"name\": [\"John\", \"Kelly\", \"Sam\", \"April\", \"Bobbo\"],\n",
    "    \"email\": [\"jman@gmail\", \"kelly@aol.com\", \"sports@school.edu\", \"April@yahoo.com\", \"HeyImBobbo@msn.com\"]}\n",
    "customer_df = pd.DataFrame(raw_data_info)"
   ]
  },
  {
   "cell_type": "code",
   "execution_count": 67,
   "metadata": {},
   "outputs": [
    {
     "output_type": "execute_result",
     "data": {
      "text/plain": [
       "   customer_id    item   cost\n",
       "0          403    soda    3.0\n",
       "1          112   chips    4.5\n",
       "2          543      TV  600.0\n",
       "3          999  Laptop  900.0\n",
       "4          654  Cooler  150.0"
      ],
      "text/html": "<div>\n<style scoped>\n    .dataframe tbody tr th:only-of-type {\n        vertical-align: middle;\n    }\n\n    .dataframe tbody tr th {\n        vertical-align: top;\n    }\n\n    .dataframe thead th {\n        text-align: right;\n    }\n</style>\n<table border=\"1\" class=\"dataframe\">\n  <thead>\n    <tr style=\"text-align: right;\">\n      <th></th>\n      <th>customer_id</th>\n      <th>item</th>\n      <th>cost</th>\n    </tr>\n  </thead>\n  <tbody>\n    <tr>\n      <th>0</th>\n      <td>403</td>\n      <td>soda</td>\n      <td>3.0</td>\n    </tr>\n    <tr>\n      <th>1</th>\n      <td>112</td>\n      <td>chips</td>\n      <td>4.5</td>\n    </tr>\n    <tr>\n      <th>2</th>\n      <td>543</td>\n      <td>TV</td>\n      <td>600.0</td>\n    </tr>\n    <tr>\n      <th>3</th>\n      <td>999</td>\n      <td>Laptop</td>\n      <td>900.0</td>\n    </tr>\n    <tr>\n      <th>4</th>\n      <td>654</td>\n      <td>Cooler</td>\n      <td>150.0</td>\n    </tr>\n  </tbody>\n</table>\n</div>"
     },
     "metadata": {},
     "execution_count": 67
    }
   ],
   "source": [
    "# Read in the following data into a DataFrame.\n",
    "raw_data_items = {\n",
    "    \"customer_id\": [403, 112, 543, 999, 654],\n",
    "    \"item\": [\"soda\", \"chips\", \"TV\", \"Laptop\", \"Cooler\"],\n",
    "    \"cost\": [3.00, 4.50, 600, 900, 150]}\n",
    "items_df = pd.DataFrame(raw_data_items)\n",
    "items_df"
   ]
  },
  {
   "cell_type": "code",
   "execution_count": 68,
   "metadata": {},
   "outputs": [
    {
     "output_type": "execute_result",
     "data": {
      "text/plain": [
       "   customer_id   name              email    item   cost\n",
       "0          112   John         jman@gmail   chips    4.5\n",
       "1          403  Kelly      kelly@aol.com    soda    3.0\n",
       "2          999    Sam  sports@school.edu  Laptop  900.0\n",
       "3          543  April    April@yahoo.com      TV  600.0"
      ],
      "text/html": "<div>\n<style scoped>\n    .dataframe tbody tr th:only-of-type {\n        vertical-align: middle;\n    }\n\n    .dataframe tbody tr th {\n        vertical-align: top;\n    }\n\n    .dataframe thead th {\n        text-align: right;\n    }\n</style>\n<table border=\"1\" class=\"dataframe\">\n  <thead>\n    <tr style=\"text-align: right;\">\n      <th></th>\n      <th>customer_id</th>\n      <th>name</th>\n      <th>email</th>\n      <th>item</th>\n      <th>cost</th>\n    </tr>\n  </thead>\n  <tbody>\n    <tr>\n      <th>0</th>\n      <td>112</td>\n      <td>John</td>\n      <td>jman@gmail</td>\n      <td>chips</td>\n      <td>4.5</td>\n    </tr>\n    <tr>\n      <th>1</th>\n      <td>403</td>\n      <td>Kelly</td>\n      <td>kelly@aol.com</td>\n      <td>soda</td>\n      <td>3.0</td>\n    </tr>\n    <tr>\n      <th>2</th>\n      <td>999</td>\n      <td>Sam</td>\n      <td>sports@school.edu</td>\n      <td>Laptop</td>\n      <td>900.0</td>\n    </tr>\n    <tr>\n      <th>3</th>\n      <td>543</td>\n      <td>April</td>\n      <td>April@yahoo.com</td>\n      <td>TV</td>\n      <td>600.0</td>\n    </tr>\n  </tbody>\n</table>\n</div>"
     },
     "metadata": {},
     "execution_count": 68
    }
   ],
   "source": [
    "# Merge the two dataframes using an inner join (default)\n",
    "merged_df = customer_df.merge(items_df, on=\"customer_id\")\n",
    "merged_df.head()"
   ]
  },
  {
   "cell_type": "code",
   "execution_count": 69,
   "metadata": {},
   "outputs": [
    {
     "output_type": "execute_result",
     "data": {
      "text/plain": [
       "   customer_id   name               email    item   cost\n",
       "0          112   John          jman@gmail   chips    4.5\n",
       "1          403  Kelly       kelly@aol.com    soda    3.0\n",
       "2          999    Sam   sports@school.edu  Laptop  900.0\n",
       "3          543  April     April@yahoo.com      TV  600.0\n",
       "4          123  Bobbo  HeyImBobbo@msn.com     NaN    NaN\n",
       "5          654    NaN                 NaN  Cooler  150.0"
      ],
      "text/html": "<div>\n<style scoped>\n    .dataframe tbody tr th:only-of-type {\n        vertical-align: middle;\n    }\n\n    .dataframe tbody tr th {\n        vertical-align: top;\n    }\n\n    .dataframe thead th {\n        text-align: right;\n    }\n</style>\n<table border=\"1\" class=\"dataframe\">\n  <thead>\n    <tr style=\"text-align: right;\">\n      <th></th>\n      <th>customer_id</th>\n      <th>name</th>\n      <th>email</th>\n      <th>item</th>\n      <th>cost</th>\n    </tr>\n  </thead>\n  <tbody>\n    <tr>\n      <th>0</th>\n      <td>112</td>\n      <td>John</td>\n      <td>jman@gmail</td>\n      <td>chips</td>\n      <td>4.5</td>\n    </tr>\n    <tr>\n      <th>1</th>\n      <td>403</td>\n      <td>Kelly</td>\n      <td>kelly@aol.com</td>\n      <td>soda</td>\n      <td>3.0</td>\n    </tr>\n    <tr>\n      <th>2</th>\n      <td>999</td>\n      <td>Sam</td>\n      <td>sports@school.edu</td>\n      <td>Laptop</td>\n      <td>900.0</td>\n    </tr>\n    <tr>\n      <th>3</th>\n      <td>543</td>\n      <td>April</td>\n      <td>April@yahoo.com</td>\n      <td>TV</td>\n      <td>600.0</td>\n    </tr>\n    <tr>\n      <th>4</th>\n      <td>123</td>\n      <td>Bobbo</td>\n      <td>HeyImBobbo@msn.com</td>\n      <td>NaN</td>\n      <td>NaN</td>\n    </tr>\n    <tr>\n      <th>5</th>\n      <td>654</td>\n      <td>NaN</td>\n      <td>NaN</td>\n      <td>Cooler</td>\n      <td>150.0</td>\n    </tr>\n  </tbody>\n</table>\n</div>"
     },
     "metadata": {},
     "execution_count": 69
    }
   ],
   "source": [
    "# Merge two dataframes using an outer join\n",
    "outer_merged_df = customer_df.merge(items_df, on=\"customer_id\", how=\"outer\")\n",
    "outer_merged_df"
   ]
  },
  {
   "cell_type": "code",
   "execution_count": 70,
   "metadata": {},
   "outputs": [
    {
     "output_type": "execute_result",
     "data": {
      "text/plain": [
       "   customer_id   name               email    item   cost\n",
       "0          112   John          jman@gmail   chips    4.5\n",
       "1          403  Kelly       kelly@aol.com    soda    3.0\n",
       "2          999    Sam   sports@school.edu  Laptop  900.0\n",
       "3          543  April     April@yahoo.com      TV  600.0\n",
       "4          123  Bobbo  HeyImBobbo@msn.com     NaN    NaN"
      ],
      "text/html": "<div>\n<style scoped>\n    .dataframe tbody tr th:only-of-type {\n        vertical-align: middle;\n    }\n\n    .dataframe tbody tr th {\n        vertical-align: top;\n    }\n\n    .dataframe thead th {\n        text-align: right;\n    }\n</style>\n<table border=\"1\" class=\"dataframe\">\n  <thead>\n    <tr style=\"text-align: right;\">\n      <th></th>\n      <th>customer_id</th>\n      <th>name</th>\n      <th>email</th>\n      <th>item</th>\n      <th>cost</th>\n    </tr>\n  </thead>\n  <tbody>\n    <tr>\n      <th>0</th>\n      <td>112</td>\n      <td>John</td>\n      <td>jman@gmail</td>\n      <td>chips</td>\n      <td>4.5</td>\n    </tr>\n    <tr>\n      <th>1</th>\n      <td>403</td>\n      <td>Kelly</td>\n      <td>kelly@aol.com</td>\n      <td>soda</td>\n      <td>3.0</td>\n    </tr>\n    <tr>\n      <th>2</th>\n      <td>999</td>\n      <td>Sam</td>\n      <td>sports@school.edu</td>\n      <td>Laptop</td>\n      <td>900.0</td>\n    </tr>\n    <tr>\n      <th>3</th>\n      <td>543</td>\n      <td>April</td>\n      <td>April@yahoo.com</td>\n      <td>TV</td>\n      <td>600.0</td>\n    </tr>\n    <tr>\n      <th>4</th>\n      <td>123</td>\n      <td>Bobbo</td>\n      <td>HeyImBobbo@msn.com</td>\n      <td>NaN</td>\n      <td>NaN</td>\n    </tr>\n  </tbody>\n</table>\n</div>"
     },
     "metadata": {},
     "execution_count": 70
    }
   ],
   "source": [
    "# Merge two dataframes using a left join\n",
    "left_merged_df = customer_df.merge(items_df, on=\"customer_id\", how=\"left\")\n",
    "left_merged_df"
   ]
  },
  {
   "cell_type": "code",
   "execution_count": 71,
   "metadata": {},
   "outputs": [
    {
     "output_type": "execute_result",
     "data": {
      "text/plain": [
       "   customer_id   name              email    item   cost\n",
       "0          403  Kelly      kelly@aol.com    soda    3.0\n",
       "1          112   John         jman@gmail   chips    4.5\n",
       "2          543  April    April@yahoo.com      TV  600.0\n",
       "3          999    Sam  sports@school.edu  Laptop  900.0\n",
       "4          654    NaN                NaN  Cooler  150.0"
      ],
      "text/html": "<div>\n<style scoped>\n    .dataframe tbody tr th:only-of-type {\n        vertical-align: middle;\n    }\n\n    .dataframe tbody tr th {\n        vertical-align: top;\n    }\n\n    .dataframe thead th {\n        text-align: right;\n    }\n</style>\n<table border=\"1\" class=\"dataframe\">\n  <thead>\n    <tr style=\"text-align: right;\">\n      <th></th>\n      <th>customer_id</th>\n      <th>name</th>\n      <th>email</th>\n      <th>item</th>\n      <th>cost</th>\n    </tr>\n  </thead>\n  <tbody>\n    <tr>\n      <th>0</th>\n      <td>403</td>\n      <td>Kelly</td>\n      <td>kelly@aol.com</td>\n      <td>soda</td>\n      <td>3.0</td>\n    </tr>\n    <tr>\n      <th>1</th>\n      <td>112</td>\n      <td>John</td>\n      <td>jman@gmail</td>\n      <td>chips</td>\n      <td>4.5</td>\n    </tr>\n    <tr>\n      <th>2</th>\n      <td>543</td>\n      <td>April</td>\n      <td>April@yahoo.com</td>\n      <td>TV</td>\n      <td>600.0</td>\n    </tr>\n    <tr>\n      <th>3</th>\n      <td>999</td>\n      <td>Sam</td>\n      <td>sports@school.edu</td>\n      <td>Laptop</td>\n      <td>900.0</td>\n    </tr>\n    <tr>\n      <th>4</th>\n      <td>654</td>\n      <td>NaN</td>\n      <td>NaN</td>\n      <td>Cooler</td>\n      <td>150.0</td>\n    </tr>\n  </tbody>\n</table>\n</div>"
     },
     "metadata": {},
     "execution_count": 71
    }
   ],
   "source": [
    "# Merge two dataframes using a right join\n",
    "right_merged_df = customer_df.merge(items_df, on=\"customer_id\", how=\"right\")\n",
    "right_merged_df"
   ]
  },
  {
   "cell_type": "code",
   "execution_count": 72,
   "metadata": {},
   "outputs": [],
   "source": [
    "#  Import the csv files and create DataFrames.\n",
    "bitcoin_csv = \"Resources/bitcoin_cash_price.csv\"\n",
    "dash_csv = \"Resources/dash_price.csv\"\n",
    "bitcoin_df = pd.read_csv(bitcoin_csv)\n",
    "dash_df = pd.read_csv(dash_csv)\n"
   ]
  },
  {
   "cell_type": "code",
   "execution_count": 76,
   "metadata": {},
   "outputs": [
    {
     "output_type": "execute_result",
     "data": {
      "text/plain": [
       "        Date  Open_x  High_x   Low_x  Close_x     Volume_x   Market Cap_x  \\\n",
       "0  17-Sep-17  438.90  438.90  384.06   419.86  221828000.0  7,279,520,000   \n",
       "1  16-Sep-17  424.49  450.98  388.20   440.22  313583000.0  7,039,590,000   \n",
       "2  15-Sep-17  369.49  448.39  301.69   424.02  707231000.0  6,126,800,000   \n",
       "3  14-Sep-17  504.22  510.47  367.04   367.04  257431000.0  8,359,650,000   \n",
       "4  13-Sep-17  509.47  519.20  471.22   503.61  340344000.0  8,445,540,000   \n",
       "\n",
       "   Open_y  High_y   Low_y  Close_y    Volume_y   Market Cap_y  \n",
       "0  298.59  315.58  278.17   313.84  38081600.0  2,257,850,000  \n",
       "1  284.50  301.23  276.57   298.86  43702600.0  2,150,800,000  \n",
       "2  236.05  300.11  220.51   284.36  72695500.0  1,784,040,000  \n",
       "3  301.11  303.74  236.24   236.24  35013800.0  2,275,100,000  \n",
       "4  324.72  325.16  287.25   301.29  28322500.0  2,452,930,000  "
      ],
      "text/html": "<div>\n<style scoped>\n    .dataframe tbody tr th:only-of-type {\n        vertical-align: middle;\n    }\n\n    .dataframe tbody tr th {\n        vertical-align: top;\n    }\n\n    .dataframe thead th {\n        text-align: right;\n    }\n</style>\n<table border=\"1\" class=\"dataframe\">\n  <thead>\n    <tr style=\"text-align: right;\">\n      <th></th>\n      <th>Date</th>\n      <th>Open_x</th>\n      <th>High_x</th>\n      <th>Low_x</th>\n      <th>Close_x</th>\n      <th>Volume_x</th>\n      <th>Market Cap_x</th>\n      <th>Open_y</th>\n      <th>High_y</th>\n      <th>Low_y</th>\n      <th>Close_y</th>\n      <th>Volume_y</th>\n      <th>Market Cap_y</th>\n    </tr>\n  </thead>\n  <tbody>\n    <tr>\n      <th>0</th>\n      <td>17-Sep-17</td>\n      <td>438.90</td>\n      <td>438.90</td>\n      <td>384.06</td>\n      <td>419.86</td>\n      <td>221828000.0</td>\n      <td>7,279,520,000</td>\n      <td>298.59</td>\n      <td>315.58</td>\n      <td>278.17</td>\n      <td>313.84</td>\n      <td>38081600.0</td>\n      <td>2,257,850,000</td>\n    </tr>\n    <tr>\n      <th>1</th>\n      <td>16-Sep-17</td>\n      <td>424.49</td>\n      <td>450.98</td>\n      <td>388.20</td>\n      <td>440.22</td>\n      <td>313583000.0</td>\n      <td>7,039,590,000</td>\n      <td>284.50</td>\n      <td>301.23</td>\n      <td>276.57</td>\n      <td>298.86</td>\n      <td>43702600.0</td>\n      <td>2,150,800,000</td>\n    </tr>\n    <tr>\n      <th>2</th>\n      <td>15-Sep-17</td>\n      <td>369.49</td>\n      <td>448.39</td>\n      <td>301.69</td>\n      <td>424.02</td>\n      <td>707231000.0</td>\n      <td>6,126,800,000</td>\n      <td>236.05</td>\n      <td>300.11</td>\n      <td>220.51</td>\n      <td>284.36</td>\n      <td>72695500.0</td>\n      <td>1,784,040,000</td>\n    </tr>\n    <tr>\n      <th>3</th>\n      <td>14-Sep-17</td>\n      <td>504.22</td>\n      <td>510.47</td>\n      <td>367.04</td>\n      <td>367.04</td>\n      <td>257431000.0</td>\n      <td>8,359,650,000</td>\n      <td>301.11</td>\n      <td>303.74</td>\n      <td>236.24</td>\n      <td>236.24</td>\n      <td>35013800.0</td>\n      <td>2,275,100,000</td>\n    </tr>\n    <tr>\n      <th>4</th>\n      <td>13-Sep-17</td>\n      <td>509.47</td>\n      <td>519.20</td>\n      <td>471.22</td>\n      <td>503.61</td>\n      <td>340344000.0</td>\n      <td>8,445,540,000</td>\n      <td>324.72</td>\n      <td>325.16</td>\n      <td>287.25</td>\n      <td>301.29</td>\n      <td>28322500.0</td>\n      <td>2,452,930,000</td>\n    </tr>\n  </tbody>\n</table>\n</div>"
     },
     "metadata": {},
     "execution_count": 76
    }
   ],
   "source": [
    "# Merge the two DataFrames together based on the Dates they share\n",
    "crypto_merged_df = bitcoin_df.merge(dash_df, on=\"Date\", how=\"inner\")\n",
    "crypto_merged_df.head()"
   ]
  },
  {
   "cell_type": "code",
   "execution_count": 78,
   "metadata": {},
   "outputs": [
    {
     "output_type": "execute_result",
     "data": {
      "text/plain": [
       "        Date  Bitcoin Open  Bitcoin High   Low_x  Close_x     Volume_x  \\\n",
       "0  17-Sep-17        438.90        438.90  384.06   419.86  221828000.0   \n",
       "1  16-Sep-17        424.49        450.98  388.20   440.22  313583000.0   \n",
       "2  15-Sep-17        369.49        448.39  301.69   424.02  707231000.0   \n",
       "3  14-Sep-17        504.22        510.47  367.04   367.04  257431000.0   \n",
       "4  13-Sep-17        509.47        519.20  471.22   503.61  340344000.0   \n",
       "\n",
       "    Market Cap_x  Open_y  High_y   Low_y  Close_y    Volume_y   Market Cap_y  \n",
       "0  7,279,520,000  298.59  315.58  278.17   313.84  38081600.0  2,257,850,000  \n",
       "1  7,039,590,000  284.50  301.23  276.57   298.86  43702600.0  2,150,800,000  \n",
       "2  6,126,800,000  236.05  300.11  220.51   284.36  72695500.0  1,784,040,000  \n",
       "3  8,359,650,000  301.11  303.74  236.24   236.24  35013800.0  2,275,100,000  \n",
       "4  8,445,540,000  324.72  325.16  287.25   301.29  28322500.0  2,452,930,000  "
      ],
      "text/html": "<div>\n<style scoped>\n    .dataframe tbody tr th:only-of-type {\n        vertical-align: middle;\n    }\n\n    .dataframe tbody tr th {\n        vertical-align: top;\n    }\n\n    .dataframe thead th {\n        text-align: right;\n    }\n</style>\n<table border=\"1\" class=\"dataframe\">\n  <thead>\n    <tr style=\"text-align: right;\">\n      <th></th>\n      <th>Date</th>\n      <th>Bitcoin Open</th>\n      <th>Bitcoin High</th>\n      <th>Low_x</th>\n      <th>Close_x</th>\n      <th>Volume_x</th>\n      <th>Market Cap_x</th>\n      <th>Open_y</th>\n      <th>High_y</th>\n      <th>Low_y</th>\n      <th>Close_y</th>\n      <th>Volume_y</th>\n      <th>Market Cap_y</th>\n    </tr>\n  </thead>\n  <tbody>\n    <tr>\n      <th>0</th>\n      <td>17-Sep-17</td>\n      <td>438.90</td>\n      <td>438.90</td>\n      <td>384.06</td>\n      <td>419.86</td>\n      <td>221828000.0</td>\n      <td>7,279,520,000</td>\n      <td>298.59</td>\n      <td>315.58</td>\n      <td>278.17</td>\n      <td>313.84</td>\n      <td>38081600.0</td>\n      <td>2,257,850,000</td>\n    </tr>\n    <tr>\n      <th>1</th>\n      <td>16-Sep-17</td>\n      <td>424.49</td>\n      <td>450.98</td>\n      <td>388.20</td>\n      <td>440.22</td>\n      <td>313583000.0</td>\n      <td>7,039,590,000</td>\n      <td>284.50</td>\n      <td>301.23</td>\n      <td>276.57</td>\n      <td>298.86</td>\n      <td>43702600.0</td>\n      <td>2,150,800,000</td>\n    </tr>\n    <tr>\n      <th>2</th>\n      <td>15-Sep-17</td>\n      <td>369.49</td>\n      <td>448.39</td>\n      <td>301.69</td>\n      <td>424.02</td>\n      <td>707231000.0</td>\n      <td>6,126,800,000</td>\n      <td>236.05</td>\n      <td>300.11</td>\n      <td>220.51</td>\n      <td>284.36</td>\n      <td>72695500.0</td>\n      <td>1,784,040,000</td>\n    </tr>\n    <tr>\n      <th>3</th>\n      <td>14-Sep-17</td>\n      <td>504.22</td>\n      <td>510.47</td>\n      <td>367.04</td>\n      <td>367.04</td>\n      <td>257431000.0</td>\n      <td>8,359,650,000</td>\n      <td>301.11</td>\n      <td>303.74</td>\n      <td>236.24</td>\n      <td>236.24</td>\n      <td>35013800.0</td>\n      <td>2,275,100,000</td>\n    </tr>\n    <tr>\n      <th>4</th>\n      <td>13-Sep-17</td>\n      <td>509.47</td>\n      <td>519.20</td>\n      <td>471.22</td>\n      <td>503.61</td>\n      <td>340344000.0</td>\n      <td>8,445,540,000</td>\n      <td>324.72</td>\n      <td>325.16</td>\n      <td>287.25</td>\n      <td>301.29</td>\n      <td>28322500.0</td>\n      <td>2,452,930,000</td>\n    </tr>\n  </tbody>\n</table>\n</div>"
     },
     "metadata": {},
     "execution_count": 78
    }
   ],
   "source": [
    "# Rename columns so that they are differentiated\n",
    "crypto_merged_df.rename(columns={\"Open_x\":\"Bitcoin Open\", \"High_x\":\"Bitcoin High\"}, inplace=True)\n",
    "crypto_merged_df.head()"
   ]
  },
  {
   "cell_type": "code",
   "execution_count": 75,
   "metadata": {},
   "outputs": [
    {
     "output_type": "execute_result",
     "data": {
      "text/plain": [
       "        Date  Open_Bitcoin  High_Bitcoin  Low_Bitcoin  Close_Bitcoin  \\\n",
       "0  17-Sep-17        438.90        438.90       384.06         419.86   \n",
       "1  16-Sep-17        424.49        450.98       388.20         440.22   \n",
       "2  15-Sep-17        369.49        448.39       301.69         424.02   \n",
       "3  14-Sep-17        504.22        510.47       367.04         367.04   \n",
       "4  13-Sep-17        509.47        519.20       471.22         503.61   \n",
       "\n",
       "   Volume_Bitcoin Market Cap_Bitcoin  Open_Dash  High_Dash  Low_Dash  \\\n",
       "0     221828000.0      7,279,520,000     298.59     315.58    278.17   \n",
       "1     313583000.0      7,039,590,000     284.50     301.23    276.57   \n",
       "2     707231000.0      6,126,800,000     236.05     300.11    220.51   \n",
       "3     257431000.0      8,359,650,000     301.11     303.74    236.24   \n",
       "4     340344000.0      8,445,540,000     324.72     325.16    287.25   \n",
       "\n",
       "   Close_Dash  Volume_Dash Market Cap_Dash  \n",
       "0      313.84   38081600.0   2,257,850,000  \n",
       "1      298.86   43702600.0   2,150,800,000  \n",
       "2      284.36   72695500.0   1,784,040,000  \n",
       "3      236.24   35013800.0   2,275,100,000  \n",
       "4      301.29   28322500.0   2,452,930,000  "
      ],
      "text/html": "<div>\n<style scoped>\n    .dataframe tbody tr th:only-of-type {\n        vertical-align: middle;\n    }\n\n    .dataframe tbody tr th {\n        vertical-align: top;\n    }\n\n    .dataframe thead th {\n        text-align: right;\n    }\n</style>\n<table border=\"1\" class=\"dataframe\">\n  <thead>\n    <tr style=\"text-align: right;\">\n      <th></th>\n      <th>Date</th>\n      <th>Open_Bitcoin</th>\n      <th>High_Bitcoin</th>\n      <th>Low_Bitcoin</th>\n      <th>Close_Bitcoin</th>\n      <th>Volume_Bitcoin</th>\n      <th>Market Cap_Bitcoin</th>\n      <th>Open_Dash</th>\n      <th>High_Dash</th>\n      <th>Low_Dash</th>\n      <th>Close_Dash</th>\n      <th>Volume_Dash</th>\n      <th>Market Cap_Dash</th>\n    </tr>\n  </thead>\n  <tbody>\n    <tr>\n      <th>0</th>\n      <td>17-Sep-17</td>\n      <td>438.90</td>\n      <td>438.90</td>\n      <td>384.06</td>\n      <td>419.86</td>\n      <td>221828000.0</td>\n      <td>7,279,520,000</td>\n      <td>298.59</td>\n      <td>315.58</td>\n      <td>278.17</td>\n      <td>313.84</td>\n      <td>38081600.0</td>\n      <td>2,257,850,000</td>\n    </tr>\n    <tr>\n      <th>1</th>\n      <td>16-Sep-17</td>\n      <td>424.49</td>\n      <td>450.98</td>\n      <td>388.20</td>\n      <td>440.22</td>\n      <td>313583000.0</td>\n      <td>7,039,590,000</td>\n      <td>284.50</td>\n      <td>301.23</td>\n      <td>276.57</td>\n      <td>298.86</td>\n      <td>43702600.0</td>\n      <td>2,150,800,000</td>\n    </tr>\n    <tr>\n      <th>2</th>\n      <td>15-Sep-17</td>\n      <td>369.49</td>\n      <td>448.39</td>\n      <td>301.69</td>\n      <td>424.02</td>\n      <td>707231000.0</td>\n      <td>6,126,800,000</td>\n      <td>236.05</td>\n      <td>300.11</td>\n      <td>220.51</td>\n      <td>284.36</td>\n      <td>72695500.0</td>\n      <td>1,784,040,000</td>\n    </tr>\n    <tr>\n      <th>3</th>\n      <td>14-Sep-17</td>\n      <td>504.22</td>\n      <td>510.47</td>\n      <td>367.04</td>\n      <td>367.04</td>\n      <td>257431000.0</td>\n      <td>8,359,650,000</td>\n      <td>301.11</td>\n      <td>303.74</td>\n      <td>236.24</td>\n      <td>236.24</td>\n      <td>35013800.0</td>\n      <td>2,275,100,000</td>\n    </tr>\n    <tr>\n      <th>4</th>\n      <td>13-Sep-17</td>\n      <td>509.47</td>\n      <td>519.20</td>\n      <td>471.22</td>\n      <td>503.61</td>\n      <td>340344000.0</td>\n      <td>8,445,540,000</td>\n      <td>324.72</td>\n      <td>325.16</td>\n      <td>287.25</td>\n      <td>301.29</td>\n      <td>28322500.0</td>\n      <td>2,452,930,000</td>\n    </tr>\n  </tbody>\n</table>\n</div>"
     },
     "metadata": {},
     "execution_count": 75
    }
   ],
   "source": [
    "# Alternatively you can set your suffixes using suffixes=(\"_Bitcoin\", \"_Dash\") \n",
    "# in the merge funciton when the merge occurs.\n",
    "crypto_merged_df_suffixes = bitcoin_df.merge(dash_df, on=\"Date\", how=\"inner\", suffixes=[\"_Bitcoin\", \"_Dash\"])\n",
    "crypto_merged_df_suffixes.head()"
   ]
  },
  {
   "cell_type": "code",
   "execution_count": null,
   "metadata": {},
   "outputs": [],
   "source": []
  }
 ],
 "metadata": {
  "anaconda-cloud": {},
  "kernelspec": {
   "name": "python3710jvsc74a57bd0acda147c8dd3b8f0274d48e33490c3394fd067fdf96c410e3ee71258c53f02eb",
   "display_name": "Python 3.7.10 64-bit ('PythonData': conda)"
  },
  "language_info": {
   "codemirror_mode": {
    "name": "ipython",
    "version": 3
   },
   "file_extension": ".py",
   "mimetype": "text/x-python",
   "name": "python",
   "nbconvert_exporter": "python",
   "pygments_lexer": "ipython3",
   "version": "3.7.10"
  }
 },
 "nbformat": 4,
 "nbformat_minor": 2
}