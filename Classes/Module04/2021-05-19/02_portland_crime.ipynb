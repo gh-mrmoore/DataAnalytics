{
 "cells": [
  {
   "source": [
    "## Portland Crime\n",
    "\n",
    "### Instructions\n",
    "\n",
    "* Read in the csv using Pandas and print out the DataFrame that is returned.\n",
    "\n",
    "* Get a count of rows within the DataFrame in order to determine if there are any null values.\n",
    "\n",
    "* Drop the rows which contain null values.\n",
    "\n",
    "* Search through the \"Offense Type\" column and \"replace\" any similar values with one consistent value.\n"
   ],
   "cell_type": "markdown",
   "metadata": {}
  },
  {
   "cell_type": "code",
   "execution_count": 1,
   "metadata": {
    "collapsed": true
   },
   "outputs": [],
   "source": [
    "# Import Dependencies\n",
    "import pandas as pd"
   ]
  },
  {
   "cell_type": "code",
   "execution_count": 2,
   "metadata": {},
   "outputs": [],
   "source": [
    "# Reference the file where the CSV is located\n",
    "crime_file = \"Resources/crime_incident_data2017.csv\"\n",
    "\n",
    "# Import the data into a Pandas DataFrame\n",
    "crime_df = pd.read_csv(crime_file)"
   ]
  },
  {
   "cell_type": "code",
   "execution_count": 4,
   "metadata": {},
   "outputs": [
    {
     "output_type": "execute_result",
     "data": {
      "text/plain": [
       "Address              37365\n",
       "Case Number          41032\n",
       "Crime Against        41032\n",
       "Neighborhood         39712\n",
       "Number of Records    41032\n",
       "Occur Date           41032\n",
       "Occur Month Year     41032\n",
       "Occur Time           41032\n",
       "Offense Category     41032\n",
       "Offense Count        41032\n",
       "Offense Type         41032\n",
       "Open Data Lat        36712\n",
       "Open Data Lon        36712\n",
       "Open Data X          36712\n",
       "Open Data Y          36712\n",
       "Report Date          41032\n",
       "Report Month Year    41032\n",
       "dtype: int64"
      ]
     },
     "metadata": {},
     "execution_count": 4
    }
   ],
   "source": [
    "# look for missing values\n",
    "# pd.set_option('display.max_rows', None)\n",
    "crime_df.count()"
   ]
  },
  {
   "cell_type": "code",
   "execution_count": 9,
   "metadata": {
    "collapsed": true
   },
   "outputs": [],
   "source": [
    "# drop null rows\n",
    "crime_df_dropped_na = crime_df.dropna(how='any')"
   ]
  },
  {
   "cell_type": "code",
   "execution_count": 10,
   "metadata": {},
   "outputs": [
    {
     "output_type": "execute_result",
     "data": {
      "text/plain": [
       "Address              36146\n",
       "Case Number          36146\n",
       "Crime Against        36146\n",
       "Neighborhood         36146\n",
       "Number of Records    36146\n",
       "Occur Date           36146\n",
       "Occur Month Year     36146\n",
       "Occur Time           36146\n",
       "Offense Category     36146\n",
       "Offense Count        36146\n",
       "Offense Type         36146\n",
       "Open Data Lat        36146\n",
       "Open Data Lon        36146\n",
       "Open Data X          36146\n",
       "Open Data Y          36146\n",
       "Report Date          36146\n",
       "Report Month Year    36146\n",
       "dtype: int64"
      ]
     },
     "metadata": {},
     "execution_count": 10
    }
   ],
   "source": [
    "# verify counts\n",
    "crime_df_dropped_na.count()"
   ]
  },
  {
   "cell_type": "code",
   "execution_count": 15,
   "metadata": {
    "scrolled": true
   },
   "outputs": [
    {
     "output_type": "execute_result",
     "data": {
      "text/plain": [
       "Aggravated Assault                              839\n",
       "All Other Larceny                              4558\n",
       "Animal Cruelty                                   17\n",
       "Arson                                           200\n",
       "Assisting or Promoting Prostitution               7\n",
       "Burglary                                       2824\n",
       "Commercial Sex Acts                               1\n",
       "Counterfeiting/Forgery                          448\n",
       "Credit Card/ATM Fraud                           226\n",
       "Drug Equipment Violations                         6\n",
       "Drug/Narcotic Violations                       1095\n",
       "Embezzlement                                     73\n",
       "Extortion/Blackmail                               8\n",
       "False Pretenses/Swindle/Confidence Game         870\n",
       "Hacking/Computer Invasion                        19\n",
       "Identity Theft                                 1794\n",
       "Impersonation                                     4\n",
       "Intimidation                                    900\n",
       "Kidnapping/Abduction                             22\n",
       "Motor Vehicle Theft                            4689\n",
       "Pocket-Picking                                   94\n",
       "Pornography/Obscene Material                     10\n",
       "Prostitution                                    145\n",
       "Purse-Snatching                                  89\n",
       "Robbery                                         608\n",
       "Shoplifting                                    2259\n",
       "Simple Assault                                 1216\n",
       "Stolen Property Offenses                         57\n",
       "Theft From Building                             895\n",
       "Theft From Coin-Operated Machine or Device       20\n",
       "Theft From Motor Vehicle                       6947\n",
       "Theft of Motor Vehicle Parts or Accessories    1073\n",
       "Vandalism                                      3863\n",
       "Weapons Law Violations                          266\n",
       "Welfare Fraud                                     1\n",
       "Wire Fraud                                        3\n",
       "Name: Offense Type, dtype: int64"
      ]
     },
     "metadata": {},
     "execution_count": 15
    }
   ],
   "source": [
    "# Check to see if there are any values with mispelled or similar values in \"Offense Type\"\n",
    "crime_df_dropped_na[\"Offense Type\"].value_counts().sort_index()"
   ]
  },
  {
   "cell_type": "code",
   "execution_count": 16,
   "metadata": {},
   "outputs": [],
   "source": [
    "# Combine similar offenses\n",
    "crime_df_dropped_na = crime_df_dropped_na.replace({\"Commercial Sex Acts\": \"Prostitution\", \"Assisting or Promoting Prostitution\": \"Prostitution\"})"
   ]
  },
  {
   "cell_type": "code",
   "execution_count": 18,
   "metadata": {},
   "outputs": [
    {
     "output_type": "execute_result",
     "data": {
      "text/plain": [
       "Aggravated Assault                              839\n",
       "All Other Larceny                              4558\n",
       "Animal Cruelty                                   17\n",
       "Arson                                           200\n",
       "Burglary                                       2824\n",
       "Counterfeiting/Forgery                          448\n",
       "Credit Card/ATM Fraud                           226\n",
       "Drug Equipment Violations                         6\n",
       "Drug/Narcotic Violations                       1095\n",
       "Embezzlement                                     73\n",
       "Extortion/Blackmail                               8\n",
       "False Pretenses/Swindle/Confidence Game         870\n",
       "Hacking/Computer Invasion                        19\n",
       "Identity Theft                                 1794\n",
       "Impersonation                                     4\n",
       "Intimidation                                    900\n",
       "Kidnapping/Abduction                             22\n",
       "Motor Vehicle Theft                            4689\n",
       "Pocket-Picking                                   94\n",
       "Pornography/Obscene Material                     10\n",
       "Prostitution                                    153\n",
       "Purse-Snatching                                  89\n",
       "Robbery                                         608\n",
       "Shoplifting                                    2259\n",
       "Simple Assault                                 1216\n",
       "Stolen Property Offenses                         57\n",
       "Theft From Building                             895\n",
       "Theft From Coin-Operated Machine or Device       20\n",
       "Theft From Motor Vehicle                       6947\n",
       "Theft of Motor Vehicle Parts or Accessories    1073\n",
       "Vandalism                                      3863\n",
       "Weapons Law Violations                          266\n",
       "Welfare Fraud                                     1\n",
       "Wire Fraud                                        3\n",
       "Name: Offense Type, dtype: int64"
      ]
     },
     "metadata": {},
     "execution_count": 18
    }
   ],
   "source": [
    "# Check to see if you comnbined similar offenses correctly in \"Offense Type\".\n",
    "crime_df_dropped_na[\"Offense Type\"].value_counts().sort_index()"
   ]
  },
  {
   "cell_type": "code",
   "execution_count": null,
   "metadata": {},
   "outputs": [],
   "source": []
  }
 ],
 "metadata": {
  "kernelspec": {
   "name": "pythondata",
   "display_name": "Python 3.7.10 64-bit ('PythonData': conda)"
  },
  "language_info": {
   "codemirror_mode": {
    "name": "ipython",
    "version": 3
   },
   "file_extension": ".py",
   "mimetype": "text/x-python",
   "name": "python",
   "nbconvert_exporter": "python",
   "pygments_lexer": "ipython3",
   "version": "3.7.10"
  }
 },
 "nbformat": 4,
 "nbformat_minor": 2
}