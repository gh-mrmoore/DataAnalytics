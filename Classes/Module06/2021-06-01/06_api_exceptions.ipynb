{
 "cells": [
  {
   "source": [
    "## API Exceptions\n",
    "\n",
    "Not every call placed to an API will return a result. In this activity, you will use try/except to handle errors from API calls.\n",
    "\n",
    "### Instructions\n",
    "\n",
    "* Loop through the characters in the list and send a request to the Star Wars API.\n",
    "\n",
    "* Create a try clause and an except clause. In the try clause, append the height, mass and character that is available in the Star Wars API. If the character is not available in the Star Wars API, use the except clause to print a message and `pass`.\n",
    "\n",
    "* Create a DataFrame from the results.\n",
    "\n",
    "* Drop any rows with null values to remove characters not in the Star Wars universe.\n"
   ],
   "cell_type": "markdown",
   "metadata": {}
  },
  {
   "cell_type": "code",
   "execution_count": 32,
   "metadata": {},
   "outputs": [],
   "source": [
    "import json\n",
    "import requests\n",
    "import pandas as pd"
   ]
  },
  {
   "cell_type": "code",
   "execution_count": 33,
   "metadata": {},
   "outputs": [
    {
     "output_type": "stream",
     "name": "stdout",
     "text": [
      "Godzilla was not found.\n",
      "Frodo was not found.\n",
      "Iron Man was not found.\n",
      "Jon Snow was not found.\n"
     ]
    },
    {
     "output_type": "execute_result",
     "data": {
      "text/plain": [
       "(['R2-D2', 'Darth Vader', 'Luke Skywalker', 'Boba Fett', 'Han Solo'],\n",
       " ['96', '202', '172', '183', '180'],\n",
       " ['32', '136', '77', '78.2', '80'])"
      ]
     },
     "metadata": {},
     "execution_count": 33
    }
   ],
   "source": [
    "# List of character\n",
    "search_characters = ['R2-D2', 'Darth Vader', 'Godzilla', 'Luke Skywalker', 'Frodo', \\\n",
    "              'Boba Fett', 'Iron Man', 'Jon Snow', 'Han Solo']\n",
    "\n",
    "# Set url for API\n",
    "url = 'https://swapi.dev/api/people/?search='\n",
    "\n",
    "# Set empty lists to hold character's height and mass\n",
    "height = []\n",
    "mass = []\n",
    "sw_characters = []\n",
    "    \n",
    "# Loop through each character and make API request\n",
    "for character in search_characters:\n",
    "    # Create search query, make request and store in json\n",
    "    query_url = url + character\n",
    "    # print(query_url)\n",
    "    result = requests.get(query_url).json()\n",
    "    # Try to grab the height and mass of characters if they are available in the Star Wars API\n",
    "    try:\n",
    "        sw_characters.append(result[\"results\"][0][\"name\"])\n",
    "        height.append(result[\"results\"][0][\"height\"])\n",
    "        mass.append(result[\"results\"][0][\"mass\"])\n",
    "    # Handle exceptions for a character that is not available in the Star Wars API\n",
    "    except:\n",
    "        print(character + \" was not found.\")\n",
    "        pass\n",
    "        \n",
    "sw_characters, height, mass"
   ]
  },
  {
   "cell_type": "code",
   "execution_count": 35,
   "metadata": {},
   "outputs": [
    {
     "output_type": "execute_result",
     "data": {
      "text/plain": [
       "        character height  mass\n",
       "0           R2-D2     96    32\n",
       "1     Darth Vader    202   136\n",
       "2  Luke Skywalker    172    77\n",
       "3       Boba Fett    183  78.2\n",
       "4        Han Solo    180    80"
      ],
      "text/html": "<div>\n<style scoped>\n    .dataframe tbody tr th:only-of-type {\n        vertical-align: middle;\n    }\n\n    .dataframe tbody tr th {\n        vertical-align: top;\n    }\n\n    .dataframe thead th {\n        text-align: right;\n    }\n</style>\n<table border=\"1\" class=\"dataframe\">\n  <thead>\n    <tr style=\"text-align: right;\">\n      <th></th>\n      <th>character</th>\n      <th>height</th>\n      <th>mass</th>\n    </tr>\n  </thead>\n  <tbody>\n    <tr>\n      <th>0</th>\n      <td>R2-D2</td>\n      <td>96</td>\n      <td>32</td>\n    </tr>\n    <tr>\n      <th>1</th>\n      <td>Darth Vader</td>\n      <td>202</td>\n      <td>136</td>\n    </tr>\n    <tr>\n      <th>2</th>\n      <td>Luke Skywalker</td>\n      <td>172</td>\n      <td>77</td>\n    </tr>\n    <tr>\n      <th>3</th>\n      <td>Boba Fett</td>\n      <td>183</td>\n      <td>78.2</td>\n    </tr>\n    <tr>\n      <th>4</th>\n      <td>Han Solo</td>\n      <td>180</td>\n      <td>80</td>\n    </tr>\n  </tbody>\n</table>\n</div>"
     },
     "metadata": {},
     "execution_count": 35
    }
   ],
   "source": [
    "# Create DataFrame\n",
    "sw_characters_df = pd.DataFrame({\"character\": sw_characters,\n",
    "                                \"height\": height,\n",
    "                                \"mass\": mass})\n",
    "\n",
    "sw_characters_df.head(10)"
   ]
  },
  {
   "cell_type": "code",
   "execution_count": null,
   "metadata": {},
   "outputs": [],
   "source": []
  }
 ],
 "metadata": {
  "kernelspec": {
   "name": "python3710jvsc74a57bd0acda147c8dd3b8f0274d48e33490c3394fd067fdf96c410e3ee71258c53f02eb",
   "display_name": "Python 3.7.10 64-bit ('PythonData': conda)"
  },
  "language_info": {
   "codemirror_mode": {
    "name": "ipython",
    "version": 3
   },
   "file_extension": ".py",
   "mimetype": "text/x-python",
   "name": "python",
   "nbconvert_exporter": "python",
   "pygments_lexer": "ipython3",
   "version": "3.7.10"
  },
  "latex_envs": {
   "LaTeX_envs_menu_present": true,
   "autoclose": false,
   "autocomplete": true,
   "bibliofile": "biblio.bib",
   "cite_by": "apalike",
   "current_citInitial": 1,
   "eqLabelWithNumbers": true,
   "eqNumInitial": 1,
   "hotkeys": {
    "equation": "Ctrl-E",
    "itemize": "Ctrl-I"
   },
   "labels_anchors": false,
   "latex_user_defs": false,
   "report_style_numbering": false,
   "user_envs_cfg": false
  }
 },
 "nbformat": 4,
 "nbformat_minor": 2
}