{
 "cells": [
  {
   "cell_type": "code",
   "execution_count": 34,
   "metadata": {
    "collapsed": true
   },
   "outputs": [],
   "source": [
    "# Dependencies\n",
    "import os\n",
    "from bs4 import BeautifulSoup as bs"
   ]
  },
  {
   "cell_type": "code",
   "execution_count": 35,
   "metadata": {
    "collapsed": true
   },
   "outputs": [],
   "source": [
    "# Read HTML from file\n",
    "filepath = os.path.join(\"Resources\", \"template.html\")\n",
    "with open(filepath) as file:\n",
    "    html = file.read()"
   ]
  },
  {
   "cell_type": "code",
   "execution_count": 36,
   "metadata": {
    "collapsed": true
   },
   "outputs": [],
   "source": [
    "# Create a Beautiful Soup object\n",
    "soup = bs(html, 'html.parser')"
   ]
  },
  {
   "cell_type": "code",
   "execution_count": 45,
   "metadata": {},
   "outputs": [
    {
     "output_type": "execute_result",
     "data": {
      "text/plain": [
       "'Top Ten Stories From 1996'"
      ]
     },
     "metadata": {},
     "execution_count": 45
    }
   ],
   "source": [
    "# Extract title text\n",
    "# soup.title\n",
    "soup.title.text.strip()"
   ]
  },
  {
   "cell_type": "code",
   "execution_count": 53,
   "metadata": {},
   "outputs": [
    {
     "output_type": "stream",
     "name": "stdout",
     "text": [
      "\n======================================\nWhat were the biggest stories of the year?\n\nIt's a question journalists like to ask themselves at the end of every\n            year. Now you can join in the process. Here are our selections for the top ten news\n            stories of 1996.\n\n            Disagree with our choices? Then tell us what stories you think were most compelling\n            in the poll below.\n======================================\n\n======================================\nWhat makes a big\n            story BIG?\n\nIt depends on your criteria, of course, and your perspective. That's why we offered\n            a poll to find out what you think.\nFor our list, we polled producers throughout the CNN/Pathfinder family of networks\n            and publications, and weighed such criteria as a story's long-term implications,\n            geopolitical significance, user interest, amount of coverage, and old-fashioned newsworthiness.\n            All these things help make a \"big\" story big.\nBy no means do we think our lists are the final word. Even our polls among CNN\n            producers turned up a wide variety of responses. The process is meant to encourage\n            you to reconsider the stories that dominated the media during the past year and determine\n            for yourself which were mere sensations and which were truly significant.\n======================================\nIt depends on your criteria, of course, and your perspective. That's why we offered\n            a poll to find out what you think.\n======================================\nFor our list, we polled producers throughout the CNN/Pathfinder family of networks\n            and publications, and weighed such criteria as a story's long-term implications,\n            geopolitical significance, user interest, amount of coverage, and old-fashioned newsworthiness.\n            All these things help make a \"big\" story big.\n======================================\nBy no means do we think our lists are the final word. Even our polls among CNN\n            producers turned up a wide variety of responses. The process is meant to encourage\n            you to reconsider the stories that dominated the media during the past year and determine\n            for yourself which were mere sensations and which were truly significant.\n======================================\n© 1996 Cable News Network, Inc.\nAll Rights Reserved.\n======================================\n"
     ]
    }
   ],
   "source": [
    "# Print all paragraph texts\n",
    "paragraphs = soup.body.find_all('p')   # can reference by index\n",
    "for text in paragraphs:\n",
    "    print(text.text.strip())\n",
    "    print(\"======================================\")"
   ]
  },
  {
   "cell_type": "code",
   "execution_count": 68,
   "metadata": {
    "collapsed": true
   },
   "outputs": [
    {
     "output_type": "execute_result",
     "data": {
      "text/plain": [
       "['topten/israel/israel.index.html',\n",
       " 'topten/twa/twa.index.html',\n",
       " 'topten/yeltsin/yeltsin.index.html',\n",
       " 'topten/clinton/clinton.index.html',\n",
       " 'topten/hutu/hutu.index.html',\n",
       " 'topten/bosnia/bosnia.index.html',\n",
       " 'topten/saudi/saudi.index.html',\n",
       " 'topten/olympics/olympics.index.html',\n",
       " 'topten/aids/aids.index.html',\n",
       " 'topten/unabomb/unabomb.index.html',\n",
       " 'topten/poll.html']"
      ]
     },
     "metadata": {},
     "execution_count": 68
    }
   ],
   "source": [
    "# Print all ten headlines\n",
    "links = soup.body.find_all('a')\n",
    "top_ten = []\n",
    "for href in links:\n",
    "    if \"topten\" in href.get('href'):\n",
    "        if href.get('href') not in top_ten:\n",
    "            top_ten.append(href.get('href'))\n",
    "\n",
    "top_ten"
   ]
  },
  {
   "cell_type": "code",
   "execution_count": 70,
   "metadata": {},
   "outputs": [
    {
     "output_type": "execute_result",
     "data": {
      "text/plain": [
       "[<td><a href=\"topten/israel/israel.index.html\" target=\"_top\"><b>Israel</b> elects <b>Netanyahu</b></a></td>,\n",
       " <td><a href=\"topten/twa/twa.index.html\" target=\"_top\">Crash of TWA Flight 800</a></td>,\n",
       " <td><a href=\"topten/yeltsin/yeltsin.index.html\" target=\"_top\"><b>Russia</b> elects <b>Yeltsin</b></a></td>,\n",
       " <td><a href=\"topten/clinton/clinton.index.html\" target=\"_top\"><b>U.S</b>. elects <b>Clinton</b></a></td>,\n",
       " <td><a href=\"topten/hutu/hutu.index.html\" target=\"_top\"><b>Hutu-Tutsi</b> conflict in central Africa</a></td>,\n",
       " <td><a href=\"topten/bosnia/bosnia.index.html\" target=\"_top\">Peace, elections in <b>Bosnia</b></a></td>,\n",
       " <td><a href=\"topten/saudi/saudi.index.html\" target=\"_top\"><b>U.S</b>. base bombed in <b>Saudi Arabia</b></a></td>,\n",
       " <td><a href=\"topten/olympics/olympics.index.html\" target=\"_top\">Centennial <b>Olympic</b> Games</a></td>,\n",
       " <td><a href=\"topten/aids/aids.index.html\" target=\"_top\">Advances against <b>AIDS</b></a></td>,\n",
       " <td><a href=\"topten/unabomb/unabomb.index.html\" target=\"_top\"><b>Unabomb</b> suspect <b>Ted Kaczynski</b> arrested</a></td>,\n",
       " <td colspan=\"2\"><center><a href=\"http://www-cgi.cnn.com/cgi-bin/poll/heavypoll.pl?slug=9612%2Fyir_top_10\" target=\"_top\">The top 10 stories according to our users</a></center></td>,\n",
       " <td><strong><a href=\"/feedback/index.html\" name=\"_top\">Tell us what you think</a></strong><br/><br/>\n",
       " <strong><a href=\"/feedback/comments.html\" name=\"_top\">You said it...</a></strong></td>]"
      ]
     },
     "metadata": {},
     "execution_count": 70
    }
   ],
   "source": [
    "# Provided solution\n",
    "tds = soup.body.find_all('td')\n",
    "headlines = []\n",
    "for td in tds:\n",
    "    if (td.a):\n",
    "        if(td.a.text):\n",
    "            headlines.append(td)\n",
    "\n",
    "headlines"
   ]
  },
  {
   "cell_type": "code",
   "execution_count": 71,
   "metadata": {},
   "outputs": [
    {
     "output_type": "stream",
     "name": "stdout",
     "text": [
      "Israel elects Netanyahu\nCrash of TWA Flight 800\nRussia elects Yeltsin\nU.S. elects Clinton\nHutu-Tutsi conflict in central Africa\nPeace, elections in Bosnia\nU.S. base bombed in Saudi Arabia\nCentennial Olympic Games\nAdvances against AIDS\nUnabomb suspect Ted Kaczynski arrested\nThe top 10 stories according to our users\nTell us what you think\nYou said it...\n"
     ]
    }
   ],
   "source": [
    "# Print only the headlines\n",
    "for x in range(len(headlines)):\n",
    "    print(headlines[x].text)"
   ]
  },
  {
   "cell_type": "code",
   "execution_count": null,
   "metadata": {},
   "outputs": [],
   "source": []
  }
 ],
 "metadata": {
  "kernelspec": {
   "name": "python3",
   "display_name": "Python 3.8.5 64-bit ('base': conda)"
  },
  "language_info": {
   "codemirror_mode": {
    "name": "ipython",
    "version": 3
   },
   "file_extension": ".py",
   "mimetype": "text/x-python",
   "name": "python",
   "nbconvert_exporter": "python",
   "pygments_lexer": "ipython3",
   "version": "3.8.5"
  },
  "varInspector": {
   "cols": {
    "lenName": 16,
    "lenType": 16,
    "lenVar": 40
   },
   "kernels_config": {
    "python": {
     "delete_cmd_postfix": "",
     "delete_cmd_prefix": "del ",
     "library": "var_list.py",
     "varRefreshCmd": "print(var_dic_list())"
    },
    "r": {
     "delete_cmd_postfix": ") ",
     "delete_cmd_prefix": "rm(",
     "library": "var_list.r",
     "varRefreshCmd": "cat(var_dic_list()) "
    }
   },
   "types_to_exclude": [
    "module",
    "function",
    "builtin_function_or_method",
    "instance",
    "_Feature"
   ],
   "window_display": false
  },
  "interpreter": {
   "hash": "9e38600269eb7cd4a4118ce252119dbdc23fa4df88f0784eb9dd5586737b802b"
  }
 },
 "nbformat": 4,
 "nbformat_minor": 2
}