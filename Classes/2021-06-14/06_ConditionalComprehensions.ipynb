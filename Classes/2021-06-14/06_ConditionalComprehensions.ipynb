{
 "cells": [
  {
   "source": [
    "# Conditional List Comprehensions\n",
    "\n",
    "## Instructions\n",
    "\n",
    "Use conditional list comprehensions to create the following lists:\n",
    "\n",
    "* Make a list of numbers up to 100 that are divisible by three\n",
    "* Using the given list of pets, create a list of all the names that belong to dogs\n",
    "* Make a list of numbers up to 100 that are divisible by three OR divisible by five\n",
    "\n",
    "**Hint:** Remember the modulo operator (%) !\n",
    "\n",
    "x % y gives the remainder if x is divided by y. So, for instance x % 2 will be 0 when x is even, and 1 when x is odd\n",
    "\n",
    "**Bonus:** Make a list comprehension that implements FizzBuzz on the last list created (multiples of 3 and 5)\n",
    "FizzBuzz replaces multiples of 3 with \"Fizz\", multiples of 5 with \"Buzz\" and multiples of both 3 and 5 with \"FizzBuzz\"\n",
    "**Hint:** use a conditional in the expression at the beginning of the list comprehension"
   ],
   "cell_type": "markdown",
   "metadata": {}
  },
  {
   "cell_type": "markdown",
   "metadata": {},
   "source": [
    "Use conditional list comprehensions to create the lists requested in the following cells.\n",
    "\n",
    "**Hint**: Remember the modulo operator (%) !\n",
    "\n",
    "`x % y` gives the remainder if `x` is divided by `y`. So, for instance `x % 2` will be `0` when x is even, and `1` when x is odd"
   ]
  },
  {
   "cell_type": "code",
   "execution_count": 2,
   "metadata": {},
   "outputs": [
    {
     "output_type": "execute_result",
     "data": {
      "text/plain": [
       "[0,\n",
       " 3,\n",
       " 6,\n",
       " 9,\n",
       " 12,\n",
       " 15,\n",
       " 18,\n",
       " 21,\n",
       " 24,\n",
       " 27,\n",
       " 30,\n",
       " 33,\n",
       " 36,\n",
       " 39,\n",
       " 42,\n",
       " 45,\n",
       " 48,\n",
       " 51,\n",
       " 54,\n",
       " 57,\n",
       " 60,\n",
       " 63,\n",
       " 66,\n",
       " 69,\n",
       " 72,\n",
       " 75,\n",
       " 78,\n",
       " 81,\n",
       " 84,\n",
       " 87,\n",
       " 90,\n",
       " 93,\n",
       " 96,\n",
       " 99]"
      ]
     },
     "metadata": {},
     "execution_count": 2
    }
   ],
   "source": [
    "# Make a list of numbers up to 100 that are divisible by three\n",
    "div_3_list = [num for num in range(101) if num % 3 == 0]\n",
    "div_3_list"
   ]
  },
  {
   "cell_type": "code",
   "execution_count": 9,
   "metadata": {},
   "outputs": [
    {
     "output_type": "execute_result",
     "data": {
      "text/plain": [
       "['Fido', 'Rex', 'Springer']"
      ]
     },
     "metadata": {},
     "execution_count": 9
    }
   ],
   "source": [
    "# Use conditional list comprehensions to create a list of all the pet names that are for dogs\n",
    "pets = [{\n",
    "    'name': 'Fido',\n",
    "    'age': 4,\n",
    "    'type': 'dog'\n",
    "}, {\n",
    "    'name': 'Rex',\n",
    "    'age': 2,\n",
    "    'type': 'dog'\n",
    "}, {\n",
    "    'name': 'Puddles',\n",
    "    'age': 7,\n",
    "    'type': 'wombat'\n",
    "}, {\n",
    "    'name': 'Tuna',\n",
    "    'age': 6,\n",
    "    'type': 'cat'\n",
    "}, {\n",
    "    'name': 'Springer',\n",
    "    'age': 5,\n",
    "    'type': 'dog'\n",
    "}]\n",
    "\n",
    "dogs = [pet['name'] for pet in pets if pet['type'] == 'dog']\n",
    "dogs"
   ]
  },
  {
   "cell_type": "code",
   "execution_count": 11,
   "metadata": {},
   "outputs": [
    {
     "output_type": "execute_result",
     "data": {
      "text/plain": [
       "[0,\n",
       " 3,\n",
       " 5,\n",
       " 6,\n",
       " 9,\n",
       " 10,\n",
       " 12,\n",
       " 15,\n",
       " 18,\n",
       " 20,\n",
       " 21,\n",
       " 24,\n",
       " 25,\n",
       " 27,\n",
       " 30,\n",
       " 33,\n",
       " 35,\n",
       " 36,\n",
       " 39,\n",
       " 40,\n",
       " 42,\n",
       " 45,\n",
       " 48,\n",
       " 50,\n",
       " 51,\n",
       " 54,\n",
       " 55,\n",
       " 57,\n",
       " 60,\n",
       " 63,\n",
       " 65,\n",
       " 66,\n",
       " 69,\n",
       " 70,\n",
       " 72,\n",
       " 75,\n",
       " 78,\n",
       " 80,\n",
       " 81,\n",
       " 84,\n",
       " 85,\n",
       " 87,\n",
       " 90,\n",
       " 93,\n",
       " 95,\n",
       " 96,\n",
       " 99]"
      ]
     },
     "metadata": {},
     "execution_count": 11
    }
   ],
   "source": [
    "# Make a list of numbers up to 100 that are divisible by three OR divisible by five\n",
    "div_3_5_list = [number for number in range(101) if number % 3 == 0 or number % 5 == 0]\n",
    "div_3_5_list"
   ]
  },
  {
   "cell_type": "code",
   "execution_count": 16,
   "metadata": {},
   "outputs": [
    {
     "data": {
      "text/plain": [
       "['FizzBuzz',\n",
       " 'Fizz',\n",
       " 'Buzz',\n",
       " 'Fizz',\n",
       " 'Fizz',\n",
       " 'Buzz',\n",
       " 'Fizz',\n",
       " 'FizzBuzz',\n",
       " 'Fizz',\n",
       " 'Buzz',\n",
       " 'Fizz',\n",
       " 'Fizz',\n",
       " 'Buzz',\n",
       " 'Fizz',\n",
       " 'FizzBuzz',\n",
       " 'Fizz',\n",
       " 'Buzz',\n",
       " 'Fizz',\n",
       " 'Fizz',\n",
       " 'Buzz',\n",
       " 'Fizz',\n",
       " 'FizzBuzz',\n",
       " 'Fizz',\n",
       " 'Buzz',\n",
       " 'Fizz',\n",
       " 'Fizz',\n",
       " 'Buzz',\n",
       " 'Fizz',\n",
       " 'FizzBuzz',\n",
       " 'Fizz',\n",
       " 'Buzz',\n",
       " 'Fizz',\n",
       " 'Fizz',\n",
       " 'Buzz',\n",
       " 'Fizz',\n",
       " 'FizzBuzz',\n",
       " 'Fizz',\n",
       " 'Buzz',\n",
       " 'Fizz',\n",
       " 'Fizz',\n",
       " 'Buzz',\n",
       " 'Fizz',\n",
       " 'FizzBuzz',\n",
       " 'Fizz',\n",
       " 'Buzz',\n",
       " 'Fizz',\n",
       " 'Fizz']"
      ]
     },
     "execution_count": 16,
     "metadata": {},
     "output_type": "execute_result"
    }
   ],
   "source": [
    "# BONUS: Make a list comprehension that implements FizzBuzz on the previous list\n",
    "# FizzBuzz replaces multiples of 3 with \"Fizz\", multiples of 5 with \"Buzz\" and multiples of both 3 and 5 with \"FizzBuzz\"\n",
    "# HINT: use a conditional in the expression at the beginning of the list comprehension\n"
   ]
  }
 ],
 "metadata": {
  "kernelspec": {
   "name": "python3710jvsc74a57bd0acda147c8dd3b8f0274d48e33490c3394fd067fdf96c410e3ee71258c53f02eb",
   "display_name": "Python 3.7.10 64-bit ('PythonData': conda)"
  },
  "language_info": {
   "codemirror_mode": {
    "name": "ipython",
    "version": 3
   },
   "file_extension": ".py",
   "mimetype": "text/x-python",
   "name": "python",
   "nbconvert_exporter": "python",
   "pygments_lexer": "ipython3",
   "version": "3.7.10"
  }
 },
 "nbformat": 4,
 "nbformat_minor": 2
}