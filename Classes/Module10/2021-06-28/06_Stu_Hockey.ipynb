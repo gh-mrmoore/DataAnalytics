{
 "cells": [
  {
   "cell_type": "code",
   "execution_count": 1,
   "metadata": {
    "collapsed": true
   },
   "outputs": [],
   "source": [
    "# Dependencies\n",
    "from bs4 import BeautifulSoup\n",
    "import requests\n",
    "import pymongo"
   ]
  },
  {
   "cell_type": "code",
   "execution_count": 2,
   "metadata": {
    "collapsed": true
   },
   "outputs": [],
   "source": [
    "# Initialize PyMongo to work with MongoDBs\n",
    "conn = 'mongodb://localhost:27017'\n",
    "client = pymongo.MongoClient(conn)"
   ]
  },
  {
   "cell_type": "code",
   "execution_count": 3,
   "metadata": {
    "collapsed": true
   },
   "outputs": [],
   "source": [
    "# Define database and collection\n",
    "db = client.nhl_database\n",
    "collection = db.articles"
   ]
  },
  {
   "cell_type": "code",
   "execution_count": 4,
   "metadata": {
    "collapsed": true
   },
   "outputs": [],
   "source": [
    "# URL of page to be scraped\n",
    "url = 'https://www.nhl.com/news'"
   ]
  },
  {
   "cell_type": "code",
   "execution_count": 5,
   "metadata": {
    "collapsed": true
   },
   "outputs": [],
   "source": [
    "# Retrieve page with the requests module\n",
    "nhl_retrieved = requests.get(url)"
   ]
  },
  {
   "cell_type": "code",
   "execution_count": 6,
   "metadata": {
    "collapsed": true
   },
   "outputs": [
    {
     "output_type": "execute_result",
     "data": {
      "text/plain": [
       "www.nhl.com/info/frequently-asked-questions\">\\n      FAQ\\n     </a>\\n     <a class=\"site-footer__legal-link\" data-phone-href=\"https://www.nhl.com/info/contact-us\" href=\"https://www.nhl.com/info/contact-us\">\\n      Contact Us\\n     </a>\\n     <a class=\"site-footer__legal-link\" data-phone-href=\"https://www.nhl.com/info/copyright-policy\" href=\"https://www.nhl.com/info/copyright-policy\">\\n      Copyright Policy\\n     </a>\\n     <a class=\"site-footer__legal-link\" data-phone-href=\"/info/do-not-sell\" href=\"/info/do-not-sell\">\\n      Do Not Sell My Info\\n     </a>\\n    </nav>\\n    <div class=\"site-footer__colophon-container\">\\n     <a class=\"site-footer__shield-link\" href=\"https://www.nhl.com\" title=\"NHL.com\">\\n      <img alt=\"\" class=\"logo site-footer__shield-logo\" onerror=\"this.src =\\n                                                                \\'//www-league.nhlstatic.com/images/logos/league-light/133.svg\\'\" role=\"img\" src=\"//www-league.nhlstatic.com/images/logos/league-dark/133.svg\"/>\\n     </a>\\n     <p class=\"site-footer__colophon\">\\n      NHL.com is the official web site of the National Hockey League. NHL, the NHL Shield, the word mark and image of the Stanley Cup, the Stanley Cup Playoffs logo, the Stanley Cup Final logo, Center Ice name and logo, NHL Conference logos, NHL Winter Classic name, and The Biggest Assist Happens Off The Ice are registered trademarks and Stanley Cup Qualifiers name and logo, NHL.TV, Vintage Hockey word mark and logo, The Game Lives Where You Do, NHL Winter Classic logo, NHL Heritage Classic name and logo, NHL Stadium Series name and logo, NHL All-Star logo, NHL Face-Off name and logo, NHL. TV, NHL Premium, NHL After Dark, NHL GameCenter, NHL GameCenter LIVE, NHL Network name and logo, NHL Tonight name and logo, On The Fly, NHL Network Showdown name and logo, NHL Awards name and logo, NHL Draft name and logo, NHL Mascots, Hockey Fights Cancer, Because It\\'s The Cup, NHL Green name and logo, NHL Vault, Hockey Is For Everyone, NHL Thanksgiving Showdown name and logo, NHL Centennial Classic name and logo, NHL Centennial Season logo, NHL100 Classic name and logo, NHL Global Series name and logo, NHL China Games name and logo, NHL Power Players name and logo, NHL Outdoors at Lake Tahoe name and logo, and Don\\'t Miss A Moment are trademarks of the National Hockey League. All NHL logos and marks and NHL team logos and marks depicted herein are the property of the NHL and the respective teams and may not be reproduced without the prior written consent of NHL Enterprises, L.P. © NHL 2021. All Rights Reserved. All NHL team jerseys customized with NHL players\\' names and numbers are officially licensed by the NHL and the NHLPA. The Zamboni word mark and configuration of the Zamboni ice resurfacing machine are registered trademarks of Frank J. Zamboni &amp; Co., Inc.© Frank J. Zamboni &amp; Co., Inc. 2021. All Rights Reserved. Any other third party trademarks or copyrights are the property of their respective owners. All rights reserved.\\n     </p>\\n    </div>\\n   </div>\\n  </footer>\\n  <!-- core javascript files -->\\n  <script src=\"//www-league.nhlstatic.com/nhl.com/builds/site-core/a5c9cb3fd2ca4904c52c850403134a9161c9a816_1623962885/scripts/site-core.js.gz\" type=\"text/javascript\">\\n  </script>\\n  <!-- trackAsync global function -->\\n  <script>\\n   (function(window){\\n            var getOrientation = function(){\\n                var width  = window.innerWidth || document.documentElement.clientWidth;\\n                var height = window.innerHeight || document.documentElement.clientHeight;\\n                var orientation = (height >= width) ? \\'Portrait\\' : \\'Landscape\\';\\n                return orientation;\\n            };\\n        \\n            var getParsedUserTokenId = function(){\\n                var userToken = s.Util.cookieRead(\\'Authorization\\'), spl;\\n                if (userToken === \\'\\') {\\n                    return false;\\n                } else {\\n                    spl = userToken.split(\\'.\\');\\n                    return (spl.length > 1) ? JSON.parse(window.atob(spl[1])).userid : false;\\n                }\\n            };\\n        \\n            var capitalize = function(str){\\n                return str.charAt(0).toUpperCase() + str.substr(1);\\n            };\\n        \\n            var trackingSectionName = \\'News\\';\\n            var trackingPageName    = \\'National Hockey League : \\' + trackingSectionName + \\' : Index\\';\\n        \\n            var reportingSuiteIds   = \\'nhlglobal15,nhlcom15\\';\\n            var s = window.adobeAnalytics = s_gi(reportingSuiteIds);\\n        \\n            var contextDataAllCalls = {\\n                \\'site.languageLocale\\' : \\'en_US\\',\\n                \\'site.origin\\'         : \\'US\\',\\n                \\'site.club\\'           : \\'nhl\\',\\n                \\'user.ipid\\'           : s.Util.cookieRead(\\'ipid\\') || getParsedUserTokenId() || null,\\n                \\'user.userAgent\\'      : window.navigator.userAgent || null\\n            };\\n        \\n            window.trackAsync = function( asyncContextDataObj ) {\\n                var s = s_gi( reportingSuiteIds );\\n                var linkTrackVars = [];\\n        \\n                s.clearVars();\\n                s.contextData = {};\\n        \\n                // props taken from page load\\n                for ( var prop in contextDataAllCalls ) {\\n                    s.contextData[ prop ] = contextDataAllCalls[ prop ];\\n                }\\n        \\n                // Add dynamic props unless explicitly told not to.\\n                if ( ! asyncContextDataObj.notDynamic ) {\\n                    s.contextData[ \\'dynamic.component\\' ]             = null;\\n                    s.contextData[ \\'dynamic.componentAction\\' ]       = null;\\n                    s.contextData[ \\'dynamic.componentLocation\\' ]     = trackingPageName;\\n                    s.contextData[ \\'dynamic.formfactorOrientation\\' ] = capitalize( window.getStartupDeviceTypeString() ) + \\': \\' + getOrientation();\\n                    s.contextData[ \\'dynamic.dynamicPageView\\' ]       = ( parseInt( asyncContextDataObj[ \\'events.dynamicPageView\\' ] ) ) ? \\'Dynamic Page View\\' : null;\\n                    s.contextData[ \\'dynamic.ipid\\' ]                  = s.Util.cookieRead( \\'ipid\\' );\\n                    s.contextData[\\'site.view\\']                  = \\'web\\';\\n                    s.contextData[\\'adobe.url\\']  = window.location.href;\\n                }\\n        \\n                // Generic replacements.\\n                if ( asyncContextDataObj[ \\'dynamic.componentLocation\\' ] === \\'@SITE_GENERIC@\\' ) {\\n                    asyncContextDataObj[ \\'dynamic.componentLocation\\' ] = trackingPageName;\\n                }\\n                if ( asyncContextDataObj[ \\'dynamic.formfactorOrientation\\' ] === \\'@SITE_GENERIC@\\' ) {\\n                    asyncContextDataObj[ \\'dynamic.formfactorOrientation\\' ] = capitalize( window.getStartupDeviceTypeString() ) + \\': \\' + getOrientation();\\n                }\\n        \\n                var prop;\\n                for ( prop in asyncContextDataObj ) {\\n                    s.contextData[ prop ] = asyncContextDataObj[ prop ];\\n                }\\n        \\n                // ensure pagename; perform replacement\\n                if ( asyncContextDataObj[ \\'adobe.pagename\\' ] === \\'@SITE_GENERIC@\\' || ! s.contextData[ \\'adobe.pagename\\' ] ) {\\n                    s.contextData[ \\'adobe.pagename\\' ] = trackingPageName;\\n                }\\n        \\n        \\n                //Set s.linkTrackVars as comma-delimited string with all context data vars - prefix each with \\'contextData.\\'\\n                for ( prop in s.contextData ) {\\n                    if ( s.contextData[ prop ] !== null ) {\\n                        linkTrackVars.push( \\'contextData.\\' + prop );\\n                    }\\n                }\\n                s.linkTrackVars = linkTrackVars.join();\\n        \\n                var navigate = s.contextData.navigate;\\n                var sourceElem = s.contextData.sourceElem;\\n        \\n                // Remove non-tracking properties.\\n                delete s.contextData.wire;\\n                delete s.contextData.notDynamic;\\n                delete s.contextData.navigate;\\n                delete s.contextData.sourceElem;\\n        \\n                // async call\\n                if (navigate && sourceElem) {\\n                    // https://marketing.adobe.com/resources/help/en_US/sc/implement/link_manual.html\\n                    s.tl(sourceElem, \\'o\\', \\'http://myGenericURL\\', null, \\'navigate\\');\\n                } else {\\n                    s.tl(true, \\'o\\', \\'http://myGenericURL\\');\\n                }\\n            };\\n        \\n        })(window);\\n  </script>\\n  <!-- ab testing-->\\n  <script type=\"text/javascript\">\\n   (function(window) {\\n            try {\\n            } catch (e) {}\\n        })(window);\\n  </script>\\n  <!-- build scripts -->\\n  <script type=\"text/javascript\">\\n   (function() {\\n        \\n                var siteJS = {\"desktop\":\"site-all\",\"tablet\":\"site-all\",\"phone\":\"site-all\",\"webview\":\"site-webview\"}\\n                var sectionJS = {\"desktop\":\"section-desktop\",\"tablet\":\"section-device\",\"phone\":\"section-device\"};\\n                var pageJS = {};\\n                var pageAssetJS = {};\\n                var type = getStartupDeviceTypeString();\\n                var siteType = getStartupDeviceTypeString();\\n        \\n        \\t\\t/* site and section build=true */\\n        \\n        \\t\\t\\tvar siteScripts = [];\\n                    var scripts = [];\\n        \\n                    if (siteJS[siteType]) {\\n                        siteScripts.push(\\'//www-league.nhlstatic.com/nhl.com/builds/site-core/a5c9cb3fd2ca4904c52c850403134a9161c9a816_1623962885/scripts/\\'+siteJS[siteType]+\\'.js.gz\\');\\n                    }\\n        \\n                    if (sectionJS[type]) {\\n                        scripts.push(\\'//www-league.nhlstatic.com/nhl.com/sections/news/builds/95378c4c16f78b99e798e13544bdbd76bee62f01_1612221851/scripts/\\'+sectionJS[type]+\\'.js.gz\\');\\n                    }\\n                    if (pageJS[type]) {\\n                         scripts.push(\\'//www-league.nhlstatic.com/nhl.com/sections/news/builds/95378c4c16f78b99e798e13544bdbd76bee62f01_1612221851/scripts/\\'+pageJS[type]+\\'.js.gz\\');\\n                    }\\n        \\n                    var loadPageAssets = function() {\\n                        if (pageAssetJS && pageAssetJS.length) {\\n                            var assetScripts = [];\\n        \\n                            pageAssetJS.forEach(function(assetObject) {\\n                                var assetType = assetObject.type;\\n                                var assetVersion = assetObject.version;\\n        \\n                                var assetScript = \\'//www-league.nhlstatic.com/nhl.com/builds/site-core/a5c9cb3fd2ca4904c52c850403134a9161c9a816_1623962885/scripts/\\' + assetType + \\'/\\' + assetVersion + \\'/\\' + assetType + \\'.js\\';\\n                                assetScripts.push(assetScript);\\n                            });\\n        \\n                            requirejs.config({\\n                                waitSeconds: 18,\\n                                baseUrl: \\'//www-league.nhlstatic.com/nhl.com/builds/site-core/a5c9cb3fd2ca4904c52c850403134a9161c9a816_1623962885/bower_components\\',\\n                                config: {\\n                                    text: {\\n                                        useXhr: function (url, protocol, hostname, port) {\\n                                            return true;\\n                                        }\\n                                    }\\n                                }\\n                            });\\n        \\n                            requirejs(assetScripts);\\n                        }\\n                    }\\n        \\n                    if (siteScripts.length) {\\n                        requirejs.config({\\n                            waitSeconds: 18,\\n                            paths : {\\n                                \"bam-video-bootstrap\": \"//www-league.nhlstatic.com/nhl.com/video/videocore/video\"\\n                            }\\n                        });\\n        \\n                        requirejs(siteScripts, function(){\\n                            if (scripts.length) {\\n                                requirejs(scripts, loadPageAssets);\\n                            } else {\\n                                loadPageAssets();\\n                            }\\n                        });\\n                    }\\n        \\n            })();\\n  </script>\\n  <!-- TODO debugging -->\\n  <!-- analytics -->\\n  <!-- Adobe Analytics Code -->\\n  <script type=\"text/javascript\">\\n   (function(window){\\n\\n        var getOrientation = function(){\\n            var width  = window.innerWidth || document.documentElement.clientWidth;\\n            var height = window.innerHeight || document.documentElement.clientHeight;\\n            var orientation = (height >= width) ? \\'Portrait\\' : \\'Landscape\\';\\n            return orientation;\\n        };\\n\\n        var getParsedUserTokenId = function(){\\n            var userToken = s.Util.cookieRead(\\'Authorization\\'), spl;\\n            if (userToken === \\'\\') {\\n                return false;\\n            } else {\\n                spl = userToken.split(\\'.\\');\\n                return (spl.length > 1) ? JSON.parse(window.atob(spl[1])).userid : false;\\n            }\\n        };\\n\\n        var capitalize = function(str){\\n            return str.charAt(0).toUpperCase() + str.substr(1);\\n        };\\n\\n        var trackingSectionName = \\'News\\';\\n        var trackingPageName    = \\'National Hockey League : \\' + trackingSectionName + \\' : Index\\';\\n\\n        window.visitor = Visitor.getInstance(\\'25823F955A99D5040A495C1D@AdobeOrg\\', {\\n            trackingServer       : \\'Bamtech.sc.omtrdc.net\\',\\n            trackingServerSecure : \\'Bamtech.sc.omtrdc.net\\'\\n        });\\n\\n        var reportingSuiteIds         = \\'nhlglobal15,nhlcom15\\';\\n        var s = window.adobeAnalytics = s_gi(reportingSuiteIds);\\n\\n        s.visitor                 = Visitor.getInstance(\\'25823F955A99D5040A495C1D@AdobeOrg\\');\\n        s.trackingServer          = \\'Bamtech.sc.omtrdc.net\\';\\n        s.trackingServerSecure    = \\'Bamtech.sc.omtrdc.net\\';\\n\\n        s.trackDownloadLinks      = true;\\n        s.trackExternalLinks      = false;\\n        s.trackInlineStats        = true;\\n        s.linkDownloadFileTypes   = \\'exe,zip,wav,mp3,mov,mpg,avi,wmv,pdf,doc,docx,xls,xlsx,ppt,pptx,jpg\\';\\n        s.linkInternalFilters     = \\'javascript:,nhl.com\\';\\n        s.linkLeaveQueryString    = false;\\n        s.linkTrackVars           = \\'None\\';\\n        s.linkTrackEvents         = \\'None\\';\\n\\n        s.contextData.timestamp   = new Date();\\n\\n        s.contextData[\\'adobe.rsids\\'] = reportingSuiteIds;\\n        s.contextData[\\'adobe.svi\\']   = \\'D=s_vi\\';\\n\\n        s.contextData[\\'site.sectionTitle\\']          = \\'Index\\';\\n        s.contextData[\\'site.view\\']                  = \\'web\\';\\n        s.contextData[\\'site.formFactor\\']            = capitalize( window.getStartupDeviceTypeString() );\\n        s.contextData[\\'site.orientation\\']           = getOrientation();\\n        s.contextData[\\'site.formfactorOrientation\\'] = capitalize( window.getStartupDeviceTypeString() ) + \\': \\' + getOrientation();\\n\\n        // used in page and async calls\\n        var contextDataAllCalls = {\\n            \\'site.languageLocale\\' : \\'en_US\\',\\n            \\'site.origin\\'         : \\'US\\',\\n            \\'site.club\\'           : \\'nhl\\',\\n            \\'user.ipid\\'           : s.Util.cookieRead(\\'ipid\\') || getParsedUserTokenId() || null,\\n            \\'user.userAgent\\'      : window.navigator.userAgent || null\\n        };\\n\\n        for (var prop in contextDataAllCalls) {\\n            s.contextData[prop] = contextDataAllCalls[prop];\\n        }\\n\\n        window.adobe = window.adobe || {};\\n\\n        // Section level adobe overrides.\\n\\n        // TODO - Pagename vars are backwards video: Multimedia\\n        s.contextData[\\'adobe.pagename\\'] = window.adobe.pagename = trackingPageName;\\n        s.contextData[\\'adobe.channel\\']  = window.adobe.channel  = trackingSectionName;\\n        s.contextData[\\'adobe.url\\']  = window.location.href;\\n\\n        // query params\\n        s.contextData[\\'qparam.affiliateId\\']         = s.Util.getQueryParam(\\'affiliateId\\');\\n        s.contextData[\\'qparam.mlbkw\\']               = s.Util.getQueryParam(\\'mlbkw\\');\\n        s.contextData[\\'qparam.partnerId\\']           = s.Util.getQueryParam(\\'partnerId\\');\\n        s.contextData[\\'qparam.tcid\\']                = s.Util.getQueryParam(\\'tcid\\');\\n        s.contextData[\\'qparam.tdl\\']                 = s.Util.getQueryParam(\\'tdl\\');\\n        s.contextData[\\'qparam.tfl\\']                 = s.Util.getQueryParam(\\'tfl\\');\\n        s.contextData[\\'qparam.vbID\\']                = s.Util.getQueryParam(\\'vbID\\');\\n\\n        s.contextData[\\'tcall.isSimPageView\\']        = 1;\\n\\n        // section level overrides\\n\\n        // page level overrides\\n\\n        // response overrides\\n\\n        window.trackPageView = function( contextDataObj ) {\\n            var prop;\\n            for ( prop in contextDataObj ) {\\n                s.contextData[ prop ] = contextDataObj[ prop ];\\n            }\\n\\n            s.t();\\n        };\\n\\n        // page view call\\n            trackPageView();\\n    })(window);\\n  </script>\\n  <!-- Google Analytic Code -->\\n  <script>\\n   (function(i,s,o,g,r,a,m){i[\\'GoogleAnalyticsObject\\']=r;i[r]=i[r]||function(){\\n            (i[r].q=i[r].q||[]).push(arguments)},i[r].l=1*new Date();a=s.createElement(o),\\n            m=s.getElementsByTagName(o)[0];a.async=1;a.src=g;m.parentNode.insertBefore(a,m)\\n        })(window,document,\\'script\\',\\'https://www.google-analytics.com/analytics.js\\',\\'ga\\');\\n\\n        ga(\\'create\\', \\'UA-106053125-1\\', \\'auto\\');\\n        ga(\\'send\\', \\'pageview\\');\\n  </script>\\n  <!-- End Google Analytic Code -->\\n  <!-- Facebook Pixel Code -->\\n  <script>\\n   ! function(f, b, e, v, n, t, s)\\n\\n            {\\n                if (f.fbq) return;\\n                n = f.fbq = function() {\\n                    n.callMethod ?\\n\\n                        n.callMethod.apply(n, arguments) : n.queue.push(arguments)\\n                };\\n\\n                if (!f._fbq) f._fbq = n;\\n                n.push = n;\\n                n.loaded = !0;\\n                n.version = \\'2.0\\';\\n\\n                n.queue = [];\\n                t = b.createElement(e);\\n                t.async = !0;\\n\\n                t.src = v;\\n                s = b.getElementsByTagName(e)[0];\\n\\n                s.parentNode.insertBefore(t, s)\\n            }(window, document, \\'script\\',\\n\\n                \\'https://connect.facebook.net/en_US/fbevents.js\\');\\n\\n\\n            fbq(\\'init\\', \\'1921075634812764\\');\\n\\n            fbq(\\'track\\', \\'PageView\\');\\n  </script>\\n  <noscript>\\n   <img height=\"1\" src=\"https://www.facebook.com/tr?id=1921075634812764&amp;ev=PageView&amp;noscript=1\" width=\"1\">\\n   </img>\\n  </noscript>\\n  <!-- End Facebook Pixel Code -->\\n  <!-- Parse.ly Analytic Code -->\\n  <script id=\"parsely-cfg\" src=\"//cdn.parsely.com/keys/nhl.com/p.js\">\\n  </script>\\n  <!-- End Parse.ly Analytic Code -->\\n  <!-- Begin comScore Tag -->\\n  <script>\\n   var _comscore = _comscore || [];\\n        _comscore.push({ c1: \"2\", c2: \"3005680\" });\\n        (function() {\\n            var s = document.createElement(\"script\"), el = document.getElementsByTagName(\"script\")[0]; s.async = true;\\n            s.src = (document.location.protocol == \"https:\" ? \"https://sb\" : \"http://b\") + \".scorecardresearch.com/beacon.js\";\\n            el.parentNode.insertBefore(s, el);\\n        })();\\n  </script>\\n  <noscript>\\n   <img src=\"http://b.scorecardresearch.com/p?c1=2&amp;c2=3005352&amp;cv=2.0&amp;cj=1\">\\n   </img>\\n  </noscript>\\n  <!-- End comScore Tag -->\\n </body>\\n</html>\\n'"
      ]
     },
     "metadata": {},
     "execution_count": 6
    }
   ],
   "source": [
    "# Create BeautifulSoup object; parse with 'html.parser'\n",
    "nhl_soup = BeautifulSoup(nhl_retrieved.text, 'html.parser')\n",
    "nhl_soup.prettify()"
   ]
  },
  {
   "cell_type": "code",
   "execution_count": 7,
   "metadata": {
    "collapsed": true
   },
   "outputs": [
    {
     "output_type": "stream",
     "name": "stdout",
     "text": [
      "-----------------\nKucherov, Lightning top Canadiens in Game 1 of Stanley Cup Final\nHas two goals, assist to boost defending champions\n2021-06-28\n-----------------\nNHL participation at 2022 Beijing Olympics 'work in progress'\nCommissioner Bettman says time running short, but willingness remains\n2021-06-28\n-----------------\nVegas to host 2022 NHL All-Star Weekend; 2021-22 outdoor games announced\nCommissioner Bettman reveals Winter Classic, Stadium Series locations, teams, dates\n2021-06-28\n-----------------\nPresident Biden, Prime Minister Trudeau wager on Stanley Cup Final\nWith Lightning taking on Canadiens, North American nations plan a bet on Twitter\n2021-06-28\n-----------------\nStanley Cup Final Game 1 Live Blog: Lightning vs. Canadiens\nSights, sounds from Tampa Bay's victory against Montreal\n2021-06-28\n-----------------\nStanley Cup Final schedule\nBest-of-7 series between Canadiens, Lightning starts June 28 at Tampa Bay\n2021-06-28\n-----------------\nExpansion, NHL Draft television information announced\nKraken to reveal roster in live broadcast from Seattle\n2021-06-28\n-----------------\nArmia out for Canadiens in Game 1 of Stanley Cup Final against Lightning\nForward replaced in lineup by Evans despite being removed from COVID-19 protocol\n2021-06-28\n'NoneType' object has no attribute 'text'\n-----------------\nFantasy pool rankings: Stanley Cup Final\nTop 25 players for 2021 championship series between Canadiens, Lightning\n2021-06-28\n-----------------\nHart Trophy winner to be announced\nMacKinnon, Matthews, McDavid up for award given to NHL most valuable player\n2021-06-29\n-----------------\nHockey Hall of Fame sets new date, location to induct Class of 2020\nCeremony which was postponed due to coronavirus to take place Nov. 15 at Meridian Hall in Toronto\n2021-06-28\n-----------------\nLee 'on track' to return for Islanders next season, others uncertain\nForward skating after knee surgery; Cizikas, Palmieri can be free agents July 28\n2021-06-27\n-----------------\nFleury wants to end career with Golden Knights, Lehner to stay\nGoalies grew closer in second season together but future in Vegas uncertain\n2021-06-26\n-----------------\nMontreal bagel shop makes Canadiens-logo bagels ahead of Game 1\nSt. Viateur bakery leans into excitement of team's first Cup Final game since 1993\n2021-06-28\n-----------------\nVezina Trophy winner to be announced\nFleury, Grubauer, Vasilevskiy up for award given to top goalie in NHL\n2021-06-29\n-----------------\nNew movie tells story of town in Denmark home to five NHL players\n'The Hockey Miracle in the Middle of Nowhere' chronicles birthplace of Andersen, Nielsen\n2021-06-28\n-----------------\nHockey Hall of Fame will display fan tweets next to Stanley Cup\nAll invited to share what winning trophy would mean to them with hashtag #StanleyTweets\n2021-06-28\n-----------------\nColor of Hockey: Etem, Stewart latest members of Black ownership\nFormer NHL forwards join ranks of growing community after purchasing minor league teams\n2021-06-28\n-----------------\nHow Stanley Cup Finalist Canadiens were built\nRoster shaped by drafting Price, Gallagher, Caufield, trading for Petry, Weber\n2021-06-25\n-----------------\nHow Stanley Cup Finalist Lightning were built\nRoster almost identical from 2020 championship, shaped by drafting Point, Vasilevskiy, Hedman\n2021-06-26\n-----------------\nPride Tape ingrained part of hockey culture, spreading to other sports\nFive years after creation, rainbow-colored adhesive has amplified message of inclusivity in game\n2021-06-25\n-----------------\nStanley Cup Final predictions for Lightning vs. Canadiens\nConn Smythe winner also picked by NHL.com writers, editors\n2021-06-26\n-----------------\nDucharme expects to return to coach Canadiens for Game 3 of Cup Final\nPlans to be behind bench against Lightning after 14-day quarantine following positive COVID-19 test\n2021-06-26\n-----------------\nNHL timeline of events since pause of 2019-20 season due to COVID-19\nHealth, safety have been prioritized in playing almost 1,100 games since March 12, 2020\n2021-06-28\n-----------------\nNorris Trophy winner to be announced\nFox, Hedman, Makar up for award given to top NHL defenseman\n2021-06-29\n-----------------\nTed Lindsay Award winner to be announced\nCrosby, Matthews, McDavid up for outstanding player as voted by NHLPA\n2021-06-29\n-----------------\nCalder Trophy winner to be announced\nKaprizov, Robertson, Nedeljkovic up for award given to top rookie in NHL\n2021-06-29\n-----------------\nStanley Cup Final storylines include Canada's 28-year drought\nLightning looking to repeat, Maroon going for championship hat trick among things to watch\n2021-06-26\n"
     ]
    }
   ],
   "source": [
    "# Retrieve the parent divs for all articles\n",
    "nhl_results = nhl_soup.find_all('div', class_='article-item__top')\n",
    "\n",
    "# loop over results to get article data\n",
    "for result in nhl_results:\n",
    "    try:\n",
    "        # scrape the article header \n",
    "        header = result.find('h1', class_='article-item__headline').text\n",
    "        \n",
    "        # scrape the article subheader\n",
    "        subheader = result.find('h2', class_='article-item__subheader').text\n",
    "        \n",
    "        # scrape the datetime\n",
    "        datetime = result.find('span', class_='article-item__date')['data-date']\n",
    "        \n",
    "        # get only the date from the datetime\n",
    "        nhl_date = datetime.split('T')[0]\n",
    "        \n",
    "        # print article data\n",
    "        print('-----------------')\n",
    "        print(header)\n",
    "        print(subheader)\n",
    "        print(nhl_date)\n",
    "\n",
    "        # Dictionary to be inserted into MongoDB\n",
    "        nhl_dict = {'header': header,\n",
    "                    'subheader': subheader,\n",
    "                    'date': nhl_date,\n",
    "                    }\n",
    "\n",
    "        # Insert dictionary into MongoDB as a document\n",
    "        collection.insert_one(nhl_dict)\n",
    "    except AttributeError as e:\n",
    "        print(e)\n"
   ]
  },
  {
   "cell_type": "code",
   "execution_count": 8,
   "metadata": {
    "collapsed": true
   },
   "outputs": [
    {
     "output_type": "stream",
     "name": "stdout",
     "text": [
      "{'_id': ObjectId('60da9eda5efd0dfaec8aff15'), 'header': 'Kucherov, Lightning top Canadiens in Game 1 of Stanley Cup Final', 'subheader': 'Has two goals, assist to boost defending champions', 'date': '2021-06-28'}\n{'_id': ObjectId('60da9eda5efd0dfaec8aff16'), 'header': \"NHL participation at 2022 Beijing Olympics 'work in progress'\", 'subheader': 'Commissioner Bettman says time running short, but willingness remains', 'date': '2021-06-28'}\n{'_id': ObjectId('60da9eda5efd0dfaec8aff17'), 'header': 'Vegas to host 2022 NHL All-Star Weekend; 2021-22 outdoor games announced', 'subheader': 'Commissioner Bettman reveals Winter Classic, Stadium Series locations, teams, dates', 'date': '2021-06-28'}\n{'_id': ObjectId('60da9eda5efd0dfaec8aff18'), 'header': 'President Biden, Prime Minister Trudeau wager on Stanley Cup Final', 'subheader': 'With Lightning taking on Canadiens, North American nations plan a bet on Twitter', 'date': '2021-06-28'}\n{'_id': ObjectId('60da9eda5efd0dfaec8aff19'), 'header': 'Stanley Cup Final Game 1 Live Blog: Lightning vs. Canadiens', 'subheader': \"Sights, sounds from Tampa Bay's victory against Montreal\", 'date': '2021-06-28'}\n{'_id': ObjectId('60da9eda5efd0dfaec8aff1a'), 'header': 'Stanley Cup Final schedule', 'subheader': 'Best-of-7 series between Canadiens, Lightning to start Monday at Tampa Bay', 'date': '2021-06-28'}\n{'_id': ObjectId('60da9eda5efd0dfaec8aff1b'), 'header': 'Expansion, NHL Draft television information announced', 'subheader': 'Kraken to reveal roster in live broadcast from Seattle', 'date': '2021-06-28'}\n{'_id': ObjectId('60da9eda5efd0dfaec8aff1c'), 'header': 'Armia out for Canadiens in Game 1 of Stanley Cup Final against Lightning', 'subheader': 'Forward replaced in lineup by Evans despite being removed from COVID-19 protocol', 'date': '2021-06-28'}\n{'_id': ObjectId('60da9f13c69591b9174a5820'), 'header': 'Kucherov, Lightning top Canadiens in Game 1 of Stanley Cup Final', 'subheader': 'Has two goals, assist to boost defending champions', 'date': '2021-06-28'}\n{'_id': ObjectId('60da9f13c69591b9174a5821'), 'header': \"NHL participation at 2022 Beijing Olympics 'work in progress'\", 'subheader': 'Commissioner Bettman says time running short, but willingness remains', 'date': '2021-06-28'}\n{'_id': ObjectId('60da9f13c69591b9174a5822'), 'header': 'Vegas to host 2022 NHL All-Star Weekend; 2021-22 outdoor games announced', 'subheader': 'Commissioner Bettman reveals Winter Classic, Stadium Series locations, teams, dates', 'date': '2021-06-28'}\n{'_id': ObjectId('60da9f13c69591b9174a5823'), 'header': 'President Biden, Prime Minister Trudeau wager on Stanley Cup Final', 'subheader': 'With Lightning taking on Canadiens, North American nations plan a bet on Twitter', 'date': '2021-06-28'}\n{'_id': ObjectId('60da9f13c69591b9174a5824'), 'header': 'Stanley Cup Final Game 1 Live Blog: Lightning vs. Canadiens', 'subheader': \"Sights, sounds from Tampa Bay's victory against Montreal\", 'date': '2021-06-28'}\n{'_id': ObjectId('60da9f13c69591b9174a5825'), 'header': 'Stanley Cup Final schedule', 'subheader': 'Best-of-7 series between Canadiens, Lightning starts June 28 at Tampa Bay', 'date': '2021-06-28'}\n{'_id': ObjectId('60da9f13c69591b9174a5826'), 'header': 'Expansion, NHL Draft television information announced', 'subheader': 'Kraken to reveal roster in live broadcast from Seattle', 'date': '2021-06-28'}\n{'_id': ObjectId('60da9f13c69591b9174a5827'), 'header': 'Armia out for Canadiens in Game 1 of Stanley Cup Final against Lightning', 'subheader': 'Forward replaced in lineup by Evans despite being removed from COVID-19 protocol', 'date': '2021-06-28'}\n{'_id': ObjectId('60da9fef640411679c79b509'), 'header': 'Kucherov, Lightning top Canadiens in Game 1 of Stanley Cup Final', 'subheader': 'Has two goals, assist to boost defending champions', 'date': '2021-06-28'}\n{'_id': ObjectId('60da9fef640411679c79b50a'), 'header': \"NHL participation at 2022 Beijing Olympics 'work in progress'\", 'subheader': 'Commissioner Bettman says time running short, but willingness remains', 'date': '2021-06-28'}\n{'_id': ObjectId('60da9fef640411679c79b50b'), 'header': 'Vegas to host 2022 NHL All-Star Weekend; 2021-22 outdoor games announced', 'subheader': 'Commissioner Bettman reveals Winter Classic, Stadium Series locations, teams, dates', 'date': '2021-06-28'}\n{'_id': ObjectId('60da9fef640411679c79b50c'), 'header': 'President Biden, Prime Minister Trudeau wager on Stanley Cup Final', 'subheader': 'With Lightning taking on Canadiens, North American nations plan a bet on Twitter', 'date': '2021-06-28'}\n{'_id': ObjectId('60da9fef640411679c79b50d'), 'header': 'Stanley Cup Final Game 1 Live Blog: Lightning vs. Canadiens', 'subheader': \"Sights, sounds from Tampa Bay's victory against Montreal\", 'date': '2021-06-28'}\n{'_id': ObjectId('60da9fef640411679c79b50e'), 'header': 'Stanley Cup Final schedule', 'subheader': 'Best-of-7 series between Canadiens, Lightning starts June 28 at Tampa Bay', 'date': '2021-06-28'}\n{'_id': ObjectId('60da9fef640411679c79b50f'), 'header': 'Expansion, NHL Draft television information announced', 'subheader': 'Kraken to reveal roster in live broadcast from Seattle', 'date': '2021-06-28'}\n{'_id': ObjectId('60da9fef640411679c79b510'), 'header': 'Armia out for Canadiens in Game 1 of Stanley Cup Final against Lightning', 'subheader': 'Forward replaced in lineup by Evans despite being removed from COVID-19 protocol', 'date': '2021-06-28'}\n{'_id': ObjectId('60da9fef640411679c79b511'), 'header': 'Fantasy pool rankings: Stanley Cup Final', 'subheader': 'Top 25 players for 2021 championship series between Canadiens, Lightning', 'date': '2021-06-28'}\n{'_id': ObjectId('60da9fef640411679c79b512'), 'header': 'Hart Trophy winner to be announced', 'subheader': 'MacKinnon, Matthews, McDavid up for award given to NHL most valuable player', 'date': '2021-06-29'}\n{'_id': ObjectId('60da9fef640411679c79b513'), 'header': 'Hockey Hall of Fame sets new date, location to induct Class of 2020', 'subheader': 'Ceremony which was postponed due to coronavirus to take place Nov. 15 at Meridian Hall in Toronto', 'date': '2021-06-28'}\n{'_id': ObjectId('60da9fef640411679c79b514'), 'header': \"Lee 'on track' to return for Islanders next season, others uncertain\", 'subheader': 'Forward skating after knee surgery; Cizikas, Palmieri can be free agents July 28', 'date': '2021-06-27'}\n{'_id': ObjectId('60da9fef640411679c79b515'), 'header': 'Fleury wants to end career with Golden Knights, Lehner to stay', 'subheader': 'Goalies grew closer in second season together but future in Vegas uncertain', 'date': '2021-06-26'}\n{'_id': ObjectId('60da9fef640411679c79b516'), 'header': 'Montreal bagel shop makes Canadiens-logo bagels ahead of Game 1', 'subheader': \"St. Viateur bakery leans into excitement of team's first Cup Final game since 1993\", 'date': '2021-06-28'}\n{'_id': ObjectId('60da9fef640411679c79b517'), 'header': 'Vezina Trophy winner to be announced', 'subheader': 'Fleury, Grubauer, Vasilevskiy up for award given to top goalie in NHL', 'date': '2021-06-29'}\n{'_id': ObjectId('60da9fef640411679c79b518'), 'header': 'New movie tells story of town in Denmark home to five NHL players', 'subheader': \"'The Hockey Miracle in the Middle of Nowhere' chronicles birthplace of Andersen, Nielsen\", 'date': '2021-06-28'}\n{'_id': ObjectId('60da9fef640411679c79b519'), 'header': 'Hockey Hall of Fame will display fan tweets next to Stanley Cup', 'subheader': 'All invited to share what winning trophy would mean to them with hashtag #StanleyTweets', 'date': '2021-06-28'}\n{'_id': ObjectId('60da9fef640411679c79b51a'), 'header': 'Color of Hockey: Etem, Stewart latest members of Black ownership', 'subheader': 'Former NHL forwards join ranks of growing community after purchasing minor league teams', 'date': '2021-06-28'}\n{'_id': ObjectId('60da9fef640411679c79b51b'), 'header': 'How Stanley Cup Finalist Canadiens were built', 'subheader': 'Roster shaped by drafting Price, Gallagher, Caufield, trading for Petry, Weber', 'date': '2021-06-25'}\n{'_id': ObjectId('60da9fef640411679c79b51c'), 'header': 'How Stanley Cup Finalist Lightning were built', 'subheader': 'Roster almost identical from 2020 championship, shaped by drafting Point, Vasilevskiy, Hedman', 'date': '2021-06-26'}\n{'_id': ObjectId('60da9fef640411679c79b51d'), 'header': 'Pride Tape ingrained part of hockey culture, spreading to other sports', 'subheader': 'Five years after creation, rainbow-colored adhesive has amplified message of inclusivity in game', 'date': '2021-06-25'}\n{'_id': ObjectId('60da9fef640411679c79b51e'), 'header': 'Stanley Cup Final predictions for Lightning vs. Canadiens', 'subheader': 'Conn Smythe winner also picked by NHL.com writers, editors', 'date': '2021-06-26'}\n{'_id': ObjectId('60da9fef640411679c79b51f'), 'header': 'Ducharme expects to return to coach Canadiens for Game 3 of Cup Final', 'subheader': 'Plans to be behind bench against Lightning after 14-day quarantine following positive COVID-19 test', 'date': '2021-06-26'}\n{'_id': ObjectId('60da9fef640411679c79b520'), 'header': 'NHL timeline of events since pause of 2019-20 season due to COVID-19', 'subheader': 'Health, safety have been prioritized in playing almost 1,100 games since March 12, 2020', 'date': '2021-06-28'}\n{'_id': ObjectId('60da9fef640411679c79b521'), 'header': 'Norris Trophy winner to be announced', 'subheader': 'Fox, Hedman, Makar up for award given to top NHL defenseman', 'date': '2021-06-29'}\n{'_id': ObjectId('60da9fef640411679c79b522'), 'header': 'Ted Lindsay Award winner to be announced', 'subheader': 'Crosby, Matthews, McDavid up for outstanding player as voted by NHLPA', 'date': '2021-06-29'}\n{'_id': ObjectId('60da9fef640411679c79b523'), 'header': 'Calder Trophy winner to be announced', 'subheader': 'Kaprizov, Robertson, Nedeljkovic up for award given to top rookie in NHL', 'date': '2021-06-29'}\n{'_id': ObjectId('60da9fef640411679c79b524'), 'header': \"Stanley Cup Final storylines include Canada's 28-year drought\", 'subheader': 'Lightning looking to repeat, Maroon going for championship hat trick among things to watch', 'date': '2021-06-26'}\n"
     ]
    }
   ],
   "source": [
    "# Display the MongoDB records created above\n",
    "articles = db.articles.find()\n",
    "for article in articles:\n",
    "    print(article)"
   ]
  }
 ],
 "metadata": {
  "kernelspec": {
   "name": "python3",
   "display_name": "Python 3.7.10 64-bit ('PythonData': conda)"
  },
  "language_info": {
   "codemirror_mode": {
    "name": "ipython",
    "version": 3
   },
   "file_extension": ".py",
   "mimetype": "text/x-python",
   "name": "python",
   "nbconvert_exporter": "python",
   "pygments_lexer": "ipython3",
   "version": "3.7.10"
  },
  "varInspector": {
   "cols": {
    "lenName": 16,
    "lenType": 16,
    "lenVar": 40
   },
   "kernels_config": {
    "python": {
     "delete_cmd_postfix": "",
     "delete_cmd_prefix": "del ",
     "library": "var_list.py",
     "varRefreshCmd": "print(var_dic_list())"
    },
    "r": {
     "delete_cmd_postfix": ") ",
     "delete_cmd_prefix": "rm(",
     "library": "var_list.r",
     "varRefreshCmd": "cat(var_dic_list()) "
    }
   },
   "types_to_exclude": [
    "module",
    "function",
    "builtin_function_or_method",
    "instance",
    "_Feature"
   ],
   "window_display": false
  },
  "interpreter": {
   "hash": "acda147c8dd3b8f0274d48e33490c3394fd067fdf96c410e3ee71258c53f02eb"
  }
 },
 "nbformat": 4,
 "nbformat_minor": 2
}