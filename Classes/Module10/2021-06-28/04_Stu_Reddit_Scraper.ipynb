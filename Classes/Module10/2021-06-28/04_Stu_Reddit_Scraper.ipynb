{
 "cells": [
  {
   "cell_type": "code",
   "execution_count": 1,
   "metadata": {},
   "outputs": [],
   "source": [
    "# Dependencies\n",
    "from bs4 import BeautifulSoup\n",
    "import requests\n",
    "import os"
   ]
  },
  {
   "cell_type": "code",
   "execution_count": 2,
   "metadata": {},
   "outputs": [],
   "source": [
    "filepath = os.path.join(\"Resources\", \"04-Programmer-Humor.html\")\n",
    "with open(filepath, encoding='utf-8') as file:\n",
    "    html = file.read()"
   ]
  },
  {
   "cell_type": "code",
   "execution_count": 3,
   "metadata": {},
   "outputs": [
    {
     "output_type": "execute_result",
     "data": {
      "text/plain": [
       "rator\">\\n       </span>\\n       <a class=\"choice\" href=\"https://www.reddit.com/contact/\">\\n        contact us\\n       </a>\\n      </li>\\n     </ul>\\n    </div>\\n    <div class=\"col\">\\n     <ul class=\"flat-vert hover\">\\n      <li class=\"flat-vert title\">\\n       apps &amp; tools\\n      </li>\\n      <li>\\n       <a class=\"choice\" href=\"https://itunes.apple.com/us/app/reddit-the-official-app/id1064216828?mt=8\">\\n        Reddit for iPhone\\n       </a>\\n      </li>\\n      <li>\\n       <span class=\"separator\">\\n       </span>\\n       <a class=\"choice\" href=\"https://play.google.com/store/apps/details?id=com.reddit.frontpage\">\\n        Reddit for Android\\n       </a>\\n      </li>\\n      <li>\\n       <span class=\"separator\">\\n       </span>\\n       <a class=\"mweb-redirect-btn choice\" href=\"https://www.reddit.com/r/ProgrammerHumor/#\">\\n        mobile website\\n       </a>\\n      </li>\\n      <li>\\n       <span class=\"separator\">\\n       </span>\\n       <a class=\"choice\" href=\"https://www.reddit.com/buttons/\">\\n        buttons\\n       </a>\\n      </li>\\n     </ul>\\n    </div>\\n    <div class=\"col\">\\n     <ul class=\"flat-vert hover\">\\n      <li class=\"flat-vert title\">\\n       &lt;3\\n      </li>\\n      <li>\\n       <a class=\"buygold choice\" href=\"https://www.reddit.com/gold/about/\">\\n        reddit gold\\n       </a>\\n      </li>\\n      <li>\\n       <span class=\"separator\">\\n       </span>\\n       <a class=\"choice\" href=\"http://redditgifts.com/\">\\n        redditgifts\\n       </a>\\n      </li>\\n     </ul>\\n    </div>\\n   </div>\\n   <p class=\"bottommenu\">\\n    Use of this site constitutes acceptance of our\\n    <a href=\"https://www.reddit.com/help/useragreement\">\\n     User Agreement\\n    </a>\\n    and\\n    <a href=\"https://www.reddit.com/help/privacypolicy\">\\n     Privacy Policy\\n    </a>\\n    . © 2018 reddit inc. All rights reserved.\\n   </p>\\n   <p class=\"bottommenu\">\\n    REDDIT and the ALIEN Logo are registered trademarks of reddit inc.\\n   </p>\\n   <p class=\"bottommenu bottommenu-advertise\">\\n    <a href=\"https://www.reddit.com/advertising\">\\n     Advertise - technology\\n    </a>\\n   </p>\\n  </div>\\n  <script>\\n   var BETA_HOST = \\'beta.reddit.com\\'; if (location.host === BETA_HOST) { r.config.https_endpoint = \\'https://\\' + BETA_HOST; }\\n  </script>\\n  <script id=\"login-popup\" type=\"text/template\">\\n   <!-- Login form function --><div id=\"desktop-onboarding-browse\" class=\"c-step-sign-up\"><div class=\"desktop-onboarding-step desktop-onboarding-step_sign-up\"><div class=\"desktop-onboarding__col desktop-onboarding__col_sign-up_form\"><div class=\"reddit-logo\"><img width=\\'200px\\' src=\"//www.redditstatic.com/logo.svg\" /></div><h2 class=\"desktop-onboarding__title\">Sign up to get your own personalized Reddit experience!</h2><p class=\"desktop-onboarding__description\">By having a Reddit account, you can subscribe, vote, and comment on all your favorite Reddit content. Sign up in just seconds.</p><div class=\"desktop-onboarding-sign-up__form-container c-is-create\"><div class=\"desktop-onboarding-sign-up__form desktop-onboarding-sign-up__form_create\"><h3 class=\"desktop-onboarding-sign-up__form-title\">Create Account</h3><form class=\"sign-up-form\" id=\"desktop-onboarding-sign-up-form\" autocomplete=\"off\"><div class=\"c-form-group \"><label for=\"email\" class=\"screenreader-only\">email:</label><input name=\"email\" id=\"desktop-onboarding-email\" class=\"c-form-control\" type=\"text\" autofocus placeholder=\"email address\" data-validate-url=\"/api/check_email.json\" data-validate-on=\"keyup change blur\" /><div class=\"c-form-control-feedback-wrapper \"><span class=\"c-form-control-feedback c-form-control-feedback-throbber\"></span><span class=\"c-form-control-feedback c-form-control-feedback-error\" title=\"\"></span><span class=\"c-form-control-feedback c-form-control-feedback-success\"></span></div></div><button type=\"submit\" class=\"c-btn c-btn-primary c-pull-righ next-button\">Next</button><p class=\"desktop-onboarding-sign-up__form-note\"><span>Already have an account?</span><a href=\".\" class=\"desktop-onboarding-sign-up__form-toggler\" data-form=\"login\">Log In</a><a href=\"javascript: void 0;\" class=\"skip-for-now\">Skip for now</a></p></form></div><div class=\"desktop-onboarding-sign-up__form desktop-onboarding-sign-up__form_login\"><h3 class=\"desktop-onboarding-sign-up__form-title\">Log In</h3><form id=\"login-form\" method=\"post\" action=\"https://www.reddit.com/r/ProgrammerHumor/post/login\" class=\"form-v2 onboarding-login\"><input type=\"hidden\" name=\"op\" value=\"login\"><div class=\"c-form-group \"><label for=\"user_login\" class=\"screenreader-only\">username</label><input value=\"\" name=\"user\" id=\"user_login\" autofocus class=\"c-form-control\" type=\"text\" maxlength=\"20\" tabindex=\"3\" placeholder=\"username\" ><div class=\"c-form-control-feedback-wrapper \"><span class=\"c-form-control-feedback c-form-control-feedback-throbber\"></span><span class=\"c-form-control-feedback c-form-control-feedback-error\" title=\"\"></span><span class=\"c-form-control-feedback c-form-control-feedback-success\"></span></div></div><div class=\"c-form-group \"><label for=\"passwd_login\" class=\"screenreader-only\">password</label><input id=\"passwd_login\" class=\"c-form-control\" name=\"passwd\" type=\"password\" tabindex=\"3\" placeholder=\"password\" ><div class=\"c-form-control-feedback-wrapper \"><span class=\"c-form-control-feedback c-form-control-feedback-throbber\"></span><span class=\"c-form-control-feedback c-form-control-feedback-error\" title=\"\"></span><span class=\"c-form-control-feedback c-form-control-feedback-success\"></span></div></div><div class=\"desktop-onboarding-sign-up__form-note\"><span>Don\\'t have an account?</span><a href=\".\" class=\"desktop-onboarding-sign-up__form-toggler\" data-form=\"create\">Sign up</a>&nbsp|<a href=\"/password\">Reset password</a></div><input type=\"hidden\" value=\"yes\" name=\"rem\"/><div class=\"spacer\"><div class=\"c-form-group g-recaptcha\" data-sitekey=\"6LeTnxkTAAAAAN9QEuDZRpn90WwKk_R1TRW_g-JC\"></div><span class=\"error BAD_CAPTCHA field-captcha\" style=\"display:none\"></span></div><div class=\"c-clearfix c-submit-group\"><span class=\"c-form-throbber\"></span><button type=\"submit\" class=\"c-btn c-btn-primary c-pull-right\" tabindex=\"3\">log in</button></div><div><div class=\"c-alert c-alert-danger\"></div><span class=\"status\"></span></div></form></div></div><footer>By signing up, you agree to our&#32;<a href=\"https://www.reddit.com/help/useragreement/\" >Terms</a>&#32;and that you have read our&#32;<a href=\"https://www.reddit.com/help/privacypolicy/\" >Privacy Policy</a>&#32;and&#32;<a href=\"https://www.reddit.com/help/contentpolicy/\" >Content Policy</a>.</footer></div><div class=\"desktop-onboarding__col desktop-onboarding__col_sign-up_image\"></div></div><div class=\"desktop-onboarding-step desktop-onboarding-step_subreddit-picker\"><div class=\"subreddit-picker-header\"><h2 class=\"desktop-onboarding__title\">Find the good stuff</h2><p class=\"desktop-onboarding__description\">Reddit is filled with interest based communities, offering something for everyone. Check out some communities and we recommend you subscribe to at least 5.</p></div><div class=\"subreddit-picker\"><ul class=\"subreddit-picker__categories\"></ul><ul class=\"subreddit-picker__subreddits\"></ul><div class=\"subreddit-picker__fail\"><span>Something went wrong.</span><a href=\".\">Try Again?</a></div><div class=\"subreddit-picker__category-fail\"><span>Something went wrong.</span><a href=\".\">Try Again?</a></div></div><footer><div class=\"subreddit-picker-progress\"><div class=\"subreddit-picker-progress__track\"><div class=\"subreddit-picker-progress__bar\"></div></div><span class=\"subreddit-picker-progress__num\">0</span><span>/</span><span class=\"subreddit-picker-progress__denom\">5</span><span>&nbsp;<span class=\"subreddit-subscription-count\">recommended subscriptions</span></span></div><span class=\"desktop-onboarding__step-number\">Step 2 of 3</span><div class=\"desktop-onboarding__buttons\"><button class=\"desktop-onboarding__back-button\">Back</button><button class=\"desktop-onboarding__next-button\">Next</button></div></footer></div><div class=\"desktop-onboarding-step desktop-onboarding-step_username\"><div class=\"desktop-onboarding__col desktop-onboarding__col_username_form\"><h2 class=\"desktop-onboarding__title\">Choose your username</h2><p class=\"desktop-onboarding__description\">Your username is how other community members will see you. This name will be used to credit you for things you share on Reddit. What should we call you?</p><div class=desktop-onboarding-username-form><form id=\"register-form\" method=\"post\" action=\"https://www.reddit.com/r/ProgrammerHumor/post/reg\" autocomplete=\"off\" class=\"form-v2 onboarding-login\"><input type=\"hidden\" name=\"op\" value=\"reg\"><input type=\"hidden\" id=\"desktop-onboarding-register-email\" name=\"email\" value=\"\"><input type=\"hidden\" id=\"desktop-onboarding-subreddits\" name=\"sr\" value=\"\"><div class=\"c-form-group \"><label class=\"desktop-onboarding-sign-up__form-title\" for=\"user_reg\">Choose username</label><input value=\"\" name=\"user\" id=\"user_reg\" autofocus class=\"c-form-control\" type=\"text\" maxlength=\"20\" tabindex=\"2\" placeholder=\"username\" data-validate-url=\"/api/check_username.json\" data-validate-min=\"3\" autocomplete=\"new-username\" ><div class=\"c-form-control-feedback-wrapper \"><span class=\"c-form-control-feedback c-form-control-feedback-throbber\"></span><span class=\"c-form-control-feedback c-form-control-feedback-error\" title=\"\"></span><span class=\"c-form-control-feedback c-form-control-feedback-success\"></span></div></div><div class=\"c-form-group \"><label for=\"passwd_reg\" class=\"desktop-onboarding-sign-up__form-title\">Set password</label><input id=\"passwd_reg\" class=\"c-form-control\" name=\"passwd\" type=\"password\" tabindex=\"2\" placeholder=\"password\" data-validate-url=\\'/api/check_password.json\\' autocomplete=\\'new-password\\'><div class=\"c-form-control-feedback-wrapper \"><span class=\"c-form-control-feedback c-form-control-feedback-throbber\"></span><span class=\"c-form-control-feedback c-form-control-feedback-error\" title=\"\"></span><span class=\"c-form-control-feedback c-form-control-feedback-success\"></span></div></div><input type=\"hidden\" name=\"passwd2\" id=\"passwd2_reg\" class=\"c-form-control\"><input type=\"hidden\" value=\"yes\" name=\"rem\"/><div class=\"spacer\"><div class=\"c-form-group g-recaptcha\" data-sitekey=\"6LeTnxkTAAAAAN9QEuDZRpn90WwKk_R1TRW_g-JC\"></div><span class=\"error BAD_CAPTCHA field-captcha\" style=\"display:none\"></span></div><div><div class=\"c-alert c-alert-danger\"></div><span class=\"status\"></span><span class=\"error RATELIMIT field-ratelimit\" style=\"display:none\"></span><span class=\"error RATELIMIT field-vdelay\" style=\"display:none\"></span></div></form></div></div><div class=\"desktop-onboarding__col desktop-onboarding__col_username_picker\"><div class=\"username-generator\"><p class=\"desktop-onboarding__description\">Having a hard time picking a name?<br />Here are some available suggestions.</p><div class=\"username-generator__suggestions\"></div><a href=\"javascript: void 0;\" class=\"username-generator__refresh-button\">Refresh suggestions</a></div><footer><span class=\"desktop-onboarding__step-number\">Step 3 of 3</span><div class=\"desktop-onboarding__buttons\"><button class=\"desktop-onboarding__back-button\">Back</button><button class=\"desktop-onboarding__next-button\">Submit</button></div></footer></div></div></div>\\n  </script>\\n  <script id=\"lang-popup\" type=\"text/template\">\\n   <form action=\"https://www.reddit.com/post/unlogged_options\" method=\"post\" class=\"pretty-form short-text\"><input type=\"hidden\" name=\"uh\" value=\"\" /><table class=\"content preftable\"><tr><th>interface language</th><td class=\"prefright\"><select id=\"lang\" name=\"lang\"><option selected=\\'selected\\' value=\"en\">English [en]</option><option value=\"af\">Afrikaans [af] (*)</option><option value=\"ar\">العربية [ar] (*)</option><option value=\"be\">Беларуская мова [be] (*)</option><option value=\"bg\">български език [bg]</option><option value=\"bn-IN\">বাংলা [bn-IN] (*)</option><option value=\"bn-bd\">বাংলা [bn-bd] (*)</option><option value=\"bs\">Bosanski [bs] (*)</option><option value=\"ca\">català [ca]</option><option value=\"cs\">česky [cs]</option><option value=\"cy\">Cymraeg [cy] (*)</option><option value=\"da\">dansk [da]</option><option value=\"de\">Deutsch [de]</option><option value=\"el\">Ελληνικά [el]</option><option value=\"en-au\">English (Australia) [en-au]</option><option value=\"en-ca\">English (Canadian) [en-ca]</option><option value=\"en-gb\">English (Great Britain) [en-gb]</option><option value=\"en-us\">English [en-us]</option><option value=\"eo\">Esperanto [eo] (*)</option><option value=\"es\">español [es]</option><option value=\"es-ar\">español [es-ar]</option><option value=\"es-cl\">español [es-cl]</option><option value=\"es-mx\">Español [es-mx]</option><option value=\"et\">eesti keel [et] (*)</option><option value=\"eu\">Euskara [eu]</option><option value=\"fa\">فارسی [fa]</option><option value=\"fi\">suomi [fi]</option><option value=\"fil\">Filipino [fil] (*)</option><option value=\"fr\">français [fr]</option><option value=\"fr-ca\">Français [fr-ca]</option><option value=\"fy-NL\">Frysk [fy-NL] (*)</option><option value=\"ga-ie\">Gaeilge [ga-ie] (*)</option><option value=\"gd\">Gàidhlig [gd]</option><option value=\"gl\">Galego [gl] (*)</option><option value=\"he\">עברית [he] (*)</option><option value=\"hi\">मानक हिन्दी [hi] (*)</option><option value=\"hr\">hrvatski [hr]</option><option value=\"hu\">Magyar [hu]</option><option value=\"hy\">Հայերեն լեզու [hy]</option><option value=\"id\">Bahasa Indonesia [id] (*)</option><option value=\"is\">íslenska [is]</option><option value=\"it\">italiano (Italy) [it]</option><option value=\"ja\">日本語 [ja]</option><option value=\"kn_IN\">ಕನ್ನಡ [kn_IN]</option><option value=\"ko\">한국어 [ko]</option><option value=\"la\">Latin [la] (*)</option><option value=\"leet\">1337 [leet]</option><option value=\"lol\">LOL [lol]</option><option value=\"lt\">lietuvių kalba [lt] (*)</option><option value=\"lv\">latviešu valoda [lv]</option><option value=\"ms\">Bahasa Melayu [ms] (*)</option><option value=\"mt-MT\">Malti [mt-MT]</option><option value=\"nl\">Nederlands [nl]</option><option value=\"nn\">Nynorsk [nn]</option><option value=\"no\">Norsk [no]</option><option value=\"pir\">Arrrrrrrr! [pir] (*)</option><option value=\"pl\">polski [pl]</option><option value=\"pt\">português [pt] (*)</option><option value=\"pt-pt\">português [pt-pt]</option><option value=\"pt_BR\">português brasileiro [pt_BR]</option><option value=\"ro\">română [ro]</option><option value=\"ru\">русский [ru]</option><option value=\"sk\">slovenčina [sk]</option><option value=\"sl\">slovenščina [sl] (*)</option><option value=\"sr\">српски језик [sr]</option><option value=\"sr-la\">Srpski [sr-la]</option><option value=\"sv\">Svenska [sv]</option><option value=\"ta\">தமிழ் [ta]</option><option value=\"th\">ภาษาไทย [th]</option><option value=\"tr\">Türkçe [tr]</option><option value=\"uk\">українська мова [uk]</option><option value=\"vi\">Tiếng Việt [vi]</option><option value=\"zh\">中文 [zh]</option><option value=\"zh-cn\">简化字 [zh-cn]</option></select>&#32;<span class=\"details hover\">(*) incomplete &#32;<a href=\"https://www.reddit.com/r/i18n/wiki/getting_started\">volunteer to translate</a></span></td></tr><tr><td><input type=\"submit\" class=\"btn\" value=\"save options\"/></td></tr></table></form>\\n  </script>\\n  <img id=\"hsts_pixel\" src=\"./Programmer-Humor_files/pixel.png\"/>\\n  <p class=\"debuginfo\">\\n   <span class=\"icon\">\\n    π\\n   </span>\\n   <span class=\"content\">\\n    Rendered by PID 6752 on  app-132  at 2018-01-13 01:31:42.714639+00:00 running b995ef9 country code: US.\\n   </span>\\n  </p>\\n  <script src=\"./Programmer-Humor_files/reddit.en.yJ_lF1qeFJ8.js\" type=\"text/javascript\">\\n  </script>\\n  <script src=\"./Programmer-Humor_files/author-tooltip.S8LEVlF4bHM.js\" type=\"text/javascript\">\\n  </script>\\n  <script>\\n   var ethnioParam = window.localStorage.getItem(\\'ethnio_param\\'); function onEthnioLoad() { window.localStorage.removeItem(\\'ethnio_param\\'); }; if (ethnioParam) { var ethnioScript = document.createElement(\\'script\\'); var url = \\'https://ethn.io/45530.js?action=\\' + ethnioParam; ethnioScript.async = \\'async\\'; ethnioScript.charset = \\'utf-8\\'; ethnioScript.language = \\'javascript\\'; ethnioScript.type = \\'text/javascript\\'; ethnioScript.src = url; ethnioScript.onload = onEthnioLoad; document.getElementsByTagName(\\'body\\')[0].appendChild(ethnioScript); }\\n  </script>\\n  <script>\\n   (function() { var ads = window.__adslots = window.__adslots || []; window.googletag = window.googletag || {}; googletag.cmd = googletag.cmd || []; function indexGoogleTagSlots(googSlots) { return googSlots.reduce(function(o, slot) { var slotID = slot.getSlotElementId(); o[slotID] = slot; return o; }, {}); } var gads = document.createElement(\\'script\\'); gads.async = true; gads.type = \\'text/javascript\\'; var useSSL = \\'https:\\' == document.location.protocol; gads.src = (useSSL ? \\'https:\\' : \\'http:\\') + \\'//www.googletagservices.com/tag/js/gpt.js\\'; var node = document.getElementsByTagName(\\'script\\')[0]; node.parentNode.insertBefore(gads, node); googletag.cmd.push(function() { googletag.pubads().disableInitialLoad(); googletag.pubads().setSafeFrameConfig({ allowOverlayExpansion: false, allowPushExpansion: false, sandbox: !(r.utils.testAcceptableAds() && /firefox/i.test(navigator.userAgent)), }); googletag.enableServices(); }); var percentage = 0.05; var usePrebid = window._usePrebid = Math.random()<= percentage || /.*prebid=1.*/.test(location.search || \\'\\'); if (usePrebid) { /* prebid */ window.pbjs = window.pbjs || {}; pbjs.que = pbjs.que || []; pbjs.que.push(function() { pbjs.setConfig({ priceGranularity: { buckets: [{ min: 0, max: 3, increment: 0.01, }, { min: 3, max: 8, increment: 0.05, }, { min: 8, max: 20, increment: 0.5, }, { min: 20, max: 35, increment: 1, }], }, }); }); var pb = document.createElement(\\'script\\'); pb.type = \\'text/javascript\\'; pb.async = true; pb.src = \"//www.redditstatic.com/js/prebid.js\"; var s = document.getElementsByTagName(\\'script\\')[0]; s.parentNode.insertBefore(pb, s); } else { /* amazon a9 ads */ !function(a9,a,p,s,t,A,g){if(a[a9])return;function q(c,r){a[a9]._Q.push([c,r])}a[a9]={init:function(){q(\\'i\\',arguments)},fetchBids:function(){q(\\'f\\',arguments)},_Q:[]};A=p.createElement(s);A.async=!0;A.src=t;g=p.getElementsByTagName(s)[0];g.parentNode.insertBefore(A,g)}(\\'apstag\\',window,document,\\'script\\',\\'//c.amazon-adsystem.com/aax2/apstag.js\\'); } r.hooks.get(\\'reddit\\').register(function() { var category = \"Technology\"; if (!usePrebid) { apstag.init({ pubID: r.utils.testAcceptableAds() ? \\'3570\\' : \\'3379\\', adServer: \\'googletag\\', bidTimeout: 2e3, params: { position: \\'sidebar\\', section: category, sis_sitesection: [\\'reddit.com\\', category].filter(function(x) { return x; }).join(\\':\\'), subreddit: r.config.post_site, }, }); } googletag.cmd.push(function() { var adSlots = googletag.pubads().getSlots(); var headerBidCallback = function() { var callbacks = _.pluck(ads, \\'callback\\'); _.invoke(callbacks, \\'call\\'); }; if (usePrebid) { var bidsBackHandler = function() { if (pbjs.adserverRequestSent) return; pbjs.adserverRequestSent = true; headerBidCallback(); }; pbjs.que.push(function() { pbjs.addAdUnits(ads.map(function(ad) { return { code: ad.slotID, sizes: ad.sizes, bids: [{ bidder: \\'appnexus\\', params: { placementId: \\'11905719\\', }, }], }; })); pbjs.requestBids({ bidsBackHandler: bidsBackHandler, }); }); setTimeout(bidsBackHandler, 700); } else { apstag.fetchBids({ slots: _.map(ads, function(ad) { return _.pick(ad, [\\'slotID\\', \\'sizes\\']); }), timeout: 2e3, }, function(bids) { googletag.cmd.push(function() { var slotsById = indexGoogleTagSlots(adSlots); bids.forEach(function(bid) { var slot = slotsById[bid.slotID]; if (slot) { apstag.targetingKeys().forEach(function(key) { slot.setTargeting(key, bid[key]) }); } }); }); headerBidCallback(); }); } }); }); })();\\n  </script>\\n  <iframe id=\"google_osd_static_frame_2265189786240\" name=\"google_osd_static_frame\" src=\"./Programmer-Humor_files/saved_resource(1).html\" style=\"display: none; width: 0px; height: 0px;\">\\n  </iframe>\\n </body>\\n</html>'"
      ]
     },
     "metadata": {},
     "execution_count": 3
    }
   ],
   "source": [
    "# Create BeautifulSoup object; parse with 'html.parser'\n",
    "soup = BeautifulSoup(html, 'html.parser')\n",
    "soup.prettify()"
   ]
  },
  {
   "cell_type": "code",
   "execution_count": 4,
   "metadata": {},
   "outputs": [
    {
     "output_type": "execute_result",
     "data": {
      "text/plain": [
       "<div class=\"top-matter\"><p class=\"title\"><a class=\"title may-blank\" data-event-action=\"title\" data-href-url=\"/r/ProgrammerHumor/comments/6y2b47/meta_clarification_on_rules/\" data-inbound-url=\"/r/ProgrammerHumor/comments/6y2b47/meta_clarification_on_rules/?utm_content=title&amp;utm_medium=hot&amp;utm_source=reddit&amp;utm_name=ProgrammerHumor\" href=\"https://www.reddit.com/r/ProgrammerHumor/comments/6y2b47/meta_clarification_on_rules/\" rel=\"\" tabindex=\"1\">[Meta] Clarification on rules</a> <span class=\"domain\">(<a href=\"https://www.reddit.com/r/ProgrammerHumor/\">self.ProgrammerHumor</a>)</span></p><div class=\"expando-button collapsed hide-when-pinned selftext\"></div><p class=\"tagline\">submitted <time class=\"\" datetime=\"2017-09-04T18:50:45+00:00\" title=\"Mon Sep 4 18:50:45 2017 UTC\">4 months ago</time> by <a class=\"author moderator may-blank id-t2_10xbsx\" href=\"https://www.reddit.com/user/munirc\">munirc</a><span class=\"flair flair-ult\" title=\"Ultraviolent security clearance\">Ultraviolent security clearance</span><span class=\"userattrs\">[<a class=\"moderator\" href=\"https://www.reddit.com/r/ProgrammerHumor/about/moderators\" title=\"moderator of r/ProgrammerHumor, speaking officially\">M</a>]</span> - <span class=\"stickied-tagline\" title=\"selected by this subreddit's moderators\">announcement</span></p><ul class=\"flat-list buttons pocket-inserted\"><li class=\"first\"><a class=\"bylink comments may-blank\" data-event-action=\"comments\" data-href-url=\"/r/ProgrammerHumor/comments/6y2b47/meta_clarification_on_rules/\" data-inbound-url=\"/r/ProgrammerHumor/comments/6y2b47/meta_clarification_on_rules/?utm_content=comments&amp;utm_medium=hot&amp;utm_source=reddit&amp;utm_name=ProgrammerHumor\" href=\"https://www.reddit.com/r/ProgrammerHumor/comments/6y2b47/meta_clarification_on_rules/\" rel=\"nofollow\">79 comments</a></li><li class=\"share\"><a class=\"post-sharing-button\" href=\"javascript: void 0;\">share</a></li><li class=\"link-save-button save-button login-required\"><a href=\"https://www.reddit.com/r/ProgrammerHumor/#\">save</a></li><li><form action=\"https://www.reddit.com/post/hide\" class=\"state-button hide-button\" method=\"post\"><input name=\"executed\" type=\"hidden\" value=\"hidden\"/><span><a class=\"\" data-event-action=\"hide\" href=\"javascript:void(0)\" onclick=\"change_state(this, 'hide', hide_thing);\">hide</a></span></form></li><li class=\"report-button login-required\"><a class=\"reportbtn access-required\" data-event-action=\"report\" href=\"javascript:void(0)\">report</a></li><li><a class=\"pocket-reddit-button\" href=\"https://www.reddit.com/r/ProgrammerHumor/#\">pocket</a></li></ul><div class=\"reportform report-t3_6y2b47\"></div></div>"
      ]
     },
     "metadata": {},
     "execution_count": 4
    }
   ],
   "source": [
    "# Examine the results and look for a div withe the class 'top-matter'\n",
    "results = soup.find_all('div', class_='top-matter')\n",
    "results[1]"
   ]
  },
  {
   "cell_type": "code",
   "execution_count": 10,
   "metadata": {},
   "outputs": [
    {
     "output_type": "stream",
     "name": "stdout",
     "text": [
      "'NoneType' object has no attribute 'text'\n\n-----------------\n\n[Meta] Clarification on rules\nComments: 79\nhttps://www.reddit.com/r/ProgrammerHumor/comments/6y2b47/meta_clarification_on_rules/\n\n-----------------\n\nDoing conditionals\nComments: 258\nhttps://i.redd.it/l30xm2f4nm901.jpg\n\n-----------------\n\nPerfect date\nComments: 58\nhttps://i.redd.it/o9qnfxubto901.jpg\n\n-----------------\n\nThe truth about java.\nComments: 61\nhttps://i.redd.it/2wr3vv11xn901.jpg\n\n-----------------\n\nIt all makes sense now.\nComments: 341\nhttps://i.imgur.com/7ew4zCQ.png\n\n-----------------\n\nThis is where US's bandwidth going.\nComments: 20\nhttps://i.redd.it/miwjerjy9l901.png\n"
     ]
    }
   ],
   "source": [
    "# Loop through returned results\n",
    "    \n",
    "# Retrieve the thread title\n",
    "for title in results:\n",
    "    thread_title = title.find('p', class_='title')\n",
    "    \n",
    "    # Access the thread's text content\n",
    "    title_text = thread_title.a.text\n",
    "\n",
    "    try:\n",
    "        # Access the thread with CSS selectors\n",
    "        thread = title.find('li', class_='first')\n",
    "\n",
    "        # The number of comments made in the thread\n",
    "        comment_count = thread.text.lstrip()\n",
    "        # print(comment_count)\n",
    "\n",
    "        # Parse string, e.g. '47 comments' for possible numeric manipulation\n",
    "        comments_num = int(comment_count.split()[0])\n",
    "\n",
    "        # Access the href attribute with bracket notation\n",
    "        link = thread_title.a['href']\n",
    "\n",
    "        # Run if the thread has 20 or more comments\n",
    "        if (comments_num >= 20):\n",
    "            print('\\n-----------------\\n')\n",
    "            print(title_text)\n",
    "            print('Comments:', comments_num)\n",
    "            print(link)\n",
    "    except AttributeError as e:\n",
    "        print(e)"
   ]
  },
  {
   "cell_type": "code",
   "execution_count": null,
   "metadata": {},
   "outputs": [],
   "source": []
  }
 ],
 "metadata": {
  "kernelspec": {
   "name": "python3",
   "display_name": "Python 3.8.5 64-bit ('base': conda)"
  },
  "language_info": {
   "codemirror_mode": {
    "name": "ipython",
    "version": 3
   },
   "file_extension": ".py",
   "mimetype": "text/x-python",
   "name": "python",
   "nbconvert_exporter": "python",
   "pygments_lexer": "ipython3",
   "version": "3.8.5"
  },
  "varInspector": {
   "cols": {
    "lenName": 16,
    "lenType": 16,
    "lenVar": 40
   },
   "kernels_config": {
    "python": {
     "delete_cmd_postfix": "",
     "delete_cmd_prefix": "del ",
     "library": "var_list.py",
     "varRefreshCmd": "print(var_dic_list())"
    },
    "r": {
     "delete_cmd_postfix": ") ",
     "delete_cmd_prefix": "rm(",
     "library": "var_list.r",
     "varRefreshCmd": "cat(var_dic_list()) "
    }
   },
   "types_to_exclude": [
    "module",
    "function",
    "builtin_function_or_method",
    "instance",
    "_Feature"
   ],
   "window_display": false
  },
  "interpreter": {
   "hash": "9e38600269eb7cd4a4118ce252119dbdc23fa4df88f0784eb9dd5586737b802b"
  }
 },
 "nbformat": 4,
 "nbformat_minor": 2
}