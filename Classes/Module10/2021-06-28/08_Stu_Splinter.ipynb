{
 "cells": [
  {
   "source": [
    "# Bookscraper\n",
    "\n",
    "## Instructions\n",
    "\n",
    "* Go to <http://books.toscrape.com/>\n",
    "* Scrape the titles and the URLs to all books on this fictional online bookstore. Display the results in console.\n",
    "* That's it!\n",
    "* If you're craving extra challenge, try scraping all books by **category**. Good luck!\n"
   ],
   "cell_type": "markdown",
   "metadata": {}
  },
  {
   "cell_type": "code",
   "execution_count": 5,
   "metadata": {
    "collapsed": true
   },
   "outputs": [],
   "source": [
    "from splinter import Browser\n",
    "from bs4 import BeautifulSoup\n",
    "from webdriver_manager.chrome import ChromeDriverManager"
   ]
  },
  {
   "cell_type": "code",
   "execution_count": 6,
   "metadata": {
    "collapsed": true
   },
   "outputs": [
    {
     "output_type": "stream",
     "name": "stderr",
     "text": [
      "\n",
      "\n",
      "====== WebDriver manager ======\n",
      "Current google-chrome version is 91.0.4472\n",
      "Get LATEST driver version for 91.0.4472\n",
      "Driver [C:\\Users\\mrm\\.wdm\\drivers\\chromedriver\\win32\\91.0.4472.101\\chromedriver.exe] found in cache\n"
     ]
    }
   ],
   "source": [
    "executable_path = {'executable_path': ChromeDriverManager().install()}\n",
    "browser = Browser('chrome', **executable_path, headless=True) # changed from False..."
   ]
  },
  {
   "cell_type": "code",
   "execution_count": 7,
   "metadata": {
    "collapsed": true
   },
   "outputs": [],
   "source": [
    "url = 'http://books.toscrape.com/'\n",
    "browser.visit(url)"
   ]
  },
  {
   "cell_type": "code",
   "execution_count": 8,
   "metadata": {
    "tags": [
     "outputPrepend"
    ]
   },
   "outputs": [
    {
     "output_type": "stream",
     "name": "stdout",
     "text": [
      "ok: <h3><a href=\"the-course-of-love_109/index.html\" title=\"The Course of Love\">The Course of Love</a></h3> at the-course-of-love_109/index.html\n",
      "Book: <h3><a href=\"sugar-rush-offensive-line-2_108/index.html\" title=\"Sugar Rush (Offensive Line #2)\">Sugar Rush (Offensive Line ...</a></h3> at sugar-rush-offensive-line-2_108/index.html\n",
      "Book: <h3><a href=\"saga-volume-2-saga-collected-editions-2_107/index.html\" title=\"Saga, Volume 2 (Saga (Collected Editions) #2)\">Saga, Volume 2 (Saga ...</a></h3> at saga-volume-2-saga-collected-editions-2_107/index.html\n",
      "Book: <h3><a href=\"run-spot-run-the-ethics-of-keeping-pets_106/index.html\" title=\"Run, Spot, Run: The Ethics of Keeping Pets\">Run, Spot, Run: The ...</a></h3> at run-spot-run-the-ethics-of-keeping-pets_106/index.html\n",
      "Book: <h3><a href=\"new-moon-twilight-2_105/index.html\" title=\"New Moon (Twilight #2)\">New Moon (Twilight #2)</a></h3> at new-moon-twilight-2_105/index.html\n",
      "Book: <h3><a href=\"life_104/index.html\" title=\"Life\">Life</a></h3> at life_104/index.html\n",
      "Book: <h3><a href=\"kindle-paperwhite-users-guide_103/index.html\" title=\"Kindle Paperwhite User's Guide\">Kindle Paperwhite User's Guide</a></h3> at kindle-paperwhite-users-guide_103/index.html\n",
      "Book: <h3><a href=\"h-is-for-hawk_102/index.html\" title=\"H is for Hawk\">H is for Hawk</a></h3> at h-is-for-hawk_102/index.html\n",
      "Book: <h3><a href=\"girl-online-on-tour-girl-online-2_101/index.html\" title=\"Girl Online On Tour (Girl Online #2)\">Girl Online On Tour ...</a></h3> at girl-online-on-tour-girl-online-2_101/index.html\n",
      "Book: <h3><a href=\"fruits-basket-vol-2-fruits-basket-2_100/index.html\" title=\"Fruits Basket, Vol. 2 (Fruits Basket #2)\">Fruits Basket, Vol. 2 ...</a></h3> at fruits-basket-vol-2-fruits-basket-2_100/index.html\n",
      "Book: <h3><a href=\"diary-of-a-minecraft-zombie-book-1-a-scare-of-a-dare-an-unofficial-minecraft-book_99/index.html\" title=\"Diary of a Minecraft Zombie Book 1: A Scare of a Dare (An Unofficial Minecraft Book)\">Diary of a Minecraft ...</a></h3> at diary-of-a-minecraft-zombie-book-1-a-scare-of-a-dare-an-unofficial-minecraft-book_99/index.html\n",
      "Book: <h3><a href=\"y-the-last-man-vol-1-unmanned-y-the-last-man-1_98/index.html\" title=\"Y: The Last Man, Vol. 1: Unmanned (Y: The Last Man #1)\">Y: The Last Man, ...</a></h3> at y-the-last-man-vol-1-unmanned-y-the-last-man-1_98/index.html\n",
      "Book: <h3><a href=\"while-you-were-mine_97/index.html\" title=\"While You Were Mine\">While You Were Mine</a></h3> at while-you-were-mine_97/index.html\n",
      "Book: <h3><a href=\"where-lightning-strikes-bleeding-stars-3_96/index.html\" title=\"Where Lightning Strikes (Bleeding Stars #3)\">Where Lightning Strikes (Bleeding ...</a></h3> at where-lightning-strikes-bleeding-stars-3_96/index.html\n",
      "Book: <h3><a href=\"when-im-gone_95/index.html\" title=\"When I'm Gone\">When I'm Gone</a></h3> at when-im-gone_95/index.html\n",
      "Book: <h3><a href=\"ways-of-seeing_94/index.html\" title=\"Ways of Seeing\">Ways of Seeing</a></h3> at ways-of-seeing_94/index.html\n",
      "Book: <h3><a href=\"vampire-knight-vol-1-vampire-knight-1_93/index.html\" title=\"Vampire Knight, Vol. 1 (Vampire Knight #1)\">Vampire Knight, Vol. 1 ...</a></h3> at vampire-knight-vol-1-vampire-knight-1_93/index.html\n",
      "Book: <h3><a href=\"vampire-girl-vampire-girl-1_92/index.html\" title=\"Vampire Girl (Vampire Girl #1)\">Vampire Girl (Vampire Girl ...</a></h3> at vampire-girl-vampire-girl-1_92/index.html\n",
      "Book: <h3><a href=\"twenty-love-poems-and-a-song-of-despair_91/index.html\" title=\"Twenty Love Poems and a Song of Despair\">Twenty Love Poems and ...</a></h3> at twenty-love-poems-and-a-song-of-despair_91/index.html\n",
      "Book: <h3><a href=\"travels-with-charley-in-search-of-america_90/index.html\" title=\"Travels with Charley: In Search of America\">Travels with Charley: In ...</a></h3> at travels-with-charley-in-search-of-america_90/index.html\n",
      "Book: <h3><a href=\"three-wishes-river-of-time-california-1_89/index.html\" title=\"Three Wishes (River of Time: California #1)\">Three Wishes (River of ...</a></h3> at three-wishes-river-of-time-california-1_89/index.html\n",
      "Book: <h3><a href=\"this-one-moment-pushing-limits-1_88/index.html\" title=\"This One Moment (Pushing Limits #1)\">This One Moment (Pushing ...</a></h3> at this-one-moment-pushing-limits-1_88/index.html\n",
      "Book: <h3><a href=\"the-zombie-room_87/index.html\" title=\"The Zombie Room\">The Zombie Room</a></h3> at the-zombie-room_87/index.html\n",
      "Book: <h3><a href=\"the-wicked-the-divine-vol-1-the-faust-act-the-wicked-the-divine_86/index.html\" title=\"The Wicked + The Divine, Vol. 1: The Faust Act (The Wicked + The Divine)\">The Wicked + The ...</a></h3> at the-wicked-the-divine-vol-1-the-faust-act-the-wicked-the-divine_86/index.html\n",
      "Book: <h3><a href=\"the-tumor_85/index.html\" title=\"The Tumor\">The Tumor</a></h3> at the-tumor_85/index.html\n",
      "Book: <h3><a href=\"the-story-of-hong-gildong_84/index.html\" title=\"The Story of Hong Gildong\">The Story of Hong ...</a></h3> at the-story-of-hong-gildong_84/index.html\n",
      "Book: <h3><a href=\"the-silent-wife_83/index.html\" title=\"The Silent Wife\">The Silent Wife</a></h3> at the-silent-wife_83/index.html\n",
      "Book: <h3><a href=\"the-silent-twin-detective-jennifer-knight-3_82/index.html\" title=\"The Silent Twin (Detective Jennifer Knight #3)\">The Silent Twin (Detective ...</a></h3> at the-silent-twin-detective-jennifer-knight-3_82/index.html\n",
      "Book: <h3><a href=\"the-selfish-gene_81/index.html\" title=\"The Selfish Gene\">The Selfish Gene</a></h3> at the-selfish-gene_81/index.html\n",
      "Book: <h3><a href=\"the-secret-healer_80/index.html\" title=\"The Secret Healer\">The Secret Healer</a></h3> at the-secret-healer_80/index.html\n",
      "Book: <h3><a href=\"the-sandman-vol-1-preludes-and-nocturnes-the-sandman-volumes-1_79/index.html\" title=\"The Sandman, Vol. 1: Preludes and Nocturnes (The Sandman (volumes) #1)\">The Sandman, Vol. 1: ...</a></h3> at the-sandman-vol-1-preludes-and-nocturnes-the-sandman-volumes-1_79/index.html\n",
      "Book: <h3><a href=\"the-republic_78/index.html\" title=\"The Republic\">The Republic</a></h3> at the-republic_78/index.html\n",
      "Book: <h3><a href=\"the-odyssey_77/index.html\" title=\"The Odyssey\">The Odyssey</a></h3> at the-odyssey_77/index.html\n",
      "Book: <h3><a href=\"the-no-1-ladies-detective-agency-no-1-ladies-detective-agency-1_76/index.html\" title=\"The No. 1 Ladies' Detective Agency (No. 1 Ladies' Detective Agency #1)\">The No. 1 Ladies' ...</a></h3> at the-no-1-ladies-detective-agency-no-1-ladies-detective-agency-1_76/index.html\n",
      "Book: <h3><a href=\"the-nicomachean-ethics_75/index.html\" title=\"The Nicomachean Ethics\">The Nicomachean Ethics</a></h3> at the-nicomachean-ethics_75/index.html\n",
      "Book: <h3><a href=\"the-name-of-the-wind-the-kingkiller-chronicle-1_74/index.html\" title=\"The Name of the Wind (The Kingkiller Chronicle #1)\">The Name of the ...</a></h3> at the-name-of-the-wind-the-kingkiller-chronicle-1_74/index.html\n",
      "Book: <h3><a href=\"the-mirror-the-maze-the-wrath-and-the-dawn-15_73/index.html\" title=\"The Mirror &amp; the Maze (The Wrath and the Dawn #1.5)\">The Mirror &amp; the ...</a></h3> at the-mirror-the-maze-the-wrath-and-the-dawn-15_73/index.html\n",
      "Book: <h3><a href=\"the-little-prince_72/index.html\" title=\"The Little Prince\">The Little Prince</a></h3> at the-little-prince_72/index.html\n",
      "Book: <h3><a href=\"the-light-of-the-fireflies_71/index.html\" title=\"The Light of the Fireflies\">The Light of the ...</a></h3> at the-light-of-the-fireflies_71/index.html\n",
      "Book: <h3><a href=\"the-last-girl-the-dominion-trilogy-1_70/index.html\" title=\"The Last Girl (The Dominion Trilogy #1)\">The Last Girl (The ...</a></h3> at the-last-girl-the-dominion-trilogy-1_70/index.html\n",
      "Book: <h3><a href=\"the-iliad_69/index.html\" title=\"The Iliad\">The Iliad</a></h3> at the-iliad_69/index.html\n",
      "Book: <h3><a href=\"the-hook-up-game-on-1_68/index.html\" title=\"The Hook Up (Game On #1)\">The Hook Up (Game ...</a></h3> at the-hook-up-game-on-1_68/index.html\n",
      "Book: <h3><a href=\"the-haters_67/index.html\" title=\"The Haters\">The Haters</a></h3> at the-haters_67/index.html\n",
      "Book: <h3><a href=\"the-girl-you-lost_66/index.html\" title=\"The Girl You Lost\">The Girl You Lost</a></h3> at the-girl-you-lost_66/index.html\n",
      "Book: <h3><a href=\"the-girl-in-the-ice-dci-erika-foster-1_65/index.html\" title=\"The Girl In The Ice (DCI Erika Foster #1)\">The Girl In The ...</a></h3> at the-girl-in-the-ice-dci-erika-foster-1_65/index.html\n",
      "Book: <h3><a href=\"the-end-of-the-jesus-era-an-investigation-1_64/index.html\" title=\"The End of the Jesus Era (An Investigation #1)\">The End of the ...</a></h3> at the-end-of-the-jesus-era-an-investigation-1_64/index.html\n",
      "Book: <h3><a href=\"the-edge-of-reason-bridget-jones-2_63/index.html\" title=\"The Edge of Reason (Bridget Jones #2)\">The Edge of Reason ...</a></h3> at the-edge-of-reason-bridget-jones-2_63/index.html\n",
      "Book: <h3><a href=\"the-complete-maus-maus-1-2_62/index.html\" title=\"The Complete Maus (Maus #1-2)\">The Complete Maus (Maus ...</a></h3> at the-complete-maus-maus-1-2_62/index.html\n",
      "Book: <h3><a href=\"the-communist-manifesto_61/index.html\" title=\"The Communist Manifesto\">The Communist Manifesto</a></h3> at the-communist-manifesto_61/index.html\n",
      "Book: <h3><a href=\"the-bhagavad-gita_60/index.html\" title=\"The Bhagavad Gita\">The Bhagavad Gita</a></h3> at the-bhagavad-gita_60/index.html\n",
      "Book: <h3><a href=\"the-bette-davis-club_59/index.html\" title=\"The Bette Davis Club\">The Bette Davis Club</a></h3> at the-bette-davis-club_59/index.html\n",
      "Book: <h3><a href=\"the-art-of-not-breathing_58/index.html\" title=\"The Art of Not Breathing\">The Art of Not ...</a></h3> at the-art-of-not-breathing_58/index.html\n",
      "Book: <h3><a href=\"taking-shots-assassins-1_57/index.html\" title=\"Taking Shots (Assassins #1)\">Taking Shots (Assassins #1)</a></h3> at taking-shots-assassins-1_57/index.html\n",
      "Book: <h3><a href=\"starlark_56/index.html\" title=\"Starlark\">Starlark</a></h3> at starlark_56/index.html\n",
      "Book: <h3><a href=\"skip-beat-vol-01-skip-beat-1_55/index.html\" title=\"Skip Beat!, Vol. 01 (Skip Beat! #1)\">Skip Beat!, Vol. 01 ...</a></h3> at skip-beat-vol-01-skip-beat-1_55/index.html\n",
      "Book: <h3><a href=\"sister-sable-the-mad-queen-1_54/index.html\" title=\"Sister Sable (The Mad Queen #1)\">Sister Sable (The Mad ...</a></h3> at sister-sable-the-mad-queen-1_54/index.html\n",
      "Book: <h3><a href=\"shatter-me-shatter-me-1_53/index.html\" title=\"Shatter Me (Shatter Me #1)\">Shatter Me (Shatter Me ...</a></h3> at shatter-me-shatter-me-1_53/index.html\n",
      "Book: <h3><a href=\"shameless_52/index.html\" title=\"Shameless\">Shameless</a></h3> at shameless_52/index.html\n",
      "Book: <h3><a href=\"shadow-rites-jane-yellowrock-10_51/index.html\" title=\"Shadow Rites (Jane Yellowrock #10)\">Shadow Rites (Jane Yellowrock ...</a></h3> at shadow-rites-jane-yellowrock-10_51/index.html\n",
      "Book: <h3><a href=\"settling-the-score-the-summer-games-1_50/index.html\" title=\"Settling the Score (The Summer Games #1)\">Settling the Score (The ...</a></h3> at settling-the-score-the-summer-games-1_50/index.html\n",
      "Book: <h3><a href=\"sense-and-sensibility_49/index.html\" title=\"Sense and Sensibility\">Sense and Sensibility</a></h3> at sense-and-sensibility_49/index.html\n",
      "Book: <h3><a href=\"saga-volume-1-saga-collected-editions-1_48/index.html\" title=\"Saga, Volume 1 (Saga (Collected Editions) #1)\">Saga, Volume 1 (Saga ...</a></h3> at saga-volume-1-saga-collected-editions-1_48/index.html\n",
      "Book: <h3><a href=\"rhythm-chord-malykhin_47/index.html\" title=\"Rhythm, Chord &amp; Malykhin\">Rhythm, Chord &amp; Malykhin</a></h3> at rhythm-chord-malykhin_47/index.html\n",
      "Book: <h3><a href=\"rat-queens-vol-1-sass-sorcery-rat-queens-collected-editions-1-5_46/index.html\" title=\"Rat Queens, Vol. 1: Sass &amp; Sorcery (Rat Queens (Collected Editions) #1-5)\">Rat Queens, Vol. 1: ...</a></h3> at rat-queens-vol-1-sass-sorcery-rat-queens-collected-editions-1-5_46/index.html\n",
      "Book: <h3><a href=\"paradise-lost-paradise-1_45/index.html\" title=\"Paradise Lost (Paradise #1)\">Paradise Lost (Paradise #1)</a></h3> at paradise-lost-paradise-1_45/index.html\n",
      "Book: <h3><a href=\"paper-girls-vol-1-paper-girls-1-5_44/index.html\" title=\"Paper Girls, Vol. 1 (Paper Girls #1-5)\">Paper Girls, Vol. 1 ...</a></h3> at paper-girls-vol-1-paper-girls-1-5_44/index.html\n",
      "Book: <h3><a href=\"ouran-high-school-host-club-vol-1-ouran-high-school-host-club-1_43/index.html\" title=\"Ouran High School Host Club, Vol. 1 (Ouran High School Host Club #1)\">Ouran High School Host ...</a></h3> at ouran-high-school-host-club-vol-1-ouran-high-school-host-club-1_43/index.html\n",
      "Book: <h3><a href=\"origins-alphas-05_42/index.html\" title=\"Origins (Alphas 0.5)\">Origins (Alphas 0.5)</a></h3> at origins-alphas-05_42/index.html\n",
      "Book: <h3><a href=\"one-second-seven-7_41/index.html\" title=\"One Second (Seven #7)\">One Second (Seven #7)</a></h3> at one-second-seven-7_41/index.html\n",
      "Book: <h3><a href=\"on-the-road-duluoz-legend_40/index.html\" title=\"On the Road (Duluoz Legend)\">On the Road (Duluoz ...</a></h3> at on-the-road-duluoz-legend_40/index.html\n",
      "Book: <h3><a href=\"old-records-never-die-one-mans-quest-for-his-vinyl-and-his-past_39/index.html\" title=\"Old Records Never Die: One Man's Quest for His Vinyl and His Past\">Old Records Never Die: ...</a></h3> at old-records-never-die-one-mans-quest-for-his-vinyl-and-his-past_39/index.html\n",
      "Book: <h3><a href=\"off-sides-off-1_38/index.html\" title=\"Off Sides (Off #1)\">Off Sides (Off #1)</a></h3> at off-sides-off-1_38/index.html\n",
      "Book: <h3><a href=\"of-mice-and-men_37/index.html\" title=\"Of Mice and Men\">Of Mice and Men</a></h3> at of-mice-and-men_37/index.html\n",
      "Book: <h3><a href=\"myriad-prentor-1_36/index.html\" title=\"Myriad (Prentor #1)\">Myriad (Prentor #1)</a></h3> at myriad-prentor-1_36/index.html\n",
      "Book: <h3><a href=\"my-perfect-mistake-over-the-top-1_35/index.html\" title=\"My Perfect Mistake (Over the Top #1)\">My Perfect Mistake (Over ...</a></h3> at my-perfect-mistake-over-the-top-1_35/index.html\n",
      "Book: <h3><a href=\"ms-marvel-vol-1-no-normal-ms-marvel-2014-2015-1_34/index.html\" title=\"Ms. Marvel, Vol. 1: No Normal (Ms. Marvel (2014-2015) #1)\">Ms. Marvel, Vol. 1: ...</a></h3> at ms-marvel-vol-1-no-normal-ms-marvel-2014-2015-1_34/index.html\n",
      "Book: <h3><a href=\"meditations_33/index.html\" title=\"Meditations\">Meditations</a></h3> at meditations_33/index.html\n",
      "Book: <h3><a href=\"matilda_32/index.html\" title=\"Matilda\">Matilda</a></h3> at matilda_32/index.html\n",
      "Book: <h3><a href=\"lost-among-the-living_31/index.html\" title=\"Lost Among the Living\">Lost Among the Living</a></h3> at lost-among-the-living_31/index.html\n",
      "Book: <h3><a href=\"lord-of-the-flies_30/index.html\" title=\"Lord of the Flies\">Lord of the Flies</a></h3> at lord-of-the-flies_30/index.html\n",
      "Book: <h3><a href=\"listen-to-me-fusion-1_29/index.html\" title=\"Listen to Me (Fusion #1)\">Listen to Me (Fusion ...</a></h3> at listen-to-me-fusion-1_29/index.html\n",
      "Book: <h3><a href=\"kitchens-of-the-great-midwest_28/index.html\" title=\"Kitchens of the Great Midwest\">Kitchens of the Great ...</a></h3> at kitchens-of-the-great-midwest_28/index.html\n",
      "Book: <h3><a href=\"jane-eyre_27/index.html\" title=\"Jane Eyre\">Jane Eyre</a></h3> at jane-eyre_27/index.html\n",
      "Book: <h3><a href=\"imperfect-harmony_26/index.html\" title=\"Imperfect Harmony\">Imperfect Harmony</a></h3> at imperfect-harmony_26/index.html\n",
      "Book: <h3><a href=\"icing-aces-hockey-2_25/index.html\" title=\"Icing (Aces Hockey #2)\">Icing (Aces Hockey #2)</a></h3> at icing-aces-hockey-2_25/index.html\n",
      "Book: <h3><a href=\"hawkeye-vol-1-my-life-as-a-weapon-hawkeye-1_24/index.html\" title=\"Hawkeye, Vol. 1: My Life as a Weapon (Hawkeye #1)\">Hawkeye, Vol. 1: My ...</a></h3> at hawkeye-vol-1-my-life-as-a-weapon-hawkeye-1_24/index.html\n",
      "Book: <h3><a href=\"having-the-barbarians-baby-ice-planet-barbarians-75_23/index.html\" title=\"Having the Barbarian's Baby (Ice Planet Barbarians #7.5)\">Having the Barbarian's Baby ...</a></h3> at having-the-barbarians-baby-ice-planet-barbarians-75_23/index.html\n",
      "Book: <h3><a href=\"giant-days-vol-1-giant-days-1-4_22/index.html\" title=\"Giant Days, Vol. 1 (Giant Days #1-4)\">Giant Days, Vol. 1 ...</a></h3> at giant-days-vol-1-giant-days-1-4_22/index.html\n",
      "Book: <h3><a href=\"fruits-basket-vol-1-fruits-basket-1_21/index.html\" title=\"Fruits Basket, Vol. 1 (Fruits Basket #1)\">Fruits Basket, Vol. 1 ...</a></h3> at fruits-basket-vol-1-fruits-basket-1_21/index.html\n",
      "Book: <h3><a href=\"frankenstein_20/index.html\" title=\"Frankenstein\">Frankenstein</a></h3> at frankenstein_20/index.html\n",
      "Book: <h3><a href=\"forever-rockers-the-rocker-12_19/index.html\" title=\"Forever Rockers (The Rocker #12)\">Forever Rockers (The Rocker ...</a></h3> at forever-rockers-the-rocker-12_19/index.html\n",
      "Book: <h3><a href=\"fighting-fate-fighting-6_18/index.html\" title=\"Fighting Fate (Fighting #6)\">Fighting Fate (Fighting #6)</a></h3> at fighting-fate-fighting-6_18/index.html\n",
      "Book: <h3><a href=\"emma_17/index.html\" title=\"Emma\">Emma</a></h3> at emma_17/index.html\n",
      "Book: <h3><a href=\"eat-pray-love_16/index.html\" title=\"Eat, Pray, Love\">Eat, Pray, Love</a></h3> at eat-pray-love_16/index.html\n",
      "Book: <h3><a href=\"deep-under-walker-security-1_15/index.html\" title=\"Deep Under (Walker Security #1)\">Deep Under (Walker Security ...</a></h3> at deep-under-walker-security-1_15/index.html\n",
      "Book: <h3><a href=\"choosing-our-religion-the-spiritual-lives-of-americas-nones_14/index.html\" title=\"Choosing Our Religion: The Spiritual Lives of America's Nones\">Choosing Our Religion: The ...</a></h3> at choosing-our-religion-the-spiritual-lives-of-americas-nones_14/index.html\n",
      "Book: <h3><a href=\"charlie-and-the-chocolate-factory-charlie-bucket-1_13/index.html\" title=\"Charlie and the Chocolate Factory (Charlie Bucket #1)\">Charlie and the Chocolate ...</a></h3> at charlie-and-the-chocolate-factory-charlie-bucket-1_13/index.html\n",
      "Book: <h3><a href=\"charitys-cross-charles-towne-belles-4_12/index.html\" title=\"Charity's Cross (Charles Towne Belles #4)\">Charity's Cross (Charles Towne ...</a></h3> at charitys-cross-charles-towne-belles-4_12/index.html\n",
      "Book: <h3><a href=\"bright-lines_11/index.html\" title=\"Bright Lines\">Bright Lines</a></h3> at bright-lines_11/index.html\n",
      "Book: <h3><a href=\"bridget-joness-diary-bridget-jones-1_10/index.html\" title=\"Bridget Jones's Diary (Bridget Jones #1)\">Bridget Jones's Diary (Bridget ...</a></h3> at bridget-joness-diary-bridget-jones-1_10/index.html\n",
      "Book: <h3><a href=\"bounty-colorado-mountain-7_9/index.html\" title=\"Bounty (Colorado Mountain #7)\">Bounty (Colorado Mountain #7)</a></h3> at bounty-colorado-mountain-7_9/index.html\n",
      "Book: <h3><a href=\"blood-defense-samantha-brinkman-1_8/index.html\" title=\"Blood Defense (Samantha Brinkman #1)\">Blood Defense (Samantha Brinkman ...</a></h3> at blood-defense-samantha-brinkman-1_8/index.html\n",
      "Book: <h3><a href=\"bleach-vol-1-strawberry-and-the-soul-reapers-bleach-1_7/index.html\" title=\"Bleach, Vol. 1: Strawberry and the Soul Reapers (Bleach #1)\">Bleach, Vol. 1: Strawberry ...</a></h3> at bleach-vol-1-strawberry-and-the-soul-reapers-bleach-1_7/index.html\n",
      "Book: <h3><a href=\"beyond-good-and-evil_6/index.html\" title=\"Beyond Good and Evil\">Beyond Good and Evil</a></h3> at beyond-good-and-evil_6/index.html\n",
      "Book: <h3><a href=\"alice-in-wonderland-alices-adventures-in-wonderland-1_5/index.html\" title=\"Alice in Wonderland (Alice's Adventures in Wonderland #1)\">Alice in Wonderland (Alice's ...</a></h3> at alice-in-wonderland-alices-adventures-in-wonderland-1_5/index.html\n",
      "Book: <h3><a href=\"ajin-demi-human-volume-1-ajin-demi-human-1_4/index.html\" title=\"Ajin: Demi-Human, Volume 1 (Ajin: Demi-Human #1)\">Ajin: Demi-Human, Volume 1 ...</a></h3> at ajin-demi-human-volume-1-ajin-demi-human-1_4/index.html\n",
      "Book: <h3><a href=\"a-spys-devotion-the-regency-spies-of-london-1_3/index.html\" title=\"A Spy's Devotion (The Regency Spies of London #1)\">A Spy's Devotion (The ...</a></h3> at a-spys-devotion-the-regency-spies-of-london-1_3/index.html\n",
      "Book: <h3><a href=\"1st-to-die-womens-murder-club-1_2/index.html\" title=\"1st to Die (Women's Murder Club #1)\">1st to Die (Women's ...</a></h3> at 1st-to-die-womens-murder-club-1_2/index.html\n",
      "Book: <h3><a href=\"1000-places-to-see-before-you-die_1/index.html\" title=\"1,000 Places to See Before You Die\">1,000 Places to See ...</a></h3> at 1000-places-to-see-before-you-die_1/index.html\n",
      "No more next buttons\n"
     ]
    }
   ],
   "source": [
    "# Iterate through all pages\n",
    "for x in range(50):\n",
    "\n",
    "    # HTML object\n",
    "    html_object = browser.html\n",
    "    \n",
    "    # Parse HTML with Beautiful Soup\n",
    "    soup = BeautifulSoup(html_object, 'html.parser')\n",
    "    \n",
    "    # Retrieve all elements that contain book information\n",
    "    # h3 tag has book name\n",
    "    # p class price has book price\n",
    "    # link is under h3 tag (a href)\n",
    "    # all under article class product_pod\n",
    "    elements = soup.find_all('article', class_='product_pod')\n",
    "\n",
    "    # Iterate through each book\n",
    "    for tag in elements:\n",
    "        book_name = tag.find('h3')\n",
    "        link = book_name.find('a')\n",
    "        link_target = link['href']\n",
    "        link_title = link['title']\n",
    "\n",
    "        print(f'Book: {book_name} at {link_target}')\n",
    "\n",
    "    # Click the 'Next' button on each page\n",
    "    try:\n",
    "        browser.links.find_by_partial_text('next').click()\n",
    "    except:\n",
    "        print(\"No more next buttons\")"
   ]
  },
  {
   "cell_type": "code",
   "execution_count": null,
   "metadata": {},
   "outputs": [],
   "source": []
  }
 ],
 "metadata": {
  "kernelspec": {
   "name": "python3",
   "display_name": "Python 3.7.10 64-bit ('PythonData': conda)"
  },
  "language_info": {
   "codemirror_mode": {
    "name": "ipython",
    "version": 3
   },
   "file_extension": ".py",
   "mimetype": "text/x-python",
   "name": "python",
   "nbconvert_exporter": "python",
   "pygments_lexer": "ipython3",
   "version": "3.7.10"
  },
  "varInspector": {
   "cols": {
    "lenName": 16,
    "lenType": 16,
    "lenVar": 40
   },
   "kernels_config": {
    "python": {
     "delete_cmd_postfix": "",
     "delete_cmd_prefix": "del ",
     "library": "var_list.py",
     "varRefreshCmd": "print(var_dic_list())"
    },
    "r": {
     "delete_cmd_postfix": ") ",
     "delete_cmd_prefix": "rm(",
     "library": "var_list.r",
     "varRefreshCmd": "cat(var_dic_list()) "
    }
   },
   "types_to_exclude": [
    "module",
    "function",
    "builtin_function_or_method",
    "instance",
    "_Feature"
   ],
   "window_display": false
  },
  "interpreter": {
   "hash": "acda147c8dd3b8f0274d48e33490c3394fd067fdf96c410e3ee71258c53f02eb"
  }
 },
 "nbformat": 4,
 "nbformat_minor": 2
}