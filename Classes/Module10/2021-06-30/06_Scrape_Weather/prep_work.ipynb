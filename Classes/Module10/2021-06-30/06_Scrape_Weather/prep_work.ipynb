{
 "metadata": {
  "language_info": {
   "codemirror_mode": {
    "name": "ipython",
    "version": 3
   },
   "file_extension": ".py",
   "mimetype": "text/x-python",
   "name": "python",
   "nbconvert_exporter": "python",
   "pygments_lexer": "ipython3",
   "version": "3.7.10"
  },
  "orig_nbformat": 4,
  "kernelspec": {
   "name": "python3",
   "display_name": "Python 3.7.10 64-bit ('PythonData': conda)"
  },
  "interpreter": {
   "hash": "acda147c8dd3b8f0274d48e33490c3394fd067fdf96c410e3ee71258c53f02eb"
  }
 },
 "nbformat": 4,
 "nbformat_minor": 2,
 "cells": [
  {
   "cell_type": "code",
   "execution_count": 29,
   "metadata": {},
   "outputs": [],
   "source": [
    "from splinter import Browser\n",
    "from bs4 import BeautifulSoup as soup\n",
    "import time\n",
    "from webdriver_manager.chrome import ChromeDriverManager"
   ]
  },
  {
   "cell_type": "code",
   "execution_count": 30,
   "metadata": {},
   "outputs": [
    {
     "output_type": "stream",
     "name": "stderr",
     "text": [
      "\n",
      "\n",
      "====== WebDriver manager ======\n",
      "Current google-chrome version is 91.0.4472\n",
      "Get LATEST driver version for 91.0.4472\n",
      "Driver [C:\\Users\\mrm\\.wdm\\drivers\\chromedriver\\win32\\91.0.4472.101\\chromedriver.exe] found in cache\n"
     ]
    }
   ],
   "source": [
    "executable_path = {'executable_path': ChromeDriverManager().install()}\n",
    "browser = Browser('chrome', **executable_path, headless=True) # changed from False..."
   ]
  },
  {
   "cell_type": "code",
   "execution_count": 31,
   "metadata": {},
   "outputs": [],
   "source": [
    "url = \"https://visitcostarica.herokuapp.com/\"\n",
    "browser.visit(url)"
   ]
  },
  {
   "cell_type": "code",
   "execution_count": 32,
   "metadata": {},
   "outputs": [
    {
     "output_type": "execute_result",
     "data": {
      "text/plain": [
       "<html lang=\"en\"><head>\n",
       "<meta charset=\"utf-8\"/>\n",
       "<meta content=\"width=device-width, initial-scale=1.0\" name=\"viewport\"/>\n",
       "<meta content=\"ie=edge\" http-equiv=\"X-UA-Compatible\"/>\n",
       "<title>Costa Rica</title>\n",
       "<link crossorigin=\"anonymous\" href=\"https://maxcdn.bootstrapcdn.com/bootstrap/4.0.0/css/bootstrap.min.css\" integrity=\"sha384-Gn5384xqQ1aoWXA+058RXPxPg6fy4IWvTNh0E263XmFcJlSAwiGgFAW/dAiS6JXm\" rel=\"stylesheet\"/>\n",
       "<link href=\"https://fonts.googleapis.com/css?family=Acme|Dancing+Script\" rel=\"stylesheet\"/>\n",
       "<link crossorigin=\"anonymous\" href=\"https://use.fontawesome.com/releases/v5.4.1/css/all.css\" integrity=\"sha384-5sAR7xN1Nv6T6+dT2mhtzEpVJvfS3NScPQTrOxhwjIuvcA67KV2R5Jz6kr4abQsz\" rel=\"stylesheet\"/>\n",
       "<style>\n",
       "    .jumbotron {\n",
       "      background-image: linear-gradient(to bottom right, rgb(51, 96, 245), rgb(108, 249, 249));\n",
       "    }\n",
       "    h1 {\n",
       "      font-family: 'Acme', sans-serif;\n",
       "    }\n",
       "    .img-fluid {\n",
       "      width: 100%;\n",
       "    }\n",
       "    .animals {\n",
       "      height: 250px;\n",
       "    }\n",
       "    .googleFont {\n",
       "      font-family: 'Dancing Script', cursive;\n",
       "    }\n",
       "    .ml-auto {\n",
       "      left: auto !important;\n",
       "      right: 0px;\n",
       "    }\n",
       "    .fas {\n",
       "      color: rgb(123, 167, 233);\n",
       "      border: 3px solid rgb(123, 167, 233);\n",
       "      padding: 15 18;\n",
       "      border-radius: 50%;\n",
       "    }\n",
       "  </style>\n",
       "</head>\n",
       "<body>\n",
       "<!-- Nav Bar -->\n",
       "<nav class=\"navbar sticky-top navbar-expand-lg navbar-light bg-light\">\n",
       "<a class=\"navbar-brand\" href=\"#\">Visit Costa Rica</a>\n",
       "<button aria-controls=\"navbarText\" aria-expanded=\"false\" aria-label=\"Toggle navigation\" class=\"navbar-toggler\" data-target=\"#navbarText\" data-toggle=\"collapse\" type=\"button\">\n",
       "<span class=\"navbar-toggler-icon\"></span>\n",
       "</button>\n",
       "<div class=\"collapse navbar-collapse\" id=\"navbarText\">\n",
       "<ul class=\"navbar-nav mr-auto\">\n",
       "<li class=\"nav-item\">\n",
       "<a class=\"nav-link\" href=\"#info\">Info</a>\n",
       "</li>\n",
       "<li class=\"nav-item\">\n",
       "<a class=\"nav-link\" href=\"#images\">Images</a>\n",
       "</li>\n",
       "<li class=\"nav-item\">\n",
       "<a class=\"nav-link\" href=\"#weather\">Weather</a>\n",
       "</li>\n",
       "<li class=\"nav-item\">\n",
       "<a class=\"nav-link\" href=\"#todo\">To-Dos</a>\n",
       "</li>\n",
       "</ul>\n",
       "</div>\n",
       "</nav>\n",
       "<!-- Jumbotron -->\n",
       "<div class=\"jumbotron jumbotron-fluid\">\n",
       "<div class=\"container\" style=\"text-align: center;\">\n",
       "<h1 class=\"display-4\">Costa Rica</h1>\n",
       "<p class=\"lead\">Vacation. Retire. <span class=\"googleFont\">Live.</span></p>\n",
       "</div>\n",
       "</div>\n",
       "<!-- Page content -->\n",
       "<div class=\"container\">\n",
       "<div class=\"row\" style=\"margin-bottom: 30px;\">\n",
       "<div class=\"col-md-6\">\n",
       "<img alt=\"Costa Rica\" class=\"img-fluid\" src=\"Images/map.png\"/>\n",
       "</div>\n",
       "<div class=\"info col-md-6\">\n",
       "<p>Costa Rica is one of only five countries located within a <a href=\"https://singularityhub.com/2009/07/20/blue-zones-places-in-the-world-where-people-live-to-100-and-stay-healthy/#sm.00001vijulrlyve00y9ky62o4ile5\">Blue\n",
       "            Zone</a>. This Caribbean country boasts friendly locals, beautiful beaches, and comfortable (if maybe wet\n",
       "            some months) weather year-round.</p>\n",
       "<p>\n",
       "            Aside from the obvious, what <strong>exactly</strong> is there to do while visiting? Plenty! There\n",
       "            are day and multi-day trips available to visit volcanoes, tours centered around local food and drink, shore\n",
       "            excursions into rainforests or Costa Rican countryside, and waterfalls and beaches everywhere. </p>\n",
       "</div>\n",
       "</div>\n",
       "<!-- Image list -->\n",
       "<div class=\"row\" id=\"images\" style=\"margin-bottom: 30px;\">\n",
       "<div class=\"col-md-4\">\n",
       "<img alt=\"Image 1\" class=\"img-fluid animals\" src=\"Images/macaws.jpeg\"/>\n",
       "</div>\n",
       "<div class=\"col-md-4\">\n",
       "<img alt=\"Image 2\" class=\"img-fluid animals\" src=\"Images/sloth.jpeg\"/>\n",
       "</div>\n",
       "<div class=\"col-md-4\">\n",
       "<img alt=\"Image 3\" class=\"img-fluid animals\" src=\"Images/toucan.jpeg\"/>\n",
       "</div>\n",
       "</div>\n",
       "<!-- Weather -->\n",
       "<div class=\"row\">\n",
       "<div class=\"col-md-6\" id=\"weather\">\n",
       "<h4>Costa Rican Weather</h4>\n",
       "<p>The weather in Costa Rica is one of the many appealing aspects of the country. The climate is considered both tropical\n",
       "            and subtropical, with the dry season from December to April and the rainy season from May to November. <br/><br/>Don't\n",
       "            let the rain deter you, though! Even with the extra moisture, the temperature rarely goes below <strong>63°F</strong> or above <strong>84°</strong> year-round.</p>\n",
       "</div>\n",
       "<!-- To-do list -->\n",
       "<div class=\"col-md-6\" id=\"todo\">\n",
       "<h4>To-Do List</h4>\n",
       "<p>Here are some popular attractions to add to (or check off of) your to-do list while visiting:</p>\n",
       "<ul class=\"list-group list-group-flush\">\n",
       "<li class=\"list-group-item\">Go for a swim in the Caribbean Sea! Or the Pacific. Maybe both! </li>\n",
       "<li class=\"list-group-item\">Take a selfie with a sloth while on a rainforest tour</li>\n",
       "<li class=\"list-group-item\">Explore a giant tree house in the Gandoca Manzanillo Wildlife Refuge</li>\n",
       "<li class=\"list-group-item\">Visit the Hanging Bridges on your way to Arenal Volcano</li>\n",
       "<li class=\"list-group-item\">Eat all the food</li>\n",
       "</ul>\n",
       "</div>\n",
       "</div>\n",
       "<!-- Footer -->\n",
       "<nav class=\"navbar navbar-transparent\">\n",
       "<ul class=\"navbar-nav ml-auto\">\n",
       "<li class=\"nav-item\">\n",
       "<a class=\"to-top\" href=\"#\"><i class=\"fas fa-angle-double-up\"></i></a>\n",
       "</li>\n",
       "</ul>\n",
       "</nav>\n",
       "</div>\n",
       "<!-- JavaScript and jQuery -->\n",
       "<script crossorigin=\"anonymous\" integrity=\"sha384-KJ3o2DKtIkvYIK3UENzmM7KCkRr/rE9/Qpg6aAZGJwFDMVNA/GpGFF93hXpG5KkN\" src=\"https://code.jquery.com/jquery-3.2.1.slim.min.js\"></script>\n",
       "<script crossorigin=\"anonymous\" integrity=\"sha384-ApNbgh9B+Y1QKtv3Rn7W3mgPxhU9K/ScQsAP7hUibX39j7fakFPskvXusvfa0b4Q\" src=\"https://cdnjs.cloudflare.com/ajax/libs/popper.js/1.12.9/umd/popper.min.js\"></script>\n",
       "<script crossorigin=\"anonymous\" integrity=\"sha384-JZR6Spejh4U02d8jOt6vLEHfe/JQGiRRSQQxSfFWpi1MquVdAyjUar5+76PVCmYl\" src=\"https://maxcdn.bootstrapcdn.com/bootstrap/4.0.0/js/bootstrap.min.js\"></script>\n",
       "</body></html>"
      ]
     },
     "metadata": {},
     "execution_count": 32
    }
   ],
   "source": [
    "cr_html = browser.html\n",
    "cr_soup = soup(cr_html, 'html.parser')\n",
    "# cr_soup"
   ]
  },
  {
   "cell_type": "code",
   "execution_count": 33,
   "metadata": {},
   "outputs": [
    {
     "output_type": "execute_result",
     "data": {
      "text/plain": [
       "[<strong>exactly</strong>, <strong>63°F</strong>, <strong>84°</strong>]"
      ]
     },
     "metadata": {},
     "execution_count": 33
    }
   ],
   "source": [
    "weather_element = cr_soup.find_all('strong')\n",
    "weather_element"
   ]
  },
  {
   "cell_type": "code",
   "execution_count": 34,
   "metadata": {},
   "outputs": [],
   "source": [
    "rarely_below = weather_element[1].text\n",
    "rarely_above = weather_element[2].text"
   ]
  },
  {
   "cell_type": "code",
   "execution_count": 35,
   "metadata": {},
   "outputs": [
    {
     "output_type": "execute_result",
     "data": {
      "text/plain": [
       "('84°', '63°F')"
      ]
     },
     "metadata": {},
     "execution_count": 35
    }
   ],
   "source": [
    "rarely_above, rarely_below"
   ]
  },
  {
   "cell_type": "code",
   "execution_count": 41,
   "metadata": {},
   "outputs": [
    {
     "output_type": "execute_result",
     "data": {
      "text/plain": [
       "'Images/sloth.jpeg'"
      ]
     },
     "metadata": {},
     "execution_count": 41
    }
   ],
   "source": [
    "sloth_img = cr_soup.find_all('img', class_='img-fluid animals')[1]['src']\n",
    "sloth_img"
   ]
  },
  {
   "cell_type": "code",
   "execution_count": null,
   "metadata": {},
   "outputs": [],
   "source": []
  }
 ]
}