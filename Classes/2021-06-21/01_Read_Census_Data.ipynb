{
 "cells": [
  {
   "cell_type": "code",
   "execution_count": 1,
   "metadata": {},
   "outputs": [],
   "source": [
    "# SQLAlchemy\n",
    "from sqlalchemy import create_engine\n",
    "from sqlalchemy import inspect\n",
    "# Pandas\n",
    "import pandas as pd\n",
    "\n",
    "import os\n",
    "\n",
    "# Path to sqlite\n",
    "# database_path = \"../Resources/Census_Data.sqlite\"\n",
    "database_path = os.path.join(\"Resources\", \"Census_Data.sqlite\")"
   ]
  },
  {
   "cell_type": "code",
   "execution_count": 2,
   "metadata": {},
   "outputs": [],
   "source": [
    "# Create an engine that can talk to the database\n",
    "engine = create_engine(f\"sqlite:///{database_path}\")"
   ]
  },
  {
   "cell_type": "code",
   "execution_count": 6,
   "metadata": {},
   "outputs": [
    {
     "output_type": "execute_result",
     "data": {
      "text/plain": [
       "['Census_Data']"
      ]
     },
     "metadata": {},
     "execution_count": 6
    }
   ],
   "source": [
    "# Get the name of the table. \n",
    "inspector = inspect(engine)\n",
    "inspector.get_table_names()"
   ]
  },
  {
   "cell_type": "code",
   "execution_count": 8,
   "metadata": {
    "scrolled": false
   },
   "outputs": [
    {
     "output_type": "stream",
     "name": "stdout",
     "text": [
      "{'name': 'CityState', 'type': TEXT(), 'nullable': True, 'default': None, 'autoincrement': 'auto', 'primary_key': 0}\n{'name': 'city', 'type': TEXT(), 'nullable': True, 'default': None, 'autoincrement': 'auto', 'primary_key': 0}\n{'name': 'state', 'type': TEXT(), 'nullable': True, 'default': None, 'autoincrement': 'auto', 'primary_key': 0}\n{'name': 'Population', 'type': INTEGER(), 'nullable': True, 'default': 'NULL', 'autoincrement': 'auto', 'primary_key': 0}\n{'name': 'White Population', 'type': INTEGER(), 'nullable': True, 'default': 'NULL', 'autoincrement': 'auto', 'primary_key': 0}\n{'name': 'Black Population', 'type': INTEGER(), 'nullable': True, 'default': 'NULL', 'autoincrement': 'auto', 'primary_key': 0}\n{'name': 'Native American Population', 'type': INTEGER(), 'nullable': True, 'default': 'NULL', 'autoincrement': 'auto', 'primary_key': 0}\n{'name': 'Asian Population', 'type': INTEGER(), 'nullable': True, 'default': 'NULL', 'autoincrement': 'auto', 'primary_key': 0}\n{'name': 'Hispanic Population', 'type': INTEGER(), 'nullable': True, 'default': 'NULL', 'autoincrement': 'auto', 'primary_key': 0}\n{'name': 'Education None', 'type': INTEGER(), 'nullable': True, 'default': 'NULL', 'autoincrement': 'auto', 'primary_key': 0}\n{'name': 'Education High School', 'type': INTEGER(), 'nullable': True, 'default': 'NULL', 'autoincrement': 'auto', 'primary_key': 0}\n{'name': 'Education GED', 'type': INTEGER(), 'nullable': True, 'default': 'NULL', 'autoincrement': 'auto', 'primary_key': 0}\n{'name': 'Education Associates', 'type': INTEGER(), 'nullable': True, 'default': 'NULL', 'autoincrement': 'auto', 'primary_key': 0}\n{'name': 'Education Bachelors', 'type': INTEGER(), 'nullable': True, 'default': 'NULL', 'autoincrement': 'auto', 'primary_key': 0}\n{'name': 'Education Masters', 'type': INTEGER(), 'nullable': True, 'default': 'NULL', 'autoincrement': 'auto', 'primary_key': 0}\n{'name': 'Education Professional', 'type': INTEGER(), 'nullable': True, 'default': 'NULL', 'autoincrement': 'auto', 'primary_key': 0}\n{'name': 'Education Doctorate', 'type': INTEGER(), 'nullable': True, 'default': 'NULL', 'autoincrement': 'auto', 'primary_key': 0}\n{'name': 'Poverty', 'type': INTEGER(), 'nullable': True, 'default': 'NULL', 'autoincrement': 'auto', 'primary_key': 0}\n{'name': 'Employment Labor Force', 'type': INTEGER(), 'nullable': True, 'default': 'NULL', 'autoincrement': 'auto', 'primary_key': 0}\n{'name': 'Employment Unemployed', 'type': INTEGER(), 'nullable': True, 'default': 'NULL', 'autoincrement': 'auto', 'primary_key': 0}\n{'name': 'Employment Male Computer Engineering', 'type': INTEGER(), 'nullable': True, 'default': 'NULL', 'autoincrement': 'auto', 'primary_key': 0}\n{'name': 'Employment Female Computer Engineering', 'type': INTEGER(), 'nullable': True, 'default': 'NULL', 'autoincrement': 'auto', 'primary_key': 0}\n{'name': 'Median Age', 'type': FLOAT(), 'nullable': True, 'default': 'NULL', 'autoincrement': 'auto', 'primary_key': 0}\n{'name': 'Median Male Age', 'type': FLOAT(), 'nullable': True, 'default': 'NULL', 'autoincrement': 'auto', 'primary_key': 0}\n{'name': 'Median Female Age', 'type': FLOAT(), 'nullable': True, 'default': 'NULL', 'autoincrement': 'auto', 'primary_key': 0}\n{'name': 'Household Income', 'type': FLOAT(), 'nullable': True, 'default': 'NULL', 'autoincrement': 'auto', 'primary_key': 0}\n{'name': 'Income Per Capita', 'type': FLOAT(), 'nullable': True, 'default': 'NULL', 'autoincrement': 'auto', 'primary_key': 0}\n{'name': 'Median Gross Rent', 'type': FLOAT(), 'nullable': True, 'default': 'NULL', 'autoincrement': 'auto', 'primary_key': 0}\n{'name': 'Median Home Value', 'type': FLOAT(), 'nullable': True, 'default': 'NULL', 'autoincrement': 'auto', 'primary_key': 0}\n{'name': 'lat', 'type': FLOAT(), 'nullable': True, 'default': 'NULL', 'autoincrement': 'auto', 'primary_key': 0}\n{'name': 'lng', 'type': FLOAT(), 'nullable': True, 'default': 'NULL', 'autoincrement': 'auto', 'primary_key': 0}\n"
     ]
    }
   ],
   "source": [
    "# Using the inspector to print the column names within the 'Census_Data' table and its types\n",
    "columns = inspector.get_columns('Census_Data')\n",
    "for column in columns:\n",
    "    print(column)"
   ]
  },
  {
   "cell_type": "code",
   "execution_count": 10,
   "metadata": {},
   "outputs": [
    {
     "output_type": "stream",
     "name": "stdout",
     "text": [
      "CityState\ncity\nstate\nPopulation\nWhite Population\nBlack Population\nNative American Population\nAsian Population\nHispanic Population\nEducation None\nEducation High School\nEducation GED\nEducation Associates\nEducation Bachelors\nEducation Masters\nEducation Professional\nEducation Doctorate\nPoverty\nEmployment Labor Force\nEmployment Unemployed\nEmployment Male Computer Engineering\nEmployment Female Computer Engineering\nMedian Age\nMedian Male Age\nMedian Female Age\nHousehold Income\nIncome Per Capita\nMedian Gross Rent\nMedian Home Value\nlat\nlng\n"
     ]
    }
   ],
   "source": [
    "# Get the column names for the table\n",
    "for column in columns:\n",
    "    print(column[\"name\"])"
   ]
  },
  {
   "cell_type": "code",
   "execution_count": 11,
   "metadata": {
    "tags": [
     "outputPrepend"
    ]
   },
   "outputs": [
    {
     "output_type": "stream",
     "name": "stdout",
     "text": [
      "H', 'NEWARK', 'OH', 60866, 56208, 1750, 59, 331, 636, 333, 14138, 2065, 3451, 4701, 1663, 271, 206, 12067, 30425, 2603, 829, 306, 37.7, 35.5, 40.1, 41367.0, 22866.0, 684.0, 121500.0, 40.119897, -82.377784)\n",
      "('AUBURN, AL', 'AUBURN', 'AL', 60814, 41754, 13250, 67, 4166, 2669, 186, 3875, 720, 1755, 8976, 4452, 985, 2285, 19136, 31630, 2165, 1362, 640, 25.95, 24.95, 27.45, 36586.5, 24885.0, 807.5, 168150.0, 32.5609335, -85.5392915)\n",
      "('CARROLLTON, GA', 'CARROLLTON', 'GA', 60772, 44745, 12385, 229, 671, 5050, 788, 9471, 2529, 1890, 4550, 1771, 601, 504, 13361, 28482, 3399, 594, 189, 28.73333333, 28.33333333, 29.03333333, 41364.5, 15286.66667, 810.5, 114750.0, 33.564943, -85.07971367)\n",
      "('WILSON, NC', 'WILSON', 'NC', 60753, 27757, 26080, 337, 725, 6294, 714, 10018, 1998, 3544, 5685, 2108, 257, 239, 14815, 28423, 3165, 565, 336, 38.45, 37.0, 39.85, 44250.0, 23110.5, 767.5, 129850.0, 35.739857, -77.9367045)\n",
      "('RIVERDALE, GA', 'RIVERDALE', 'GA', 60738, 7745, 47615, 276, 2807, 5677, 585, 10491, 1213, 3720, 4790, 1852, 327, 240, 13862, 32132, 4787, 239, 343, 33.5, 30.75, 36.4, 43745.0, 18987.5, 992.5, 78900.0, 33.558873, -84.420419)\n",
      "('MALDEN, MA', 'MALDEN', 'MA', 60725, 32848, 8863, 112, 14820, 6246, 1149, 11640, 1217, 2964, 7861, 4696, 731, 861, 9480, 35317, 3407, 2435, 717, 35.7, 35.0, 36.7, 54883.0, 26574.0, 1288.0, 330000.0, 42.42938, -71.058706)\n",
      "('GRIFFIN, GA', 'GRIFFIN', 'GA', 60719, 37710, 20452, 255, 647, 2255, 781, 11676, 3076, 2494, 4126, 1423, 670, 364, 13860, 25261, 3081, 539, 108, 38.6, 36.35, 40.25, 39780.0, 20317.5, 792.5, 115350.0, 33.246647, -84.259825)\n",
      "('LUTZ, FL', 'LUTZ', 'FL', 60719, 51662, 4145, 275, 2328, 10592, 280, 7542, 1159, 4172, 10518, 4266, 865, 975, 5747, 32809, 2245, 1152, 464, 40.5, 40.25, 41.075, 67208.25, 33891.5, 951.25, 229025.0, 28.152678, -82.463614)\n",
      "('CROWN POINT, IN', 'CROWN POINT', 'IN', 60717, 52893, 2762, 51, 1255, 5525, 231, 12670, 1280, 4029, 9487, 2531, 657, 300, 3411, 31783, 2259, 839, 234, 40.4, 39.7, 41.2, 69790.0, 32392.0, 950.0, 187700.0, 41.403937, -87.326039)\n",
      "('SAN PABLO, CA', 'SAN PABLO', 'CA', 60627, 28654, 11059, 340, 10678, 27430, 1895, 8430, 1001, 3141, 5133, 1368, 303, 224, 10254, 29777, 3295, 569, 172, 34.2, 33.6, 35.1, 52014.0, 21909.0, 1199.0, 246800.0, 37.98079, -122.337627)\n",
      "('SKOKIE, IL', 'SKOKIE', 'IL', 60576, 36809, 3812, 103, 17072, 5768, 1277, 7662, 969, 3008, 11740, 5685, 1348, 800, 7184, 31306, 2478, 1330, 459, 43.6, 41.55, 45.75, 64198.5, 30272.5, 1128.0, 266200.0, 42.035003, -87.743558)\n",
      "('MERIDEN, CT', 'MERIDEN', 'CT', 60557, 47996, 6458, 301, 964, 15285, 545, 14780, 1808, 3545, 5439, 2396, 499, 247, 8667, 32989, 3543, 946, 275, 39.95, 39.05, 40.75, 53902.0, 28424.0, 950.0, 178550.0, 41.538859, -72.7995475)\n",
      "('BRISTOL, CT', 'BRISTOL', 'CT', 60554, 52745, 2091, 190, 1157, 7511, 367, 13361, 1896, 3616, 7331, 2776, 455, 202, 6241, 33765, 3111, 1354, 486, 41.6, 38.8, 43.6, 61478.0, 31709.0, 894.0, 194600.0, 41.681578, -72.940749)\n",
      "('SOUTH JORDAN, UT', 'SOUTH JORDAN', 'UT', 60489, 55130, 397, 68, 1616, 3635, 84, 5350, 520, 3808, 9587, 3901, 698, 460, 2100, 30009, 1114, 1725, 410, 31.4, 31.1, 31.6, 93984.0, 31368.0, 1408.0, 332200.0, 40.557499, -111.979453)\n",
      "('EASLEY, SC', 'EASLEY', 'SC', 60459, 53435, 4486, 328, 394, 2044, 390, 11038, 2205, 4640, 5686, 2120, 478, 223, 8002, 29726, 2480, 799, 217, 40.6, 39.8, 41.15, 49590.5, 23708.0, 728.5, 136600.0, 34.8273265, -82.5695715)\n",
      "('LAKE FOREST, CA', 'LAKE FOREST', 'CA', 60449, 39956, 1296, 175, 7673, 17219, 802, 6558, 632, 3876, 11691, 3641, 831, 608, 5360, 34792, 1959, 2328, 751, 39.2, 37.4, 41.2, 82769.0, 36310.0, 1674.0, 504200.0, 33.645736, -117.685503)\n",
      "('PONTIAC, MI', 'PONTIAC', 'MI', 60328, 23868, 30636, 178, 1132, 10074, 583, 10143, 1935, 2379, 2917, 1015, 258, 91, 20901, 28143, 5329, 488, 181, 32.93333333, 31.9, 34.06666667, 28206.0, 15955.66667, 750.0, 53800.0, 42.64711033, -83.28623)\n",
      "('WHEATON, IL', 'WHEATON', 'IL', 60263, 52872, 2358, 33, 3376, 2804, 336, 4402, 404, 2452, 14120, 7608, 1517, 925, 3679, 32752, 1811, 1816, 411, 38.65, 36.75, 40.1, 89319.5, 43057.5, 1222.0, 340500.0, 41.856676, -88.117233)\n",
      "('HEMPSTEAD, NY', 'HEMPSTEAD', 'NY', 60216, 12599, 27394, 62, 1231, 24678, 755, 10074, 1340, 2444, 4083, 2047, 375, 175, 11203, 31651, 2767, 327, 230, 27.35, 26.65, 28.0, 57003.0, 12971.5, 1292.0, 314300.0, 40.709382, -73.6119415)\n",
      "('GILROY, CA', 'GILROY', 'CA', 60203, 43284, 1213, 412, 3302, 35158, 1147, 6418, 715, 3444, 6392, 2245, 537, 301, 8616, 30974, 2910, 1019, 305, 34.1, 32.6, 35.8, 83858.0, 31078.0, 1418.0, 513300.0, 37.018419, -121.554249)\n",
      "('MAGNOLIA, TX', 'MAGNOLIA', 'TX', 60182, 53011, 913, 224, 734, 11340, 321, 8681, 1969, 2764, 7749, 2301, 317, 441, 6620, 31031, 2625, 1312, 260, 37.95, 37.3, 38.95, 77550.5, 33473.5, 1054.0, 196350.0, 30.1865575, -95.698237)\n",
      "('ALEXANDRIA, LA', 'ALEXANDRIA', 'LA', 60067, 24557, 32633, 201, 1508, 1235, 522, 11343, 2504, 1861, 4563, 1897, 743, 460, 14578, 26046, 2882, 406, 147, 37.0, 34.6, 39.03333333, 36814.33333, 20446.66667, 741.6666667, 126400.0, 31.25083167, -92.461557)\n",
      "('ANNANDALE, VA', 'ANNANDALE', 'VA', 60058, 36871, 4196, 230, 12871, 14633, 917, 6306, 447, 2293, 10906, 6509, 1507, 1125, 5340, 33177, 1841, 2332, 964, 39.4, 38.2, 40.4, 95698.0, 39320.0, 1558.0, 497000.0, 38.829817, -77.215318)\n",
      "('ROCKLIN, CA', 'ROCKLIN', 'CA', 59896, 48298, 1103, 512, 5151, 7852, 224, 5874, 688, 5238, 10780, 3391, 913, 270, 5048, 31188, 2727, 1568, 486, 37.8, 36.35, 38.7, 78321.5, 34771.0, 1352.0, 344150.0, 38.8033115, -121.257513)\n",
      "('SAINT CLAIR SHORES, MI', 'SAINT CLAIR SHORES', 'MI', 59843, 55047, 2950, 149, 524, 1009, 302, 12283, 1266, 4484, 7035, 2720, 612, 252, 5846, 31353, 2784, 930, 313, 44.26666667, 41.43333333, 46.96666667, 53657.66667, 29133.33333, 919.3333333, 95366.66667, 42.495705, -82.892803)\n",
      "('CRYSTAL LAKE, IL', 'CRYSTAL LAKE', 'IL', 59828, 55852, 1008, 35, 1452, 5628, 242, 6966, 725, 3058, 11500, 4893, 882, 493, 3360, 33867, 2151, 1586, 347, 42.25, 41.85, 42.7, 101569.5, 42049.0, 1592.5, 255600.0, 42.252453, -88.3207665)\n",
      "('LOGANVILLE, GA', 'LOGANVILLE', 'GA', 59699, 43915, 12490, 57, 661, 4047, 413, 10017, 1437, 3830, 6009, 1905, 461, 404, 5212, 30159, 2434, 924, 471, 36.0, 33.8, 37.8, 64492.0, 24554.0, 1106.0, 152500.0, 33.815151, -83.893561)\n",
      "('WAKE FOREST, NC', 'WAKE FOREST', 'NC', 59691, 49221, 7348, 198, 1062, 3360, 298, 5885, 967, 3578, 12306, 4695, 915, 772, 4140, 30038, 1683, 2224, 779, 37.9, 37.4, 38.3, 84086.0, 35297.0, 974.0, 265200.0, 35.986719, -78.554351)\n",
      "('LANCASTER, OH', 'LANCASTER', 'OH', 59566, 56704, 1257, 25, 329, 1031, 375, 14383, 1925, 3840, 5027, 1997, 426, 126, 9220, 28034, 2315, 585, 121, 39.9, 38.2, 42.6, 44529.0, 23652.0, 735.0, 133300.0, 39.696463, -82.614717)\n",
      "('HIGHLAND, CA', 'HIGHLAND', 'CA', 59501, 35552, 7008, 537, 4997, 25730, 1007, 8561, 1238, 3125, 4221, 2486, 573, 301, 10686, 26523, 3146, 418, 170, 34.8, 34.3, 35.7, 59722.0, 22990.0, 944.0, 242500.0, 34.126779, -117.183104)\n",
      "('OWINGS MILLS, MD', 'OWINGS MILLS', 'MD', 59435, 28541, 23630, 178, 4741, 4181, 266, 5777, 852, 2849, 11766, 5322, 1826, 885, 4731, 34068, 1775, 2001, 1308, 34.8, 33.3, 35.9, 75369.0, 39329.0, 1335.0, 274500.0, 39.427563, -76.777976)\n",
      "('DANVILLE, VA', 'DANVILLE', 'VA', 59368, 32997, 23672, 71, 621, 1458, 804, 10058, 2149, 4116, 4747, 1950, 484, 309, 12179, 27552, 2996, 499, 123, 43.55, 41.2, 45.55, 36427.0, 22005.0, 615.0, 102500.0, 36.611664, -79.4709255)\n",
      "('PETERSBURG, VA', 'PETERSBURG', 'VA', 59312, 21840, 34887, 58, 745, 2563, 766, 12237, 2230, 2171, 4067, 2177, 212, 233, 12437, 29298, 3468, 570, 214, 39.6, 38.0, 40.15, 41269.5, 21734.5, 893.0, 143500.0, 37.1739505, -77.4503425)\n",
      "('CHESTERFIELD, MO', 'CHESTERFIELD', 'MO', 59303, 51305, 1659, 46, 4917, 1617, 52, 4292, 300, 2025, 15076, 8798, 2807, 1345, 2768, 29244, 1325, 1819, 756, 45.6, 44.6, 46.65, 122941.0, 60757.5, 1039.5, 432650.0, 38.6477615, -90.5913115)\n",
      "('WEST DES MOINES, IA', 'WEST DES MOINES', 'IA', 59259, 50545, 2388, 98, 4086, 3672, 115, 5643, 414, 3730, 14734, 4928, 1390, 658, 4523, 35932, 1357, 2840, 803, 34.8, 35.1, 34.5, 70527.0, 41729.0, 892.0, 196250.0, 41.5615845, -93.771599)\n",
      "('HILLIARD, OH', 'HILLIARD', 'OH', 59179, 51052, 2358, 18, 3658, 2295, 265, 6992, 911, 3011, 12199, 4476, 1215, 719, 4912, 33075, 1212, 2245, 736, 34.8, 33.9, 35.3, 77013.0, 34804.0, 856.0, 184200.0, 40.02085, -83.194413)\n",
      "('MEDFORD, MA', 'MEDFORD', 'MA', 59166, 46670, 5422, 145, 4512, 3558, 451, 9466, 786, 2848, 9818, 6185, 1274, 1271, 5881, 35168, 2030, 2535, 1279, 35.3, 34.4, 36.1, 76596.0, 36323.0, 1477.0, 400900.0, 42.42384, -71.107673)\n",
      "('OZONE PARK, NY', 'OZONE PARK', 'NY', 59040, 19389, 4072, 99, 18435, 24036, 1800, 10457, 1918, 2952, 5847, 1854, 456, 273, 9939, 30573, 3381, 447, 199, 35.15, 33.8, 36.15, 60224.5, 22549.0, 1344.5, 440000.0, 40.68055, -73.8469955)\n",
      "('CLAYTON, NC', 'CLAYTON', 'NC', 58873, 47197, 8462, 374, 392, 5396, 282, 8712, 1846, 5095, 7169, 2079, 274, 161, 3907, 31056, 2500, 1643, 407, 36.25, 35.0, 37.35, 66374.0, 26826.0, 1023.0, 178900.0, 35.63684, -78.4293705)\n",
      "('HOWELL, MI', 'HOWELL', 'MI', 58863, 56408, 343, 137, 624, 1312, 128, 9476, 1199, 3895, 8167, 3154, 349, 220, 3730, 30937, 1829, 1478, 372, 40.35, 39.5, 41.0, 72124.0, 31143.5, 947.0, 187050.0, 42.628398, -83.910299)\n",
      "('CHICAGO HEIGHTS, IL', 'CHICAGO HEIGHTS', 'IL', 58786, 20575, 28972, 131, 201, 14186, 585, 10339, 1329, 3066, 3941, 1530, 294, 104, 15418, 27786, 5238, 178, 78, 33.8, 32.4, 36.1, 41188.0, 19350.0, 895.0, 102900.0, 41.508774, -87.590314)\n",
      "('GOLDEN, CO', 'GOLDEN', 'CO', 58745, 54566, 392, 215, 1344, 4382, 102, 5601, 1294, 2779, 12452, 6663, 1732, 1407, 5339, 32084, 1548, 2865, 1287, 40.9, 38.65, 43.5, 84864.5, 48238.5, 1159.0, 389350.0, 39.761364, -105.2461367)\n",
      "('ROYAL OAK, MI', 'ROYAL OAK', 'MI', 58698, 53418, 2099, 39, 1960, 1493, 149, 6991, 497, 3452, 13927, 6652, 1985, 762, 4271, 37647, 1934, 3487, 579, 37.25, 35.45, 39.45, 65956.5, 41191.0, 933.5, 166650.0, 42.504881, -83.150943)\n",
      "('COLTON, CA', 'COLTON', 'CA', 58684, 36727, 4519, 499, 2415, 41920, 1074, 7867, 1120, 2536, 2467, 1019, 301, 254, 12613, 27488, 3825, 379, 76, 29.2, 27.7, 30.2, 42257.0, 16761.0, 1004.0, 168500.0, 34.02452, -117.289255)\n",
      "('LOMPOC, CA', 'LOMPOC', 'CA', 58646, 38925, 3251, 889, 1875, 27293, 699, 7527, 1594, 3979, 4191, 1647, 366, 173, 9675, 27108, 3168, 1233, 222, 29.05, 28.9, 29.4, 55847.0, 21595.0, 1310.5, 253400.0, 34.6668165, -120.448203)\n",
      "('GOSHEN, IN', 'GOSHEN', 'IN', 58615, 52718, 1153, 72, 494, 11349, 571, 10034, 2192, 2067, 5145, 2304, 326, 185, 8908, 28709, 2049, 546, 225, 34.3, 33.35, 35.15, 50576.5, 21681.0, 730.5, 135050.0, 41.5796525, -85.830763)\n",
      "('LAKE CITY, FL', 'LAKE CITY', 'FL', 58514, 43623, 11652, 203, 543, 3377, 466, 11240, 3131, 3770, 3711, 1592, 468, 177, 10233, 25226, 3429, 420, 175, 39.4, 37.53333333, 42.03333333, 42209.0, 20385.33333, 791.6666667, 103866.6667, 30.15640467, -82.644747)\n",
      "('COEUR D ALENE, ID', 'COEUR D ALENE', 'ID', 58404, 55260, 198, 527, 500, 2819, 188, 8361, 1759, 4543, 7125, 2236, 467, 315, 7817, 29198, 2342, 934, 96, 38.65, 35.7, 41.9, 46228.0, 26780.5, 830.5, 210500.0, 47.7059845, -116.708858)\n",
      "('BRENTWOOD, CA', 'BRENTWOOD', 'CA', 58399, 42532, 3200, 378, 4723, 14783, 636, 6743, 782, 4477, 8361, 1747, 671, 241, 4338, 27918, 2103, 937, 328, 37.9, 35.7, 40.0, 92731.0, 34592.0, 1910.0, 396100.0, 37.922228, -121.668359)\n",
      "('GREENSBURG, PA', 'GREENSBURG', 'PA', 58276, 54463, 1986, 60, 670, 769, 320, 12900, 1772, 4204, 8621, 3677, 832, 552, 6137, 29244, 1488, 1185, 329, 46.2, 44.0, 48.2, 52145.0, 31159.0, 660.0, 157300.0, 40.314981, -79.534803)\n",
      "('FRESH MEADOWS, NY', 'FRESH MEADOWS', 'NY', 58233, 21707, 3732, 120, 25889, 10148, 1422, 8649, 1121, 3746, 9306, 4565, 1116, 625, 8024, 28437, 2626, 1252, 192, 40.8, 40.8, 40.55, 66003.0, 29795.0, 1482.0, 622100.0, 40.733893, -73.7897545)\n",
      "('STATESBORO, GA', 'STATESBORO', 'GA', 58214, 35789, 18659, 205, 1235, 2340, 214, 5901, 826, 1837, 5325, 2492, 638, 1060, 19178, 27524, 2340, 559, 143, 26.5, 25.76666667, 27.46666667, 42437.0, 14586.0, 759.0, 142300.0, 32.44348, -81.77626933)\n",
      "('MANCHESTER, CT', 'MANCHESTER', 'CT', 58187, 40276, 7635, 165, 5305, 8448, 342, 8939, 1562, 3915, 9494, 4795, 875, 574, 6808, 33417, 3327, 2287, 768, 35.7, 34.3, 37.4, 65182.5, 33713.5, 1173.5, 186950.0, 41.7820835, -72.523308)\n",
      "('GOOSE CREEK, SC', 'GOOSE CREEK', 'SC', 58048, 37683, 12801, 334, 2806, 5150, 280, 8863, 1744, 3410, 5389, 2187, 244, 136, 7540, 31811, 2899, 1021, 244, 32.0, 28.8, 34.7, 54248.0, 24111.0, 1005.0, 153300.0, 32.997548, -79.966641)\n",
      "('SAINT CHARLES, IL', 'SAINT CHARLES', 'IL', 58015, 52626, 836, 115, 1562, 4632, 108, 6542, 844, 2401, 12782, 5496, 894, 550, 2507, 30736, 1285, 1122, 259, 41.7, 39.75, 43.6, 102049.5, 46347.0, 1338.5, 325900.0, 41.93942, -88.3436575)\n",
      "('CASTRO VALLEY, CA', 'CASTRO VALLEY', 'CA', 57980, 33840, 3668, 187, 14424, 9740, 628, 8335, 509, 3472, 10196, 3807, 1220, 786, 4368, 30651, 2270, 1570, 768, 41.6, 40.35, 42.85, 106236.5, 45857.5, 2018.0, 596200.0, 37.7186145, -122.050547)\n",
      "('WILMINGTON, CA', 'WILMINGTON', 'CA', 57963, 37931, 1266, 3162, 1423, 52183, 1588, 8726, 700, 1271, 1828, 322, 61, 69, 16717, 27115, 2790, 295, 180, 28.9, 28.0, 29.8, 41569.0, 15005.0, 1006.0, 322500.0, 33.779284, -118.261723)\n",
      "('SHERMAN OAKS, CA', 'SHERMAN OAKS', 'CA', 57960, 46630, 2915, 207, 4421, 6546, 214, 4757, 256, 3263, 16355, 6124, 2333, 1121, 4899, 37161, 3444, 1431, 584, 39.7, 39.2, 39.85, 79959.0, 57706.5, 1557.0, 773800.0, 34.147883, -118.4483315)\n",
      "('RICHMOND, KY', 'RICHMOND', 'KY', 57892, 52373, 3211, 357, 601, 1088, 416, 6770, 2252, 1962, 6454, 3340, 490, 813, 11758, 29357, 2631, 889, 337, 33.4, 32.5, 34.3, 41796.0, 22659.0, 643.0, 155300.0, 37.7616, -84.312523)\n",
      "('PALM DESERT, CA', 'PALM DESERT', 'CA', 57833, 48470, 904, 43, 2723, 13206, 406, 8355, 757, 3917, 10680, 3931, 1559, 698, 6051, 24206, 2251, 413, 106, 57.35, 55.6, 58.6, 54012.5, 41315.0, 1177.0, 319300.0, 33.7367065, -116.368916)\n",
      "('ATHENS, AL', 'ATHENS', 'AL', 57762, 46821, 7682, 306, 281, 3954, 531, 9800, 3480, 2601, 5317, 2218, 302, 275, 8489, 25288, 2113, 1287, 322, 39.33333333, 39.06666667, 39.56666667, 50107.0, 24124.33333, 628.0, 126866.6667, 34.815905, -86.98555633)\n",
      "('LAND O LAKES, FL', 'LAND O LAKES', 'FL', 57755, 48379, 4283, 66, 2063, 10137, 302, 7488, 1343, 5331, 8712, 3483, 583, 332, 3058, 28536, 1657, 1263, 286, 38.83333333, 37.23333333, 40.23333333, 74529.33333, 30438.0, 1353.666667, 187166.6667, 28.27667633, -82.46689833)\n",
      "('NEW BALTIMORE, MI', 'NEW BALTIMORE', 'MI', 57695, 52455, 3005, 61, 615, 1605, 415, 10188, 1614, 4564, 6043, 2294, 314, 217, 4719, 30995, 2426, 1337, 266, 37.7, 35.75, 39.5, 66888.5, 28379.0, 881.0, 150650.0, 42.6837735, -82.7975435)\n",
      "('PLYMOUTH, MA', 'PLYMOUTH', 'MA', 57658, 53689, 1077, 194, 674, 1199, 167, 10932, 1199, 4390, 9094, 4153, 747, 521, 3786, 31807, 2304, 1201, 281, 44.2, 42.4, 45.8, 76835.0, 37042.0, 1329.0, 323000.0, 41.882056, -70.63129)\n",
      "('STILLWATER, OK', 'STILLWATER', 'OK', 57598, 45841, 2556, 2479, 3185, 2643, 174, 4549, 952, 1520, 7159, 3719, 580, 1595, 15031, 29733, 1861, 1064, 507, 23.33333333, 23.43333333, 23.23333333, 35365.5, 15490.33333, 756.5, 158250.0, 36.124073, -97.07589933)\n",
      "('WESTMINSTER, MD', 'WESTMINSTER', 'MD', 57575, 52863, 2723, 82, 739, 2001, 256, 11056, 1251, 2816, 7229, 3606, 778, 420, 4104, 31642, 1654, 1285, 474, 41.15, 40.3, 41.95, 76302.5, 33361.5, 1134.5, 301050.0, 39.601153, -77.009325)\n",
      "('FOUNTAIN VALLEY, CA', 'FOUNTAIN VALLEY', 'CA', 57508, 30094, 579, 147, 19414, 10129, 830, 6066, 723, 4669, 11080, 3578, 1038, 532, 4775, 29594, 2175, 1891, 634, 43.1, 42.0, 44.4, 81825.0, 34133.0, 1696.0, 613800.0, 33.710582, -117.951129)\n",
      "('GRETNA, LA', 'GRETNA', 'LA', 57433, 26656, 21468, 395, 2795, 9585, 831, 10877, 1708, 2223, 5003, 1656, 452, 187, 11504, 29141, 2085, 864, 130, 35.3, 34.75, 35.55, 42388.0, 22450.5, 897.5, 154550.0, 29.9004005, -90.040257)\n",
      "('LEBANON, TN', 'LEBANON', 'TN', 57412, 49307, 4975, 175, 544, 2892, 491, 12128, 2137, 2446, 6094, 1918, 438, 311, 7339, 28445, 2430, 536, 170, 40.55, 39.6, 42.3, 52560.5, 26548.5, 845.5, 174500.0, 36.187796, -86.2842165)\n",
      "('PISCATAWAY, NJ', 'PISCATAWAY', 'NJ', 57348, 22356, 11507, 91, 20593, 6599, 451, 6903, 565, 2162, 10325, 5380, 615, 690, 3334, 27813, 2320, 2870, 899, 31.8, 30.7, 33.3, 88494.0, 31187.0, 1430.0, 307800.0, 40.54564, -74.460817)\n",
      "('ROWLETT, TX', 'ROWLETT', 'TX', 57288, 41044, 8556, 142, 4195, 12255, 442, 7408, 873, 3676, 8295, 2721, 476, 358, 3879, 32935, 2294, 1795, 450, 38.55, 35.95, 40.3, 84380.5, 31033.0, 1330.5, 160950.0, 32.9172135, -96.550968)\n",
      "('SUN CITY, CA', 'SUN CITY', 'CA', 57287, 44773, 2329, 239, 1830, 19195, 520, 11034, 1449, 3239, 4381, 1710, 260, 336, 8498, 24958, 3601, 365, 153, 43.33333333, 41.86666667, 45.13333333, 55891.33333, 23938.33333, 1325.666667, 216266.6667, 33.71656933, -117.207112)\n",
      "('GRAND FORKS, ND', 'GRAND FORKS', 'ND', 57283, 50645, 1377, 1703, 1493, 1977, 286, 6478, 1289, 3457, 7275, 2696, 697, 677, 10448, 33792, 1248, 929, 220, 25.83333333, 25.56666667, 26.13333333, 45041.5, 20585.0, 761.0, 158100.0, 47.91929133, -97.12628067)\n",
      "('NEW BRUNSWICK, NJ', 'NEW BRUNSWICK', 'NJ', 57280, 38207, 8207, 157, 5026, 31542, 908, 6661, 435, 899, 3250, 1373, 332, 478, 16878, 25645, 2181, 1020, 460, 23.2, 23.6, 22.8, 38435.0, 14174.0, 1343.0, 242200.0, 40.483638, -74.44246)\n",
      "('NACOGDOCHES, TX', 'NACOGDOCHES', 'TX', 57113, 42313, 11530, 247, 970, 11577, 643, 6711, 1402, 2067, 4867, 2366, 624, 594, 13385, 26495, 2355, 472, 236, 28.025, 27.625, 28.6, 37197.33333, 16630.25, 736.3333333, 109666.6667, 31.63332525, -94.630291)\n",
      "('PRESCOTT, AZ', 'PRESCOTT', 'AZ', 57030, 53492, 371, 834, 905, 4512, 123, 7001, 964, 4406, 9476, 5279, 1118, 825, 7524, 22381, 2182, 425, 141, 56.575, 55.45, 56.93333333, 49544.33333, 25175.5, 818.0, 277833.3333, 34.621839, -112.5607165)\n",
      "('SAN BENITO, TX', 'SAN BENITO', 'TX', 57019, 49507, 105, 117, 136, 53051, 1947, 5898, 1885, 1517, 2194, 505, 82, 112, 21181, 21587, 2341, 160, 12, 30.7, 29.9, 31.7, 28459.0, 11950.0, 545.0, 62000.0, 26.106086, -97.629292)\n",
      "('SANTA CLARITA, CA', 'SANTA CLARITA', 'CA', 56993, 42716, 1612, 277, 4937, 14318, 301, 6976, 627, 4252, 8942, 3081, 687, 375, 3121, 30180, 2391, 1297, 252, 39.6, 39.25, 40.05, 103380.5, 38164.5, 1617.0, 451450.0, 34.493239, -118.460921)\n",
      "('OAK LAWN, IL', 'OAK LAWN', 'IL', 56987, 48190, 3436, 27, 1023, 10248, 716, 11607, 1065, 3625, 6658, 2990, 584, 212, 6065, 28479, 2972, 762, 159, 41.0, 37.9, 44.3, 56116.0, 27219.0, 1029.0, 189600.0, 41.713436, -87.75256)\n",
      "('ROSWELL, NM', 'ROSWELL', 'NM', 56900, 45031, 1075, 759, 519, 30052, 786, 7168, 2240, 3079, 4632, 1861, 290, 216, 12143, 25079, 1880, 467, 159, 35.55, 33.25, 37.55, 41825.5, 21523.0, 712.5, 108900.0, 33.476344, -104.24452)\n",
      "('LAKE HAVASU CITY, AZ', 'LAKE HAVASU CITY', 'AZ', 56889, 52524, 297, 358, 749, 8547, 327, 13777, 2029, 3921, 3576, 1453, 448, 432, 8165, 22539, 2501, 291, 81, 52.0, 52.1, 51.83333333, 41662.0, 23846.66667, 864.6666667, 187366.6667, 34.49784767, -114.2554)\n",
      "('ALTAMONTE SPRINGS, FL', 'ALTAMONTE SPRINGS', 'FL', 56883, 42747, 9599, 8, 1629, 13925, 504, 9336, 1755, 4151, 9539, 2865, 618, 386, 8040, 32405, 3062, 1013, 397, 40.8, 39.5, 42.5, 49270.0, 26841.0, 1008.5, 137250.0, 28.6641005, -81.391002)\n",
      "('CHILLICOTHE, OH', 'CHILLICOTHE', 'OH', 56783, 50065, 3842, 27, 398, 689, 577, 13955, 2334, 3870, 3926, 1860, 371, 142, 9976, 24304, 2679, 606, 356, 40.4, 39.1, 42.3, 43460.0, 21112.0, 672.0, 112500.0, 39.31206, -82.957071)\n",
      "('FARMINGTON, NM', 'FARMINGTON', 'NM', 56781, 35887, 448, 14425, 298, 13550, 425, 8221, 2257, 3570, 3886, 2024, 479, 269, 9687, 26574, 1988, 912, 325, 34.33333333, 34.06666667, 35.5, 48492.66667, 22886.66667, 978.5, 151933.3333, 36.62289767, -108.179508)\n",
      "('FAIRFIELD, CT', 'FAIRFIELD', 'CT', 56704, 50515, 946, 8, 2777, 3337, 140, 5270, 362, 1894, 11877, 7063, 2127, 705, 2319, 28391, 1956, 1016, 367, 40.15, 39.25, 41.4, 119230.5, 55042.0, 1679.0, 556600.0, 41.184811, -73.262036)\n",
      "('DEARBORN HEIGHTS, MI', 'DEARBORN HEIGHTS', 'MI', 56656, 47746, 4856, 338, 1108, 2371, 745, 11003, 1559, 3143, 4741, 2024, 576, 321, 11254, 25456, 2898, 1149, 186, 38.4, 38.3, 38.65, 45113.0, 21787.0, 947.5, 84050.0, 42.3065635, -83.274064)\n"
     ]
    }
   ],
   "source": [
    "# Query All Records in the the Database\n",
    "data = engine.execute(\"SELECT * FROM Census_Data\")\n",
    "for row in data:\n",
    "    print(row)"
   ]
  },
  {
   "cell_type": "code",
   "execution_count": 12,
   "metadata": {},
   "outputs": [
    {
     "output_type": "stream",
     "name": "stdout",
     "text": [
      "('HOUSTON, TX',)\n('CHICAGO, IL',)\n('BROOKLYN, NY',)\n('LOS ANGELES, CA',)\n('MIAMI, FL',)\n('SAN ANTONIO, TX',)\n('NEW YORK, NY',)\n('PHILADELPHIA, PA',)\n('LAS VEGAS, NV',)\n('BRONX, NY',)\n('PHOENIX, AZ',)\n('DALLAS, TX',)\n('SAN DIEGO, CA',)\n('MINNEAPOLIS, MN',)\n('DENVER, CO',)\n('AUSTIN, TX',)\n('SAN JOSE, CA',)\n('ATLANTA, GA',)\n('ORLANDO, FL',)\n('INDIANAPOLIS, IN',)\n('SAINT LOUIS, MO',)\n('TUCSON, AZ',)\n('SEATTLE, WA',)\n('PORTLAND, OR',)\n('FORT WORTH, TX',)\n('CHARLOTTE, NC',)\n('SAN FRANCISCO, CA',)\n('JACKSONVILLE, FL',)\n('MILWAUKEE, WI',)\n('COLUMBUS, OH',)\n('FORT LAUDERDALE, FL',)\n('CINCINNATI, OH',)\n('EL PASO, TX',)\n('SAINT PAUL, MN',)\n('SACRAMENTO, CA',)\n('TAMPA, FL',)\n('CLEVELAND, OH',)\n('LOUISVILLE, KY',)\n('MEMPHIS, TN',)\n('PITTSBURGH, PA',)\n('OKLAHOMA CITY, OK',)\n('ALBUQUERQUE, NM',)\n('DETROIT, MI',)\n('WASHINGTON, DC',)\n('BALTIMORE, MD',)\n('SALT LAKE CITY, UT',)\n('FRESNO, CA',)\n('BUFFALO, NY',)\n('KANSAS CITY, MO',)\n('COLORADO SPRINGS, CO',)\n('BAKERSFIELD, CA',)\n('OMAHA, NE',)\n('RALEIGH, NC',)\n('MESA, AZ',)\n('BIRMINGHAM, AL',)\n('DAYTON, OH',)\n('LONG BEACH, CA',)\n('ROCHESTER, NY',)\n('STATEN ISLAND, NY',)\n('VIRGINIA BEACH, VA',)\n('POMPANO BEACH, FL',)\n('HOLLYWOOD, FL',)\n('NASHVILLE, TN',)\n('RIVERSIDE, CA',)\n('TULSA, OK',)\n('NEW ORLEANS, LA',)\n('WICHITA, KS',)\n('AURORA, CO',)\n('KNOXVILLE, TN',)\n('OAKLAND, CA',)\n('ARLINGTON, TX',)\n('BATON ROUGE, LA',)\n('RICHMOND, VA',)\n('STOCKTON, CA',)\n('HIALEAH, FL',)\n('ANAHEIM, CA',)\n('GRAND RAPIDS, MI',)\n('SANTA ANA, CA',)\n('SPRING, TX',)\n('SPOKANE, WA',)\n('WEST PALM BEACH, FL',)\n('SAINT PETERSBURG, FL',)\n('ALEXANDRIA, VA',)\n('COLUMBIA, SC',)\n('TACOMA, WA',)\n('LITTLETON, CO',)\n('CORPUS CHRISTI, TX',)\n('GREENSBORO, NC',)\n('MARIETTA, GA',)\n('VANCOUVER, WA',)\n('TOLEDO, OH',)\n('FORT WAYNE, IN',)\n('LEXINGTON, KY',)\n('SILVER SPRING, MD',)\n('PLANO, TX',)\n('KATY, TX',)\n('NAPLES, FL',)\n('GLENDALE, AZ',)\n('RENO, NV',)\n('MADISON, WI',)\n('TALLAHASSEE, FL',)\n('HENDERSON, NV',)\n('NEWARK, NJ',)\n('SCOTTSDALE, AZ',)\n('LINCOLN, NE',)\n('MOBILE, AL',)\n('DURHAM, NC',)\n('CHANDLER, AZ',)\n('AKRON, OH',)\n('LUBBOCK, TX',)\n('PENSACOLA, FL',)\n('MODESTO, CA',)\n('LAREDO, TX',)\n('WINSTON SALEM, NC',)\n('JERSEY CITY, NJ',)\n('KISSIMMEE, FL',)\n('SALEM, OR',)\n('CHULA VISTA, CA',)\n('CORONA, CA',)\n('SAVANNAH, GA',)\n('LAKELAND, FL',)\n('BOISE, ID',)\n('NORFOLK, VA',)\n('SAN BERNARDINO, CA',)\n('LAWRENCEVILLE, GA',)\n('FAYETTEVILLE, NC',)\n('IRVINE, CA',)\n('SARASOTA, FL',)\n('JAMAICA, NY',)\n('GILBERT, AZ',)\n('GARLAND, TX',)\n('BRADENTON, FL',)\n('TRENTON, NJ',)\n('IRVING, TX',)\n('CHESAPEAKE, VA',)\n('FONTANA, CA',)\n('SYRACUSE, NY',)\n('LAKE WORTH, FL',)\n('SHREVEPORT, LA',)\n('FORT MYERS, FL',)\n('BOSTON, MA',)\n('SPRINGFIELD, MO',)\n('FREMONT, CA',)\n('AMARILLO, TX',)\n('NORTH LAS VEGAS, NV',)\n('ARLINGTON, VA',)\n('FLUSHING, NY',)\n('BOCA RATON, FL',)\n('WILMINGTON, DE',)\n('OXNARD, CA',)\n('OCALA, FL',)\n('LITTLE ROCK, AR',)\n('DES MOINES, IA',)\n('SANTA ROSA, CA',)\n('READING, PA',)\n('MONTGOMERY, AL',)\n('AURORA, IL',)\n('GREENVILLE, SC',)\n('PROVIDENCE, RI',)\n('AUGUSTA, GA',)\n('CHATTANOOGA, TN',)\n('GAINESVILLE, FL',)\n('WOODBRIDGE, VA',)\n('BROWNSVILLE, TX',)\n('MORENO VALLEY, CA',)\n('OCEANSIDE, CA',)\n('WHITTIER, CA',)\n('HUNTINGTON BEACH, CA',)\n('WILMINGTON, NC',)\n('HUNTSVILLE, AL',)\n('EUGENE, OR',)\n('BEAVERTON, OR',)\n('OGDEN, UT',)\n('HENRICO, VA',)\n('PORT SAINT LUCIE, FL',)\n('CHARLESTON, SC',)\n('HAYWARD, CA',)\n('ERIE, PA',)\n('SALINAS, CA',)\n('FORT COLLINS, CO',)\n('ROCKFORD, IL',)\n('EVANSVILLE, IN',)\n('WORCESTER, MA',)\n('LANCASTER, CA',)\n('GRAND PRAIRIE, TX',)\n('GREEN BAY, WI',)\n('ALPHARETTA, GA',)\n('YONKERS, NY',)\n('COLUMBUS, GA',)\n('NEWPORT NEWS, VA',)\n('ESCONDIDO, CA',)\n('YORK, PA',)\n('GLENDALE, CA',)\n('OVERLAND PARK, KS',)\n('TORRANCE, CA',)\n('GARDEN GROVE, CA',)\n('HOMESTEAD, FL',)\n('TEMPE, AZ',)\n('MISSION, TX',)\n('OLYMPIA, WA',)\n('CLEARWATER, FL',)\n('PALMDALE, CA',)\n('JACKSON, MS',)\n('VAN NUYS, CA',)\n('EVERETT, WA',)\n('RANCHO CUCAMONGA, CA',)\n('DECATUR, GA',)\n('ELK GROVE, CA',)\n('SIOUX FALLS, SD',)\n('ONTARIO, CA',)\n('EL CAJON, CA',)\n('MURFREESBORO, TN',)\n('ROANOKE, VA',)\n('PEORIA, AZ',)\n('ALLENTOWN, PA',)\n('CAPE CORAL, FL',)\n('HARRISBURG, PA',)\n('LANCASTER, PA',)\n('MACON, GA',)\n('FREDERICKSBURG, VA',)\n('MCKINNEY, TX',)\n('BOYNTON BEACH, FL',)\n('CLARKSVILLE, TN',)\n('TOPEKA, KS',)\n('NAPERVILLE, IL',)\n('KALAMAZOO, MI',)\n('LANSING, MI',)\n('SCHENECTADY, NY',)\n('ANN ARBOR, MI',)\n('HYATTSVILLE, MD',)\n('YOUNGSTOWN, OH',)\n('SUGAR LAND, TX',)\n('FAIRFAX, VA',)\n('FLINT, MI',)\n('EDMOND, OK',)\n('LAFAYETTE, LA',)\n('POMONA, CA',)\n('NORTH HOLLYWOOD, CA',)\n('ROUND ROCK, TX',)\n('PASADENA, CA',)\n('PUEBLO, CO',)\n('KENT, WA',)\n('KANSAS CITY, KS',)\n('ODESSA, TX',)\n('ALBANY, NY',)\n('WACO, TX',)\n('RENTON, WA',)\n('ASTORIA, NY',)\n('DENTON, TX',)\n('SUNNYVALE, CA',)\n('CANTON, OH',)\n('TYLER, TX',)\n('LAS CRUCES, NM',)\n('PASADENA, TX',)\n('BRIDGEPORT, CT',)\n('MIDLAND, TX',)\n('EDINBURG, TX',)\n('VISALIA, CA',)\n('PATERSON, NJ',)\n('HUMBLE, TX',)\n('COLUMBIA, MO',)\n('MANASSAS, VA',)\n('MELBOURNE, FL',)\n('SOUTH BEND, IN',)\n('MESQUITE, TX',)\n('CARY, NC',)\n('ORANGE, CA',)\n('SPRINGFIELD, MA',)\n('CYPRESS, TX',)\n('BEAUMONT, TX',)\n('YUMA, AZ',)\n('KILLEEN, TX',)\n('CONROE, TX',)\n('CUMMING, GA',)\n('SPRINGFIELD, IL',)\n('FRISCO, TX',)\n('GAITHERSBURG, MD',)\n('METAIRIE, LA',)\n('NEWARK, DE',)\n('BELLEVUE, WA',)\n('ROCKVILLE, MD',)\n('FULLERTON, CA',)\n('MCALLEN, TX',)\n('SAN MATEO, CA',)\n('HAMPTON, VA',)\n('SANTA MARIA, CA',)\n('OLATHE, KS',)\n('SAINT CHARLES, MO',)\n('SANTA BARBARA, CA',)\n('COMPTON, CA',)\n('CEDAR RAPIDS, IA',)\n('PEORIA, IL',)\n('INGLEWOOD, CA',)\n('PUYALLUP, WA',)\n('HAMILTON, OH',)\n('WARREN, MI',)\n('BILLINGS, MT',)\n('VICTORVILLE, CA',)\n('SAGINAW, MI',)\n('ROSEVILLE, CA',)\n('STERLING HEIGHTS, MI',)\n('BLOOMINGTON, IN',)\n('NEW HAVEN, CT',)\n('MYRTLE BEACH, SC',)\n('JOLIET, IL',)\n('SIMI VALLEY, CA',)\n('ABILENE, TX',)\n('CONCORD, CA',)\n('YAKIMA, WA',)\n('CARROLLTON, TX',)\n('BOULDER, CO',)\n('ARVADA, CO',)\n('MUSKEGON, MI',)\n('SANTA FE, NM',)\n('LAKE CHARLES, LA',)\n('STAMFORD, CT',)\n('RACINE, WI',)\n('SURPRISE, AZ',)\n('PEARLAND, TX',)\n('ASHEVILLE, NC',)\n('FREDERICK, MD',)\n('HEMET, CA',)\n('HARTFORD, CT',)\n('INDEPENDENCE, MO',)\n('GAINESVILLE, GA',)\n('LONGMONT, CO',)\n('BERKELEY, CA',)\n('BROKEN ARROW, OK',)\n('BETHLEHEM, PA',)\n('TOMS RIVER, NJ',)\n('MURRIETA, CA',)\n('ROCHESTER, MN',)\n('VALLEJO, CA',)\n('PANAMA CITY, FL',)\n('NORMAN, OK',)\n('SUMMERVILLE, SC',)\n('TEMECULA, CA',)\n('ATHENS, GA',)\n('BELLINGHAM, WA',)\n('FALLS CHURCH, VA',)\n('SANTA CLARA, CA',)\n('ELGIN, IL',)\n('WEST JORDAN, UT',)\n('HIGH POINT, NC',)\n('SAINT AUGUSTINE, FL',)\n('STONE MOUNTAIN, GA',)\n('SPRING HILL, FL',)\n('CHARLOTTESVILLE, VA',)\n('APPLETON, WI',)\n('TUSCALOOSA, AL',)\n('LA PUENTE, CA',)\n('DULUTH, MN',)\n('RICHMOND, TX',)\n('BOTHELL, WA',)\n('CHARLESTON, WV',)\n('NEW PORT RICHEY, FL',)\n('VISTA, CA',)\n('PROVO, UT',)\n('LEWISVILLE, TX',)\n('CLOVIS, CA',)\n('FARGO, ND',)\n('MIAMI BEACH, FL',)\n('VENTURA, CA',)\n('MANCHESTER, NH',)\n('SPARKS, NV',)\n('GREENVILLE, NC',)\n('NORCROSS, GA',)\n('DULUTH, GA',)\n('DOWNEY, CA',)\n('KENOSHA, WI',)\n('COSTA MESA, CA',)\n('DALY CITY, CA',)\n('TRACY, CA',)\n('CORONA, NY',)\n('REDDING, CA',)\n('BEND, OR',)\n('COLLEGE STATION, TX',)\n('BAYTOWN, TX',)\n('DELRAY BEACH, FL',)\n('PERRIS, CA',)\n('CARLSBAD, CA',)\n('CONCORD, NC',)\n('ROCK HILL, SC',)\n('REDWOOD CITY, CA',)\n('WEST COVINA, CA',)\n('WATERBURY, CT',)\n('SPARTANBURG, SC',)\n('LOWELL, MA',)\n('FLORISSANT, MO',)\n('BOWLING GREEN, KY',)\n('CHICO, CA',)\n('NAMPA, ID',)\n('FAIRFIELD, CA',)\n('AUBURN, WA',)\n('VERO BEACH, FL',)\n('SAN ANGELO, TX',)\n('SAN LEANDRO, CA',)\n('WEST CHESTER, PA',)\n('CAMBRIDGE, MA',)\n('LEHIGH ACRES, FL',)\n('BURBANK, CA',)\n('LAUREL, MD',)\n('GREELEY, CO',)\n('ANTIOCH, CA',)\n('PALM BAY, FL',)\n('SANDY, UT',)\n('DOUGLASVILLE, GA',)\n('NORWALK, CA',)\n('KELLER, TX',)\n('ENGLEWOOD, CO',)\n('RICHARDSON, TX',)\n('RIALTO, CA',)\n('LONGVIEW, TX',)\n('IDAHO FALLS, ID',)\n('GASTONIA, NC',)\n('DAVENPORT, IA',)\n('LARGO, FL',)\n('SPRINGFIELD, VA',)\n('ALLEN, TX',)\n('GRAND JUNCTION, CO',)\n('YPSILANTI, MI',)\n('JACKSON, MI',)\n('BELL GARDENS, CA',)\n('MADERA, CA',)\n('VACAVILLE, CA',)\n('PACOIMA, CA',)\n('MERCED, CA',)\n('RIDGEWOOD, NY',)\n('HESPERIA, CA',)\n('SANTA CRUZ, CA',)\n('LAFAYETTE, IN',)\n('EDISON, NJ',)\n('LYNCHBURG, VA',)\n('LYNNWOOD, WA',)\n('ASHBURN, VA',)\n('SPRINGFIELD, OH',)\n('WICHITA FALLS, TX',)\n('ALBANY, GA',)\n('DAYTONA BEACH, FL',)\n('MISSOURI CITY, TX',)\n('ROCHESTER, MI',)\n('BROOMFIELD, CO',)\n('ELIZABETH, NJ',)\n('SCRANTON, PA',)\n('COLUMBIA, MD',)\n('FRANKLIN, TN',)\n('CLINTON TOWNSHIP, MI',)\n('ELMHURST, NY',)\n('WINTER HAVEN, FL',)\n('ROSWELL, GA',)\n('LEES SUMMIT, MO',)\n('BOWIE, MD',)\n('ELKHART, IN',)\n('HAGERSTOWN, MD',)\n('MISSION VIEJO, CA',)\n('WAUKEGAN, IL',)\n('RIVERVIEW, FL',)\n('LAWRENCE, KS',)\n('ANDERSON, SC',)\n('LEXINGTON, SC',)\n('KENNESAW, GA',)\n('HILLSBORO, OR',)\n('LAKEWOOD, NJ',)\n('FAYETTEVILLE, AR',)\n('PORTSMOUTH, VA',)\n('NAPA, CA',)\n('FEDERAL WAY, WA',)\n('DEARBORN, MI',)\n('VALDOSTA, GA',)\n('HAWTHORNE, CA',)\n('PLAINFIELD, IL',)\n('PALO ALTO, CA',)\n('LITHONIA, GA',)\n('BELLEVILLE, IL',)\n('WAUKESHA, WI',)\n('MISSOULA, MT',)\n('MCDONOUGH, GA',)\n('TERRE HAUTE, IN',)\n('SOUTH GATE, CA',)\n('LIVONIA, MI',)\n('CHAPEL HILL, NC',)\n('JACKSONVILLE, NC',)\n('SAN MARCOS, CA',)\n('ANNAPOLIS, MD',)\n('ACWORTH, GA',)\n('NEW BEDFORD, MA',)\n('BROCKTON, MA',)\n('LAWTON, OK',)\n('SANTA MONICA, CA',)\n('KENNEWICK, WA',)\n('JOHNSON CITY, TN',)\n('WOODSTOCK, GA',)\n('BALLWIN, MO',)\n('MERIDIAN, ID',)\n('RAPID CITY, SD',)\n('O FALLON, MO',)\n('MIDLOTHIAN, VA',)\n('RIO RANCHO, NM',)\n('SYLMAR, CA',)\n('INDIO, CA',)\n('MUNCIE, IN',)\n('EL MONTE, CA',)\n('QUINCY, MA',)\n('BRYAN, TX',)\n('JUPITER, FL',)\n('APOPKA, FL',)\n('OREM, UT',)\n('CLEVELAND, TN',)\n('HERNDON, VA',)\n('SPRINGDALE, AR',)\n('WESTMINSTER, CA',)\n('LYNN, MA',)\n('FLORENCE, SC',)\n('HOLLAND, MI',)\n('FORT PIERCE, FL',)\n('CHAMPAIGN, IL',)\n('BUFORD, GA',)\n('FORT SMITH, AR',)\n('MORGANTOWN, WV',)\n('MANSFIELD, OH',)\n('BATTLE CREEK, MI',)\n('WOODSIDE, NY',)\n('DES PLAINES, IL',)\n('CHEYENNE, WY',)\n('DELTONA, FL',)\n('COVINGTON, GA',)\n('ANTIOCH, TN',)\n('PARKER, CO',)\n('LIVERMORE, CA',)\n('CANTON, GA',)\n('PITTSBURG, CA',)\n('MONROE, LA',)\n('MEDFORD, OR',)\n('UPPER MARLBORO, MD',)\n('MILTON, FL',)\n('CANTON, MI',)\n('CLERMONT, FL',)\n('FARMINGTON, MI',)\n('HARLINGEN, TX',)\n('GULFPORT, MS',)\n('WESTERVILLE, OH',)\n('WILLIAMSBURG, VA',)\n('SLIDELL, LA',)\n('NEWNAN, GA',)\n('NEW BRAUNFELS, TX',)\n('DORCHESTER, MA',)\n('HATTIESBURG, MS',)\n('CHINO, CA',)\n('FALL RIVER, MA',)\n('NORRISTOWN, PA',)\n('SAINT JOSEPH, MO',)\n('NORWALK, CT',)\n('LOVELAND, CO',)\n('FLAGSTAFF, AZ',)\n('NASHUA, NH',)\n('BREMERTON, WA',)\n('GLEN BURNIE, MD',)\n('KINGSPORT, TN',)\n('POUGHKEEPSIE, NY',)\n('DECATUR, IL',)\n('CITRUS HEIGHTS, CA',)\n('SUFFOLK, VA',)\n('SIOUX CITY, IA',)\n('JACKSON, TN',)\n('RICHMOND, CA',)\n('SUMTER, SC',)\n('BLOOMINGTON, IL',)\n('WALNUT CREEK, CA',)\n('LIMA, OH',)\n('GERMANTOWN, MD',)\n('CONYERS, GA',)\n('HOUMA, LA',)\n('EASTON, PA',)\n('GARDENA, CA',)\n('BISMARCK, ND',)\n('WATSONVILLE, CA',)\n('DALLAS, GA',)\n('CARSON, CA',)\n('ALHAMBRA, CA',)\n('CLIFTON, NJ',)\n('WARNER ROBINS, GA',)\n('TUSTIN, CA',)\n('CICERO, IL',)\n('ELLICOTT CITY, MD',)\n('VICTORIA, TX',)\n('JONESBORO, GA',)\n('MACOMB, MI',)\n('WALDORF, MD',)\n('EAU CLAIRE, WI',)\n('PALM COAST, FL',)\n('SAN PEDRO, CA',)\n('REDMOND, WA',)\n('DANBURY, CT',)\n('CANOGA PARK, CA',)\n('OWENSBORO, KY',)\n('DOTHAN, AL',)\n('CORDOVA, TN',)\n('STERLING, VA',)\n('GARY, IN',)\n('CONWAY, AR',)\n('WESTLAND, MI',)\n('TROY, MI',)\n('GREENWOOD, IN',)\n('OSHKOSH, WI',)\n('MARYVILLE, TN',)\n('LEESBURG, VA',)\n('BUENA PARK, CA',)\n('SIMPSONVILLE, SC',)\n('CARMEL, IN',)\n('IOWA CITY, IA',)\n('COVINA, CA',)\n('DALTON, GA',)\n('BRANDON, FL',)\n('STAFFORD, VA',)\n('SMYRNA, GA',)\n('JONESBORO, AR',)\n('BETHESDA, MD',)\n('LAKEWOOD, CA',)\n('BINGHAMTON, NY',)\n('UTICA, MI',)\n('MANTECA, CA',)\n('VALPARAISO, IN',)\n('ARLINGTON HEIGHTS, IL',)\n('EVANSTON, IL',)\n('GREER, SC',)\n('FISHERS, IN',)\n('MOUNT PLEASANT, SC',)\n('CAMARILLO, CA',)\n('GRESHAM, OR',)\n('SANFORD, FL',)\n('SAINT GEORGE, UT',)\n('MIDDLETOWN, OH',)\n('THOUSAND OAKS, CA',)\n('LEAGUE CITY, TX',)\n('POCATELLO, ID',)\n('PFLUGERVILLE, TX',)\n('FORT MILL, SC',)\n('SAN TAN VALLEY, AZ',)\n('MONROE, NC',)\n('SNELLVILLE, GA',)\n('TOMBALL, TX',)\n('LAWRENCE, MA',)\n('TURLOCK, CA',)\n('KIRKLAND, WA',)\n('APPLE VALLEY, CA',)\n('UPLAND, CA',)\n('BRIGHTON, CO',)\n('HICKORY, NC',)\n('ROGERS, AR',)\n('PORTERVILLE, CA',)\n('RESEDA, CA',)\n('MOUNTAIN VIEW, CA',)\n('LEXINGTON, NC',)\n('ANDERSON, IN',)\n('PALM HARBOR, FL',)\n('BALDWIN PARK, CA',)\n('BELLFLOWER, CA',)\n('PALATINE, IL',)\n('AVONDALE, AZ',)\n('SALISBURY, NC',)\n('GEORGETOWN, TX',)\n('YUBA CITY, CA',)\n('OPA LOCKA, FL',)\n('SOUTHFIELD, MI',)\n('PLANT CITY, FL',)\n('CHINO HILLS, CA',)\n('BURLINGTON, NC',)\n('ALAMEDA, CA',)\n('NORTH CHARLESTON, SC',)\n('CANYON COUNTRY, CA',)\n('MARYSVILLE, WA',)\n('SOMERVILLE, MA',)\n('DAVIS, CA',)\n('PLEASANTON, CA',)\n('OVIEDO, FL',)\n('WINTER PARK, FL',)\n('SCHAUMBURG, IL',)\n('WARWICK, RI',)\n('HUNTINGTON PARK, CA',)\n('DENHAM SPRINGS, LA',)\n('HUNTINGTON, WV',)\n('REDLANDS, CA',)\n('SAN RAMON, CA',)\n('LAKE ELSINORE, CA',)\n('TEMPLE, TX',)\n('REDONDO BEACH, CA',)\n('ORANGE PARK, FL',)\n('ROME, GA',)\n('PASCO, WA',)\n('CAMDEN, NJ',)\n('FAR ROCKAWAY, NY',)\n('NEW ROCHELLE, NY',)\n('WARREN, OH',)\n('KOKOMO, IN',)\n('SPRINGFIELD, OR',)\n('DUBLIN, OH',)\n('SAINT CLOUD, MN',)\n('PHARR, TX',)\n('EAST ELMHURST, NY',)\n('BOSSIER CITY, LA',)\n('BRANDON, MS',)\n('BOLINGBROOK, IL',)\n('FOLSOM, CA',)\n('HOT SPRINGS NATIONAL PARK, AR',)\n('GOODYEAR, AZ',)\n('BRICK, NJ',)\n('WILKES BARRE, PA',)\n('LODI, CA',)\n('MATTHEWS, NC',)\n('CEDAR PARK, TX',)\n('SAN RAFAEL, CA',)\n('NEW BRITAIN, CT',)\n('GOLDSBORO, NC',)\n('LA MESA, CA',)\n('SAN MARCOS, TX',)\n('JOPLIN, MO',)\n('WATERFORD, MI',)\n('CASPER, WY',)\n('SAINT PETERS, MO',)\n('DUBUQUE, IA',)\n('UNION CITY, CA',)\n('PLAINFIELD, NJ',)\n('GREAT FALLS, MT',)\n('COUNCIL BLUFFS, IA',)\n('JANESVILLE, WI',)\n('PETALUMA, CA',)\n('CASTLE ROCK, CO',)\n('PALM BEACH GARDENS, FL',)\n('STATESVILLE, NC',)\n('BESSEMER, AL',)\n('TRAVERSE CITY, MI',)\n('SUWANEE, GA',)\n('NORTH LITTLE ROCK, AR',)\n('PANORAMA CITY, CA',)\n('SPRING VALLEY, CA',)\n('TULARE, CA',)\n('WINCHESTER, VA',)\n('SHAWNEE, KS',)\n('HAMMOND, IN',)\n('MILPITAS, CA',)\n('PAWTUCKET, RI',)\n('MOORESVILLE, NC',)\n('LYNWOOD, CA',)\n('LAYTON, UT',)\n('CENTREVILLE, VA',)\n('CHERRY HILL, NJ',)\n('CRANSTON, RI',)\n('WHITE PLAINS, NY',)\n('WEST LAFAYETTE, IN',)\n('UTICA, NY',)\n('BUCKEYE, AZ',)\n('NOBLESVILLE, IN',)\n('COLUMBUS, IN',)\n('HARRISONBURG, VA',)\n('PORT CHARLOTTE, FL',)\n('FOREST HILLS, NY',)\n('TROY, NY',)\n('PASSAIC, NJ',)\n('MECHANICSBURG, PA',)\n('FRAMINGHAM, MA',)\n('DOVER, DE',)\n('MADISON, AL',)\n('STUART, FL',)\n('AIKEN, SC',)\n('ROCKY MOUNT, NC',)\n('SALISBURY, MD',)\n('YORBA LINDA, CA',)\n('PARKVILLE, MD',)\n('HUNTINGTON STATION, NY',)\n('SANFORD, NC',)\n('WATERLOO, IA',)\n('WOODLAND HILLS, CA',)\n('QUEENS VILLAGE, NY',)\n('JEFFERSON CITY, MO',)\n('OSSEO, MN',)\n('STATE COLLEGE, PA',)\n('KINGWOOD, TX',)\n('LA HABRA, CA',)\n('HENDERSONVILLE, NC',)\n('JOHNSTOWN, PA',)\n('GRANTS PASS, OR',)\n('FLOWER MOUND, TX',)\n('UNION CITY, NJ',)\n('GLEN ALLEN, VA',)\n('ITHACA, NY',)\n('STOCKBRIDGE, GA',)\n('PORT ORANGE, FL',)\n('KENNER, LA',)\n('WEATHERFORD, TX',)\n('VENICE, FL',)\n('APEX, NC',)\n('MOUNT VERNON, NY',)\n('PUNTA GORDA, FL',)\n('LEBANON, PA',)\n('COOKEVILLE, TN',)\n('LORAIN, OH',)\n('WEST BLOOMFIELD, MI',)\n('LOGAN, UT',)\n('BAY CITY, MI',)\n('VIENNA, VA',)\n('BAY SHORE, NY',)\n('AMES, IA',)\n('GADSDEN, AL',)\n('ORLAND PARK, IL',)\n('SOUTH SAN FRANCISCO, CA',)\n('ARCADIA, CA',)\n('NEW BERN, NC',)\n('CONWAY, SC',)\n('HANFORD, CA',)\n('WESLACO, TX',)\n('SAINT CLOUD, FL',)\n('MANSFIELD, TX',)\n('PORTLAND, ME',)\n('CORVALLIS, OR',)\n('MERIDIAN, MS',)\n('BAYONNE, NJ',)\n('BELLEVUE, NE',)\n('TINLEY PARK, IL',)\n('LAGUNA NIGUEL, CA',)\n('CALDWELL, ID',)\n('SAN CLEMENTE, CA',)\n('NORTH RICHLAND HILLS, TX',)\n('BRUNSWICK, GA',)\n('MIDLAND, MI',)\n('NORTHRIDGE, CA',)\n('BURLESON, TX',)\n('MANHATTAN, KS',)\n('HUNTSVILLE, TX',)\n('LUFKIN, TX',)\n('JACKSON HEIGHTS, NY',)\n('EAST ORANGE, NJ',)\n('WESLEY CHAPEL, FL',)\n('NIAGARA FALLS, NY',)\n('LA CROSSE, WI',)\n('DECATUR, AL',)\n('MECHANICSVILLE, VA',)\n('VALRICO, FL',)\n('PHENIX CITY, AL',)\n('VALLEY STREAM, NY',)\n('NEWPORT BEACH, CA',)\n('BEL AIR, MD',)\n('BERWYN, IL',)\n('MASSILLON, OH',)\n('NORTH HILLS, CA',)\n('FLORENCE, AL',)\n('NORTH PORT, FL',)\n('PICO RIVERA, CA',)\n('EULESS, TX',)\n('RANCHO CORDOVA, CA',)\n('LEVITTOWN, PA',)\n('ROSEMEAD, CA',)\n('CLEARFIELD, UT',)\n('CASA GRANDE, AZ',)\n('ELYRIA, OH',)\n('MARTINSBURG, WV',)\n('EAST LANSING, MI',)\n('SAN GABRIEL, CA',)\n('DELAND, FL',)\n('WEST HARTFORD, CT',)\n('VALENCIA, CA',)\n('MONTEBELLO, CA',)\n('LAKEWOOD, WA',)\n('WEST NEW YORK, NJ',)\n('SAN LUIS OBISPO, CA',)\n('BILOXI, MS',)\n('LEANDER, TX',)\n('FAYETTEVILLE, GA',)\n('YUKON, OK',)\n('POTTSTOWN, PA',)\n('SHEBOYGAN, WI',)\n('ALTOONA, PA',)\n('BOZEMAN, MT',)\n('BROOKSVILLE, FL',)\n('EDEN PRAIRIE, MN',)\n('NORTH BERGEN, NJ',)\n('SNOHOMISH, WA',)\n('HENDERSONVILLE, TN',)\n('ORMOND BEACH, FL',)\n('MEDINA, OH',)\n('WALTHAM, MA',)\n('CUPERTINO, CA',)\n('LILBURN, GA',)\n('COCOA, FL',)\n('SPRING VALLEY, NY',)\n('ROCKWALL, TX',)\n('HAVERHILL, MA',)\n('TAYLOR, MI',)\n('MIDDLETOWN, NY',)\n('CARTERSVILLE, GA',)\n('NEW CASTLE, DE',)\n('VINELAND, NJ',)\n('GROVE CITY, OH',)\n('NATIONAL CITY, CA',)\n('CARSON CITY, NV',)\n('WOODLAND, CA',)\n('MANKATO, MN',)\n('HAMDEN, CT',)\n('PORT ORCHARD, WA',)\n('RESTON, VA',)\n('BRENTWOOD, NY',)\n('TEXARKANA, TX',)\n('FOND DU LAC, WI',)\n('CARMICHAEL, CA',)\n('POWDER SPRINGS, GA',)\n('BURNSVILLE, MN',)\n('NOVATO, CA',)\n('NEW IBERIA, LA',)\n('AZUSA, CA',)\n('PASADENA, MD',)\n('ROUND LAKE, IL',)\n('MONTEREY PARK, CA',)\n('MENTOR, OH',)\n('ALBANY, OR',)\n('NEWARK, OH',)\n('AUBURN, AL',)\n('CARROLLTON, GA',)\n('WILSON, NC',)\n('RIVERDALE, GA',)\n('MALDEN, MA',)\n('GRIFFIN, GA',)\n('LUTZ, FL',)\n('CROWN POINT, IN',)\n('SAN PABLO, CA',)\n('SKOKIE, IL',)\n('MERIDEN, CT',)\n('BRISTOL, CT',)\n('SOUTH JORDAN, UT',)\n('EASLEY, SC',)\n('LAKE FOREST, CA',)\n('PONTIAC, MI',)\n('WHEATON, IL',)\n('HEMPSTEAD, NY',)\n('GILROY, CA',)\n('MAGNOLIA, TX',)\n('ALEXANDRIA, LA',)\n('ANNANDALE, VA',)\n('ROCKLIN, CA',)\n('SAINT CLAIR SHORES, MI',)\n('CRYSTAL LAKE, IL',)\n('LOGANVILLE, GA',)\n('WAKE FOREST, NC',)\n('LANCASTER, OH',)\n('HIGHLAND, CA',)\n('OWINGS MILLS, MD',)\n('DANVILLE, VA',)\n('PETERSBURG, VA',)\n('CHESTERFIELD, MO',)\n('WEST DES MOINES, IA',)\n('HILLIARD, OH',)\n('MEDFORD, MA',)\n('OZONE PARK, NY',)\n('CLAYTON, NC',)\n('HOWELL, MI',)\n('CHICAGO HEIGHTS, IL',)\n('GOLDEN, CO',)\n('ROYAL OAK, MI',)\n('COLTON, CA',)\n('LOMPOC, CA',)\n('GOSHEN, IN',)\n('LAKE CITY, FL',)\n('COEUR D ALENE, ID',)\n('BRENTWOOD, CA',)\n('GREENSBURG, PA',)\n('FRESH MEADOWS, NY',)\n('STATESBORO, GA',)\n('MANCHESTER, CT',)\n('GOOSE CREEK, SC',)\n('SAINT CHARLES, IL',)\n('CASTRO VALLEY, CA',)\n('WILMINGTON, CA',)\n('SHERMAN OAKS, CA',)\n('RICHMOND, KY',)\n('PALM DESERT, CA',)\n('ATHENS, AL',)\n('LAND O LAKES, FL',)\n('NEW BALTIMORE, MI',)\n('PLYMOUTH, MA',)\n('STILLWATER, OK',)\n('WESTMINSTER, MD',)\n('FOUNTAIN VALLEY, CA',)\n('GRETNA, LA',)\n('LEBANON, TN',)\n('PISCATAWAY, NJ',)\n('ROWLETT, TX',)\n('SUN CITY, CA',)\n('GRAND FORKS, ND',)\n('NEW BRUNSWICK, NJ',)\n('NACOGDOCHES, TX',)\n('PRESCOTT, AZ',)\n('SAN BENITO, TX',)\n('SANTA CLARITA, CA',)\n('OAK LAWN, IL',)\n('ROSWELL, NM',)\n('LAKE HAVASU CITY, AZ',)\n('ALTAMONTE SPRINGS, FL',)\n('CHILLICOTHE, OH',)\n('FARMINGTON, NM',)\n('FAIRFIELD, CT',)\n('DEARBORN HEIGHTS, MI',)\n"
     ]
    }
   ],
   "source": [
    "# Query Single Record in the the Database\n",
    "city_state = engine.execute(\"SELECT CityState FROM Census_Data\") # can also include filters using WHERE statement in the SQL statement\n",
    "for result in city_state:\n",
    "    print(result)"
   ]
  },
  {
   "cell_type": "code",
   "execution_count": 16,
   "metadata": {},
   "outputs": [
    {
     "output_type": "error",
     "ename": "OperationalError",
     "evalue": "(sqlite3.OperationalError) near \"#160\": syntax error\n[SQL: SELECT Household&#160;Income FROM Census_Data]\n(Background on this error at: http://sqlalche.me/e/14/e3q8)",
     "traceback": [
      "\u001b[1;31m---------------------------------------------------------------------------\u001b[0m",
      "\u001b[1;31mOperationalError\u001b[0m                          Traceback (most recent call last)",
      "\u001b[1;32m~\\anaconda3\\envs\\PythonData\\lib\\site-packages\\sqlalchemy\\engine\\base.py\u001b[0m in \u001b[0;36m_execute_context\u001b[1;34m(self, dialect, constructor, statement, parameters, execution_options, *args, **kw)\u001b[0m\n\u001b[0;32m   1705\u001b[0m                     self.dialect.do_execute(\n\u001b[1;32m-> 1706\u001b[1;33m                         \u001b[0mcursor\u001b[0m\u001b[1;33m,\u001b[0m \u001b[0mstatement\u001b[0m\u001b[1;33m,\u001b[0m \u001b[0mparameters\u001b[0m\u001b[1;33m,\u001b[0m \u001b[0mcontext\u001b[0m\u001b[1;33m\u001b[0m\u001b[1;33m\u001b[0m\u001b[0m\n\u001b[0m\u001b[0;32m   1707\u001b[0m                     )\n",
      "\u001b[1;32m~\\anaconda3\\envs\\PythonData\\lib\\site-packages\\sqlalchemy\\engine\\default.py\u001b[0m in \u001b[0;36mdo_execute\u001b[1;34m(self, cursor, statement, parameters, context)\u001b[0m\n\u001b[0;32m    691\u001b[0m     \u001b[1;32mdef\u001b[0m \u001b[0mdo_execute\u001b[0m\u001b[1;33m(\u001b[0m\u001b[0mself\u001b[0m\u001b[1;33m,\u001b[0m \u001b[0mcursor\u001b[0m\u001b[1;33m,\u001b[0m \u001b[0mstatement\u001b[0m\u001b[1;33m,\u001b[0m \u001b[0mparameters\u001b[0m\u001b[1;33m,\u001b[0m \u001b[0mcontext\u001b[0m\u001b[1;33m=\u001b[0m\u001b[1;32mNone\u001b[0m\u001b[1;33m)\u001b[0m\u001b[1;33m:\u001b[0m\u001b[1;33m\u001b[0m\u001b[1;33m\u001b[0m\u001b[0m\n\u001b[1;32m--> 692\u001b[1;33m         \u001b[0mcursor\u001b[0m\u001b[1;33m.\u001b[0m\u001b[0mexecute\u001b[0m\u001b[1;33m(\u001b[0m\u001b[0mstatement\u001b[0m\u001b[1;33m,\u001b[0m \u001b[0mparameters\u001b[0m\u001b[1;33m)\u001b[0m\u001b[1;33m\u001b[0m\u001b[1;33m\u001b[0m\u001b[0m\n\u001b[0m\u001b[0;32m    693\u001b[0m \u001b[1;33m\u001b[0m\u001b[0m\n",
      "\u001b[1;31mOperationalError\u001b[0m: near \"#160\": syntax error",
      "\nThe above exception was the direct cause of the following exception:\n",
      "\u001b[1;31mOperationalError\u001b[0m                          Traceback (most recent call last)",
      "\u001b[1;32m<ipython-input-16-66641870b18d>\u001b[0m in \u001b[0;36m<module>\u001b[1;34m\u001b[0m\n\u001b[0;32m      1\u001b[0m \u001b[1;31m# Query Single Record in the the Database\u001b[0m\u001b[1;33m\u001b[0m\u001b[1;33m\u001b[0m\u001b[1;33m\u001b[0m\u001b[0m\n\u001b[1;32m----> 2\u001b[1;33m \u001b[0mhousehold_incomes\u001b[0m \u001b[1;33m=\u001b[0m \u001b[0mengine\u001b[0m\u001b[1;33m.\u001b[0m\u001b[0mexecute\u001b[0m\u001b[1;33m(\u001b[0m\u001b[1;34m\"SELECT Household&#160;Income FROM Census_Data\"\u001b[0m\u001b[1;33m)\u001b[0m\u001b[1;33m\u001b[0m\u001b[1;33m\u001b[0m\u001b[0m\n\u001b[0m\u001b[0;32m      3\u001b[0m \u001b[1;32mfor\u001b[0m \u001b[0mrecord\u001b[0m \u001b[1;32min\u001b[0m \u001b[0mhousehold_incomes\u001b[0m\u001b[1;33m:\u001b[0m\u001b[1;33m\u001b[0m\u001b[1;33m\u001b[0m\u001b[0m\n\u001b[0;32m      4\u001b[0m     \u001b[0mprint\u001b[0m\u001b[1;33m(\u001b[0m\u001b[0mrecord\u001b[0m\u001b[1;33m)\u001b[0m\u001b[1;33m\u001b[0m\u001b[1;33m\u001b[0m\u001b[0m\n",
      "\u001b[1;32m<string>\u001b[0m in \u001b[0;36mexecute\u001b[1;34m(self, statement, *multiparams, **params)\u001b[0m\n",
      "\u001b[1;32m~\\anaconda3\\envs\\PythonData\\lib\\site-packages\\sqlalchemy\\util\\deprecations.py\u001b[0m in \u001b[0;36mwarned\u001b[1;34m(fn, *args, **kwargs)\u001b[0m\n\u001b[0;32m    388\u001b[0m         \u001b[1;32mif\u001b[0m \u001b[1;32mnot\u001b[0m \u001b[0mskip_warning\u001b[0m\u001b[1;33m:\u001b[0m\u001b[1;33m\u001b[0m\u001b[1;33m\u001b[0m\u001b[0m\n\u001b[0;32m    389\u001b[0m             \u001b[0m_warn_with_version\u001b[0m\u001b[1;33m(\u001b[0m\u001b[0mmessage\u001b[0m\u001b[1;33m,\u001b[0m \u001b[0mversion\u001b[0m\u001b[1;33m,\u001b[0m \u001b[0mwtype\u001b[0m\u001b[1;33m,\u001b[0m \u001b[0mstacklevel\u001b[0m\u001b[1;33m=\u001b[0m\u001b[1;36m3\u001b[0m\u001b[1;33m)\u001b[0m\u001b[1;33m\u001b[0m\u001b[1;33m\u001b[0m\u001b[0m\n\u001b[1;32m--> 390\u001b[1;33m         \u001b[1;32mreturn\u001b[0m \u001b[0mfn\u001b[0m\u001b[1;33m(\u001b[0m\u001b[1;33m*\u001b[0m\u001b[0margs\u001b[0m\u001b[1;33m,\u001b[0m \u001b[1;33m**\u001b[0m\u001b[0mkwargs\u001b[0m\u001b[1;33m)\u001b[0m\u001b[1;33m\u001b[0m\u001b[1;33m\u001b[0m\u001b[0m\n\u001b[0m\u001b[0;32m    391\u001b[0m \u001b[1;33m\u001b[0m\u001b[0m\n\u001b[0;32m    392\u001b[0m     \u001b[0mdoc\u001b[0m \u001b[1;33m=\u001b[0m \u001b[0mfunc\u001b[0m\u001b[1;33m.\u001b[0m\u001b[0m__doc__\u001b[0m \u001b[1;32mis\u001b[0m \u001b[1;32mnot\u001b[0m \u001b[1;32mNone\u001b[0m \u001b[1;32mand\u001b[0m \u001b[0mfunc\u001b[0m\u001b[1;33m.\u001b[0m\u001b[0m__doc__\u001b[0m \u001b[1;32mor\u001b[0m \u001b[1;34m\"\"\u001b[0m\u001b[1;33m\u001b[0m\u001b[1;33m\u001b[0m\u001b[0m\n",
      "\u001b[1;32m~\\anaconda3\\envs\\PythonData\\lib\\site-packages\\sqlalchemy\\engine\\base.py\u001b[0m in \u001b[0;36mexecute\u001b[1;34m(self, statement, *multiparams, **params)\u001b[0m\n\u001b[0;32m   3035\u001b[0m         \"\"\"\n\u001b[0;32m   3036\u001b[0m         \u001b[0mconnection\u001b[0m \u001b[1;33m=\u001b[0m \u001b[0mself\u001b[0m\u001b[1;33m.\u001b[0m\u001b[0mconnect\u001b[0m\u001b[1;33m(\u001b[0m\u001b[0mclose_with_result\u001b[0m\u001b[1;33m=\u001b[0m\u001b[1;32mTrue\u001b[0m\u001b[1;33m)\u001b[0m\u001b[1;33m\u001b[0m\u001b[1;33m\u001b[0m\u001b[0m\n\u001b[1;32m-> 3037\u001b[1;33m         \u001b[1;32mreturn\u001b[0m \u001b[0mconnection\u001b[0m\u001b[1;33m.\u001b[0m\u001b[0mexecute\u001b[0m\u001b[1;33m(\u001b[0m\u001b[0mstatement\u001b[0m\u001b[1;33m,\u001b[0m \u001b[1;33m*\u001b[0m\u001b[0mmultiparams\u001b[0m\u001b[1;33m,\u001b[0m \u001b[1;33m**\u001b[0m\u001b[0mparams\u001b[0m\u001b[1;33m)\u001b[0m\u001b[1;33m\u001b[0m\u001b[1;33m\u001b[0m\u001b[0m\n\u001b[0m\u001b[0;32m   3038\u001b[0m \u001b[1;33m\u001b[0m\u001b[0m\n\u001b[0;32m   3039\u001b[0m     @util.deprecated_20(\n",
      "\u001b[1;32m~\\anaconda3\\envs\\PythonData\\lib\\site-packages\\sqlalchemy\\engine\\base.py\u001b[0m in \u001b[0;36mexecute\u001b[1;34m(self, statement, *multiparams, **params)\u001b[0m\n\u001b[0;32m   1188\u001b[0m                 \u001b[0mparams\u001b[0m\u001b[1;33m,\u001b[0m\u001b[1;33m\u001b[0m\u001b[1;33m\u001b[0m\u001b[0m\n\u001b[0;32m   1189\u001b[0m                 \u001b[0m_EMPTY_EXECUTION_OPTS\u001b[0m\u001b[1;33m,\u001b[0m\u001b[1;33m\u001b[0m\u001b[1;33m\u001b[0m\u001b[0m\n\u001b[1;32m-> 1190\u001b[1;33m                 \u001b[0mfuture\u001b[0m\u001b[1;33m=\u001b[0m\u001b[1;32mFalse\u001b[0m\u001b[1;33m,\u001b[0m\u001b[1;33m\u001b[0m\u001b[1;33m\u001b[0m\u001b[0m\n\u001b[0m\u001b[0;32m   1191\u001b[0m             )\n\u001b[0;32m   1192\u001b[0m \u001b[1;33m\u001b[0m\u001b[0m\n",
      "\u001b[1;32m~\\anaconda3\\envs\\PythonData\\lib\\site-packages\\sqlalchemy\\engine\\base.py\u001b[0m in \u001b[0;36m_exec_driver_sql\u001b[1;34m(self, statement, multiparams, params, execution_options, future)\u001b[0m\n\u001b[0;32m   1489\u001b[0m             \u001b[0mexecution_options\u001b[0m\u001b[1;33m,\u001b[0m\u001b[1;33m\u001b[0m\u001b[1;33m\u001b[0m\u001b[0m\n\u001b[0;32m   1490\u001b[0m             \u001b[0mstatement\u001b[0m\u001b[1;33m,\u001b[0m\u001b[1;33m\u001b[0m\u001b[1;33m\u001b[0m\u001b[0m\n\u001b[1;32m-> 1491\u001b[1;33m             \u001b[0mdistilled_parameters\u001b[0m\u001b[1;33m,\u001b[0m\u001b[1;33m\u001b[0m\u001b[1;33m\u001b[0m\u001b[0m\n\u001b[0m\u001b[0;32m   1492\u001b[0m         )\n\u001b[0;32m   1493\u001b[0m \u001b[1;33m\u001b[0m\u001b[0m\n",
      "\u001b[1;32m~\\anaconda3\\envs\\PythonData\\lib\\site-packages\\sqlalchemy\\engine\\base.py\u001b[0m in \u001b[0;36m_execute_context\u001b[1;34m(self, dialect, constructor, statement, parameters, execution_options, *args, **kw)\u001b[0m\n\u001b[0;32m   1747\u001b[0m         \u001b[1;32mexcept\u001b[0m \u001b[0mBaseException\u001b[0m \u001b[1;32mas\u001b[0m \u001b[0me\u001b[0m\u001b[1;33m:\u001b[0m\u001b[1;33m\u001b[0m\u001b[1;33m\u001b[0m\u001b[0m\n\u001b[0;32m   1748\u001b[0m             self._handle_dbapi_exception(\n\u001b[1;32m-> 1749\u001b[1;33m                 \u001b[0me\u001b[0m\u001b[1;33m,\u001b[0m \u001b[0mstatement\u001b[0m\u001b[1;33m,\u001b[0m \u001b[0mparameters\u001b[0m\u001b[1;33m,\u001b[0m \u001b[0mcursor\u001b[0m\u001b[1;33m,\u001b[0m \u001b[0mcontext\u001b[0m\u001b[1;33m\u001b[0m\u001b[1;33m\u001b[0m\u001b[0m\n\u001b[0m\u001b[0;32m   1750\u001b[0m             )\n\u001b[0;32m   1751\u001b[0m \u001b[1;33m\u001b[0m\u001b[0m\n",
      "\u001b[1;32m~\\anaconda3\\envs\\PythonData\\lib\\site-packages\\sqlalchemy\\engine\\base.py\u001b[0m in \u001b[0;36m_handle_dbapi_exception\u001b[1;34m(self, e, statement, parameters, cursor, context)\u001b[0m\n\u001b[0;32m   1928\u001b[0m             \u001b[1;32melif\u001b[0m \u001b[0mshould_wrap\u001b[0m\u001b[1;33m:\u001b[0m\u001b[1;33m\u001b[0m\u001b[1;33m\u001b[0m\u001b[0m\n\u001b[0;32m   1929\u001b[0m                 util.raise_(\n\u001b[1;32m-> 1930\u001b[1;33m                     \u001b[0msqlalchemy_exception\u001b[0m\u001b[1;33m,\u001b[0m \u001b[0mwith_traceback\u001b[0m\u001b[1;33m=\u001b[0m\u001b[0mexc_info\u001b[0m\u001b[1;33m[\u001b[0m\u001b[1;36m2\u001b[0m\u001b[1;33m]\u001b[0m\u001b[1;33m,\u001b[0m \u001b[0mfrom_\u001b[0m\u001b[1;33m=\u001b[0m\u001b[0me\u001b[0m\u001b[1;33m\u001b[0m\u001b[1;33m\u001b[0m\u001b[0m\n\u001b[0m\u001b[0;32m   1931\u001b[0m                 )\n\u001b[0;32m   1932\u001b[0m             \u001b[1;32melse\u001b[0m\u001b[1;33m:\u001b[0m\u001b[1;33m\u001b[0m\u001b[1;33m\u001b[0m\u001b[0m\n",
      "\u001b[1;32m~\\anaconda3\\envs\\PythonData\\lib\\site-packages\\sqlalchemy\\util\\compat.py\u001b[0m in \u001b[0;36mraise_\u001b[1;34m(***failed resolving arguments***)\u001b[0m\n\u001b[0;32m    209\u001b[0m \u001b[1;33m\u001b[0m\u001b[0m\n\u001b[0;32m    210\u001b[0m         \u001b[1;32mtry\u001b[0m\u001b[1;33m:\u001b[0m\u001b[1;33m\u001b[0m\u001b[1;33m\u001b[0m\u001b[0m\n\u001b[1;32m--> 211\u001b[1;33m             \u001b[1;32mraise\u001b[0m \u001b[0mexception\u001b[0m\u001b[1;33m\u001b[0m\u001b[1;33m\u001b[0m\u001b[0m\n\u001b[0m\u001b[0;32m    212\u001b[0m         \u001b[1;32mfinally\u001b[0m\u001b[1;33m:\u001b[0m\u001b[1;33m\u001b[0m\u001b[1;33m\u001b[0m\u001b[0m\n\u001b[0;32m    213\u001b[0m             \u001b[1;31m# credit to\u001b[0m\u001b[1;33m\u001b[0m\u001b[1;33m\u001b[0m\u001b[1;33m\u001b[0m\u001b[0m\n",
      "\u001b[1;32m~\\anaconda3\\envs\\PythonData\\lib\\site-packages\\sqlalchemy\\engine\\base.py\u001b[0m in \u001b[0;36m_execute_context\u001b[1;34m(self, dialect, constructor, statement, parameters, execution_options, *args, **kw)\u001b[0m\n\u001b[0;32m   1704\u001b[0m                 \u001b[1;32mif\u001b[0m \u001b[1;32mnot\u001b[0m \u001b[0mevt_handled\u001b[0m\u001b[1;33m:\u001b[0m\u001b[1;33m\u001b[0m\u001b[1;33m\u001b[0m\u001b[0m\n\u001b[0;32m   1705\u001b[0m                     self.dialect.do_execute(\n\u001b[1;32m-> 1706\u001b[1;33m                         \u001b[0mcursor\u001b[0m\u001b[1;33m,\u001b[0m \u001b[0mstatement\u001b[0m\u001b[1;33m,\u001b[0m \u001b[0mparameters\u001b[0m\u001b[1;33m,\u001b[0m \u001b[0mcontext\u001b[0m\u001b[1;33m\u001b[0m\u001b[1;33m\u001b[0m\u001b[0m\n\u001b[0m\u001b[0;32m   1707\u001b[0m                     )\n\u001b[0;32m   1708\u001b[0m \u001b[1;33m\u001b[0m\u001b[0m\n",
      "\u001b[1;32m~\\anaconda3\\envs\\PythonData\\lib\\site-packages\\sqlalchemy\\engine\\default.py\u001b[0m in \u001b[0;36mdo_execute\u001b[1;34m(self, cursor, statement, parameters, context)\u001b[0m\n\u001b[0;32m    690\u001b[0m \u001b[1;33m\u001b[0m\u001b[0m\n\u001b[0;32m    691\u001b[0m     \u001b[1;32mdef\u001b[0m \u001b[0mdo_execute\u001b[0m\u001b[1;33m(\u001b[0m\u001b[0mself\u001b[0m\u001b[1;33m,\u001b[0m \u001b[0mcursor\u001b[0m\u001b[1;33m,\u001b[0m \u001b[0mstatement\u001b[0m\u001b[1;33m,\u001b[0m \u001b[0mparameters\u001b[0m\u001b[1;33m,\u001b[0m \u001b[0mcontext\u001b[0m\u001b[1;33m=\u001b[0m\u001b[1;32mNone\u001b[0m\u001b[1;33m)\u001b[0m\u001b[1;33m:\u001b[0m\u001b[1;33m\u001b[0m\u001b[1;33m\u001b[0m\u001b[0m\n\u001b[1;32m--> 692\u001b[1;33m         \u001b[0mcursor\u001b[0m\u001b[1;33m.\u001b[0m\u001b[0mexecute\u001b[0m\u001b[1;33m(\u001b[0m\u001b[0mstatement\u001b[0m\u001b[1;33m,\u001b[0m \u001b[0mparameters\u001b[0m\u001b[1;33m)\u001b[0m\u001b[1;33m\u001b[0m\u001b[1;33m\u001b[0m\u001b[0m\n\u001b[0m\u001b[0;32m    693\u001b[0m \u001b[1;33m\u001b[0m\u001b[0m\n\u001b[0;32m    694\u001b[0m     \u001b[1;32mdef\u001b[0m \u001b[0mdo_execute_no_params\u001b[0m\u001b[1;33m(\u001b[0m\u001b[0mself\u001b[0m\u001b[1;33m,\u001b[0m \u001b[0mcursor\u001b[0m\u001b[1;33m,\u001b[0m \u001b[0mstatement\u001b[0m\u001b[1;33m,\u001b[0m \u001b[0mcontext\u001b[0m\u001b[1;33m=\u001b[0m\u001b[1;32mNone\u001b[0m\u001b[1;33m)\u001b[0m\u001b[1;33m:\u001b[0m\u001b[1;33m\u001b[0m\u001b[1;33m\u001b[0m\u001b[0m\n",
      "\u001b[1;31mOperationalError\u001b[0m: (sqlite3.OperationalError) near \"#160\": syntax error\n[SQL: SELECT Household&#160;Income FROM Census_Data]\n(Background on this error at: http://sqlalche.me/e/14/e3q8)"
     ]
    }
   ],
   "source": [
    "# Query Single Record in the the Database\n",
    "household_incomes = engine.execute(\"SELECT Household&#160;Income FROM Census_Data\")\n",
    "for record in household_incomes:\n",
    "    print(record)"
   ]
  },
  {
   "cell_type": "markdown",
   "metadata": {},
   "source": [
    "### Read SQLite file into Pandas DataFrame"
   ]
  },
  {
   "cell_type": "code",
   "execution_count": 18,
   "metadata": {},
   "outputs": [],
   "source": [
    "# Make a connection to the SQL database\n",
    "conn = engine.connect()"
   ]
  },
  {
   "cell_type": "code",
   "execution_count": 19,
   "metadata": {},
   "outputs": [
    {
     "output_type": "execute_result",
     "data": {
      "text/plain": [
       "         CityState         city state  Population  White Population  \\\n",
       "0      HOUSTON, TX      HOUSTON    TX     3061887           1775897   \n",
       "1      CHICAGO, IL      CHICAGO    IL     2702091           1318869   \n",
       "2     BROOKLYN, NY     BROOKLYN    NY     2595259           1126111   \n",
       "3  LOS ANGELES, CA  LOS ANGELES    CA     2426413           1068202   \n",
       "4        MIAMI, FL        MIAMI    FL     1820704           1361009   \n",
       "\n",
       "   Black Population  Native American Population  Asian Population  \\\n",
       "0            684416                       11586            230549   \n",
       "1            843633                        7554            161478   \n",
       "2            870465                        8744            297890   \n",
       "3            324842                       15949            273829   \n",
       "4            363514                        2250             33144   \n",
       "\n",
       "   Hispanic Population  Education None  ...  \\\n",
       "0              1368287           54180  ...   \n",
       "1               785374           32800  ...   \n",
       "2               509243           48934  ...   \n",
       "3              1292382           62684  ...   \n",
       "4              1162711           27137  ...   \n",
       "\n",
       "   Employment Female Computer Engineering  Median Age  Median Male Age  \\\n",
       "0                                   22637   33.439583        32.550000   \n",
       "1                                   18209   34.526786        33.798214   \n",
       "2                                   14845   35.175676        33.367568   \n",
       "3                                   12329   35.335484        34.535484   \n",
       "4                                    6969   38.740741        37.120370   \n",
       "\n",
       "   Median Female Age  Household Income  Income Per Capita  Median Gross Rent  \\\n",
       "0          34.363542       56206.50000        32239.52083         956.708333   \n",
       "1          35.141071       57735.96429        38730.83929        1119.928571   \n",
       "2          36.578378       51469.18919        28309.67568        1261.783784   \n",
       "3          36.061290       47494.58333        30073.19355        1201.766667   \n",
       "4          40.262963       51232.90741        25949.35185        1260.833333   \n",
       "\n",
       "   Median Home Value        lat         lng  \n",
       "0        178233.6842  29.775734  -95.414548  \n",
       "1        264739.2857  41.867838  -87.673440  \n",
       "2        605743.2432  40.652805  -73.956528  \n",
       "3        557115.0000  34.042209 -118.303468  \n",
       "4        243279.6296  25.760268  -80.298511  \n",
       "\n",
       "[5 rows x 31 columns]"
      ],
      "text/html": "<div>\n<style scoped>\n    .dataframe tbody tr th:only-of-type {\n        vertical-align: middle;\n    }\n\n    .dataframe tbody tr th {\n        vertical-align: top;\n    }\n\n    .dataframe thead th {\n        text-align: right;\n    }\n</style>\n<table border=\"1\" class=\"dataframe\">\n  <thead>\n    <tr style=\"text-align: right;\">\n      <th></th>\n      <th>CityState</th>\n      <th>city</th>\n      <th>state</th>\n      <th>Population</th>\n      <th>White Population</th>\n      <th>Black Population</th>\n      <th>Native American Population</th>\n      <th>Asian Population</th>\n      <th>Hispanic Population</th>\n      <th>Education None</th>\n      <th>...</th>\n      <th>Employment Female Computer Engineering</th>\n      <th>Median Age</th>\n      <th>Median Male Age</th>\n      <th>Median Female Age</th>\n      <th>Household Income</th>\n      <th>Income Per Capita</th>\n      <th>Median Gross Rent</th>\n      <th>Median Home Value</th>\n      <th>lat</th>\n      <th>lng</th>\n    </tr>\n  </thead>\n  <tbody>\n    <tr>\n      <th>0</th>\n      <td>HOUSTON, TX</td>\n      <td>HOUSTON</td>\n      <td>TX</td>\n      <td>3061887</td>\n      <td>1775897</td>\n      <td>684416</td>\n      <td>11586</td>\n      <td>230549</td>\n      <td>1368287</td>\n      <td>54180</td>\n      <td>...</td>\n      <td>22637</td>\n      <td>33.439583</td>\n      <td>32.550000</td>\n      <td>34.363542</td>\n      <td>56206.50000</td>\n      <td>32239.52083</td>\n      <td>956.708333</td>\n      <td>178233.6842</td>\n      <td>29.775734</td>\n      <td>-95.414548</td>\n    </tr>\n    <tr>\n      <th>1</th>\n      <td>CHICAGO, IL</td>\n      <td>CHICAGO</td>\n      <td>IL</td>\n      <td>2702091</td>\n      <td>1318869</td>\n      <td>843633</td>\n      <td>7554</td>\n      <td>161478</td>\n      <td>785374</td>\n      <td>32800</td>\n      <td>...</td>\n      <td>18209</td>\n      <td>34.526786</td>\n      <td>33.798214</td>\n      <td>35.141071</td>\n      <td>57735.96429</td>\n      <td>38730.83929</td>\n      <td>1119.928571</td>\n      <td>264739.2857</td>\n      <td>41.867838</td>\n      <td>-87.673440</td>\n    </tr>\n    <tr>\n      <th>2</th>\n      <td>BROOKLYN, NY</td>\n      <td>BROOKLYN</td>\n      <td>NY</td>\n      <td>2595259</td>\n      <td>1126111</td>\n      <td>870465</td>\n      <td>8744</td>\n      <td>297890</td>\n      <td>509243</td>\n      <td>48934</td>\n      <td>...</td>\n      <td>14845</td>\n      <td>35.175676</td>\n      <td>33.367568</td>\n      <td>36.578378</td>\n      <td>51469.18919</td>\n      <td>28309.67568</td>\n      <td>1261.783784</td>\n      <td>605743.2432</td>\n      <td>40.652805</td>\n      <td>-73.956528</td>\n    </tr>\n    <tr>\n      <th>3</th>\n      <td>LOS ANGELES, CA</td>\n      <td>LOS ANGELES</td>\n      <td>CA</td>\n      <td>2426413</td>\n      <td>1068202</td>\n      <td>324842</td>\n      <td>15949</td>\n      <td>273829</td>\n      <td>1292382</td>\n      <td>62684</td>\n      <td>...</td>\n      <td>12329</td>\n      <td>35.335484</td>\n      <td>34.535484</td>\n      <td>36.061290</td>\n      <td>47494.58333</td>\n      <td>30073.19355</td>\n      <td>1201.766667</td>\n      <td>557115.0000</td>\n      <td>34.042209</td>\n      <td>-118.303468</td>\n    </tr>\n    <tr>\n      <th>4</th>\n      <td>MIAMI, FL</td>\n      <td>MIAMI</td>\n      <td>FL</td>\n      <td>1820704</td>\n      <td>1361009</td>\n      <td>363514</td>\n      <td>2250</td>\n      <td>33144</td>\n      <td>1162711</td>\n      <td>27137</td>\n      <td>...</td>\n      <td>6969</td>\n      <td>38.740741</td>\n      <td>37.120370</td>\n      <td>40.262963</td>\n      <td>51232.90741</td>\n      <td>25949.35185</td>\n      <td>1260.833333</td>\n      <td>243279.6296</td>\n      <td>25.760268</td>\n      <td>-80.298511</td>\n    </tr>\n  </tbody>\n</table>\n<p>5 rows × 31 columns</p>\n</div>"
     },
     "metadata": {},
     "execution_count": 19
    }
   ],
   "source": [
    "# Query All Records in the the Database\n",
    "census_data_df = pd.read_sql(\"SELECT * FROM Census_Data\", conn)\n",
    "census_data_df.head()"
   ]
  },
  {
   "cell_type": "code",
   "execution_count": 20,
   "metadata": {},
   "outputs": [
    {
     "output_type": "execute_result",
     "data": {
      "text/plain": [
       "array(['HOUSTON, TX', 'CHICAGO, IL', 'BROOKLYN, NY', 'LOS ANGELES, CA',\n",
       "       'MIAMI, FL', 'SAN ANTONIO, TX', 'NEW YORK, NY', 'PHILADELPHIA, PA',\n",
       "       'LAS VEGAS, NV', 'BRONX, NY', 'PHOENIX, AZ', 'DALLAS, TX',\n",
       "       'SAN DIEGO, CA', 'DENVER, CO', 'AUSTIN, TX', 'SAN JOSE, CA',\n",
       "       'ORLANDO, FL', 'TUCSON, AZ', 'FORT WORTH, TX', 'CHARLOTTE, NC',\n",
       "       'SAN FRANCISCO, CA', 'MILWAUKEE, WI', 'FORT LAUDERDALE, FL',\n",
       "       'EL PASO, TX', 'SACRAMENTO, CA', 'TAMPA, FL', 'OKLAHOMA CITY, OK',\n",
       "       'ALBUQUERQUE, NM', 'SALT LAKE CITY, UT', 'FRESNO, CA',\n",
       "       'BAKERSFIELD, CA', 'MESA, AZ', 'LONG BEACH, CA', 'HOLLYWOOD, FL',\n",
       "       'RIVERSIDE, CA', 'AURORA, CO', 'OAKLAND, CA', 'ARLINGTON, TX',\n",
       "       'STOCKTON, CA', 'HIALEAH, FL', 'ANAHEIM, CA', 'SANTA ANA, CA',\n",
       "       'CORPUS CHRISTI, TX', 'MODESTO, CA', 'LAREDO, TX', 'KISSIMMEE, FL',\n",
       "       'CHULA VISTA, CA', 'CORONA, CA', 'SAN BERNARDINO, CA',\n",
       "       'FONTANA, CA', 'OXNARD, CA', 'BROWNSVILLE, TX',\n",
       "       'MORENO VALLEY, CA', 'WHITTIER, CA', 'SALINAS, CA',\n",
       "       'HOMESTEAD, FL', 'MISSION, TX', 'ONTARIO, CA', 'POMONA, CA',\n",
       "       'PASADENA, TX', 'EDINBURG, TX', 'MCALLEN, TX'], dtype=object)"
      ]
     },
     "metadata": {},
     "execution_count": 20
    }
   ],
   "source": [
    "# Get the CityState where the Household Income is equal to or greater than $100,000. \n",
    "census_data_df.loc[census_data_df[\"Hispanic Population\"] >= 100000][\"CityState\"].values"
   ]
  },
  {
   "cell_type": "code",
   "execution_count": 21,
   "metadata": {},
   "outputs": [
    {
     "output_type": "execute_result",
     "data": {
      "text/plain": [
       "         Population  White Population  Black Population  \\\n",
       "count  9.990000e+02      9.990000e+02        999.000000   \n",
       "mean   1.676974e+05      1.105973e+05      27694.100100   \n",
       "std    2.566043e+05      1.508968e+05      70237.496877   \n",
       "min    5.665600e+04      2.380000e+03        105.000000   \n",
       "25%    7.089850e+04      5.139800e+04       2932.500000   \n",
       "50%    9.336900e+04      6.724300e+04       8207.000000   \n",
       "75%    1.489445e+05      1.039805e+05      22969.000000   \n",
       "max    3.061887e+06      1.775897e+06     870465.000000   \n",
       "\n",
       "       Native American Population  Asian Population  Hispanic Population  \\\n",
       "count                  999.000000        999.000000         9.990000e+02   \n",
       "mean                   991.945946      11419.363363         3.917005e+04   \n",
       "std                   2297.259205      26906.391975         1.018179e+05   \n",
       "min                      2.000000        136.000000         5.440000e+02   \n",
       "25%                    186.500000       1669.500000         5.640500e+03   \n",
       "50%                    382.000000       4086.000000         1.430100e+04   \n",
       "75%                    825.000000      10900.500000         3.752850e+04   \n",
       "max                  29357.000000     339947.000000         1.368287e+06   \n",
       "\n",
       "       Education None  Education High School  Education GED  \\\n",
       "count      999.000000             999.000000     999.000000   \n",
       "mean      1885.815816           23248.018018    3868.761762   \n",
       "std       4252.930644           35227.746482    5843.970339   \n",
       "min         32.000000            2013.000000     172.000000   \n",
       "25%        448.500000           10090.500000    1303.500000   \n",
       "50%        837.000000           13777.000000    2310.000000   \n",
       "75%       1774.000000           21374.000000    3814.500000   \n",
       "max      62684.000000          389177.000000   65899.000000   \n",
       "\n",
       "       Education Associates  ...  Employment Female Computer Engineering  \\\n",
       "count            999.000000  ...                              999.000000   \n",
       "mean            8455.614615  ...                             1220.551552   \n",
       "std            11393.835888  ...                             2144.006231   \n",
       "min              899.000000  ...                                0.000000   \n",
       "25%             3797.500000  ...                              326.000000   \n",
       "50%             5046.000000  ...                              590.000000   \n",
       "75%             7976.000000  ...                             1173.000000   \n",
       "max           113990.000000  ...                            22637.000000   \n",
       "\n",
       "       Median Age  Median Male Age  Median Female Age  Household Income  \\\n",
       "count  999.000000       999.000000         999.000000        999.000000   \n",
       "mean    36.728758        35.564994          37.849369      60570.269105   \n",
       "std      4.934396         4.752334           5.121261      20206.685929   \n",
       "min     21.400000        21.350000          21.500000      23548.250000   \n",
       "25%     33.973333        33.000000          35.010000      45474.409090   \n",
       "50%     36.600000        35.300000          37.750000      55222.000000   \n",
       "75%     39.275000        38.000000          40.700000      71103.250000   \n",
       "max     63.866667        63.200000          64.400000     152760.666700   \n",
       "\n",
       "       Income Per Capita  Median Gross Rent  Median Home Value         lat  \\\n",
       "count         999.000000         999.000000       9.990000e+02  999.000000   \n",
       "mean        29022.028476        1073.368450       2.477122e+05   36.958382   \n",
       "std          9808.968724         313.829454       1.631071e+05    4.950274   \n",
       "min         11822.000000         545.000000       4.948333e+04   25.458304   \n",
       "25%         22393.208335         828.250000       1.436583e+05   33.713576   \n",
       "50%         26818.666670        1006.000000       1.949750e+05   37.360503   \n",
       "75%         33374.035715        1268.500000       3.000333e+05   40.763011   \n",
       "max         83906.000000        2394.000000       1.522550e+06   48.748558   \n",
       "\n",
       "              lng  \n",
       "count  999.000000  \n",
       "mean   -94.087058  \n",
       "std     16.801787  \n",
       "min   -123.375953  \n",
       "25%   -112.028753  \n",
       "50%    -87.968863  \n",
       "75%    -80.832494  \n",
       "max    -70.253823  \n",
       "\n",
       "[8 rows x 28 columns]"
      ],
      "text/html": "<div>\n<style scoped>\n    .dataframe tbody tr th:only-of-type {\n        vertical-align: middle;\n    }\n\n    .dataframe tbody tr th {\n        vertical-align: top;\n    }\n\n    .dataframe thead th {\n        text-align: right;\n    }\n</style>\n<table border=\"1\" class=\"dataframe\">\n  <thead>\n    <tr style=\"text-align: right;\">\n      <th></th>\n      <th>Population</th>\n      <th>White Population</th>\n      <th>Black Population</th>\n      <th>Native American Population</th>\n      <th>Asian Population</th>\n      <th>Hispanic Population</th>\n      <th>Education None</th>\n      <th>Education High School</th>\n      <th>Education GED</th>\n      <th>Education Associates</th>\n      <th>...</th>\n      <th>Employment Female Computer Engineering</th>\n      <th>Median Age</th>\n      <th>Median Male Age</th>\n      <th>Median Female Age</th>\n      <th>Household Income</th>\n      <th>Income Per Capita</th>\n      <th>Median Gross Rent</th>\n      <th>Median Home Value</th>\n      <th>lat</th>\n      <th>lng</th>\n    </tr>\n  </thead>\n  <tbody>\n    <tr>\n      <th>count</th>\n      <td>9.990000e+02</td>\n      <td>9.990000e+02</td>\n      <td>999.000000</td>\n      <td>999.000000</td>\n      <td>999.000000</td>\n      <td>9.990000e+02</td>\n      <td>999.000000</td>\n      <td>999.000000</td>\n      <td>999.000000</td>\n      <td>999.000000</td>\n      <td>...</td>\n      <td>999.000000</td>\n      <td>999.000000</td>\n      <td>999.000000</td>\n      <td>999.000000</td>\n      <td>999.000000</td>\n      <td>999.000000</td>\n      <td>999.000000</td>\n      <td>9.990000e+02</td>\n      <td>999.000000</td>\n      <td>999.000000</td>\n    </tr>\n    <tr>\n      <th>mean</th>\n      <td>1.676974e+05</td>\n      <td>1.105973e+05</td>\n      <td>27694.100100</td>\n      <td>991.945946</td>\n      <td>11419.363363</td>\n      <td>3.917005e+04</td>\n      <td>1885.815816</td>\n      <td>23248.018018</td>\n      <td>3868.761762</td>\n      <td>8455.614615</td>\n      <td>...</td>\n      <td>1220.551552</td>\n      <td>36.728758</td>\n      <td>35.564994</td>\n      <td>37.849369</td>\n      <td>60570.269105</td>\n      <td>29022.028476</td>\n      <td>1073.368450</td>\n      <td>2.477122e+05</td>\n      <td>36.958382</td>\n      <td>-94.087058</td>\n    </tr>\n    <tr>\n      <th>std</th>\n      <td>2.566043e+05</td>\n      <td>1.508968e+05</td>\n      <td>70237.496877</td>\n      <td>2297.259205</td>\n      <td>26906.391975</td>\n      <td>1.018179e+05</td>\n      <td>4252.930644</td>\n      <td>35227.746482</td>\n      <td>5843.970339</td>\n      <td>11393.835888</td>\n      <td>...</td>\n      <td>2144.006231</td>\n      <td>4.934396</td>\n      <td>4.752334</td>\n      <td>5.121261</td>\n      <td>20206.685929</td>\n      <td>9808.968724</td>\n      <td>313.829454</td>\n      <td>1.631071e+05</td>\n      <td>4.950274</td>\n      <td>16.801787</td>\n    </tr>\n    <tr>\n      <th>min</th>\n      <td>5.665600e+04</td>\n      <td>2.380000e+03</td>\n      <td>105.000000</td>\n      <td>2.000000</td>\n      <td>136.000000</td>\n      <td>5.440000e+02</td>\n      <td>32.000000</td>\n      <td>2013.000000</td>\n      <td>172.000000</td>\n      <td>899.000000</td>\n      <td>...</td>\n      <td>0.000000</td>\n      <td>21.400000</td>\n      <td>21.350000</td>\n      <td>21.500000</td>\n      <td>23548.250000</td>\n      <td>11822.000000</td>\n      <td>545.000000</td>\n      <td>4.948333e+04</td>\n      <td>25.458304</td>\n      <td>-123.375953</td>\n    </tr>\n    <tr>\n      <th>25%</th>\n      <td>7.089850e+04</td>\n      <td>5.139800e+04</td>\n      <td>2932.500000</td>\n      <td>186.500000</td>\n      <td>1669.500000</td>\n      <td>5.640500e+03</td>\n      <td>448.500000</td>\n      <td>10090.500000</td>\n      <td>1303.500000</td>\n      <td>3797.500000</td>\n      <td>...</td>\n      <td>326.000000</td>\n      <td>33.973333</td>\n      <td>33.000000</td>\n      <td>35.010000</td>\n      <td>45474.409090</td>\n      <td>22393.208335</td>\n      <td>828.250000</td>\n      <td>1.436583e+05</td>\n      <td>33.713576</td>\n      <td>-112.028753</td>\n    </tr>\n    <tr>\n      <th>50%</th>\n      <td>9.336900e+04</td>\n      <td>6.724300e+04</td>\n      <td>8207.000000</td>\n      <td>382.000000</td>\n      <td>4086.000000</td>\n      <td>1.430100e+04</td>\n      <td>837.000000</td>\n      <td>13777.000000</td>\n      <td>2310.000000</td>\n      <td>5046.000000</td>\n      <td>...</td>\n      <td>590.000000</td>\n      <td>36.600000</td>\n      <td>35.300000</td>\n      <td>37.750000</td>\n      <td>55222.000000</td>\n      <td>26818.666670</td>\n      <td>1006.000000</td>\n      <td>1.949750e+05</td>\n      <td>37.360503</td>\n      <td>-87.968863</td>\n    </tr>\n    <tr>\n      <th>75%</th>\n      <td>1.489445e+05</td>\n      <td>1.039805e+05</td>\n      <td>22969.000000</td>\n      <td>825.000000</td>\n      <td>10900.500000</td>\n      <td>3.752850e+04</td>\n      <td>1774.000000</td>\n      <td>21374.000000</td>\n      <td>3814.500000</td>\n      <td>7976.000000</td>\n      <td>...</td>\n      <td>1173.000000</td>\n      <td>39.275000</td>\n      <td>38.000000</td>\n      <td>40.700000</td>\n      <td>71103.250000</td>\n      <td>33374.035715</td>\n      <td>1268.500000</td>\n      <td>3.000333e+05</td>\n      <td>40.763011</td>\n      <td>-80.832494</td>\n    </tr>\n    <tr>\n      <th>max</th>\n      <td>3.061887e+06</td>\n      <td>1.775897e+06</td>\n      <td>870465.000000</td>\n      <td>29357.000000</td>\n      <td>339947.000000</td>\n      <td>1.368287e+06</td>\n      <td>62684.000000</td>\n      <td>389177.000000</td>\n      <td>65899.000000</td>\n      <td>113990.000000</td>\n      <td>...</td>\n      <td>22637.000000</td>\n      <td>63.866667</td>\n      <td>63.200000</td>\n      <td>64.400000</td>\n      <td>152760.666700</td>\n      <td>83906.000000</td>\n      <td>2394.000000</td>\n      <td>1.522550e+06</td>\n      <td>48.748558</td>\n      <td>-70.253823</td>\n    </tr>\n  </tbody>\n</table>\n<p>8 rows × 28 columns</p>\n</div>"
     },
     "metadata": {},
     "execution_count": 21
    }
   ],
   "source": [
    "census_data_df.describe()"
   ]
  },
  {
   "cell_type": "code",
   "execution_count": null,
   "metadata": {},
   "outputs": [],
   "source": []
  }
 ],
 "metadata": {
  "anaconda-cloud": {},
  "kernelspec": {
   "name": "pythondata",
   "display_name": "Python 3.7.10 64-bit ('PythonData': conda)"
  },
  "language_info": {
   "codemirror_mode": {
    "name": "ipython",
    "version": 3
   },
   "file_extension": ".py",
   "mimetype": "text/x-python",
   "name": "python",
   "nbconvert_exporter": "python",
   "pygments_lexer": "ipython3",
   "version": "3.7.10"
  },
  "varInspector": {
   "cols": {
    "lenName": 16,
    "lenType": 16,
    "lenVar": 40
   },
   "kernels_config": {
    "python": {
     "delete_cmd_postfix": "",
     "delete_cmd_prefix": "del ",
     "library": "var_list.py",
     "varRefreshCmd": "print(var_dic_list())"
    },
    "r": {
     "delete_cmd_postfix": ") ",
     "delete_cmd_prefix": "rm(",
     "library": "var_list.r",
     "varRefreshCmd": "cat(var_dic_list()) "
    }
   },
   "types_to_exclude": [
    "module",
    "function",
    "builtin_function_or_method",
    "instance",
    "_Feature"
   ],
   "window_display": false
  }
 },
 "nbformat": 4,
 "nbformat_minor": 1
}