{
 "cells": [
  {
   "cell_type": "code",
   "execution_count": 5,
   "metadata": {},
   "outputs": [],
   "source": [
    "# Import SQLAlchemy `automap` and other dependencies\n",
    "import sqlalchemy\n",
    "from sqlalchemy.ext.automap import automap_base\n",
    "from sqlalchemy.orm import Session\n",
    "from sqlalchemy import create_engine, inspect, MetaData, Table\n",
    "import os"
   ]
  },
  {
   "cell_type": "markdown",
   "metadata": {},
   "source": [
    "### Using SQLAlchemy ORM to reflect and map the table¶"
   ]
  },
  {
   "cell_type": "code",
   "execution_count": 6,
   "metadata": {},
   "outputs": [],
   "source": [
    "path = os.path.join(\"Resources\", \"database.sqlite\") # File path\n",
    "\n",
    "engine = create_engine(f\"sqlite:///{path}\") # Create the connection engine\n",
    "\n",
    "Base = automap_base() # Declare a Base using `automap_base()`\n",
    "\n",
    "Base.prepare(engine, reflect=True) # Use the Base class to reflect the database tables"
   ]
  },
  {
   "cell_type": "code",
   "execution_count": 50,
   "metadata": {},
   "outputs": [
    {
     "output_type": "execute_result",
     "data": {
      "text/plain": [
       "sqlalchemy.ext.automap.Salaries"
      ]
     },
     "metadata": {},
     "execution_count": 50
    }
   ],
   "source": [
    "Salaries"
   ]
  },
  {
   "cell_type": "code",
   "execution_count": 7,
   "metadata": {},
   "outputs": [
    {
     "output_type": "execute_result",
     "data": {
      "text/plain": [
       "['Salaries']"
      ]
     },
     "metadata": {},
     "execution_count": 7
    }
   ],
   "source": [
    "# Print all of the classes mapped to the Base\n",
    "Base.classes.keys()"
   ]
  },
  {
   "cell_type": "markdown",
   "metadata": {},
   "source": [
    "### Use the inspect() function to reflect the table and get the column names."
   ]
  },
  {
   "cell_type": "code",
   "execution_count": 8,
   "metadata": {
    "nbgrader": {
     "grade": false,
     "grade_id": "cell-fbdf0ba8126481cf",
     "locked": false,
     "schema_version": 1,
     "solution": true
    }
   },
   "outputs": [],
   "source": [
    "# Create the inspector and connect it to the engine\n",
    "inspector = inspect(engine)"
   ]
  },
  {
   "cell_type": "code",
   "execution_count": 34,
   "metadata": {
    "nbgrader": {
     "grade": false,
     "grade_id": "cell-2f9c9a505e8b0862",
     "locked": false,
     "schema_version": 1,
     "solution": true
    }
   },
   "outputs": [
    {
     "output_type": "stream",
     "name": "stdout",
     "text": [
      "Id INTEGER\nEmployeeName TEXT\nJobTitle TEXT\nBasePay NUMERIC\nOvertimePay NUMERIC\nOtherPay NUMERIC\nBenefits NUMERIC\nTotalPay NUMERIC\nTotalPayBenefits NUMERIC\nYear INTEGER\nNotes TEXT\nAgency TEXT\nStatus TEXT\n"
     ]
    }
   ],
   "source": [
    "# Using the inspector to print the column names within the table and its types\n",
    "columns = inspector.get_columns('Salaries')\n",
    "for column in columns:\n",
    "    print(column[\"name\"], column[\"type\"])"
   ]
  },
  {
   "cell_type": "markdown",
   "metadata": {},
   "source": [
    "### Use the Metadata and Table object to describe the table and columns."
   ]
  },
  {
   "cell_type": "code",
   "execution_count": 19,
   "metadata": {},
   "outputs": [],
   "source": [
    "#  Create a meta data object to hold the reflected table schema\n",
    "metadata = MetaData()"
   ]
  },
  {
   "cell_type": "code",
   "execution_count": 20,
   "metadata": {},
   "outputs": [],
   "source": [
    "# Create a table object and use 'autoload' and 'autoload_with' to define the columns from the table. \n",
    "table = Table('Salaries', metadata, autoload=True, autoload_with=engine)"
   ]
  },
  {
   "cell_type": "code",
   "execution_count": 21,
   "metadata": {},
   "outputs": [
    {
     "output_type": "execute_result",
     "data": {
      "text/plain": [
       "['Id',\n",
       " 'EmployeeName',\n",
       " 'JobTitle',\n",
       " 'BasePay',\n",
       " 'OvertimePay',\n",
       " 'OtherPay',\n",
       " 'Benefits',\n",
       " 'TotalPay',\n",
       " 'TotalPayBenefits',\n",
       " 'Year',\n",
       " 'Notes',\n",
       " 'Agency',\n",
       " 'Status']"
      ]
     },
     "metadata": {},
     "execution_count": 21
    }
   ],
   "source": [
    "# Get the column names using the 'keys()' method on the column object. \n",
    "table.columns.keys()"
   ]
  },
  {
   "cell_type": "markdown",
   "metadata": {},
   "source": [
    "### Use SQL to query the table. "
   ]
  },
  {
   "cell_type": "code",
   "execution_count": 13,
   "metadata": {},
   "outputs": [],
   "source": [
    "# Get 'all' the records in the the table\n"
   ]
  },
  {
   "cell_type": "code",
   "execution_count": 14,
   "metadata": {},
   "outputs": [],
   "source": [
    "# Get all the job titles where the Total Pay is greater than or equal to $250,000.\n"
   ]
  },
  {
   "cell_type": "markdown",
   "metadata": {},
   "source": [
    "### Use Python to query the table. "
   ]
  },
  {
   "cell_type": "code",
   "execution_count": 22,
   "metadata": {},
   "outputs": [
    {
     "output_type": "execute_result",
     "data": {
      "text/plain": [
       "sqlalchemy.ext.automap.Salaries"
      ]
     },
     "metadata": {},
     "execution_count": 22
    }
   ],
   "source": [
    "# Assign the class to a variable\n",
    "Salaries = Base.classes.Salaries\n",
    "Salaries"
   ]
  },
  {
   "cell_type": "code",
   "execution_count": 23,
   "metadata": {},
   "outputs": [],
   "source": [
    "# Create a session\n",
    "session = Session(engine)"
   ]
  },
  {
   "cell_type": "code",
   "execution_count": 46,
   "metadata": {
    "tags": []
   },
   "outputs": [
    {
     "output_type": "stream",
     "name": "stdout",
     "text": [
      "GENERAL MANAGER-METROPOLITAN TRANSIT AUTHORITY\nCAPTAIN III (POLICE DEPARTMENT)\nCAPTAIN III (POLICE DEPARTMENT)\nWIRE ROPE CABLE MAINTENANCE MECHANIC\nDEPUTY CHIEF OF DEPARTMENT,(FIRE DEPARTMENT)\nASSISTANT DEPUTY CHIEF II\nBATTALION CHIEF, (FIRE DEPARTMENT)\nDEPUTY DIRECTOR OF INVESTMENTS\nBATTALION CHIEF, (FIRE DEPARTMENT)\nCHIEF OF DEPARTMENT, (FIRE DEPARTMENT)\nASSISTANT CHIEF OF DEPARTMENT, (FIRE DEPARTMENT)\nCAPTAIN III (POLICE DEPARTMENT)\nEXECUTIVE CONTRACT EMPLOYEE\nDEPARTMENT HEAD V\nBATTALION CHIEF, (FIRE DEPARTMENT)\nCOMMANDER III, (POLICE DEPARTMENT)\nDEPARTMENT HEAD V\nCAPTAIN, EMERGENCYCY MEDICAL SERVICES\nBATTALION CHIEF, (FIRE DEPARTMENT)\nASSISTANT MEDICAL EXAMINER\nASSISTANT MEDICAL EXAMINER\nASSISTANT MEDICAL EXAMINER\nCAPTAIN, FIRE SUPPRESSION\nBATTALION CHIEF, (FIRE DEPARTMENT)\nCAPTAIN, FIRE SUPPRESSION\nCHIEF OF POLICE\nCAPTAIN, FIRE SUPPRESSION\nBATTALION CHIEF, (FIRE DEPARTMENT)\nDEPUTY CHIEF III (POLICE DEPARTMENT)\nDEPUTY CHIEF OF DEPARTMENT,(FIRE DEPARTMENT)\nEXECUTIVE CONTRACT EMPLOYEE\nDEPUTY CHIEF III (POLICE DEPARTMENT)\nDEPARTMENT HEAD V\nINSPECTOR III, (POLICE DEPARTMENT)\nBATTALION CHIEF, (FIRE DEPARTMENT)\nELECTRONIC MAINTENANCE TECHNICIAN\nADMINISTRATOR, SFGH MEDICAL CENTER\nINSPECTOR III, (POLICE DEPARTMENT)\nLIEUTENANT III (POLICE DEPARTMENT)\nBATTALION CHIEF, (FIRE DEPARTMENT)\nBATTALION CHIEF, (FIRE DEPARTMENT)\nBATTALION CHIEF, (FIRE DEPARTMENT)\nDEPUTY CHIEF OF DEPARTMENT,(FIRE DEPARTMENT)\nFIREFIGHTER\nNURSING SUPERVISOR PSYCHIATRIC\nLieutenant, Fire Suppression\nChief of Police\nElectronic Maintenance Tech\nChief, Fire Department\nEMT/Paramedic/Firefighter\nDept Head V\nGen Mgr, Public Trnsp Dept\nDept Head V\nCaptain 3\nAsst Chf of Dept (Fire Dept)\nBattlion Chief, Fire Suppressi\nBattlion Chief, Fire Suppressi\nBattlion Chief, Fire Suppressi\nBattlion Chief, Fire Suppressi\nAssistant Deputy Chief 2\nTransit Manager 2\nAsst Med Examiner\nDep Chf of Dept (Fire Dept)\nExecutive Contract Employee\nAsst Med Examiner\nAssistant Deputy Chief 2\nCaptain, Fire Suppression\nDeputy Chief 3\nDep Chf of Dept (Fire Dept)\nExecutive Contract Employee\nCaptain, Fire Suppression\nDept Head V\nCaptain, Fire Suppression\nDept Head V\nAdm, SFGH Medical Center\nCaptain, Fire Suppression\nAssistant Deputy Chief 2\nAsst Chf of Dept (Fire Dept)\nController\nCaptain 3\nMayor\nCaptain 3\nDeputy Chief 3\nDeputy Chief 3\nCaptain, Fire Suppression\nFirefighter\nBattlion Chief, Fire Suppressi\nCaptain 3\nAsst Med Examiner\nDeputy Chief 3\nEMT/Paramedic/Firefighter\nAsst Chf of Dept (Fire Dept)\nBattlion Chief, Fire Suppressi\nAsst Chf of Dept (Fire Dept)\nSenior Physician Specialist\nNursing Supervisor Psychiatric\nBattlion Chief, Fire Suppressi\nAsst Chf of Dept (Fire Dept)\nBattlion Chief, Fire Suppressi\nManager VIII, MTA\nBattlion Chief, Fire Suppressi\nFirefighter\nBattlion Chief, Fire Suppressi\nLieutenant 3\nBattlion Chief, Fire Suppressi\nLieutenant, Fire Suppression\nBattlion Chief, Fire Suppressi\nIncident Support Specialist\nBattlion Chief, Fire Suppressi\nEMT/Paramedic/Firefighter\nCaptain, Fire Suppression\nCaptain 3\nFirefighter\nLieutenant, Fire Suppression\nEMT/Paramedic/Firefighter\nLieutenant, Fire Suppression\nBattlion Chief, Fire Suppressi\nEMT/Paramedic/Firefighter\nLieutenant, Fire Suppression\nFirefighter\nChief of Police\nChief, Fire Department\nBattalion Chief, Fire Suppress\nAsst Med Examiner\nDep Dir for Investments, Ret\nAsst Chf of Dept (Fire Dept)\nExecutive Contract Employee\nDept Head V\nGen Mgr, Public Trnsp Dept\nAsst Chf of Dept (Fire Dept)\nDept Head V\nSenior Physician Specialist\nDeputy Chief 3\nDep Chf of Dept (Fire Dept)\nBattalion Chief, Fire Suppress\nDep Chf of Dept (Fire Dept)\nBattalion Chief, Fire Suppress\nBattalion Chief, Fire Suppress\nLieutenant, Fire Suppression\nDeputy Chief 3\nMayor\nAssistant Deputy Chief 2\nDeputy Chief 3\nAsst Chf of Dept (Fire Dept)\nBattalion Chief, Fire Suppress\nDeputy Chief 3\nDeputy Chief 3\nBattalion Chief, Fire Suppress\nAdm, SFGH Medical Center\nBattalion Chief, Fire Suppress\nDept Head V\nDept Head V\nDept Head V\nAsst Chf of Dept (Fire Dept)\nCaptain, Fire Suppression\nBattalion Chief, Fire Suppress\nBattalion Chief, Fire Suppress\nController\nDept Head V\nDeputy Sheriff\nBattalion Chief, Fire Suppress\nBattalion Chief, Fire Suppress\nAsst Chf of Dept (Fire Dept)\nBattalion Chief, Fire Suppress\nAnesthetist\nBattalion Chief, Fire Suppress\nBattalion Chief, Fire Suppress\nCaptain, Fire Suppression\nEMT/Paramedic/Firefighter\nCaptain, Fire Suppression\nAssistant Deputy Chief 2\nCaptain, Fire Suppression\nInspector 3\nCaptain, Fire Suppression\nCaptain, Fire Suppression\nBattalion Chief, Fire Suppress\nPort Director\nAssistant Deputy Chief 2\nEmergency Medical Svcs Chief\nDep Dir V\nLieutenant 3\nAssistant Deputy Chief 2\nAnesthetist\nEMT/Paramedic/Firefighter\nAnesthetist\nCommander 3\nIncident Support Specialist\nEMT/Paramedic/Firefighter\nNursing Supervisor\nSenior Physician Specialist\nBattalion Chief, Fire Suppress\nBattalion Chief, Fire Suppress\nCaptain, Fire Suppression\nBattalion Chief, Fire Suppress\nBattalion Chief, Fire Suppress\nBattalion Chief, Fire Suppress\nDistrict Attorney\nLieutenant, Fire Suppression\nSenior Physician Specialist\nIncident Support Specialist\nLieutenant, Fire Suppression\nBattalion Chief, Fire Suppress\nCaptain, Emergency Med Svcs\nBattalion Chief, Fire Suppress\nCaptain, Fire Suppression\nFirefighter\nCaptain, Fire Suppression\nDeputy Sheriff\nFirefighter\nCaptain, Fire Suppression\nEMT/Paramedic/Firefighter\nAssistant Deputy Chief 2\nCaptain, Fire Suppression\nLieut,Fire Prev\nCaptain, Emergency Med Svcs\nCaptain, Fire Suppression\nFirefighter\nPolice Officer 2\nLieut,Fire Prev\nSergeant 3\nLieutenant, Fire Suppression\nFirefighter\nFirefighter\nCaptain 3\nBattalion Chief, Fire Suppress\nDeputy Chief 3\nAsst Med Examiner\nChief Investment Officer\nChief of Police\nChief, Fire Department\nAsst Med Examiner\nDept Head V\nExecutive Contract Employee\nBattalion Chief, Fire Suppress\nAsst Chf of Dept (Fire Dept)\nGen Mgr, Public Trnsp Dept\nSenior Physician Specialist\nCommander 3\nDep Chf of Dept (Fire Dept)\nBattalion Chief, Fire Suppress\nBattalion Chief, Fire Suppress\nAdministrator, DPH\nDep Chf of Dept (Fire Dept)\nDept Head V\nMayor\nAsst Chf of Dept (Fire Dept)\nDeputy Chief 3\nDeputy Chief 3\nAsst Chf of Dept (Fire Dept)\nAsst Med Examiner\nDeputy Chief 3\nAdm, SFGH Medical Center\nDept Head V\nDept Head V\nController\nDept Head V\nAsst Chf of Dept (Fire Dept)\nDeputy Chief 3\nBattalion Chief, Fire Suppress\nBattalion Chief, Fire Suppress\nBattalion Chief, Fire Suppress\nAnesthetist\nDep Dir V\nDeputy Chief 3\nBattalion Chief, Fire Suppress\nPort Director\nManager, Dept Public Health\nBattalion Chief, Fire Suppress\nDeputy Sheriff\nBattalion Chief, Fire Suppress\nDeputy Sheriff\nBattalion Chief, Fire Suppress\nAnesthetist\nBattalion Chief, Fire Suppress\nFirefighter\nDeputy Sheriff\nAsst Chf of Dept (Fire Dept)\nBattalion Chief, Fire Suppress\nBattalion Chief, Fire Suppress\nInspector 3\nFirefighter\nCaptain 3\nBattalion Chief, Fire Suppress\nFirefighter\nEMT/Paramedic/Firefighter\nPolice Officer 3\nLieutenant, Fire Suppression\nFirefighter\nSergeant 3\nDeputy Sheriff\nPolice Officer 2\n"
     ]
    }
   ],
   "source": [
    "# Get all the job titles where the Total Pay is greater than or equal to $250,000.\n",
    "results = session.query(Salaries.JobTitle).filter(Salaries.TotalPay>=250000)\n",
    "# used engine.execute and wrote SQL query in demonstation\n",
    "for title in results:\n",
    "    print(title.JobTitle)"
   ]
  },
  {
   "cell_type": "code",
   "execution_count": 52,
   "metadata": {},
   "outputs": [
    {
     "output_type": "execute_result",
     "data": {
      "text/plain": [
       "['Agency',\n",
       " 'BasePay',\n",
       " 'Benefits',\n",
       " 'EmployeeName',\n",
       " 'Id',\n",
       " 'JobTitle',\n",
       " 'Notes',\n",
       " 'OtherPay',\n",
       " 'OvertimePay',\n",
       " 'Status',\n",
       " 'TotalPay',\n",
       " 'TotalPayBenefits',\n",
       " 'Year',\n",
       " '__abstract__',\n",
       " '__class__',\n",
       " '__delattr__',\n",
       " '__dict__',\n",
       " '__dir__',\n",
       " '__doc__',\n",
       " '__eq__',\n",
       " '__format__',\n",
       " '__ge__',\n",
       " '__getattribute__',\n",
       " '__gt__',\n",
       " '__hash__',\n",
       " '__init__',\n",
       " '__init_subclass__',\n",
       " '__le__',\n",
       " '__lt__',\n",
       " '__mapper__',\n",
       " '__module__',\n",
       " '__ne__',\n",
       " '__new__',\n",
       " '__reduce__',\n",
       " '__reduce_ex__',\n",
       " '__repr__',\n",
       " '__setattr__',\n",
       " '__sizeof__',\n",
       " '__str__',\n",
       " '__subclasshook__',\n",
       " '__table__',\n",
       " '__weakref__',\n",
       " '_sa_class_manager',\n",
       " '_sa_decl_prepare',\n",
       " '_sa_raise_deferred_config',\n",
       " '_sa_registry',\n",
       " 'classes',\n",
       " 'metadata',\n",
       " 'prepare',\n",
       " 'registry']"
      ]
     },
     "metadata": {},
     "execution_count": 52
    }
   ],
   "source": [
    "# Get a listing of all the methods/properties/etc\n",
    "dir(Salaries)"
   ]
  },
  {
   "cell_type": "code",
   "execution_count": 51,
   "metadata": {},
   "outputs": [
    {
     "output_type": "error",
     "ename": "AttributeError",
     "evalue": "type object 'Salaries' has no attribute 'query'",
     "traceback": [
      "\u001b[1;31m---------------------------------------------------------------------------\u001b[0m",
      "\u001b[1;31mAttributeError\u001b[0m                            Traceback (most recent call last)",
      "\u001b[1;32m<ipython-input-51-261320e098cf>\u001b[0m in \u001b[0;36m<module>\u001b[1;34m\u001b[0m\n\u001b[0;32m      1\u001b[0m \u001b[0mNewSalaries\u001b[0m \u001b[1;33m=\u001b[0m \u001b[0mBase\u001b[0m\u001b[1;33m.\u001b[0m\u001b[0mclasses\u001b[0m\u001b[1;33m.\u001b[0m\u001b[0mSalaries\u001b[0m\u001b[1;33m\u001b[0m\u001b[1;33m\u001b[0m\u001b[0m\n\u001b[1;32m----> 2\u001b[1;33m \u001b[0mxresults\u001b[0m \u001b[1;33m=\u001b[0m \u001b[0mNewSalaries\u001b[0m\u001b[1;33m.\u001b[0m\u001b[0mquery\u001b[0m\u001b[1;33m.\u001b[0m\u001b[0mfilter_by\u001b[0m\u001b[1;33m(\u001b[0m\u001b[0mTotalPay\u001b[0m\u001b[1;33m>=\u001b[0m\u001b[1;36m250000\u001b[0m\u001b[1;33m)\u001b[0m\u001b[1;33m.\u001b[0m\u001b[0morder_by\u001b[0m\u001b[1;33m(\u001b[0m\u001b[0mJobTitle\u001b[0m\u001b[1;33m)\u001b[0m\u001b[1;33m\u001b[0m\u001b[1;33m\u001b[0m\u001b[0m\n\u001b[0m\u001b[0;32m      3\u001b[0m \u001b[1;32mfor\u001b[0m \u001b[0mtitle\u001b[0m \u001b[1;32min\u001b[0m \u001b[0mxresults\u001b[0m\u001b[1;33m:\u001b[0m\u001b[1;33m\u001b[0m\u001b[1;33m\u001b[0m\u001b[0m\n\u001b[0;32m      4\u001b[0m     \u001b[0mprint\u001b[0m\u001b[1;33m(\u001b[0m\u001b[0mtitle\u001b[0m\u001b[1;33m.\u001b[0m\u001b[0mJobTitle\u001b[0m\u001b[1;33m)\u001b[0m\u001b[1;33m\u001b[0m\u001b[1;33m\u001b[0m\u001b[0m\n",
      "\u001b[1;31mAttributeError\u001b[0m: type object 'Salaries' has no attribute 'query'"
     ]
    }
   ],
   "source": [
    "NewSalaries = Base.classes.Salaries\n",
    "xresults = NewSalaries.query.filter_by(TotalPay>=250000).order_by(JobTitle)\n",
    "# use .filter(.like) with a wildcard\n",
    "for title in xresults:\n",
    "    print(title.JobTitle)"
   ]
  },
  {
   "cell_type": "code",
   "execution_count": null,
   "metadata": {},
   "outputs": [],
   "source": []
  }
 ],
 "metadata": {
  "celltoolbar": "Create Assignment",
  "kernelspec": {
   "name": "pythondata",
   "display_name": "Python 3.7.10 64-bit ('PythonData': conda)"
  },
  "language_info": {
   "codemirror_mode": {
    "name": "ipython",
    "version": 3
   },
   "file_extension": ".py",
   "mimetype": "text/x-python",
   "name": "python",
   "nbconvert_exporter": "python",
   "pygments_lexer": "ipython3",
   "version": "3.7.10"
  },
  "varInspector": {
   "cols": {
    "lenName": 16,
    "lenType": 16,
    "lenVar": 40
   },
   "kernels_config": {
    "python": {
     "delete_cmd_postfix": "",
     "delete_cmd_prefix": "del ",
     "library": "var_list.py",
     "varRefreshCmd": "print(var_dic_list())"
    },
    "r": {
     "delete_cmd_postfix": ") ",
     "delete_cmd_prefix": "rm(",
     "library": "var_list.r",
     "varRefreshCmd": "cat(var_dic_list()) "
    }
   },
   "types_to_exclude": [
    "module",
    "function",
    "builtin_function_or_method",
    "instance",
    "_Feature"
   ],
   "window_display": false
  }
 },
 "nbformat": 4,
 "nbformat_minor": 2
}