{
 "metadata": {
  "language_info": {
   "codemirror_mode": {
    "name": "ipython",
    "version": 3
   },
   "file_extension": ".py",
   "mimetype": "text/x-python",
   "name": "python",
   "nbconvert_exporter": "python",
   "pygments_lexer": "ipython3",
   "version": "3.7.10"
  },
  "orig_nbformat": 2,
  "kernelspec": {
   "name": "python3710jvsc74a57bd0acda147c8dd3b8f0274d48e33490c3394fd067fdf96c410e3ee71258c53f02eb",
   "display_name": "Python 3.7.10 64-bit ('PythonData': conda)"
  }
 },
 "nbformat": 4,
 "nbformat_minor": 2,
 "cells": [
  {
   "cell_type": "code",
   "execution_count": 19,
   "metadata": {},
   "outputs": [],
   "source": [
    "# Dependencies\n",
    "import pandas as pd\n",
    "import numpy as np\n",
    "import matplotlib.pyplot as plt\n",
    "import timeit\n",
    "from citipy import citipy\n",
    "from config import weather_api_key\n",
    "from datetime import datetime\n",
    "import requests"
   ]
  },
  {
   "cell_type": "code",
   "execution_count": 20,
   "metadata": {},
   "outputs": [
    {
     "output_type": "execute_result",
     "data": {
      "text/plain": [
       "<zip at 0x28423f16ac8>"
      ]
     },
     "metadata": {},
     "execution_count": 20
    }
   ],
   "source": [
    "# Create a set of latitude and longitude pairs\n",
    "lats = np.random.uniform(low = -90.000, high=90.000, size=10)\n",
    "longs = np.random.uniform(low = -180.000, high=180.000, size=10)\n",
    "lats_longs = zip(lats, longs)\n",
    "lats_longs"
   ]
  },
  {
   "cell_type": "code",
   "execution_count": 21,
   "metadata": {},
   "outputs": [],
   "source": [
    "coordinates = list(lats_longs)"
   ]
  },
  {
   "cell_type": "code",
   "execution_count": 22,
   "metadata": {},
   "outputs": [
    {
     "output_type": "stream",
     "name": "stdout",
     "text": [
      "10\n"
     ]
    }
   ],
   "source": [
    "# Create a list of city names\n",
    "cities = []\n",
    "\n",
    "# Loop thru coordinates and get city names\n",
    "for coordinate in coordinates:\n",
    "    city = citipy.nearest_city(coordinate[0], coordinate[1]).city_name\n",
    "\n",
    "    if city not in cities:\n",
    "        cities.append(city)\n",
    "\n",
    "# Get the length of the cities array to verify enough unique cities selected\n",
    "print(len(cities))"
   ]
  },
  {
   "cell_type": "code",
   "execution_count": 23,
   "metadata": {
    "tags": []
   },
   "outputs": [
    {
     "output_type": "stream",
     "name": "stdout",
     "text": [
      "Beginning Data Retrieval     \n",
      "-----------------------------\n",
      "Processing record 1 | http://api.openweathermap.org/data/2.5/weather?units=Imperial&APPID=2d4cdcba967ce53aae8c4db47fd6b052&q=east+london of Set 1 | east london\n",
      "City not found. Skipping...\n",
      "Processing record 2 | http://api.openweathermap.org/data/2.5/weather?units=Imperial&APPID=2d4cdcba967ce53aae8c4db47fd6b052&q=ushuaia of Set 1 | ushuaia\n",
      "City not found. Skipping...\n",
      "Processing record 3 | http://api.openweathermap.org/data/2.5/weather?units=Imperial&APPID=2d4cdcba967ce53aae8c4db47fd6b052&q=fez of Set 1 | fez\n",
      "City not found. Skipping...\n",
      "Processing record 4 | http://api.openweathermap.org/data/2.5/weather?units=Imperial&APPID=2d4cdcba967ce53aae8c4db47fd6b052&q=nikolskoye of Set 1 | nikolskoye\n",
      "City not found. Skipping...\n",
      "Processing record 5 | http://api.openweathermap.org/data/2.5/weather?units=Imperial&APPID=2d4cdcba967ce53aae8c4db47fd6b052&q=jamestown of Set 1 | jamestown\n",
      "City not found. Skipping...\n",
      "Processing record 6 | http://api.openweathermap.org/data/2.5/weather?units=Imperial&APPID=2d4cdcba967ce53aae8c4db47fd6b052&q=port+lincoln of Set 1 | port lincoln\n",
      "City not found. Skipping...\n",
      "Processing record 7 | http://api.openweathermap.org/data/2.5/weather?units=Imperial&APPID=2d4cdcba967ce53aae8c4db47fd6b052&q=christchurch of Set 1 | christchurch\n",
      "City not found. Skipping...\n",
      "Processing record 8 | http://api.openweathermap.org/data/2.5/weather?units=Imperial&APPID=2d4cdcba967ce53aae8c4db47fd6b052&q=hilo of Set 1 | hilo\n",
      "City not found. Skipping...\n",
      "Processing record 9 | http://api.openweathermap.org/data/2.5/weather?units=Imperial&APPID=2d4cdcba967ce53aae8c4db47fd6b052&q=necochea of Set 1 | necochea\n",
      "City not found. Skipping...\n",
      "Processing record 10 | http://api.openweathermap.org/data/2.5/weather?units=Imperial&APPID=2d4cdcba967ce53aae8c4db47fd6b052&q=kalevala of Set 1 | kalevala\n",
      "City not found. Skipping...\n",
      "-----------------------------\n",
      "Data Retrieval Complete     \n",
      "-----------------------------\n"
     ]
    }
   ],
   "source": [
    "# Prep to gather weather data\n",
    "city_data = []\n",
    "url = \"http://api.openweathermap.org/data/2.5/weather?units=Imperial&APPID=\" + weather_api_key\n",
    "\n",
    "print(\"Beginning Data Retrieval     \")\n",
    "print(\"-----------------------------\")\n",
    "\n",
    "set_count = 1\n",
    "record_count = 1\n",
    "\n",
    "# Loop thru cities\n",
    "# for i in range(len(cities)):\n",
    "for i, city in enumerate(cities):\n",
    "    if (i % 50 == 0 and i >= 50):\n",
    "        set_count += 1\n",
    "        record_count = 1\n",
    "\n",
    "    city_url = url + \"&q=\" + city.replace(\" \",\"+\")\n",
    "\n",
    "    print(f\"Processing record {record_count} | {city_url} of Set {set_count} | {city}\")\n",
    "    record_count += 1\n",
    "\n",
    "    try:\n",
    "        # Parse JSON\n",
    "        city_weather = requests.get(city_url).json()\n",
    "        city_lat = city_weather[\"coord\"][\"lat\"]\n",
    "        city_long = city_weather[\"coord\"][\"lon\"]\n",
    "        city_max_temp = city_weather[\"main\"][\"temp_max\"]\n",
    "        city_humidity = city_weather[\"main\"][\"humidity\"]\n",
    "        city_clouds = city_weather[\"clouds\"][\"all\"]\n",
    "        city_wind = city_weather[\"wind\"][\"speed\"]\n",
    "        city_country = city_weather[\"sys\"][\"country\"]\n",
    "        # Get date and convert to ISO standard\n",
    "        city_date = datetime.utcfromtimestamp(city_weather[\"dt\"]).strftime('%Y-%m-%d %H:%M:%S')\n",
    "        city_data.append({\"City\": city.title(),\n",
    "            \"Lat\": city_lat,\n",
    "            \"Lng\": city_long,\n",
    "            \"Max Temp\": city_max_temp,\n",
    "            \"Humidity\": city_humidity,\n",
    "            \"Cloudiness\": \"city_clouds\",\n",
    "            \"Wind Speed\": city_wind,\n",
    "            \"Country\": city_country,\n",
    "            \"Date\": city_data})\n",
    "    except:\n",
    "        print(\"City not found. Skipping...\")\n",
    "        pass\n",
    "\n",
    "print(\"-----------------------------\")\n",
    "print(\"Data Retrieval Complete     \")\n",
    "print(\"-----------------------------\")\n"
   ]
  },
  {
   "cell_type": "code",
   "execution_count": 24,
   "metadata": {},
   "outputs": [
    {
     "output_type": "execute_result",
     "data": {
      "text/plain": [
       "0"
      ]
     },
     "metadata": {},
     "execution_count": 24
    }
   ],
   "source": [
    "len(city_data)"
   ]
  },
  {
   "cell_type": "code",
   "execution_count": 25,
   "metadata": {},
   "outputs": [
    {
     "output_type": "execute_result",
     "data": {
      "text/plain": [
       "Empty DataFrame\n",
       "Columns: []\n",
       "Index: []"
      ],
      "text/html": "<div>\n<style scoped>\n    .dataframe tbody tr th:only-of-type {\n        vertical-align: middle;\n    }\n\n    .dataframe tbody tr th {\n        vertical-align: top;\n    }\n\n    .dataframe thead th {\n        text-align: right;\n    }\n</style>\n<table border=\"1\" class=\"dataframe\">\n  <thead>\n    <tr style=\"text-align: right;\">\n      <th></th>\n    </tr>\n  </thead>\n  <tbody>\n  </tbody>\n</table>\n</div>"
     },
     "metadata": {},
     "execution_count": 25
    }
   ],
   "source": [
    "city_data_df = pd.DataFrame(city_data)\n",
    "city_data_df.head()"
   ]
  },
  {
   "cell_type": "code",
   "execution_count": null,
   "metadata": {},
   "outputs": [],
   "source": [
    "new_column_order = [\"City\", \"Country\", \"Date\", \"Lat\", \"Lng\", \"Max Temp\", \"Humidity\", \"Cloudiness\", \"Wind Speed\"]\n",
    "city_data_df = city_data_df[new_column_order]"
   ]
  }
 ]
}