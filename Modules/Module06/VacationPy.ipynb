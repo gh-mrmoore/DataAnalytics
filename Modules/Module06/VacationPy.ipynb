{
 "metadata": {
  "language_info": {
   "codemirror_mode": {
    "name": "ipython",
    "version": 3
   },
   "file_extension": ".py",
   "mimetype": "text/x-python",
   "name": "python",
   "nbconvert_exporter": "python",
   "pygments_lexer": "ipython3",
   "version": "3.7.10"
  },
  "orig_nbformat": 2,
  "kernelspec": {
   "name": "python3710jvsc74a57bd0acda147c8dd3b8f0274d48e33490c3394fd067fdf96c410e3ee71258c53f02eb",
   "display_name": "Python 3.7.10 64-bit ('PythonData': conda)"
  }
 },
 "nbformat": 4,
 "nbformat_minor": 2,
 "cells": [
  {
   "cell_type": "code",
   "execution_count": 73,
   "metadata": {},
   "outputs": [],
   "source": [
    "# Dependencies\n",
    "import pandas as pd \n",
    "import gmaps\n",
    "import requests\n",
    "from config import google_map_api_key"
   ]
  },
  {
   "cell_type": "code",
   "execution_count": 74,
   "metadata": {},
   "outputs": [
    {
     "output_type": "execute_result",
     "data": {
      "text/plain": [
       "   City_ID           City Country  \\\n",
       "0        0  Puerto Narino      CO   \n",
       "1        1         Albany      US   \n",
       "2        2       Griffith      US   \n",
       "3        3        Mataura      NZ   \n",
       "4        4   Puerto Ayora      EC   \n",
       "\n",
       "                                                Date      Lat       Lng  \\\n",
       "0  [{'City': 'Puerto Narino', 'Lat': -3.7703, 'Ln...  -3.7703  -70.3831   \n",
       "1  [{'City': 'Puerto Narino', 'Lat': -3.7703, 'Ln...  42.6001  -73.9662   \n",
       "2  [{'City': 'Puerto Narino', 'Lat': -3.7703, 'Ln...  41.5284  -87.4237   \n",
       "3  [{'City': 'Puerto Narino', 'Lat': -3.7703, 'Ln... -46.1927  168.8643   \n",
       "4  [{'City': 'Puerto Narino', 'Lat': -3.7703, 'Ln...  -0.7393  -90.3518   \n",
       "\n",
       "   Max Temp  Humidity  Cloudiness  Wind Speed  \n",
       "0     84.15        79          20        1.39  \n",
       "1     76.59        42          65        7.02  \n",
       "2     79.57        42           1        3.00  \n",
       "3     49.48        92         100        3.53  \n",
       "4     80.56        86         100        5.99  "
      ],
      "text/html": "<div>\n<style scoped>\n    .dataframe tbody tr th:only-of-type {\n        vertical-align: middle;\n    }\n\n    .dataframe tbody tr th {\n        vertical-align: top;\n    }\n\n    .dataframe thead th {\n        text-align: right;\n    }\n</style>\n<table border=\"1\" class=\"dataframe\">\n  <thead>\n    <tr style=\"text-align: right;\">\n      <th></th>\n      <th>City_ID</th>\n      <th>City</th>\n      <th>Country</th>\n      <th>Date</th>\n      <th>Lat</th>\n      <th>Lng</th>\n      <th>Max Temp</th>\n      <th>Humidity</th>\n      <th>Cloudiness</th>\n      <th>Wind Speed</th>\n    </tr>\n  </thead>\n  <tbody>\n    <tr>\n      <th>0</th>\n      <td>0</td>\n      <td>Puerto Narino</td>\n      <td>CO</td>\n      <td>[{'City': 'Puerto Narino', 'Lat': -3.7703, 'Ln...</td>\n      <td>-3.7703</td>\n      <td>-70.3831</td>\n      <td>84.15</td>\n      <td>79</td>\n      <td>20</td>\n      <td>1.39</td>\n    </tr>\n    <tr>\n      <th>1</th>\n      <td>1</td>\n      <td>Albany</td>\n      <td>US</td>\n      <td>[{'City': 'Puerto Narino', 'Lat': -3.7703, 'Ln...</td>\n      <td>42.6001</td>\n      <td>-73.9662</td>\n      <td>76.59</td>\n      <td>42</td>\n      <td>65</td>\n      <td>7.02</td>\n    </tr>\n    <tr>\n      <th>2</th>\n      <td>2</td>\n      <td>Griffith</td>\n      <td>US</td>\n      <td>[{'City': 'Puerto Narino', 'Lat': -3.7703, 'Ln...</td>\n      <td>41.5284</td>\n      <td>-87.4237</td>\n      <td>79.57</td>\n      <td>42</td>\n      <td>1</td>\n      <td>3.00</td>\n    </tr>\n    <tr>\n      <th>3</th>\n      <td>3</td>\n      <td>Mataura</td>\n      <td>NZ</td>\n      <td>[{'City': 'Puerto Narino', 'Lat': -3.7703, 'Ln...</td>\n      <td>-46.1927</td>\n      <td>168.8643</td>\n      <td>49.48</td>\n      <td>92</td>\n      <td>100</td>\n      <td>3.53</td>\n    </tr>\n    <tr>\n      <th>4</th>\n      <td>4</td>\n      <td>Puerto Ayora</td>\n      <td>EC</td>\n      <td>[{'City': 'Puerto Narino', 'Lat': -3.7703, 'Ln...</td>\n      <td>-0.7393</td>\n      <td>-90.3518</td>\n      <td>80.56</td>\n      <td>86</td>\n      <td>100</td>\n      <td>5.99</td>\n    </tr>\n  </tbody>\n</table>\n</div>"
     },
     "metadata": {},
     "execution_count": 74
    }
   ],
   "source": [
    "# Store the CSV in to a DataFrame\n",
    "city_data_df = pd.read_csv(\"Resources/cities.csv\")\n",
    "city_data_df.head()"
   ]
  },
  {
   "cell_type": "code",
   "execution_count": 75,
   "metadata": {},
   "outputs": [
    {
     "output_type": "execute_result",
     "data": {
      "text/plain": [
       "City_ID         int64\n",
       "City           object\n",
       "Country        object\n",
       "Date           object\n",
       "Lat           float64\n",
       "Lng           float64\n",
       "Max Temp      float64\n",
       "Humidity        int64\n",
       "Cloudiness      int64\n",
       "Wind Speed    float64\n",
       "dtype: object"
      ]
     },
     "metadata": {},
     "execution_count": 75
    }
   ],
   "source": [
    "city_data_df.dtypes"
   ]
  },
  {
   "cell_type": "code",
   "execution_count": 76,
   "metadata": {},
   "outputs": [],
   "source": [
    "gmaps.configure(api_key=google_map_api_key)"
   ]
  },
  {
   "source": [
    "Next, create the heatmap for the maximum temperature. The general syntax for creating a heatmap is as provided below:\n",
    "\n",
    "1. Assign the locations to an array of latitude and longitude pairs.\n",
    "locations = [latitude, longitude]\n",
    "\n",
    "2. Assign the weights variable to some values.\n",
    "temperatures = # an array of length equal to the locations array length\n",
    "\n",
    "3. Assign the figure variable to the gmaps.figure() attribute.\n",
    "fig = gmaps.figure()\n",
    "\n",
    "4. Assign the heatmap_layer variable to the heatmap_layer attribute and add in the locations.\n",
    "heatmap_layer = gmaps.heatmap_layer(locations, weights=temperatures)\n",
    "\n",
    "5. Add the heatmap layer.\n",
    "fig.add_layer(heatmap_layer)\n",
    "\n",
    "6. Call the figure to plot the data.\n",
    "fig"
   ],
   "cell_type": "markdown",
   "metadata": {}
  },
  {
   "cell_type": "code",
   "execution_count": 77,
   "metadata": {},
   "outputs": [],
   "source": [
    "# Get the maximum temperature.\n",
    "max_temp = city_data_df[\"Max Temp\"]\n",
    "temps = []\n",
    "for temp in max_temp:\n",
    "    temps.append(max(temp, 0))"
   ]
  },
  {
   "cell_type": "code",
   "execution_count": 78,
   "metadata": {},
   "outputs": [
    {
     "output_type": "display_data",
     "data": {
      "text/plain": "Figure(layout=FigureLayout(height='420px'))",
      "application/vnd.jupyter.widget-view+json": {
       "version_major": 2,
       "version_minor": 0,
       "model_id": "ea37099f775d49168f7b93103ad8afb6"
      }
     },
     "metadata": {}
    }
   ],
   "source": [
    "# Heatmap of temperature\n",
    "# Get the latitude and longitude.\n",
    "locations = city_data_df[[\"Lat\", \"Lng\"]]\n",
    "# Get the maximum temperature.\n",
    "max_temp = city_data_df[\"Max Temp\"]\n",
    "# Assign the figure variable.\n",
    "fig = gmaps.figure()\n",
    "# Assign the heatmap variable.\n",
    "# heat_layer = gmaps.heatmap_layer(locations, weights=max_temp)\n",
    "# heat_layer = gmaps.heatmap_layer(locations, weights=temps)\n",
    "# Use list comprehension\n",
    "# heat_layer = gmaps.heatmap_layer(locations, weights=[max(temp, 0) for temp in max_temp])\n",
    "# Modify for intensity, weight, point radius, etc.\n",
    "heat_layer = gmaps.heatmap_layer(locations, weights=temps, dissipating=False, max_intensity=300, point_radius=4)\n",
    "# Add the heatmap layer.\n",
    "fig.add_layer(heat_layer)\n",
    "# Call the figure to plot the data.\n",
    "# fig = gmaps.figure(center=(30.0, 31.0), zoom_level=1.0)\n",
    "fig"
   ]
  },
  {
   "cell_type": "code",
   "execution_count": 79,
   "metadata": {},
   "outputs": [
    {
     "output_type": "display_data",
     "data": {
      "text/plain": "Figure(layout=FigureLayout(height='420px'))",
      "application/vnd.jupyter.widget-view+json": {
       "version_major": 2,
       "version_minor": 0,
       "model_id": "ada1d5abab594227a3a4f0f795456ca7"
      }
     },
     "metadata": {}
    }
   ],
   "source": [
    "# Heatmap of percent humidity\n",
    "locations = city_data_df[[\"Lat\", \"Lng\"]]\n",
    "humidity = city_data_df[\"Humidity\"]\n",
    "fig2 = gmaps.figure(center=(30.0, 31.0), zoom_level=1.5)\n",
    "heat_layer = gmaps.heatmap_layer(locations, weights=humidity, dissipating=False, max_intensity=300, point_radius=4)\n",
    "\n",
    "fig2.add_layer(heat_layer)\n",
    "# Call the figure to plot the data.\n",
    "fig2"
   ]
  },
  {
   "cell_type": "code",
   "execution_count": 80,
   "metadata": {},
   "outputs": [
    {
     "output_type": "display_data",
     "data": {
      "text/plain": "Figure(layout=FigureLayout(height='420px'))",
      "application/vnd.jupyter.widget-view+json": {
       "version_major": 2,
       "version_minor": 0,
       "model_id": "5be270132f674361a783b36d338b7de4"
      }
     },
     "metadata": {}
    }
   ],
   "source": [
    "# Cloudiness Heatmap\n",
    "locations = city_data_df[[\"Lat\", \"Lng\"]]\n",
    "clouds = city_data_df[\"Cloudiness\"]\n",
    "fig3 = gmaps.figure(center=(30.0, 31.0), zoom_level=1.5)\n",
    "heat_layer = gmaps.heatmap_layer(locations, weights=clouds, dissipating=False, max_intensity=300, point_radius=4)\n",
    "\n",
    "fig3.add_layer(heat_layer)\n",
    "# Call the figure to plot the data.\n",
    "fig3"
   ]
  },
  {
   "cell_type": "code",
   "execution_count": 81,
   "metadata": {},
   "outputs": [
    {
     "output_type": "display_data",
     "data": {
      "text/plain": "Figure(layout=FigureLayout(height='420px'))",
      "application/vnd.jupyter.widget-view+json": {
       "version_major": 2,
       "version_minor": 0,
       "model_id": "85664ef11c3b4ec6b65ea2b9965f0698"
      }
     },
     "metadata": {}
    }
   ],
   "source": [
    "# Cloudiness Heatmap\n",
    "locations = city_data_df[[\"Lat\", \"Lng\"]]\n",
    "wind = city_data_df[\"Wind Speed\"]\n",
    "fig4 = gmaps.figure(center=(30.0, 31.0), zoom_level=1.5)\n",
    "heat_layer = gmaps.heatmap_layer(locations, weights=wind, dissipating=False, max_intensity=300, point_radius=4)\n",
    "\n",
    "fig4.add_layer(heat_layer)\n",
    "# Call the figure to plot the data.\n",
    "fig4"
   ]
  },
  {
   "cell_type": "code",
   "execution_count": 82,
   "metadata": {},
   "outputs": [],
   "source": [
    "# Get user preferences for temperature\n",
    "min_temp = float(input(\"What is the minimum temperature you prefer?\"))\n",
    "max_temp = float(input(\"What is the maximum temperature you prefer?\"))"
   ]
  },
  {
   "cell_type": "code",
   "execution_count": 83,
   "metadata": {},
   "outputs": [
    {
     "output_type": "execute_result",
     "data": {
      "text/plain": [
       "   City_ID           City Country  \\\n",
       "0        0  Puerto Narino      CO   \n",
       "1        1         Albany      US   \n",
       "2        2       Griffith      US   \n",
       "4        4   Puerto Ayora      EC   \n",
       "6        6     Vila Velha      BR   \n",
       "\n",
       "                                                Date      Lat      Lng  \\\n",
       "0  [{'City': 'Puerto Narino', 'Lat': -3.7703, 'Ln...  -3.7703 -70.3831   \n",
       "1  [{'City': 'Puerto Narino', 'Lat': -3.7703, 'Ln...  42.6001 -73.9662   \n",
       "2  [{'City': 'Puerto Narino', 'Lat': -3.7703, 'Ln...  41.5284 -87.4237   \n",
       "4  [{'City': 'Puerto Narino', 'Lat': -3.7703, 'Ln...  -0.7393 -90.3518   \n",
       "6  [{'City': 'Puerto Narino', 'Lat': -3.7703, 'Ln... -20.3297 -40.2925   \n",
       "\n",
       "   Max Temp  Humidity  Cloudiness  Wind Speed  \n",
       "0     84.15        79          20        1.39  \n",
       "1     76.59        42          65        7.02  \n",
       "2     79.57        42           1        3.00  \n",
       "4     80.56        86         100        5.99  \n",
       "6     79.97        83          40        7.00  "
      ],
      "text/html": "<div>\n<style scoped>\n    .dataframe tbody tr th:only-of-type {\n        vertical-align: middle;\n    }\n\n    .dataframe tbody tr th {\n        vertical-align: top;\n    }\n\n    .dataframe thead th {\n        text-align: right;\n    }\n</style>\n<table border=\"1\" class=\"dataframe\">\n  <thead>\n    <tr style=\"text-align: right;\">\n      <th></th>\n      <th>City_ID</th>\n      <th>City</th>\n      <th>Country</th>\n      <th>Date</th>\n      <th>Lat</th>\n      <th>Lng</th>\n      <th>Max Temp</th>\n      <th>Humidity</th>\n      <th>Cloudiness</th>\n      <th>Wind Speed</th>\n    </tr>\n  </thead>\n  <tbody>\n    <tr>\n      <th>0</th>\n      <td>0</td>\n      <td>Puerto Narino</td>\n      <td>CO</td>\n      <td>[{'City': 'Puerto Narino', 'Lat': -3.7703, 'Ln...</td>\n      <td>-3.7703</td>\n      <td>-70.3831</td>\n      <td>84.15</td>\n      <td>79</td>\n      <td>20</td>\n      <td>1.39</td>\n    </tr>\n    <tr>\n      <th>1</th>\n      <td>1</td>\n      <td>Albany</td>\n      <td>US</td>\n      <td>[{'City': 'Puerto Narino', 'Lat': -3.7703, 'Ln...</td>\n      <td>42.6001</td>\n      <td>-73.9662</td>\n      <td>76.59</td>\n      <td>42</td>\n      <td>65</td>\n      <td>7.02</td>\n    </tr>\n    <tr>\n      <th>2</th>\n      <td>2</td>\n      <td>Griffith</td>\n      <td>US</td>\n      <td>[{'City': 'Puerto Narino', 'Lat': -3.7703, 'Ln...</td>\n      <td>41.5284</td>\n      <td>-87.4237</td>\n      <td>79.57</td>\n      <td>42</td>\n      <td>1</td>\n      <td>3.00</td>\n    </tr>\n    <tr>\n      <th>4</th>\n      <td>4</td>\n      <td>Puerto Ayora</td>\n      <td>EC</td>\n      <td>[{'City': 'Puerto Narino', 'Lat': -3.7703, 'Ln...</td>\n      <td>-0.7393</td>\n      <td>-90.3518</td>\n      <td>80.56</td>\n      <td>86</td>\n      <td>100</td>\n      <td>5.99</td>\n    </tr>\n    <tr>\n      <th>6</th>\n      <td>6</td>\n      <td>Vila Velha</td>\n      <td>BR</td>\n      <td>[{'City': 'Puerto Narino', 'Lat': -3.7703, 'Ln...</td>\n      <td>-20.3297</td>\n      <td>-40.2925</td>\n      <td>79.97</td>\n      <td>83</td>\n      <td>40</td>\n      <td>7.00</td>\n    </tr>\n  </tbody>\n</table>\n</div>"
     },
     "metadata": {},
     "execution_count": 83
    }
   ],
   "source": [
    "# Filter dataset to find suitable matches\n",
    "preferred_cities_df = city_data_df.loc[(city_data_df[\"Max Temp\"] <= max_temp) & (city_data_df[\"Max Temp\"] >= min_temp)]\n",
    "preferred_cities_df.head()"
   ]
  },
  {
   "cell_type": "code",
   "execution_count": 84,
   "metadata": {},
   "outputs": [
    {
     "output_type": "execute_result",
     "data": {
      "text/plain": [
       "City_ID       27\n",
       "City          27\n",
       "Country       27\n",
       "Date          27\n",
       "Lat           27\n",
       "Lng           27\n",
       "Max Temp      27\n",
       "Humidity      27\n",
       "Cloudiness    27\n",
       "Wind Speed    27\n",
       "dtype: int64"
      ]
     },
     "metadata": {},
     "execution_count": 84
    }
   ],
   "source": [
    "preferred_cities_df.count()"
   ]
  },
  {
   "cell_type": "code",
   "execution_count": 85,
   "metadata": {},
   "outputs": [
    {
     "output_type": "execute_result",
     "data": {
      "text/plain": [
       "              City Country  Max Temp      Lat       Lng Hotel Name\n",
       "0    Puerto Narino      CO     84.15  -3.7703  -70.3831           \n",
       "1           Albany      US     76.59  42.6001  -73.9662           \n",
       "2         Griffith      US     79.57  41.5284  -87.4237           \n",
       "4     Puerto Ayora      EC     80.56  -0.7393  -90.3518           \n",
       "6       Vila Velha      BR     79.97 -20.3297  -40.2925           \n",
       "7        Sistranda      NO     58.89  63.7256    8.8340           \n",
       "8           Mackay      AU     66.04 -21.1500  149.2000           \n",
       "9   Saint-Augustin      CA     57.07  51.2260  -58.6502           \n",
       "11         Rikitea      PF     71.29 -23.1203 -134.9692           \n",
       "12             Sur      OM     93.78  22.5667   59.5289           "
      ],
      "text/html": "<div>\n<style scoped>\n    .dataframe tbody tr th:only-of-type {\n        vertical-align: middle;\n    }\n\n    .dataframe tbody tr th {\n        vertical-align: top;\n    }\n\n    .dataframe thead th {\n        text-align: right;\n    }\n</style>\n<table border=\"1\" class=\"dataframe\">\n  <thead>\n    <tr style=\"text-align: right;\">\n      <th></th>\n      <th>City</th>\n      <th>Country</th>\n      <th>Max Temp</th>\n      <th>Lat</th>\n      <th>Lng</th>\n      <th>Hotel Name</th>\n    </tr>\n  </thead>\n  <tbody>\n    <tr>\n      <th>0</th>\n      <td>Puerto Narino</td>\n      <td>CO</td>\n      <td>84.15</td>\n      <td>-3.7703</td>\n      <td>-70.3831</td>\n      <td></td>\n    </tr>\n    <tr>\n      <th>1</th>\n      <td>Albany</td>\n      <td>US</td>\n      <td>76.59</td>\n      <td>42.6001</td>\n      <td>-73.9662</td>\n      <td></td>\n    </tr>\n    <tr>\n      <th>2</th>\n      <td>Griffith</td>\n      <td>US</td>\n      <td>79.57</td>\n      <td>41.5284</td>\n      <td>-87.4237</td>\n      <td></td>\n    </tr>\n    <tr>\n      <th>4</th>\n      <td>Puerto Ayora</td>\n      <td>EC</td>\n      <td>80.56</td>\n      <td>-0.7393</td>\n      <td>-90.3518</td>\n      <td></td>\n    </tr>\n    <tr>\n      <th>6</th>\n      <td>Vila Velha</td>\n      <td>BR</td>\n      <td>79.97</td>\n      <td>-20.3297</td>\n      <td>-40.2925</td>\n      <td></td>\n    </tr>\n    <tr>\n      <th>7</th>\n      <td>Sistranda</td>\n      <td>NO</td>\n      <td>58.89</td>\n      <td>63.7256</td>\n      <td>8.8340</td>\n      <td></td>\n    </tr>\n    <tr>\n      <th>8</th>\n      <td>Mackay</td>\n      <td>AU</td>\n      <td>66.04</td>\n      <td>-21.1500</td>\n      <td>149.2000</td>\n      <td></td>\n    </tr>\n    <tr>\n      <th>9</th>\n      <td>Saint-Augustin</td>\n      <td>CA</td>\n      <td>57.07</td>\n      <td>51.2260</td>\n      <td>-58.6502</td>\n      <td></td>\n    </tr>\n    <tr>\n      <th>11</th>\n      <td>Rikitea</td>\n      <td>PF</td>\n      <td>71.29</td>\n      <td>-23.1203</td>\n      <td>-134.9692</td>\n      <td></td>\n    </tr>\n    <tr>\n      <th>12</th>\n      <td>Sur</td>\n      <td>OM</td>\n      <td>93.78</td>\n      <td>22.5667</td>\n      <td>59.5289</td>\n      <td></td>\n    </tr>\n  </tbody>\n</table>\n</div>"
     },
     "metadata": {},
     "execution_count": 85
    }
   ],
   "source": [
    "# Create DataFrame called hotel_df to store hotel names along with city, country, max temp, and coordinates.\n",
    "hotel_df = preferred_cities_df[[\"City\", \"Country\", \"Max Temp\", \"Lat\", \"Lng\"]].copy()\n",
    "hotel_df[\"Hotel Name\"] = \"\"\n",
    "hotel_df.head(10)"
   ]
  },
  {
   "cell_type": "code",
   "execution_count": 86,
   "metadata": {},
   "outputs": [],
   "source": [
    "# Set parameters to search for a hotel.\n",
    "params = {\n",
    "    \"radius\": 5000,\n",
    "    \"type\": \"lodging\",\n",
    "    \"key\": google_map_api_key\n",
    "}"
   ]
  },
  {
   "cell_type": "code",
   "execution_count": 87,
   "metadata": {},
   "outputs": [
    {
     "output_type": "stream",
     "name": "stdout",
     "text": [
      "Hotel not found... skipping.\n",
      "Hotel not found... skipping.\n"
     ]
    }
   ],
   "source": [
    "# Iterate through the DataFrame.\n",
    "for index, row in hotel_df.iterrows():\n",
    "    # Get the latitude and longitude.\n",
    "    lat = row[\"Lat\"]\n",
    "    lng = row[\"Lng\"]\n",
    "\n",
    "    # Add the latitude and longitude to location key for the params dictionary.\n",
    "    params[\"location\"] = f\"{lat},{lng}\"\n",
    "\n",
    "    # Use the search term: \"lodging\" and our latitude and longitude.\n",
    "    base_url = \"https://maps.googleapis.com/maps/api/place/nearbysearch/json\"\n",
    "    # Make request and get the JSON data from the search.\n",
    "    hotels = requests.get(base_url, params=params).json()\n",
    "    # Grab the first hotel from the results and store the name.\n",
    "    #hotel_df.loc[index, \"Hotel Name\"] = hotels[\"results\"][0][\"name\"]\n",
    "    # Grab the first hotel from the results and store the name.\n",
    "    try:\n",
    "        hotel_df.loc[index, \"Hotel Name\"] = hotels[\"results\"][0][\"name\"]\n",
    "    except (IndexError):\n",
    "        print(\"Hotel not found... skipping.\")"
   ]
  },
  {
   "cell_type": "code",
   "execution_count": 88,
   "metadata": {},
   "outputs": [
    {
     "output_type": "execute_result",
     "data": {
      "text/plain": [
       "            City Country  Max Temp      Lat      Lng  \\\n",
       "0  Puerto Narino      CO     84.15  -3.7703 -70.3831   \n",
       "1         Albany      US     76.59  42.6001 -73.9662   \n",
       "2       Griffith      US     79.57  41.5284 -87.4237   \n",
       "4   Puerto Ayora      EC     80.56  -0.7393 -90.3518   \n",
       "6     Vila Velha      BR     79.97 -20.3297 -40.2925   \n",
       "\n",
       "                           Hotel Name  \n",
       "0             Eware Refugio Amazonico  \n",
       "1                                      \n",
       "2  Motel 6 Hammond, IN - Chicago Area  \n",
       "4           Finch Bay Galapagos Hotel  \n",
       "6           Quality Suites Vila Velha  "
      ],
      "text/html": "<div>\n<style scoped>\n    .dataframe tbody tr th:only-of-type {\n        vertical-align: middle;\n    }\n\n    .dataframe tbody tr th {\n        vertical-align: top;\n    }\n\n    .dataframe thead th {\n        text-align: right;\n    }\n</style>\n<table border=\"1\" class=\"dataframe\">\n  <thead>\n    <tr style=\"text-align: right;\">\n      <th></th>\n      <th>City</th>\n      <th>Country</th>\n      <th>Max Temp</th>\n      <th>Lat</th>\n      <th>Lng</th>\n      <th>Hotel Name</th>\n    </tr>\n  </thead>\n  <tbody>\n    <tr>\n      <th>0</th>\n      <td>Puerto Narino</td>\n      <td>CO</td>\n      <td>84.15</td>\n      <td>-3.7703</td>\n      <td>-70.3831</td>\n      <td>Eware Refugio Amazonico</td>\n    </tr>\n    <tr>\n      <th>1</th>\n      <td>Albany</td>\n      <td>US</td>\n      <td>76.59</td>\n      <td>42.6001</td>\n      <td>-73.9662</td>\n      <td></td>\n    </tr>\n    <tr>\n      <th>2</th>\n      <td>Griffith</td>\n      <td>US</td>\n      <td>79.57</td>\n      <td>41.5284</td>\n      <td>-87.4237</td>\n      <td>Motel 6 Hammond, IN - Chicago Area</td>\n    </tr>\n    <tr>\n      <th>4</th>\n      <td>Puerto Ayora</td>\n      <td>EC</td>\n      <td>80.56</td>\n      <td>-0.7393</td>\n      <td>-90.3518</td>\n      <td>Finch Bay Galapagos Hotel</td>\n    </tr>\n    <tr>\n      <th>6</th>\n      <td>Vila Velha</td>\n      <td>BR</td>\n      <td>79.97</td>\n      <td>-20.3297</td>\n      <td>-40.2925</td>\n      <td>Quality Suites Vila Velha</td>\n    </tr>\n  </tbody>\n</table>\n</div>"
     },
     "metadata": {},
     "execution_count": 88
    }
   ],
   "source": [
    "hotel_df.head()"
   ]
  },
  {
   "cell_type": "code",
   "execution_count": 89,
   "metadata": {},
   "outputs": [
    {
     "output_type": "display_data",
     "data": {
      "text/plain": "Figure(layout=FigureLayout(height='420px'))",
      "application/vnd.jupyter.widget-view+json": {
       "version_major": 2,
       "version_minor": 0,
       "model_id": "c4da6db95aaa45cdab86e067ae492a5d"
      }
     },
     "metadata": {}
    }
   ],
   "source": [
    "# Add a heatmap of temperature for the vacation spots.\n",
    "locations = hotel_df[[\"Lat\", \"Lng\"]]\n",
    "max_temp = hotel_df[\"Max Temp\"]\n",
    "fig = gmaps.figure(center=(30.0, 31.0), zoom_level=1.5)\n",
    "heat_layer = gmaps.heatmap_layer(locations, weights=max_temp, dissipating=False,\n",
    "             max_intensity=300, point_radius=4)\n",
    "\n",
    "fig.add_layer(heat_layer)\n",
    "# Call the figure to plot the data.\n",
    "fig"
   ]
  },
  {
   "cell_type": "code",
   "execution_count": 90,
   "metadata": {},
   "outputs": [
    {
     "output_type": "display_data",
     "data": {
      "text/plain": "Figure(layout=FigureLayout(height='420px'))",
      "application/vnd.jupyter.widget-view+json": {
       "version_major": 2,
       "version_minor": 0,
       "model_id": "1f956a9563064d0bad7180ea0ea6ef8d"
      }
     },
     "metadata": {}
    }
   ],
   "source": [
    "# Add a heatmap of temperature for the vacation spots and marker for each city.\n",
    "locations = hotel_df[[\"Lat\", \"Lng\"]]\n",
    "max_temp = hotel_df[\"Max Temp\"]\n",
    "fig = gmaps.figure(center=(30.0, 31.0), zoom_level=1.5)\n",
    "heat_layer = gmaps.heatmap_layer(locations, weights=max_temp,\n",
    "             dissipating=False, max_intensity=300, point_radius=4)\n",
    "marker_layer = gmaps.marker_layer(locations)\n",
    "fig.add_layer(heat_layer)\n",
    "fig.add_layer(marker_layer)\n",
    "# Call the figure to plot the data.\n",
    "fig"
   ]
  },
  {
   "cell_type": "code",
   "execution_count": 92,
   "metadata": {},
   "outputs": [],
   "source": [
    "info_box_template = \"\"\"\n",
    "<dl>\n",
    "<dt>Hotel Name</dt><dd>{Hotel Name}</dd>\n",
    "<dt>City</dt><dd>{City}</dd>\n",
    "<dt>Country</dt><dd>{Country}</dd>\n",
    "<dt>Max Temp</dt><dd>{Max Temp} °F</dd>\n",
    "</dl>\n",
    "\"\"\""
   ]
  },
  {
   "cell_type": "code",
   "execution_count": 93,
   "metadata": {},
   "outputs": [],
   "source": [
    "# Store the DataFrame Row.\n",
    "hotel_info = [info_box_template.format(**row) for index, row in hotel_df.iterrows()]"
   ]
  },
  {
   "cell_type": "code",
   "execution_count": 94,
   "metadata": {},
   "outputs": [
    {
     "output_type": "display_data",
     "data": {
      "text/plain": "Figure(layout=FigureLayout(height='420px'))",
      "application/vnd.jupyter.widget-view+json": {
       "version_major": 2,
       "version_minor": 0,
       "model_id": "d3c173a11699426aa4f4fdf86e680b6b"
      }
     },
     "metadata": {}
    }
   ],
   "source": [
    "# Add a heatmap of temperature for the vacation spots and a pop-up marker for each city.\n",
    "locations = hotel_df[[\"Lat\", \"Lng\"]]\n",
    "max_temp = hotel_df[\"Max Temp\"]\n",
    "fig = gmaps.figure(center=(30.0, 31.0), zoom_level=1.5)\n",
    "heat_layer = gmaps.heatmap_layer(locations, weights=max_temp,dissipating=False,\n",
    "             max_intensity=300, point_radius=4)\n",
    "marker_layer = gmaps.marker_layer(locations, info_box_content=hotel_info)\n",
    "fig.add_layer(heat_layer)\n",
    "fig.add_layer(marker_layer)\n",
    "\n",
    "# Call the figure to plot the data.\n",
    "fig"
   ]
  },
  {
   "cell_type": "code",
   "execution_count": null,
   "metadata": {},
   "outputs": [],
   "source": []
  }
 ]
}