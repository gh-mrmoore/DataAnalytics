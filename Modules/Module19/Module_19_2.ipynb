{
 "cells": [
  {
   "cell_type": "code",
   "execution_count": 1,
   "id": "b9ee29a0",
   "metadata": {},
   "outputs": [],
   "source": [
    "# Import dependencies\n",
    "import pandas as pd\n",
    "import matplotlib as plt\n",
    "from sklearn.datasets import make_blobs\n",
    "import sklearn as skl\n",
    "import tensorflow as tf"
   ]
  },
  {
   "cell_type": "code",
   "execution_count": 2,
   "id": "c7df1ddb",
   "metadata": {},
   "outputs": [
    {
     "data": {
      "text/plain": [
       "<AxesSubplot:xlabel='F1', ylabel='F2'>"
      ]
     },
     "execution_count": 2,
     "metadata": {},
     "output_type": "execute_result"
    },
    {
     "data": {
      "image/png": "[encoded data removed]",
      "text/plain": [
       "<Figure size 432x288 with 2 Axes>"
      ]
     },
     "metadata": {
      "needs_background": "light"
     },
     "output_type": "display_data"
    }
   ],
   "source": [
    "# Generate random dataset\n",
    "X, y = make_blobs(n_samples=1000, centers=2, n_features=2, random_state=78)\n",
    "\n",
    "# Create DataFrame with random data\n",
    "df = pd.DataFrame(X, columns=[\"F1\", \"F2\"])\n",
    "df[\"Target\"] = y\n",
    "\n",
    "# Plot random data\n",
    "df.plot.scatter(x=\"F1\", y=\"F2\", c=\"Target\", colormap=\"winter\")"
   ]
  },
  {
   "cell_type": "code",
   "execution_count": 4,
   "id": "1d7cede2",
   "metadata": {},
   "outputs": [],
   "source": [
    "# Split dataset using sklearn\n",
    "from sklearn.model_selection import train_test_split\n",
    "X_train, X_test, y_train, y_test = train_test_split(X, y, random_state=78)"
   ]
  },
  {
   "cell_type": "code",
   "execution_count": 5,
   "id": "32201d15",
   "metadata": {},
   "outputs": [],
   "source": [
    "# Create scaler instance\n",
    "X_scaler = skl.preprocessing.StandardScaler()\n",
    "\n",
    "# Fit the scaler\n",
    "X_scaler.fit(X_train)\n",
    "\n",
    "# Scale the data\n",
    "X_train_scaled = X_scaler.transform(X_train)\n",
    "X_test_scaled = X_scaler.transform(X_test)"
   ]
  },
  {
   "cell_type": "code",
   "execution_count": 6,
   "id": "025969ef",
   "metadata": {},
   "outputs": [],
   "source": [
    "# Create Keras Sequential model\n",
    "nn_model = tf.keras.models.Sequential()"
   ]
  },
  {
   "cell_type": "code",
   "execution_count": 7,
   "id": "7ae9c85a",
   "metadata": {},
   "outputs": [],
   "source": [
    "# Add first Dense layer, including the input layer\n",
    "nn_model.add(tf.keras.layers.Dense(units=1, activation=\"relu\", input_dim=2))"
   ]
  },
  {
   "cell_type": "code",
   "execution_count": 8,
   "id": "aa8a2fc9",
   "metadata": {},
   "outputs": [],
   "source": [
    "# Add the output layer that uses a probability activation function\n",
    "nn_model.add(tf.keras.layers.Dense(units=1, activation=\"sigmoid\"))"
   ]
  },
  {
   "cell_type": "code",
   "execution_count": 9,
   "id": "48390495",
   "metadata": {},
   "outputs": [
    {
     "name": "stdout",
     "output_type": "stream",
     "text": [
      "Model: \"sequential\"\n",
      "_________________________________________________________________\n",
      "Layer (type)                 Output Shape              Param #   \n",
      "=================================================================\n",
      "dense (Dense)                (None, 1)                 3         \n",
      "_________________________________________________________________\n",
      "dense_1 (Dense)              (None, 1)                 2         \n",
      "=================================================================\n",
      "Total params: 5\n",
      "Trainable params: 5\n",
      "Non-trainable params: 0\n",
      "_________________________________________________________________\n"
     ]
    }
   ],
   "source": [
    "# Check the structure of the Sequential model\n",
    "nn_model.summary()"
   ]
  },
  {
   "cell_type": "code",
   "execution_count": 10,
   "id": "f17c5255",
   "metadata": {},
   "outputs": [],
   "source": [
    "# Compile Sequential model and customize metrics\n",
    "nn_model.compile(loss=\"binary_crossentropy\", optimizer=\"adam\", metrics=[\"accuracy\"])"
   ]
  },
  {
   "cell_type": "code",
   "execution_count": 11,
   "id": "a14f7425",
   "metadata": {},
   "outputs": [
    {
     "name": "stdout",
     "output_type": "stream",
     "text": [
      "Epoch 1/100\n",
      "24/24 [==============================] - 1s 1ms/step - loss: 7.5179 - accuracy: 0.0240\n",
      "Epoch 2/100\n",
      "24/24 [==============================] - 0s 1ms/step - loss: 7.2020 - accuracy: 0.0000e+00\n",
      "Epoch 3/100\n",
      "24/24 [==============================] - 0s 1ms/step - loss: 6.8883 - accuracy: 0.0000e+00\n",
      "Epoch 4/100\n",
      "24/24 [==============================] - 0s 1ms/step - loss: 6.5892 - accuracy: 0.0000e+00\n",
      "Epoch 5/100\n",
      "24/24 [==============================] - 0s 2ms/step - loss: 6.2983 - accuracy: 0.0000e+00\n",
      "Epoch 6/100\n",
      "24/24 [==============================] - 0s 2ms/step - loss: 6.0198 - accuracy: 0.0000e+00\n",
      "Epoch 7/100\n",
      "24/24 [==============================] - 0s 1ms/step - loss: 5.7518 - accuracy: 0.0000e+00\n",
      "Epoch 8/100\n",
      "24/24 [==============================] - 0s 2ms/step - loss: 5.4895 - accuracy: 0.0000e+00\n",
      "Epoch 9/100\n",
      "24/24 [==============================] - 0s 2ms/step - loss: 5.2392 - accuracy: 0.0000e+00\n",
      "Epoch 10/100\n",
      "24/24 [==============================] - 0s 2ms/step - loss: 4.9998 - accuracy: 0.0000e+00\n",
      "Epoch 11/100\n",
      "24/24 [==============================] - 0s 1ms/step - loss: 4.7631 - accuracy: 0.0000e+00\n",
      "Epoch 12/100\n",
      "24/24 [==============================] - 0s 2ms/step - loss: 4.5425 - accuracy: 0.0000e+00\n",
      "Epoch 13/100\n",
      "24/24 [==============================] - 0s 1ms/step - loss: 4.3250 - accuracy: 0.0000e+00\n",
      "Epoch 14/100\n",
      "24/24 [==============================] - 0s 2ms/step - loss: 4.1180 - accuracy: 0.0000e+00\n",
      "Epoch 15/100\n",
      "24/24 [==============================] - 0s 1ms/step - loss: 3.9156 - accuracy: 0.0000e+00\n",
      "Epoch 16/100\n",
      "24/24 [==============================] - 0s 2ms/step - loss: 3.7264 - accuracy: 0.0000e+00\n",
      "Epoch 17/100\n",
      "24/24 [==============================] - 0s 1ms/step - loss: 3.5422 - accuracy: 0.0000e+00\n",
      "Epoch 18/100\n",
      "24/24 [==============================] - 0s 2ms/step - loss: 3.3657 - accuracy: 0.0000e+00\n",
      "Epoch 19/100\n",
      "24/24 [==============================] - 0s 2ms/step - loss: 3.1991 - accuracy: 0.0000e+00\n",
      "Epoch 20/100\n",
      "24/24 [==============================] - 0s 2ms/step - loss: 3.0377 - accuracy: 0.0000e+00\n",
      "Epoch 21/100\n",
      "24/24 [==============================] - 0s 2ms/step - loss: 2.8842 - accuracy: 0.0000e+00\n",
      "Epoch 22/100\n",
      "24/24 [==============================] - 0s 2ms/step - loss: 2.7361 - accuracy: 0.0000e+00\n",
      "Epoch 23/100\n",
      "24/24 [==============================] - 0s 2ms/step - loss: 2.5961 - accuracy: 0.0000e+00\n",
      "Epoch 24/100\n",
      "24/24 [==============================] - 0s 2ms/step - loss: 2.4629 - accuracy: 0.0000e+00\n",
      "Epoch 25/100\n",
      "24/24 [==============================] - 0s 2ms/step - loss: 2.3370 - accuracy: 0.0000e+00\n",
      "Epoch 26/100\n",
      "24/24 [==============================] - 0s 2ms/step - loss: 2.2202 - accuracy: 0.0000e+00\n",
      "Epoch 27/100\n",
      "24/24 [==============================] - 0s 2ms/step - loss: 2.1087 - accuracy: 0.0000e+00\n",
      "Epoch 28/100\n",
      "24/24 [==============================] - 0s 2ms/step - loss: 2.0036 - accuracy: 0.0000e+00\n",
      "Epoch 29/100\n",
      "24/24 [==============================] - 0s 3ms/step - loss: 1.9051 - accuracy: 0.0000e+00\n",
      "Epoch 30/100\n",
      "24/24 [==============================] - 0s 2ms/step - loss: 1.8146 - accuracy: 0.0000e+00\n",
      "Epoch 31/100\n",
      "24/24 [==============================] - 0s 2ms/step - loss: 1.7284 - accuracy: 0.0000e+00\n",
      "Epoch 32/100\n",
      "24/24 [==============================] - 0s 2ms/step - loss: 1.6499 - accuracy: 0.0000e+00\n",
      "Epoch 33/100\n",
      "24/24 [==============================] - 0s 2ms/step - loss: 1.5776 - accuracy: 0.0000e+00\n",
      "Epoch 34/100\n",
      "24/24 [==============================] - 0s 2ms/step - loss: 1.5109 - accuracy: 0.0000e+00\n",
      "Epoch 35/100\n",
      "24/24 [==============================] - 0s 2ms/step - loss: 1.4490 - accuracy: 0.0000e+00\n",
      "Epoch 36/100\n",
      "24/24 [==============================] - 0s 2ms/step - loss: 1.3930 - accuracy: 0.0000e+00\n",
      "Epoch 37/100\n",
      "24/24 [==============================] - 0s 2ms/step - loss: 1.3423 - accuracy: 0.0000e+00\n",
      "Epoch 38/100\n",
      "24/24 [==============================] - 0s 2ms/step - loss: 1.2958 - accuracy: 0.0000e+00\n",
      "Epoch 39/100\n",
      "24/24 [==============================] - 0s 2ms/step - loss: 1.2541 - accuracy: 0.0000e+00\n",
      "Epoch 40/100\n",
      "24/24 [==============================] - 0s 1ms/step - loss: 1.2157 - accuracy: 0.0000e+00\n",
      "Epoch 41/100\n",
      "24/24 [==============================] - 0s 1ms/step - loss: 1.1810 - accuracy: 0.0000e+00\n",
      "Epoch 42/100\n",
      "24/24 [==============================] - 0s 1ms/step - loss: 1.1486 - accuracy: 0.0000e+00\n",
      "Epoch 43/100\n",
      "24/24 [==============================] - 0s 1ms/step - loss: 1.1200 - accuracy: 0.0000e+00\n",
      "Epoch 44/100\n",
      "24/24 [==============================] - 0s 1ms/step - loss: 1.0933 - accuracy: 0.0000e+00\n",
      "Epoch 45/100\n",
      "24/24 [==============================] - 0s 1ms/step - loss: 1.0693 - accuracy: 0.0000e+00\n",
      "Epoch 46/100\n",
      "24/24 [==============================] - 0s 1ms/step - loss: 1.0469 - accuracy: 0.0000e+00\n",
      "Epoch 47/100\n",
      "24/24 [==============================] - 0s 2ms/step - loss: 1.0261 - accuracy: 0.0000e+00\n",
      "Epoch 48/100\n",
      "24/24 [==============================] - 0s 3ms/step - loss: 1.0073 - accuracy: 0.0000e+00\n",
      "Epoch 49/100\n",
      "24/24 [==============================] - 0s 3ms/step - loss: 0.9897 - accuracy: 0.0013\n",
      "Epoch 50/100\n",
      "24/24 [==============================] - 0s 3ms/step - loss: 0.9733 - accuracy: 0.0040\n",
      "Epoch 51/100\n",
      "24/24 [==============================] - 0s 3ms/step - loss: 0.9583 - accuracy: 0.0053\n",
      "Epoch 52/100\n",
      "24/24 [==============================] - 0s 3ms/step - loss: 0.9441 - accuracy: 0.0093\n",
      "Epoch 53/100\n",
      "24/24 [==============================] - 0s 3ms/step - loss: 0.9309 - accuracy: 0.0173\n",
      "Epoch 54/100\n",
      "24/24 [==============================] - 0s 3ms/step - loss: 0.9184 - accuracy: 0.0320\n",
      "Epoch 55/100\n",
      "24/24 [==============================] - 0s 3ms/step - loss: 0.9066 - accuracy: 0.0440\n",
      "Epoch 56/100\n",
      "24/24 [==============================] - 0s 3ms/step - loss: 0.8957 - accuracy: 0.0667\n",
      "Epoch 57/100\n",
      "24/24 [==============================] - 0s 3ms/step - loss: 0.8852 - accuracy: 0.0853\n",
      "Epoch 58/100\n",
      "24/24 [==============================] - 0s 3ms/step - loss: 0.8753 - accuracy: 0.1267\n",
      "Epoch 59/100\n",
      "24/24 [==============================] - 0s 2ms/step - loss: 0.8659 - accuracy: 0.1733\n",
      "Epoch 60/100\n",
      "24/24 [==============================] - 0s 2ms/step - loss: 0.8569 - accuracy: 0.2187\n",
      "Epoch 61/100\n",
      "24/24 [==============================] - 0s 2ms/step - loss: 0.8483 - accuracy: 0.2533\n",
      "Epoch 62/100\n",
      "24/24 [==============================] - 0s 2ms/step - loss: 0.8401 - accuracy: 0.2973\n",
      "Epoch 63/100\n",
      "24/24 [==============================] - 0s 2ms/step - loss: 0.8323 - accuracy: 0.3493\n",
      "Epoch 64/100\n",
      "24/24 [==============================] - 0s 2ms/step - loss: 0.8248 - accuracy: 0.3907\n",
      "Epoch 65/100\n",
      "24/24 [==============================] - 0s 2ms/step - loss: 0.8176 - accuracy: 0.4173\n",
      "Epoch 66/100\n",
      "24/24 [==============================] - 0s 1ms/step - loss: 0.8107 - accuracy: 0.4333\n",
      "Epoch 67/100\n",
      "24/24 [==============================] - 0s 2ms/step - loss: 0.8040 - accuracy: 0.4533\n",
      "Epoch 68/100\n",
      "24/24 [==============================] - 0s 2ms/step - loss: 0.7977 - accuracy: 0.4680\n",
      "Epoch 69/100\n",
      "24/24 [==============================] - 0s 2ms/step - loss: 0.7915 - accuracy: 0.4773\n",
      "Epoch 70/100\n",
      "24/24 [==============================] - 0s 1ms/step - loss: 0.7856 - accuracy: 0.4827\n",
      "Epoch 71/100\n",
      "24/24 [==============================] - 0s 2ms/step - loss: 0.7799 - accuracy: 0.4880\n",
      "Epoch 72/100\n",
      "24/24 [==============================] - 0s 2ms/step - loss: 0.7744 - accuracy: 0.4920\n",
      "Epoch 73/100\n",
      "24/24 [==============================] - 0s 2ms/step - loss: 0.7691 - accuracy: 0.4920\n",
      "Epoch 74/100\n",
      "24/24 [==============================] - 0s 2ms/step - loss: 0.7639 - accuracy: 0.4920\n",
      "Epoch 75/100\n",
      "24/24 [==============================] - 0s 2ms/step - loss: 0.7589 - accuracy: 0.4920\n",
      "Epoch 76/100\n",
      "24/24 [==============================] - 0s 2ms/step - loss: 0.7541 - accuracy: 0.4933\n",
      "Epoch 77/100\n",
      "24/24 [==============================] - 0s 2ms/step - loss: 0.7494 - accuracy: 0.4933\n",
      "Epoch 78/100\n",
      "24/24 [==============================] - 0s 2ms/step - loss: 0.7448 - accuracy: 0.4933\n",
      "Epoch 79/100\n",
      "24/24 [==============================] - 0s 2ms/step - loss: 0.7403 - accuracy: 0.4933\n",
      "Epoch 80/100\n",
      "24/24 [==============================] - 0s 2ms/step - loss: 0.7360 - accuracy: 0.4933\n",
      "Epoch 81/100\n"
     ]
    },
    {
     "name": "stdout",
     "output_type": "stream",
     "text": [
      "24/24 [==============================] - 0s 2ms/step - loss: 0.7317 - accuracy: 0.4933\n",
      "Epoch 82/100\n",
      "24/24 [==============================] - 0s 2ms/step - loss: 0.7276 - accuracy: 0.4933\n",
      "Epoch 83/100\n",
      "24/24 [==============================] - 0s 2ms/step - loss: 0.7235 - accuracy: 0.4933\n",
      "Epoch 84/100\n",
      "24/24 [==============================] - 0s 2ms/step - loss: 0.7195 - accuracy: 0.4933\n",
      "Epoch 85/100\n",
      "24/24 [==============================] - 0s 3ms/step - loss: 0.7157 - accuracy: 0.4933\n",
      "Epoch 86/100\n",
      "24/24 [==============================] - 0s 3ms/step - loss: 0.7119 - accuracy: 0.4933\n",
      "Epoch 87/100\n",
      "24/24 [==============================] - 0s 2ms/step - loss: 0.7086 - accuracy: 0.4933\n",
      "Epoch 88/100\n",
      "24/24 [==============================] - 0s 2ms/step - loss: 0.7057 - accuracy: 0.4933\n",
      "Epoch 89/100\n",
      "24/24 [==============================] - 0s 2ms/step - loss: 0.7036 - accuracy: 0.4933\n",
      "Epoch 90/100\n",
      "24/24 [==============================] - 0s 2ms/step - loss: 0.7020 - accuracy: 0.4933\n",
      "Epoch 91/100\n",
      "24/24 [==============================] - 0s 2ms/step - loss: 0.7008 - accuracy: 0.4933\n",
      "Epoch 92/100\n",
      "24/24 [==============================] - 0s 2ms/step - loss: 0.7000 - accuracy: 0.4933\n",
      "Epoch 93/100\n",
      "24/24 [==============================] - 0s 2ms/step - loss: 0.6993 - accuracy: 0.4933\n",
      "Epoch 94/100\n",
      "24/24 [==============================] - 0s 2ms/step - loss: 0.6987 - accuracy: 0.4933\n",
      "Epoch 95/100\n",
      "24/24 [==============================] - 0s 1ms/step - loss: 0.6981 - accuracy: 0.4933\n",
      "Epoch 96/100\n",
      "24/24 [==============================] - 0s 1ms/step - loss: 0.6977 - accuracy: 0.4933\n",
      "Epoch 97/100\n",
      "24/24 [==============================] - 0s 1ms/step - loss: 0.6972 - accuracy: 0.4933\n",
      "Epoch 98/100\n",
      "24/24 [==============================] - 0s 1ms/step - loss: 0.6969 - accuracy: 0.4933\n",
      "Epoch 99/100\n",
      "24/24 [==============================] - 0s 1ms/step - loss: 0.6965 - accuracy: 0.4933\n",
      "Epoch 100/100\n",
      "24/24 [==============================] - 0s 1ms/step - loss: 0.6962 - accuracy: 0.4933\n"
     ]
    }
   ],
   "source": [
    "# Fit model to training data\n",
    "fit_model = nn_model.fit(X_train, y_train, epochs=100)"
   ]
  },
  {
   "cell_type": "code",
   "execution_count": 12,
   "id": "29518b13",
   "metadata": {},
   "outputs": [
    {
     "data": {
      "text/plain": [
       "<AxesSubplot:>"
      ]
     },
     "execution_count": 12,
     "metadata": {},
     "output_type": "execute_result"
    },
    {
     "data": {
      "image/png": "[encoded data removed]",
      "text/plain": [
       "<Figure size 432x288 with 1 Axes>"
      ]
     },
     "metadata": {
      "needs_background": "light"
     },
     "output_type": "display_data"
    }
   ],
   "source": [
    "# Create training history DataFrame\n",
    "history_df = pd.DataFrame(fit_model.history, index=range(1,len(fit_model.history[\"loss\"])+1))\n",
    "\n",
    "# Plot the loss\n",
    "history_df.plot(y=\"loss\")"
   ]
  },
  {
   "cell_type": "code",
   "execution_count": 13,
   "id": "f9a2400d",
   "metadata": {},
   "outputs": [
    {
     "data": {
      "text/plain": [
       "<AxesSubplot:>"
      ]
     },
     "execution_count": 13,
     "metadata": {},
     "output_type": "execute_result"
    },
    {
     "data": {
      "image/png": "[encoded data removed]",
      "text/plain": [
       "<Figure size 432x288 with 1 Axes>"
      ]
     },
     "metadata": {
      "needs_background": "light"
     },
     "output_type": "display_data"
    }
   ],
   "source": [
    "# Accuracy plot\n",
    "history_df.plot(y=\"accuracy\")"
   ]
  },
  {
   "cell_type": "code",
   "execution_count": 14,
   "id": "24f05e04",
   "metadata": {},
   "outputs": [
    {
     "name": "stdout",
     "output_type": "stream",
     "text": [
      "8/8 - 0s - loss: 0.6926 - accuracy: 0.5200\n",
      "Loss: 0.6926014423370361, Accuracy: 0.5199999809265137\n"
     ]
    }
   ],
   "source": [
    "# Evaluate model using test data\n",
    "model_loss, model_accuracy = nn_model.evaluate(X_test_scaled,y_test,verbose=2)\n",
    "print(f\"Loss: {model_loss}, Accuracy: {model_accuracy}\")"
   ]
  },
  {
   "cell_type": "code",
   "execution_count": 15,
   "id": "024a711e",
   "metadata": {},
   "outputs": [
    {
     "data": {
      "text/plain": [
       "array([[1],\n",
       "       [1],\n",
       "       [1],\n",
       "       [1],\n",
       "       [1],\n",
       "       [1],\n",
       "       [1],\n",
       "       [1],\n",
       "       [1],\n",
       "       [1]])"
      ]
     },
     "execution_count": 15,
     "metadata": {},
     "output_type": "execute_result"
    }
   ],
   "source": [
    "# Predict the classification of a new set of blob data\n",
    "new_X, new_Y = make_blobs(n_samples=10, centers=2, n_features=2, random_state=78)\n",
    "\n",
    "new_X_scaled = X_scaler.transform(new_X)\n",
    "\n",
    "(nn_model.predict(new_X_scaled) > 0.5).astype(\"int32\")"
   ]
  },
  {
   "cell_type": "code",
   "execution_count": null,
   "id": "b8db7d31",
   "metadata": {},
   "outputs": [],
   "source": []
  }
 ],
 "metadata": {
  "kernelspec": {
   "display_name": "mlenv",
   "language": "python",
   "name": "mlenv"
  },
  "language_info": {
   "codemirror_mode": {
    "name": "ipython",
    "version": 3
   },
   "file_extension": ".py",
   "mimetype": "text/x-python",
   "name": "python",
   "nbconvert_exporter": "python",
   "pygments_lexer": "ipython3",
   "version": "3.7.10"
  }
 },
 "nbformat": 4,
 "nbformat_minor": 5
}
