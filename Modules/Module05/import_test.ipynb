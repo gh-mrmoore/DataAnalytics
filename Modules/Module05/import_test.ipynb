{
 "metadata": {
  "language_info": {
   "codemirror_mode": {
    "name": "ipython",
    "version": 3
   },
   "file_extension": ".py",
   "mimetype": "text/x-python",
   "name": "python",
   "nbconvert_exporter": "python",
   "pygments_lexer": "ipython3",
   "version": "3.7.10"
  },
  "orig_nbformat": 2,
  "kernelspec": {
   "name": "python3710jvsc74a57bd0acda147c8dd3b8f0274d48e33490c3394fd067fdf96c410e3ee71258c53f02eb",
   "display_name": "Python 3.7.10 64-bit ('PythonData': conda)"
  }
 },
 "nbformat": 4,
 "nbformat_minor": 2,
 "cells": [
  {
   "cell_type": "code",
   "execution_count": 1,
   "metadata": {},
   "outputs": [],
   "source": [
    "# Add magic statements for whole notebook\n",
    "# Include this line to make plots interactive\n",
    "%matplotlib notebook\n",
    "\n",
    "# Make plots display in-line\n",
    "%matplotlib inline"
   ]
  },
  {
   "cell_type": "code",
   "execution_count": 2,
   "metadata": {},
   "outputs": [],
   "source": [
    "# Add Python Dependencies\n",
    "import pandas as pd\n",
    "import matplotlib.pyplot as plt\n",
    "import numpy as np\n",
    "import os"
   ]
  },
  {
   "cell_type": "code",
   "execution_count": 3,
   "metadata": {},
   "outputs": [],
   "source": [
    "# Add my helper functions\n",
    "import cleaning"
   ]
  },
  {
   "cell_type": "code",
   "execution_count": 4,
   "metadata": {},
   "outputs": [
    {
     "output_type": "execute_result",
     "data": {
      "text/plain": [
       "    Month  Avg. Fare ($USD)\n",
       "0     Jan             10.02\n",
       "1     Feb             23.24\n",
       "2     Mar             39.20\n",
       "3   April             35.42\n",
       "4     May             32.34\n",
       "5    June             27.04\n",
       "6    July             43.82\n",
       "7     Aug             10.56\n",
       "8    Sept             11.85\n",
       "9     Oct             27.90\n",
       "10    Nov             20.71\n",
       "11    Dec             20.09"
      ],
      "text/html": "<div>\n<style scoped>\n    .dataframe tbody tr th:only-of-type {\n        vertical-align: middle;\n    }\n\n    .dataframe tbody tr th {\n        vertical-align: top;\n    }\n\n    .dataframe thead th {\n        text-align: right;\n    }\n</style>\n<table border=\"1\" class=\"dataframe\">\n  <thead>\n    <tr style=\"text-align: right;\">\n      <th></th>\n      <th>Month</th>\n      <th>Avg. Fare ($USD)</th>\n    </tr>\n  </thead>\n  <tbody>\n    <tr>\n      <th>0</th>\n      <td>Jan</td>\n      <td>10.02</td>\n    </tr>\n    <tr>\n      <th>1</th>\n      <td>Feb</td>\n      <td>23.24</td>\n    </tr>\n    <tr>\n      <th>2</th>\n      <td>Mar</td>\n      <td>39.20</td>\n    </tr>\n    <tr>\n      <th>3</th>\n      <td>April</td>\n      <td>35.42</td>\n    </tr>\n    <tr>\n      <th>4</th>\n      <td>May</td>\n      <td>32.34</td>\n    </tr>\n    <tr>\n      <th>5</th>\n      <td>June</td>\n      <td>27.04</td>\n    </tr>\n    <tr>\n      <th>6</th>\n      <td>July</td>\n      <td>43.82</td>\n    </tr>\n    <tr>\n      <th>7</th>\n      <td>Aug</td>\n      <td>10.56</td>\n    </tr>\n    <tr>\n      <th>8</th>\n      <td>Sept</td>\n      <td>11.85</td>\n    </tr>\n    <tr>\n      <th>9</th>\n      <td>Oct</td>\n      <td>27.90</td>\n    </tr>\n    <tr>\n      <th>10</th>\n      <td>Nov</td>\n      <td>20.71</td>\n    </tr>\n    <tr>\n      <th>11</th>\n      <td>Dec</td>\n      <td>20.09</td>\n    </tr>\n  </tbody>\n</table>\n</div>"
     },
     "metadata": {},
     "execution_count": 4
    }
   ],
   "source": [
    "# Load csv file to DataFrame\n",
    "pyber_ride_df = pd.read_csv(\"Resources/PyBer_ride_data.csv\")\n",
    "\n",
    "# Display the DataFrame\n",
    "pyber_ride_df"
   ]
  },
  {
   "cell_type": "code",
   "execution_count": 5,
   "metadata": {},
   "outputs": [
    {
     "output_type": "stream",
     "name": "stdout",
     "text": [
      "===============DataFrame Head===============\n   Month  Avg. Fare ($USD)\n0    Jan             10.02\n1    Feb             23.24\n2    Mar             39.20\n3  April             35.42\n4    May             32.34\n===============DataFrame Tail===============\n   Month  Avg. Fare ($USD)\n7    Aug             10.56\n8   Sept             11.85\n9    Oct             27.90\n10   Nov             20.71\n11   Dec             20.09\n===============Info===============\n<class 'pandas.core.frame.DataFrame'>\nRangeIndex: 12 entries, 0 to 11\nData columns (total 2 columns):\n #   Column            Non-Null Count  Dtype  \n---  ------            --------------  -----  \n 0   Month             12 non-null     object \n 1   Avg. Fare ($USD)  12 non-null     float64\ndtypes: float64(1), object(1)\nmemory usage: 320.0+ bytes\nNone\n===============Data Types===============\nMonth                object\nAvg. Fare ($USD)    float64\ndtype: object\n===============Shape===============\n(12, 2)\n"
     ]
    }
   ],
   "source": [
    "# Run my overview function on the DataFrame\n",
    "cleaning.main(pyber_ride_df)"
   ]
  },
  {
   "cell_type": "code",
   "execution_count": null,
   "metadata": {},
   "outputs": [],
   "source": []
  }
 ]
}