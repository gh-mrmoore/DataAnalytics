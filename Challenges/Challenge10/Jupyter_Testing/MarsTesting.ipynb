{
 "cells": [
  {
   "cell_type": "code",
   "execution_count": 103,
   "metadata": {},
   "outputs": [],
   "source": [
    "# Import Splinter, BeautifulSoup, and Pandas\n",
    "from splinter import Browser\n",
    "from bs4 import BeautifulSoup as soup\n",
    "import pandas as pd\n",
    "from webdriver_manager.chrome import ChromeDriverManager"
   ]
  },
  {
   "cell_type": "code",
   "execution_count": 104,
   "metadata": {},
   "outputs": [
    {
     "output_type": "stream",
     "name": "stderr",
     "text": [
      "\n",
      "\n",
      "====== WebDriver manager ======\n",
      "Current google-chrome version is 91.0.4472\n",
      "Get LATEST driver version for 91.0.4472\n",
      "Driver [C:\\Users\\mrm\\.wdm\\drivers\\chromedriver\\win32\\91.0.4472.101\\chromedriver.exe] found in cache\n"
     ]
    }
   ],
   "source": [
    "# Set the executable path and initialize Splinter\n",
    "executable_path = {'executable_path': ChromeDriverManager().install()}\n",
    "browser = Browser('chrome', **executable_path, headless=False)"
   ]
  },
  {
   "cell_type": "markdown",
   "metadata": {},
   "source": [
    "### Visit the NASA Mars News Site"
   ]
  },
  {
   "cell_type": "markdown",
   "metadata": {},
   "source": [
    "# D1: Scrape High-Resolution Mars’ Hemisphere Images and Titles"
   ]
  },
  {
   "cell_type": "markdown",
   "metadata": {},
   "source": [
    "### Hemispheres"
   ]
  },
  {
   "cell_type": "code",
   "execution_count": 105,
   "metadata": {},
   "outputs": [],
   "source": [
    "# 1. Use browser to visit the URL \n",
    "url = 'https://marshemispheres.com/'\n",
    "\n",
    "browser.visit(url)"
   ]
  },
  {
   "cell_type": "code",
   "execution_count": 106,
   "metadata": {},
   "outputs": [
    {
     "output_type": "stream",
     "name": "stdout",
     "text": [
      "[<a class=\"itemLink product-item\" href=\"cerberus.html\"><img alt=\"Cerberus Hemisphere Enhanced thumbnail\" class=\"thumb\" src=\"images/39d3266553462198bd2fbc4d18fbed17_cerberus_enhanced.tif_thumb.png\"/></a>, <a class=\"itemLink product-item\" href=\"cerberus.html\">\n<h3>Cerberus Hemisphere Enhanced</h3>\n</a>, <a class=\"itemLink product-item\" href=\"schiaparelli.html\"><img alt=\"Schiaparelli Hemisphere Enhanced thumbnail\" class=\"thumb\" src=\"images/08eac6e22c07fb1fe72223a79252de20_schiaparelli_enhanced.tif_thumb.png\"/></a>, <a class=\"itemLink product-item\" href=\"schiaparelli.html\">\n<h3>Schiaparelli Hemisphere Enhanced</h3>\n</a>, <a class=\"itemLink product-item\" href=\"syrtis.html\"><img alt=\"Syrtis Major Hemisphere Enhanced thumbnail\" class=\"thumb\" src=\"images/55a0a1e2796313fdeafb17c35925e8ac_syrtis_major_enhanced.tif_thumb.png\"/></a>, <a class=\"itemLink product-item\" href=\"syrtis.html\">\n<h3>Syrtis Major Hemisphere Enhanced</h3>\n</a>, <a class=\"itemLink product-item\" href=\"valles.html\"><img alt=\"Valles Marineris Hemisphere Enhanced thumbnail\" class=\"thumb\" src=\"images/4e59980c1c57f89c680c0e1ccabbeff1_valles_marineris_enhanced.tif_thumb.png\"/></a>, <a class=\"itemLink product-item\" href=\"valles.html\">\n<h3>Valles Marineris Hemisphere Enhanced</h3>\n</a>, <a class=\"itemLink product-item\" href=\"#\" onclick=\"showMain()\">\n<h3>Back</h3>\n</a>]\n"
     ]
    }
   ],
   "source": [
    "# 2. Create a list to hold the images and titles.\n",
    "hemisphere_image_urls = []\n",
    "\n",
    "# 3. Write code to retrieve the image urls and titles for each hemisphere.\n",
    "# thumbnail images appear to have the class itemLink product-item\n",
    "hemi_html = browser.html\n",
    "hemi_soup = soup(hemi_html, 'html.parser')\n",
    "\n",
    "# all thumbnail images\n",
    "img_element = hemi_soup.find_all('a', class_=\"itemLink product-item\")\n",
    "print(img_element)"
   ]
  },
  {
   "cell_type": "code",
   "execution_count": 107,
   "metadata": {},
   "outputs": [],
   "source": [
    "# create an intermediary list to hold the new sites to visit to get the correct img src\n",
    "actual_pages = []\n",
    "for images in img_element:\n",
    "    # get link that each thumbnail references\n",
    "    img_x = images.get('href')\n",
    "    hemi_link = f'{url}{img_x}'\n",
    "    if len(images.get('href')) > 1 and hemi_link not in actual_pages:\n",
    "        actual_pages.append(hemi_link)\n",
    "\n",
    "# print(actual_pages)\n",
    "\n",
    "# visit each page for each hemisphere\n",
    "for link in actual_pages:\n",
    "    hemi_dict = {}\n",
    "\n",
    "    browser.visit(link)\n",
    "\n",
    "    enhanced_html = browser.html\n",
    "    enhanced_soup = soup(enhanced_html, 'html.parser')\n",
    "\n",
    "    # get the url of the jpg image (Sample in the link text)\n",
    "    original_image = enhanced_soup.find_all('a')\n",
    "    for link in original_image:\n",
    "        if link.text == \"Sample\":\n",
    "            full_img_url = url + link['href']\n",
    "            # print(full_img_url)\n",
    "            hemi_dict[\"img_url\"] = full_img_url\n",
    "    \n",
    "    header2s = enhanced_soup.find_all('h2')\n",
    "    for header in header2s:\n",
    "        hemi_dict[\"title\"] = header.text\n",
    "    \n",
    "    hemisphere_image_urls.append(hemi_dict)"
   ]
  },
  {
   "cell_type": "code",
   "execution_count": 108,
   "metadata": {},
   "outputs": [
    {
     "output_type": "execute_result",
     "data": {
      "text/plain": [
       "[{'img_url': 'https://marshemispheres.com/images/full.jpg',\n",
       "  'title': 'Cerberus Hemisphere Enhanced'},\n",
       " {'img_url': 'https://marshemispheres.com/images/schiaparelli_enhanced-full.jpg',\n",
       "  'title': 'Schiaparelli Hemisphere Enhanced'},\n",
       " {'img_url': 'https://marshemispheres.com/images/syrtis_major_enhanced-full.jpg',\n",
       "  'title': 'Syrtis Major Hemisphere Enhanced'},\n",
       " {'img_url': 'https://marshemispheres.com/images/valles_marineris_enhanced-full.jpg',\n",
       "  'title': 'Valles Marineris Hemisphere Enhanced'}]"
      ]
     },
     "metadata": {},
     "execution_count": 108
    }
   ],
   "source": [
    "# 4. Print the list that holds the dictionary of each image url and title.\n",
    "hemisphere_image_urls"
   ]
  },
  {
   "cell_type": "code",
   "execution_count": 109,
   "metadata": {},
   "outputs": [],
   "source": [
    "# 5. Quit the browser\n",
    "browser.quit()"
   ]
  },
  {
   "cell_type": "code",
   "execution_count": null,
   "metadata": {},
   "outputs": [],
   "source": []
  }
 ],
 "metadata": {
  "kernelspec": {
   "name": "python3",
   "display_name": "Python 3.7.10 64-bit ('PythonData': conda)"
  },
  "language_info": {
   "codemirror_mode": {
    "name": "ipython",
    "version": 3
   },
   "file_extension": ".py",
   "mimetype": "text/x-python",
   "name": "python",
   "nbconvert_exporter": "python",
   "pygments_lexer": "ipython3",
   "version": "3.7.10"
  },
  "nteract": {
   "version": "0.15.0"
  },
  "interpreter": {
   "hash": "acda147c8dd3b8f0274d48e33490c3394fd067fdf96c410e3ee71258c53f02eb"
  }
 },
 "nbformat": 4,
 "nbformat_minor": 4
}