{
 "metadata": {
  "language_info": {
   "codemirror_mode": {
    "name": "ipython",
    "version": 3
   },
   "file_extension": ".py",
   "mimetype": "text/x-python",
   "name": "python",
   "nbconvert_exporter": "python",
   "pygments_lexer": "ipython3",
   "version": "3.8.5"
  },
  "orig_nbformat": 4,
  "kernelspec": {
   "name": "python3",
   "display_name": "Python 3.8.5 64-bit ('base': conda)"
  },
  "interpreter": {
   "hash": "9e38600269eb7cd4a4118ce252119dbdc23fa4df88f0784eb9dd5586737b802b"
  }
 },
 "nbformat": 4,
 "nbformat_minor": 2,
 "cells": [
  {
   "cell_type": "code",
   "execution_count": 1,
   "metadata": {},
   "outputs": [],
   "source": [
    "# Dependencies\n",
    "import numpy as np\n",
    "import pandas as pd\n",
    "\n",
    "# Python SQL toolkit and Object Relational Mapper\n",
    "import sqlalchemy, os\n",
    "from sqlalchemy.ext.automap import automap_base\n",
    "from sqlalchemy.orm import Session\n",
    "from sqlalchemy import create_engine, func, inspect\n",
    "\n",
    "from sqlalchemy import extract"
   ]
  },
  {
   "cell_type": "code",
   "execution_count": 2,
   "metadata": {},
   "outputs": [],
   "source": [
    "# Change the connection to work better with my setup and system\n",
    "hawaii_path = os.path.join(\"Resources\", \"hawaii.sqlite\")\n",
    "\n",
    "# engine = create_engine(\"sqlite:///hawaii.sqlite\")\n",
    "engine = create_engine(f\"sqlite:///{hawaii_path}\")\n",
    "\n",
    "# reflect an existing database into a new model\n",
    "Base = automap_base()\n",
    "# reflect the tables\n",
    "Base.prepare(engine, reflect=True)\n",
    "\n",
    "# Save references to each table\n",
    "Measurement = Base.classes.measurement\n",
    "Station = Base.classes.station\n",
    "\n",
    "# Create our session (link) from Python to the DB\n",
    "session = Session(engine)"
   ]
  },
  {
   "cell_type": "code",
   "execution_count": 3,
   "metadata": {},
   "outputs": [
    {
     "output_type": "execute_result",
     "data": {
      "text/plain": [
       "['measurement', 'station']"
      ]
     },
     "metadata": {},
     "execution_count": 3
    }
   ],
   "source": [
    "inspector = inspect(engine)\n",
    "inspector.get_table_names()"
   ]
  },
  {
   "cell_type": "code",
   "execution_count": 4,
   "metadata": {},
   "outputs": [
    {
     "output_type": "stream",
     "name": "stdout",
     "text": [
      "{'name': 'id', 'type': INTEGER(), 'nullable': False, 'default': None, 'autoincrement': 'auto', 'primary_key': 1}\n{'name': 'station', 'type': TEXT(), 'nullable': True, 'default': None, 'autoincrement': 'auto', 'primary_key': 0}\n{'name': 'date', 'type': TEXT(), 'nullable': True, 'default': None, 'autoincrement': 'auto', 'primary_key': 0}\n{'name': 'prcp', 'type': FLOAT(), 'nullable': True, 'default': None, 'autoincrement': 'auto', 'primary_key': 0}\n{'name': 'tobs', 'type': FLOAT(), 'nullable': True, 'default': None, 'autoincrement': 'auto', 'primary_key': 0}\n"
     ]
    }
   ],
   "source": [
    "columns = inspector.get_columns('measurement')\n",
    "for column in columns:\n",
    "    print(column)"
   ]
  },
  {
   "cell_type": "code",
   "execution_count": 17,
   "metadata": {},
   "outputs": [
    {
     "output_type": "stream",
     "name": "stdout",
     "text": [
      "{'name': 'id', 'type': INTEGER(), 'nullable': False, 'default': None, 'autoincrement': 'auto', 'primary_key': 1}\n{'name': 'station', 'type': TEXT(), 'nullable': True, 'default': None, 'autoincrement': 'auto', 'primary_key': 0}\n{'name': 'name', 'type': TEXT(), 'nullable': True, 'default': None, 'autoincrement': 'auto', 'primary_key': 0}\n{'name': 'latitude', 'type': FLOAT(), 'nullable': True, 'default': None, 'autoincrement': 'auto', 'primary_key': 0}\n{'name': 'longitude', 'type': FLOAT(), 'nullable': True, 'default': None, 'autoincrement': 'auto', 'primary_key': 0}\n{'name': 'elevation', 'type': FLOAT(), 'nullable': True, 'default': None, 'autoincrement': 'auto', 'primary_key': 0}\n"
     ]
    }
   ],
   "source": [
    "station_columns = inspector.get_columns('station')\n",
    "for column in station_columns:\n",
    "    print(column)"
   ]
  },
  {
   "cell_type": "code",
   "execution_count": 19,
   "metadata": {},
   "outputs": [
    {
     "output_type": "stream",
     "name": "stdout",
     "text": [
      "('WAIKIKI 717.2, HI US',)\n('KANEOHE 838.1, HI US',)\n('KUALOA RANCH HEADQUARTERS 886.9, HI US',)\n('PEARL CITY, HI US',)\n('UPPER WAHIAWA 874.3, HI US',)\n('WAIMANALO EXPERIMENTAL FARM, HI US',)\n('WAIHEE 837.5, HI US',)\n('HONOLULU OBSERVATORY 702.2, HI US',)\n('MANOA LYON ARBO 785.2, HI US',)\n"
     ]
    }
   ],
   "source": [
    "# Stations\n",
    "weather_stations = session.query(Station.name).distinct()\n",
    "for station in weather_stations:\n",
    "    print(station)"
   ]
  },
  {
   "cell_type": "code",
   "execution_count": 5,
   "metadata": {},
   "outputs": [
    {
     "output_type": "execute_result",
     "data": {
      "text/plain": [
       "           january\n",
       "count  1727.000000\n",
       "mean     68.726115\n",
       "std       4.367892\n",
       "min      54.000000\n",
       "25%      66.000000\n",
       "50%      69.000000\n",
       "75%      72.000000\n",
       "max      81.000000"
      ],
      "text/html": "<div>\n<style scoped>\n    .dataframe tbody tr th:only-of-type {\n        vertical-align: middle;\n    }\n\n    .dataframe tbody tr th {\n        vertical-align: top;\n    }\n\n    .dataframe thead th {\n        text-align: right;\n    }\n</style>\n<table border=\"1\" class=\"dataframe\">\n  <thead>\n    <tr style=\"text-align: right;\">\n      <th></th>\n      <th>january</th>\n    </tr>\n  </thead>\n  <tbody>\n    <tr>\n      <th>count</th>\n      <td>1727.000000</td>\n    </tr>\n    <tr>\n      <th>mean</th>\n      <td>68.726115</td>\n    </tr>\n    <tr>\n      <th>std</th>\n      <td>4.367892</td>\n    </tr>\n    <tr>\n      <th>min</th>\n      <td>54.000000</td>\n    </tr>\n    <tr>\n      <th>25%</th>\n      <td>66.000000</td>\n    </tr>\n    <tr>\n      <th>50%</th>\n      <td>69.000000</td>\n    </tr>\n    <tr>\n      <th>75%</th>\n      <td>72.000000</td>\n    </tr>\n    <tr>\n      <th>max</th>\n      <td>81.000000</td>\n    </tr>\n  </tbody>\n</table>\n</div>"
     },
     "metadata": {},
     "execution_count": 5
    }
   ],
   "source": [
    "# January Temps\n",
    "january_temps = session.query(Measurement.id, Measurement.station, Measurement.date, Measurement.tobs).filter(Measurement.date.like('%-01-%'))\n",
    "january_temp_list = [temp[3] for temp in january_temps]\n",
    "january_temp_df = pd.DataFrame(january_temp_list, columns=['january'])\n",
    "january_temp_df.describe()"
   ]
  },
  {
   "cell_type": "code",
   "execution_count": 6,
   "metadata": {},
   "outputs": [
    {
     "output_type": "execute_result",
     "data": {
      "text/plain": [
       "          february\n",
       "count  1610.000000\n",
       "mean     69.442236\n",
       "std       3.981399\n",
       "min      56.000000\n",
       "25%      67.000000\n",
       "50%      70.000000\n",
       "75%      72.000000\n",
       "max      83.000000"
      ],
      "text/html": "<div>\n<style scoped>\n    .dataframe tbody tr th:only-of-type {\n        vertical-align: middle;\n    }\n\n    .dataframe tbody tr th {\n        vertical-align: top;\n    }\n\n    .dataframe thead th {\n        text-align: right;\n    }\n</style>\n<table border=\"1\" class=\"dataframe\">\n  <thead>\n    <tr style=\"text-align: right;\">\n      <th></th>\n      <th>february</th>\n    </tr>\n  </thead>\n  <tbody>\n    <tr>\n      <th>count</th>\n      <td>1610.000000</td>\n    </tr>\n    <tr>\n      <th>mean</th>\n      <td>69.442236</td>\n    </tr>\n    <tr>\n      <th>std</th>\n      <td>3.981399</td>\n    </tr>\n    <tr>\n      <th>min</th>\n      <td>56.000000</td>\n    </tr>\n    <tr>\n      <th>25%</th>\n      <td>67.000000</td>\n    </tr>\n    <tr>\n      <th>50%</th>\n      <td>70.000000</td>\n    </tr>\n    <tr>\n      <th>75%</th>\n      <td>72.000000</td>\n    </tr>\n    <tr>\n      <th>max</th>\n      <td>83.000000</td>\n    </tr>\n  </tbody>\n</table>\n</div>"
     },
     "metadata": {},
     "execution_count": 6
    }
   ],
   "source": [
    "# February Temps\n",
    "february_temps = session.query(Measurement.id, Measurement.station, Measurement.date, Measurement.tobs).filter(Measurement.date.like('%-02-%'))\n",
    "february_temp_list = [temp[3] for temp in february_temps]\n",
    "february_temp_df = pd.DataFrame(february_temp_list, columns=['february'])\n",
    "february_temp_df.describe()"
   ]
  },
  {
   "cell_type": "code",
   "execution_count": 7,
   "metadata": {},
   "outputs": [
    {
     "output_type": "execute_result",
     "data": {
      "text/plain": [
       "             march\n",
       "count  1693.000000\n",
       "mean     70.059067\n",
       "std       3.845271\n",
       "min      56.000000\n",
       "25%      68.000000\n",
       "50%      70.000000\n",
       "75%      73.000000\n",
       "max      82.000000"
      ],
      "text/html": "<div>\n<style scoped>\n    .dataframe tbody tr th:only-of-type {\n        vertical-align: middle;\n    }\n\n    .dataframe tbody tr th {\n        vertical-align: top;\n    }\n\n    .dataframe thead th {\n        text-align: right;\n    }\n</style>\n<table border=\"1\" class=\"dataframe\">\n  <thead>\n    <tr style=\"text-align: right;\">\n      <th></th>\n      <th>march</th>\n    </tr>\n  </thead>\n  <tbody>\n    <tr>\n      <th>count</th>\n      <td>1693.000000</td>\n    </tr>\n    <tr>\n      <th>mean</th>\n      <td>70.059067</td>\n    </tr>\n    <tr>\n      <th>std</th>\n      <td>3.845271</td>\n    </tr>\n    <tr>\n      <th>min</th>\n      <td>56.000000</td>\n    </tr>\n    <tr>\n      <th>25%</th>\n      <td>68.000000</td>\n    </tr>\n    <tr>\n      <th>50%</th>\n      <td>70.000000</td>\n    </tr>\n    <tr>\n      <th>75%</th>\n      <td>73.000000</td>\n    </tr>\n    <tr>\n      <th>max</th>\n      <td>82.000000</td>\n    </tr>\n  </tbody>\n</table>\n</div>"
     },
     "metadata": {},
     "execution_count": 7
    }
   ],
   "source": [
    "# March Temps\n",
    "march_temps = session.query(Measurement.id, Measurement.station, Measurement.date, Measurement.tobs).filter(Measurement.date.like('%-03-%'))\n",
    "march_temp_list = [temp[3] for temp in march_temps]\n",
    "march_temp_df = pd.DataFrame(march_temp_list, columns=['march'])\n",
    "march_temp_df.describe()"
   ]
  },
  {
   "cell_type": "code",
   "execution_count": 8,
   "metadata": {},
   "outputs": [
    {
     "output_type": "execute_result",
     "data": {
      "text/plain": [
       "             april\n",
       "count  1713.000000\n",
       "mean     72.357268\n",
       "std       3.632131\n",
       "min      53.000000\n",
       "25%      70.000000\n",
       "50%      73.000000\n",
       "75%      75.000000\n",
       "max      84.000000"
      ],
      "text/html": "<div>\n<style scoped>\n    .dataframe tbody tr th:only-of-type {\n        vertical-align: middle;\n    }\n\n    .dataframe tbody tr th {\n        vertical-align: top;\n    }\n\n    .dataframe thead th {\n        text-align: right;\n    }\n</style>\n<table border=\"1\" class=\"dataframe\">\n  <thead>\n    <tr style=\"text-align: right;\">\n      <th></th>\n      <th>april</th>\n    </tr>\n  </thead>\n  <tbody>\n    <tr>\n      <th>count</th>\n      <td>1713.000000</td>\n    </tr>\n    <tr>\n      <th>mean</th>\n      <td>72.357268</td>\n    </tr>\n    <tr>\n      <th>std</th>\n      <td>3.632131</td>\n    </tr>\n    <tr>\n      <th>min</th>\n      <td>53.000000</td>\n    </tr>\n    <tr>\n      <th>25%</th>\n      <td>70.000000</td>\n    </tr>\n    <tr>\n      <th>50%</th>\n      <td>73.000000</td>\n    </tr>\n    <tr>\n      <th>75%</th>\n      <td>75.000000</td>\n    </tr>\n    <tr>\n      <th>max</th>\n      <td>84.000000</td>\n    </tr>\n  </tbody>\n</table>\n</div>"
     },
     "metadata": {},
     "execution_count": 8
    }
   ],
   "source": [
    "# April Temps\n",
    "april_temps = session.query(Measurement.id, Measurement.station, Measurement.date, Measurement.tobs).filter(Measurement.date.like('%-04-%'))\n",
    "april_temp_list = [temp[3] for temp in april_temps]\n",
    "april_temp_df = pd.DataFrame(april_temp_list, columns=['april'])\n",
    "april_temp_df.describe()"
   ]
  },
  {
   "cell_type": "code",
   "execution_count": 9,
   "metadata": {},
   "outputs": [
    {
     "output_type": "execute_result",
     "data": {
      "text/plain": [
       "               may\n",
       "count  1733.000000\n",
       "mean     73.680900\n",
       "std       3.355783\n",
       "min      63.000000\n",
       "25%      71.000000\n",
       "50%      74.000000\n",
       "75%      76.000000\n",
       "max      87.000000"
      ],
      "text/html": "<div>\n<style scoped>\n    .dataframe tbody tr th:only-of-type {\n        vertical-align: middle;\n    }\n\n    .dataframe tbody tr th {\n        vertical-align: top;\n    }\n\n    .dataframe thead th {\n        text-align: right;\n    }\n</style>\n<table border=\"1\" class=\"dataframe\">\n  <thead>\n    <tr style=\"text-align: right;\">\n      <th></th>\n      <th>may</th>\n    </tr>\n  </thead>\n  <tbody>\n    <tr>\n      <th>count</th>\n      <td>1733.000000</td>\n    </tr>\n    <tr>\n      <th>mean</th>\n      <td>73.680900</td>\n    </tr>\n    <tr>\n      <th>std</th>\n      <td>3.355783</td>\n    </tr>\n    <tr>\n      <th>min</th>\n      <td>63.000000</td>\n    </tr>\n    <tr>\n      <th>25%</th>\n      <td>71.000000</td>\n    </tr>\n    <tr>\n      <th>50%</th>\n      <td>74.000000</td>\n    </tr>\n    <tr>\n      <th>75%</th>\n      <td>76.000000</td>\n    </tr>\n    <tr>\n      <th>max</th>\n      <td>87.000000</td>\n    </tr>\n  </tbody>\n</table>\n</div>"
     },
     "metadata": {},
     "execution_count": 9
    }
   ],
   "source": [
    "# May Temps\n",
    "may_temps = session.query(Measurement.id, Measurement.station, Measurement.date, Measurement.tobs).filter(Measurement.date.like('%-05-%'))\n",
    "may_temp_list = [temp[3] for temp in may_temps]\n",
    "may_temp_df = pd.DataFrame(may_temp_list, columns=['may'])\n",
    "may_temp_df.describe()"
   ]
  },
  {
   "cell_type": "code",
   "execution_count": 10,
   "metadata": {},
   "outputs": [
    {
     "output_type": "execute_result",
     "data": {
      "text/plain": [
       "              june\n",
       "count  1700.000000\n",
       "mean     74.944118\n",
       "std       3.257417\n",
       "min      64.000000\n",
       "25%      73.000000\n",
       "50%      75.000000\n",
       "75%      77.000000\n",
       "max      85.000000"
      ],
      "text/html": "<div>\n<style scoped>\n    .dataframe tbody tr th:only-of-type {\n        vertical-align: middle;\n    }\n\n    .dataframe tbody tr th {\n        vertical-align: top;\n    }\n\n    .dataframe thead th {\n        text-align: right;\n    }\n</style>\n<table border=\"1\" class=\"dataframe\">\n  <thead>\n    <tr style=\"text-align: right;\">\n      <th></th>\n      <th>june</th>\n    </tr>\n  </thead>\n  <tbody>\n    <tr>\n      <th>count</th>\n      <td>1700.000000</td>\n    </tr>\n    <tr>\n      <th>mean</th>\n      <td>74.944118</td>\n    </tr>\n    <tr>\n      <th>std</th>\n      <td>3.257417</td>\n    </tr>\n    <tr>\n      <th>min</th>\n      <td>64.000000</td>\n    </tr>\n    <tr>\n      <th>25%</th>\n      <td>73.000000</td>\n    </tr>\n    <tr>\n      <th>50%</th>\n      <td>75.000000</td>\n    </tr>\n    <tr>\n      <th>75%</th>\n      <td>77.000000</td>\n    </tr>\n    <tr>\n      <th>max</th>\n      <td>85.000000</td>\n    </tr>\n  </tbody>\n</table>\n</div>"
     },
     "metadata": {},
     "execution_count": 10
    }
   ],
   "source": [
    "# June Temps\n",
    "june_temps = session.query(Measurement.id, Measurement.station, Measurement.date, Measurement.tobs).filter(Measurement.date.like('%-06-%'))\n",
    "june_temp_list = [temp[3] for temp in june_temps]\n",
    "june_temp_df = pd.DataFrame(june_temp_list, columns=['june'])\n",
    "june_temp_df.describe()"
   ]
  },
  {
   "cell_type": "code",
   "execution_count": 11,
   "metadata": {},
   "outputs": [
    {
     "output_type": "execute_result",
     "data": {
      "text/plain": [
       "              july\n",
       "count  1711.000000\n",
       "mean     76.082408\n",
       "std       3.356532\n",
       "min      61.000000\n",
       "25%      74.000000\n",
       "50%      76.000000\n",
       "75%      78.000000\n",
       "max      87.000000"
      ],
      "text/html": "<div>\n<style scoped>\n    .dataframe tbody tr th:only-of-type {\n        vertical-align: middle;\n    }\n\n    .dataframe tbody tr th {\n        vertical-align: top;\n    }\n\n    .dataframe thead th {\n        text-align: right;\n    }\n</style>\n<table border=\"1\" class=\"dataframe\">\n  <thead>\n    <tr style=\"text-align: right;\">\n      <th></th>\n      <th>july</th>\n    </tr>\n  </thead>\n  <tbody>\n    <tr>\n      <th>count</th>\n      <td>1711.000000</td>\n    </tr>\n    <tr>\n      <th>mean</th>\n      <td>76.082408</td>\n    </tr>\n    <tr>\n      <th>std</th>\n      <td>3.356532</td>\n    </tr>\n    <tr>\n      <th>min</th>\n      <td>61.000000</td>\n    </tr>\n    <tr>\n      <th>25%</th>\n      <td>74.000000</td>\n    </tr>\n    <tr>\n      <th>50%</th>\n      <td>76.000000</td>\n    </tr>\n    <tr>\n      <th>75%</th>\n      <td>78.000000</td>\n    </tr>\n    <tr>\n      <th>max</th>\n      <td>87.000000</td>\n    </tr>\n  </tbody>\n</table>\n</div>"
     },
     "metadata": {},
     "execution_count": 11
    }
   ],
   "source": [
    "# July Temps\n",
    "july_temps = session.query(Measurement.id, Measurement.station, Measurement.date, Measurement.tobs).filter(Measurement.date.like('%-07-%'))\n",
    "july_temp_list = [temp[3] for temp in july_temps]\n",
    "july_temp_df = pd.DataFrame(july_temp_list, columns=['july'])\n",
    "july_temp_df.describe()"
   ]
  },
  {
   "cell_type": "code",
   "execution_count": 12,
   "metadata": {},
   "outputs": [
    {
     "output_type": "execute_result",
     "data": {
      "text/plain": [
       "            august\n",
       "count  1622.000000\n",
       "mean     76.412454\n",
       "std       3.453138\n",
       "min      65.000000\n",
       "25%      74.000000\n",
       "50%      76.000000\n",
       "75%      79.000000\n",
       "max      87.000000"
      ],
      "text/html": "<div>\n<style scoped>\n    .dataframe tbody tr th:only-of-type {\n        vertical-align: middle;\n    }\n\n    .dataframe tbody tr th {\n        vertical-align: top;\n    }\n\n    .dataframe thead th {\n        text-align: right;\n    }\n</style>\n<table border=\"1\" class=\"dataframe\">\n  <thead>\n    <tr style=\"text-align: right;\">\n      <th></th>\n      <th>august</th>\n    </tr>\n  </thead>\n  <tbody>\n    <tr>\n      <th>count</th>\n      <td>1622.000000</td>\n    </tr>\n    <tr>\n      <th>mean</th>\n      <td>76.412454</td>\n    </tr>\n    <tr>\n      <th>std</th>\n      <td>3.453138</td>\n    </tr>\n    <tr>\n      <th>min</th>\n      <td>65.000000</td>\n    </tr>\n    <tr>\n      <th>25%</th>\n      <td>74.000000</td>\n    </tr>\n    <tr>\n      <th>50%</th>\n      <td>76.000000</td>\n    </tr>\n    <tr>\n      <th>75%</th>\n      <td>79.000000</td>\n    </tr>\n    <tr>\n      <th>max</th>\n      <td>87.000000</td>\n    </tr>\n  </tbody>\n</table>\n</div>"
     },
     "metadata": {},
     "execution_count": 12
    }
   ],
   "source": [
    "# August Temps\n",
    "august_temps = session.query(Measurement.id, Measurement.station, Measurement.date, Measurement.tobs).filter(Measurement.date.like('%-08-%'))\n",
    "august_temp_list = [temp[3] for temp in august_temps]\n",
    "august_temp_df = pd.DataFrame(august_temp_list, columns=['august'])\n",
    "august_temp_df.describe()"
   ]
  },
  {
   "cell_type": "code",
   "execution_count": 13,
   "metadata": {},
   "outputs": [
    {
     "output_type": "execute_result",
     "data": {
      "text/plain": [
       "         september\n",
       "count  1480.000000\n",
       "mean     76.164865\n",
       "std       3.535178\n",
       "min      64.000000\n",
       "25%      74.000000\n",
       "50%      76.000000\n",
       "75%      79.000000\n",
       "max      87.000000"
      ],
      "text/html": "<div>\n<style scoped>\n    .dataframe tbody tr th:only-of-type {\n        vertical-align: middle;\n    }\n\n    .dataframe tbody tr th {\n        vertical-align: top;\n    }\n\n    .dataframe thead th {\n        text-align: right;\n    }\n</style>\n<table border=\"1\" class=\"dataframe\">\n  <thead>\n    <tr style=\"text-align: right;\">\n      <th></th>\n      <th>september</th>\n    </tr>\n  </thead>\n  <tbody>\n    <tr>\n      <th>count</th>\n      <td>1480.000000</td>\n    </tr>\n    <tr>\n      <th>mean</th>\n      <td>76.164865</td>\n    </tr>\n    <tr>\n      <th>std</th>\n      <td>3.535178</td>\n    </tr>\n    <tr>\n      <th>min</th>\n      <td>64.000000</td>\n    </tr>\n    <tr>\n      <th>25%</th>\n      <td>74.000000</td>\n    </tr>\n    <tr>\n      <th>50%</th>\n      <td>76.000000</td>\n    </tr>\n    <tr>\n      <th>75%</th>\n      <td>79.000000</td>\n    </tr>\n    <tr>\n      <th>max</th>\n      <td>87.000000</td>\n    </tr>\n  </tbody>\n</table>\n</div>"
     },
     "metadata": {},
     "execution_count": 13
    }
   ],
   "source": [
    "# September Temps\n",
    "september_temps = session.query(Measurement.id, Measurement.station, Measurement.date, Measurement.tobs).filter(Measurement.date.like('%-09-%'))\n",
    "september_temp_list = [temp[3] for temp in september_temps]\n",
    "september_temp_df = pd.DataFrame(september_temp_list, columns=['september'])\n",
    "september_temp_df.describe()"
   ]
  },
  {
   "cell_type": "code",
   "execution_count": 14,
   "metadata": {},
   "outputs": [
    {
     "output_type": "execute_result",
     "data": {
      "text/plain": [
       "           october\n",
       "count  1556.000000\n",
       "mean     75.391388\n",
       "std       3.545084\n",
       "min      64.000000\n",
       "25%      73.000000\n",
       "50%      76.000000\n",
       "75%      78.000000\n",
       "max      86.000000"
      ],
      "text/html": "<div>\n<style scoped>\n    .dataframe tbody tr th:only-of-type {\n        vertical-align: middle;\n    }\n\n    .dataframe tbody tr th {\n        vertical-align: top;\n    }\n\n    .dataframe thead th {\n        text-align: right;\n    }\n</style>\n<table border=\"1\" class=\"dataframe\">\n  <thead>\n    <tr style=\"text-align: right;\">\n      <th></th>\n      <th>october</th>\n    </tr>\n  </thead>\n  <tbody>\n    <tr>\n      <th>count</th>\n      <td>1556.000000</td>\n    </tr>\n    <tr>\n      <th>mean</th>\n      <td>75.391388</td>\n    </tr>\n    <tr>\n      <th>std</th>\n      <td>3.545084</td>\n    </tr>\n    <tr>\n      <th>min</th>\n      <td>64.000000</td>\n    </tr>\n    <tr>\n      <th>25%</th>\n      <td>73.000000</td>\n    </tr>\n    <tr>\n      <th>50%</th>\n      <td>76.000000</td>\n    </tr>\n    <tr>\n      <th>75%</th>\n      <td>78.000000</td>\n    </tr>\n    <tr>\n      <th>max</th>\n      <td>86.000000</td>\n    </tr>\n  </tbody>\n</table>\n</div>"
     },
     "metadata": {},
     "execution_count": 14
    }
   ],
   "source": [
    "# October Temps\n",
    "october_temps = session.query(Measurement.id, Measurement.station, Measurement.date, Measurement.tobs).filter(Measurement.date.like('%-10-%'))\n",
    "october_temp_list = [temp[3] for temp in october_temps]\n",
    "october_temp_df = pd.DataFrame(october_temp_list, columns=['october'])\n",
    "october_temp_df.describe()"
   ]
  },
  {
   "cell_type": "code",
   "execution_count": 15,
   "metadata": {},
   "outputs": [
    {
     "output_type": "execute_result",
     "data": {
      "text/plain": [
       "          november\n",
       "count  1488.000000\n",
       "mean     73.252688\n",
       "std       3.617282\n",
       "min      61.000000\n",
       "25%      71.000000\n",
       "50%      74.000000\n",
       "75%      76.000000\n",
       "max      83.000000"
      ],
      "text/html": "<div>\n<style scoped>\n    .dataframe tbody tr th:only-of-type {\n        vertical-align: middle;\n    }\n\n    .dataframe tbody tr th {\n        vertical-align: top;\n    }\n\n    .dataframe thead th {\n        text-align: right;\n    }\n</style>\n<table border=\"1\" class=\"dataframe\">\n  <thead>\n    <tr style=\"text-align: right;\">\n      <th></th>\n      <th>november</th>\n    </tr>\n  </thead>\n  <tbody>\n    <tr>\n      <th>count</th>\n      <td>1488.000000</td>\n    </tr>\n    <tr>\n      <th>mean</th>\n      <td>73.252688</td>\n    </tr>\n    <tr>\n      <th>std</th>\n      <td>3.617282</td>\n    </tr>\n    <tr>\n      <th>min</th>\n      <td>61.000000</td>\n    </tr>\n    <tr>\n      <th>25%</th>\n      <td>71.000000</td>\n    </tr>\n    <tr>\n      <th>50%</th>\n      <td>74.000000</td>\n    </tr>\n    <tr>\n      <th>75%</th>\n      <td>76.000000</td>\n    </tr>\n    <tr>\n      <th>max</th>\n      <td>83.000000</td>\n    </tr>\n  </tbody>\n</table>\n</div>"
     },
     "metadata": {},
     "execution_count": 15
    }
   ],
   "source": [
    "# November Temps\n",
    "november_temps = session.query(Measurement.id, Measurement.station, Measurement.date, Measurement.tobs).filter(Measurement.date.like('%-11-%'))\n",
    "november_temp_list = [temp[3] for temp in november_temps]\n",
    "november_temp_df = pd.DataFrame(november_temp_list, columns=['november'])\n",
    "november_temp_df.describe()"
   ]
  },
  {
   "cell_type": "code",
   "execution_count": 16,
   "metadata": {},
   "outputs": [
    {
     "output_type": "execute_result",
     "data": {
      "text/plain": [
       "          december\n",
       "count  1517.000000\n",
       "mean     71.041529\n",
       "std       3.745920\n",
       "min      56.000000\n",
       "25%      69.000000\n",
       "50%      71.000000\n",
       "75%      74.000000\n",
       "max      83.000000"
      ],
      "text/html": "<div>\n<style scoped>\n    .dataframe tbody tr th:only-of-type {\n        vertical-align: middle;\n    }\n\n    .dataframe tbody tr th {\n        vertical-align: top;\n    }\n\n    .dataframe thead th {\n        text-align: right;\n    }\n</style>\n<table border=\"1\" class=\"dataframe\">\n  <thead>\n    <tr style=\"text-align: right;\">\n      <th></th>\n      <th>december</th>\n    </tr>\n  </thead>\n  <tbody>\n    <tr>\n      <th>count</th>\n      <td>1517.000000</td>\n    </tr>\n    <tr>\n      <th>mean</th>\n      <td>71.041529</td>\n    </tr>\n    <tr>\n      <th>std</th>\n      <td>3.745920</td>\n    </tr>\n    <tr>\n      <th>min</th>\n      <td>56.000000</td>\n    </tr>\n    <tr>\n      <th>25%</th>\n      <td>69.000000</td>\n    </tr>\n    <tr>\n      <th>50%</th>\n      <td>71.000000</td>\n    </tr>\n    <tr>\n      <th>75%</th>\n      <td>74.000000</td>\n    </tr>\n    <tr>\n      <th>max</th>\n      <td>83.000000</td>\n    </tr>\n  </tbody>\n</table>\n</div>"
     },
     "metadata": {},
     "execution_count": 16
    }
   ],
   "source": [
    "# December Temps\n",
    "december_temps = session.query(Measurement.id, Measurement.station, Measurement.date, Measurement.tobs).filter(Measurement.date.like('%-12-%'))\n",
    "december_temp_list = [temp[3] for temp in december_temps]\n",
    "december_temp_df = pd.DataFrame(december_temp_list, columns=['december'])\n",
    "december_temp_df.describe()"
   ]
  }
 ]
}