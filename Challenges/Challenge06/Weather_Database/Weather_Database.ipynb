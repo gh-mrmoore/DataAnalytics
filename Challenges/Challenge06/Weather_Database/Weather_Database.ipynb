{
 "cells": [
  {
   "cell_type": "code",
   "execution_count": 1,
   "metadata": {},
   "outputs": [],
   "source": [
    "# Dependencies\n",
    "import pandas as pd\n",
    "import numpy as np\n",
    "import matplotlib.pyplot as plt\n",
    "import timeit\n",
    "from citipy import citipy\n",
    "from config import weather_api_key\n",
    "from config import google_map_api_key\n",
    "from datetime import datetime\n",
    "import requests\n",
    "import time\n",
    "from scipy.stats import linregress\n",
    "import gmaps\n",
    "import time"
   ]
  },
  {
   "source": [
    "Prepare the list of cities derived from a random list of coordinates"
   ],
   "cell_type": "markdown",
   "metadata": {}
  },
  {
   "cell_type": "code",
   "execution_count": 2,
   "metadata": {},
   "outputs": [],
   "source": [
    "# Create a set of 2,000 latitude/longitude pairs\n",
    "lats = np.random.uniform(low = -90.000, high=90.000, size=2000)\n",
    "longs = np.random.uniform(low = -180.000, high=180.000, size=2000)\n",
    "lats_longs = zip(lats, longs)"
   ]
  },
  {
   "cell_type": "code",
   "execution_count": 3,
   "metadata": {},
   "outputs": [],
   "source": [
    "# Create a list of latitude/longitude pairs\n",
    "coords = list(lats_longs)"
   ]
  },
  {
   "cell_type": "code",
   "execution_count": 4,
   "metadata": {},
   "outputs": [
    {
     "output_type": "execute_result",
     "data": {
      "text/plain": [
       "739"
      ]
     },
     "metadata": {},
     "execution_count": 4
    }
   ],
   "source": [
    "# Create list of city names using latitude/longitude list created in previous cell\n",
    "city_list = []\n",
    "\n",
    "# Loop thru coordinate list and get city name(s)\n",
    "for coord in coords:\n",
    "    city = citipy.nearest_city(coord[0], coord[1]).city_name\n",
    "\n",
    "    # Make sure cities aren't duplicated\n",
    "    if city not in city_list:\n",
    "        city_list.append(city)\n",
    "\n",
    "# for examination and testing, see the length of the city list we get\n",
    "len(city_list)"
   ]
  },
  {
   "source": [
    "Prepare for the API call"
   ],
   "cell_type": "markdown",
   "metadata": {}
  },
  {
   "cell_type": "code",
   "execution_count": 5,
   "metadata": {
    "tags": []
   },
   "outputs": [
    {
     "output_type": "stream",
     "name": "stdout",
     "text": [
      "Processing record 1 | of set 1 | yellowknife\n",
      "Processing record 2 | of set 1 | mayahi\n",
      "Processing record 3 | of set 1 | north bend\n",
      "Processing record 4 | of set 1 | port alfred\n",
      "Processing record 5 | of set 1 | tasiilaq\n",
      "Processing record 6 | of set 1 | hobart\n",
      "Processing record 7 | of set 1 | butaritari\n",
      "Processing record 8 | of set 1 | taolanaro\n",
      "Processing record 9 | of set 1 | jacksonville\n",
      "Processing record 10 | of set 1 | blythe\n",
      "Processing record 11 | of set 1 | kokemaki\n",
      "Processing record 12 | of set 1 | al\n",
      "Processing record 13 | of set 1 | upernavik\n",
      "Processing record 14 | of set 1 | tuatapere\n",
      "Processing record 15 | of set 1 | malakal\n",
      "Processing record 16 | of set 1 | lompoc\n",
      "Processing record 17 | of set 1 | bozoum\n",
      "Processing record 18 | of set 1 | busselton\n",
      "Processing record 19 | of set 1 | tianpeng\n",
      "Processing record 20 | of set 1 | coquimbo\n",
      "Processing record 21 | of set 1 | cape town\n",
      "Processing record 22 | of set 1 | mabaruma\n",
      "Processing record 23 | of set 1 | pervomayskoye\n",
      "Processing record 24 | of set 1 | manuk mangkaw\n",
      "Processing record 25 | of set 1 | pevek\n",
      "Processing record 26 | of set 1 | prince rupert\n",
      "Processing record 27 | of set 1 | jamestown\n",
      "Processing record 28 | of set 1 | newport\n",
      "Processing record 29 | of set 1 | albany\n",
      "Processing record 30 | of set 1 | iqaluit\n",
      "Processing record 31 | of set 1 | atuona\n",
      "Processing record 32 | of set 1 | constitucion\n",
      "Processing record 33 | of set 1 | norman wells\n",
      "Processing record 34 | of set 1 | arua\n",
      "Processing record 35 | of set 1 | longyearbyen\n",
      "Processing record 36 | of set 1 | rikitea\n",
      "Processing record 37 | of set 1 | mar del plata\n",
      "Processing record 38 | of set 1 | ushuaia\n",
      "Processing record 39 | of set 1 | amderma\n",
      "Processing record 40 | of set 1 | belushya guba\n",
      "Processing record 41 | of set 1 | zhigansk\n",
      "Processing record 42 | of set 1 | barrow\n",
      "Processing record 43 | of set 1 | lorengau\n",
      "Processing record 44 | of set 1 | eseka\n",
      "Processing record 45 | of set 1 | saint-philippe\n",
      "Processing record 46 | of set 1 | fort saint john\n",
      "Processing record 47 | of set 1 | port lincoln\n",
      "Processing record 48 | of set 1 | obihiro\n",
      "Processing record 49 | of set 1 | bredasdorp\n",
      "Processing record 50 | of set 1 | nkhotakota\n",
      "Processing record 1 | of set 2 | kapaa\n",
      "Processing record 2 | of set 2 | ipixuna\n",
      "Processing record 3 | of set 2 | umm lajj\n",
      "Processing record 4 | of set 2 | dikson\n",
      "Processing record 5 | of set 2 | malumfashi\n",
      "Processing record 6 | of set 2 | nurota\n",
      "Processing record 7 | of set 2 | ambanja\n",
      "Processing record 8 | of set 2 | tiznit\n",
      "Processing record 9 | of set 2 | hithadhoo\n",
      "Processing record 10 | of set 2 | mataura\n",
      "Processing record 11 | of set 2 | ponta do sol\n",
      "Processing record 12 | of set 2 | mnogovershinnyy\n",
      "Processing record 13 | of set 2 | valparaiso\n",
      "Processing record 14 | of set 2 | punta arenas\n",
      "Processing record 15 | of set 2 | kununurra\n",
      "Processing record 16 | of set 2 | kruisfontein\n",
      "Processing record 17 | of set 2 | namibe\n",
      "Processing record 18 | of set 2 | san cristobal\n",
      "Processing record 19 | of set 2 | georgetown\n",
      "Processing record 20 | of set 2 | lida\n",
      "Processing record 21 | of set 2 | okha\n",
      "Processing record 22 | of set 2 | tsihombe\n",
      "Processing record 23 | of set 2 | camacha\n",
      "Processing record 24 | of set 2 | thompson\n",
      "Processing record 25 | of set 2 | matara\n",
      "Processing record 26 | of set 2 | kampong thum\n",
      "Processing record 27 | of set 2 | dunedin\n",
      "Processing record 28 | of set 2 | manokwari\n",
      "Processing record 29 | of set 2 | hermanus\n",
      "Processing record 30 | of set 2 | severo-kurilsk\n",
      "Processing record 31 | of set 2 | cavalcante\n",
      "Processing record 32 | of set 2 | quatre cocos\n",
      "Processing record 33 | of set 2 | dingle\n",
      "Processing record 34 | of set 2 | la ronge\n",
      "Processing record 35 | of set 2 | talnakh\n",
      "Processing record 36 | of set 2 | katsuura\n",
      "Processing record 37 | of set 2 | byron bay\n",
      "Processing record 38 | of set 2 | faanui\n",
      "Processing record 39 | of set 2 | barentsburg\n",
      "Processing record 40 | of set 2 | avarua\n",
      "Processing record 41 | of set 2 | leningradskiy\n",
      "Processing record 42 | of set 2 | torbay\n",
      "Processing record 43 | of set 2 | dvinskoy\n",
      "Processing record 44 | of set 2 | nanortalik\n",
      "Processing record 45 | of set 2 | beyneu\n",
      "Processing record 46 | of set 2 | bengkulu\n",
      "Processing record 47 | of set 2 | khatanga\n",
      "Processing record 48 | of set 2 | castro\n",
      "Processing record 49 | of set 2 | rawson\n",
      "Processing record 50 | of set 2 | stei\n"
     ]
    }
   ],
   "source": [
    "# Blank list to store data\n",
    "city_weather_data = []\n",
    "\n",
    "weather_url = \"http://api.openweathermap.org/data/2.5/weather?units=Imperial&APPID=\" + weather_api_key\n",
    "\n",
    "record_counter = 1\n",
    "set_counter = 1\n",
    "\n",
    "# Loop thru cities\n",
    "for i, city in enumerate(city_list):\n",
    "    # check the counters\n",
    "    if (i % 50 == 0 and i >= 50):\n",
    "        # use a timer to avoid exceeding API requests limit\n",
    "        # adapted from:\n",
    "        # https://stackoverflow.com/questions/474528/what-is-the-best-way-to-repeatedly-execute-a-function-every-x-seconds\n",
    "\n",
    "        start_time = time.time()\n",
    "\n",
    "        time.sleep(180.0 - ((time.time() - start_time) % 180.0))\n",
    "\n",
    "        set_counter += 1\n",
    "        record_counter = 1\n",
    "\n",
    "    city_url = weather_url + \"q=\" + city.replace(\" \", \"+\")\n",
    "\n",
    "    print(f\"Processing record {record_counter} | of set {set_counter} | {city}\")\n",
    "    record_counter += 1\n",
    "\n",
    "    # try:\n",
    "    #     # Get data from OpenWeatherMap\n",
    "    #     weather = requests.get(city_url).json()\n",
    "    #     city_lat = weather[\"coord\"][\"lat\"]                              # latitude\n",
    "    #     city_long = weather[\"coord\"][\"lon\"]                             # longitude\n",
    "    #     city_max_temp = weather[\"main\"][\"temp_max\"]                     # max temperature\n",
    "    #     city_humidity = weather[\"main\"][\"humidity\"]                     # humidity\n",
    "    #     city_cloud_percent = weather[\"clouds\"][\"all\"]                   # percent cloudiness\n",
    "    #     city_wind_speed = weather[\"wind\"][\"speed\"]                      # wind speed\n",
    "    #     city_weather_description = weather[\"weather\"][0][\"description\"] # weather description\n",
    "    #     city_country = weather[\"sys\"][\"country\"]                        # country - not required, but could be useful\n",
    "    #     city_date = datetime.utcfromtimestamp(weather[\"dt\"]).strftime('%Y-%m-%d %H:%M:%S') # date - not required, but could be useful\n",
    "    #     # add data to list as a dictionary\n",
    "    #     city_weather_data.append({\"City\": city.title(),\n",
    "    #                                 \"Country\": city_country,\n",
    "    #                                 \"Latitude\": city_lat,\n",
    "    #                                 \"Longitude\": city_long,\n",
    "    #                                 \"Max Temperature\": city_max_temp,\n",
    "    #                                 \"Humidity\": city_humidity,\n",
    "    #                                 \"Percent Clouds\": city_cloud_percent,\n",
    "    #                                 \"Wind Speed\": city_wind_speed,\n",
    "    #                                 \"Description\", city_weather_description,\n",
    "    #                                 \"Date\": city_date})\n",
    "    # except:\n",
    "    #     print(f\"{city} not found, skipping...\")\n",
    "    #     pass\n"
   ]
  },
  {
   "cell_type": "code",
   "execution_count": null,
   "metadata": {},
   "outputs": [],
   "source": []
  }
 ],
 "metadata": {
  "kernelspec": {
   "name": "pythondata",
   "display_name": "Python 3.7.10 64-bit ('PythonData': conda)"
  },
  "language_info": {
   "codemirror_mode": {
    "name": "ipython",
    "version": 3
   },
   "file_extension": ".py",
   "mimetype": "text/x-python",
   "name": "python",
   "nbconvert_exporter": "python",
   "pygments_lexer": "ipython3",
   "version": "3.7.10"
  }
 },
 "nbformat": 4,
 "nbformat_minor": 2
}