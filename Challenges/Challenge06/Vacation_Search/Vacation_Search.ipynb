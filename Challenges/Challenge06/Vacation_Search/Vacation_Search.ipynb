{
 "cells": [
  {
   "cell_type": "markdown",
   "metadata": {},
   "source": [
    "## Deliverable 2. Create a Customer Travel Destinations Map."
   ]
  },
  {
   "cell_type": "code",
   "execution_count": 111,
   "metadata": {},
   "outputs": [],
   "source": [
    "# Dependencies and Setup\n",
    "import pandas as pd\n",
    "import requests\n",
    "import gmaps\n",
    "\n",
    "# Import API key\n",
    "from config import google_map_api_key\n",
    "\n",
    "# Configure gmaps API key\n",
    "gmaps.configure(api_key=google_map_api_key)"
   ]
  },
  {
   "cell_type": "code",
   "execution_count": 112,
   "metadata": {},
   "outputs": [
    {
     "output_type": "execute_result",
     "data": {
      "text/plain": [
       "   City ID      City Country  Latitude  Longitude  Max Temperature  Humidity  \\\n",
       "0        0    Avarua      CK  -21.2078  -159.7750            73.45        73   \n",
       "1        1     Vaini      TO  -21.2000  -175.2000            77.16        69   \n",
       "2        2    Albany      US   42.6001   -73.9662            66.07        82   \n",
       "3        3  Ahuimanu      US   21.4447  -157.8378            87.51        56   \n",
       "4        4   Iquique      CL  -20.2208   -70.1431            62.64        78   \n",
       "\n",
       "   Percent Clouds  Wind Speed       Description                 Date  \n",
       "0              90        6.91   overcast clouds  2021-06-13 01:47:11  \n",
       "1              40       12.66  scattered clouds  2021-06-13 01:47:11  \n",
       "2              15        2.30        few clouds  2021-06-13 01:42:32  \n",
       "3              40       13.80  scattered clouds  2021-06-13 01:47:12  \n",
       "4               5        3.20         clear sky  2021-06-13 01:47:12  "
      ],
      "text/html": "<div>\n<style scoped>\n    .dataframe tbody tr th:only-of-type {\n        vertical-align: middle;\n    }\n\n    .dataframe tbody tr th {\n        vertical-align: top;\n    }\n\n    .dataframe thead th {\n        text-align: right;\n    }\n</style>\n<table border=\"1\" class=\"dataframe\">\n  <thead>\n    <tr style=\"text-align: right;\">\n      <th></th>\n      <th>City ID</th>\n      <th>City</th>\n      <th>Country</th>\n      <th>Latitude</th>\n      <th>Longitude</th>\n      <th>Max Temperature</th>\n      <th>Humidity</th>\n      <th>Percent Clouds</th>\n      <th>Wind Speed</th>\n      <th>Description</th>\n      <th>Date</th>\n    </tr>\n  </thead>\n  <tbody>\n    <tr>\n      <th>0</th>\n      <td>0</td>\n      <td>Avarua</td>\n      <td>CK</td>\n      <td>-21.2078</td>\n      <td>-159.7750</td>\n      <td>73.45</td>\n      <td>73</td>\n      <td>90</td>\n      <td>6.91</td>\n      <td>overcast clouds</td>\n      <td>2021-06-13 01:47:11</td>\n    </tr>\n    <tr>\n      <th>1</th>\n      <td>1</td>\n      <td>Vaini</td>\n      <td>TO</td>\n      <td>-21.2000</td>\n      <td>-175.2000</td>\n      <td>77.16</td>\n      <td>69</td>\n      <td>40</td>\n      <td>12.66</td>\n      <td>scattered clouds</td>\n      <td>2021-06-13 01:47:11</td>\n    </tr>\n    <tr>\n      <th>2</th>\n      <td>2</td>\n      <td>Albany</td>\n      <td>US</td>\n      <td>42.6001</td>\n      <td>-73.9662</td>\n      <td>66.07</td>\n      <td>82</td>\n      <td>15</td>\n      <td>2.30</td>\n      <td>few clouds</td>\n      <td>2021-06-13 01:42:32</td>\n    </tr>\n    <tr>\n      <th>3</th>\n      <td>3</td>\n      <td>Ahuimanu</td>\n      <td>US</td>\n      <td>21.4447</td>\n      <td>-157.8378</td>\n      <td>87.51</td>\n      <td>56</td>\n      <td>40</td>\n      <td>13.80</td>\n      <td>scattered clouds</td>\n      <td>2021-06-13 01:47:12</td>\n    </tr>\n    <tr>\n      <th>4</th>\n      <td>4</td>\n      <td>Iquique</td>\n      <td>CL</td>\n      <td>-20.2208</td>\n      <td>-70.1431</td>\n      <td>62.64</td>\n      <td>78</td>\n      <td>5</td>\n      <td>3.20</td>\n      <td>clear sky</td>\n      <td>2021-06-13 01:47:12</td>\n    </tr>\n  </tbody>\n</table>\n</div>"
     },
     "metadata": {},
     "execution_count": 112
    }
   ],
   "source": [
    "# 1. Import the WeatherPy_database.csv file. \n",
    "city_data_df = pd.read_csv(\"../Weather_Database/WeatherPy_database.csv\")\n",
    "city_data_df.head()"
   ]
  },
  {
   "cell_type": "code",
   "execution_count": 113,
   "metadata": {},
   "outputs": [],
   "source": [
    "# 2. Prompt the user to enter minimum and maximum temperature criteria \n",
    "user_min_temp = float(input(\"What temperature minimum do you prefer?\"))\n",
    "user_max_temp = float(input(\"What temperature maximum do you prefer?\"))"
   ]
  },
  {
   "cell_type": "code",
   "execution_count": 114,
   "metadata": {},
   "outputs": [],
   "source": [
    "# 3. Filter the city_data_df DataFrame using the input statements to create a new DataFrame using the loc method.\n",
    "user_pref_cities_df = city_data_df.loc[(city_data_df[\"Max Temperature\"] <= user_max_temp) & (city_data_df[\"Max Temperature\"] >= user_min_temp)]"
   ]
  },
  {
   "cell_type": "code",
   "execution_count": 115,
   "metadata": {},
   "outputs": [
    {
     "output_type": "execute_result",
     "data": {
      "text/plain": [
       "City ID            493\n",
       "City               493\n",
       "Country            486\n",
       "Latitude           493\n",
       "Longitude          493\n",
       "Max Temperature    493\n",
       "Humidity           493\n",
       "Percent Clouds     493\n",
       "Wind Speed         493\n",
       "Description        493\n",
       "Date               493\n",
       "dtype: int64"
      ]
     },
     "metadata": {},
     "execution_count": 115
    }
   ],
   "source": [
    "# 4a. Determine if there are any empty rows.\n",
    "user_pref_cities_df.count()"
   ]
  },
  {
   "cell_type": "code",
   "execution_count": 116,
   "metadata": {},
   "outputs": [
    {
     "output_type": "execute_result",
     "data": {
      "text/plain": [
       "     City ID          City Country  Latitude  Longitude  Max Temperature  \\\n",
       "299      299    Oranjemund     NaN  -28.5500    16.4333            56.59   \n",
       "377      377  Keetmanshoop     NaN  -26.5833    18.1333            61.16   \n",
       "455      455      Luderitz     NaN  -26.6481    15.1594            57.43   \n",
       "492      492     Mariental     NaN  -24.6333    17.9667            55.90   \n",
       "511      511         Opuwo     NaN  -18.0607    13.8400            56.26   \n",
       "563      563    Ongandjera     NaN  -17.8833    15.0667            56.66   \n",
       "602      602      Khorixas     NaN  -20.3667    14.9667            60.96   \n",
       "\n",
       "     Humidity  Percent Clouds  Wind Speed       Description  \\\n",
       "299        84              14        6.51        few clouds   \n",
       "377        30              28        5.66  scattered clouds   \n",
       "455        83              11        2.28        few clouds   \n",
       "492        31              55        7.96     broken clouds   \n",
       "511        33               3        7.38         clear sky   \n",
       "563        33              10        6.76         clear sky   \n",
       "602        29              16        8.99        few clouds   \n",
       "\n",
       "                    Date  \n",
       "299  2021-06-13 02:06:51  \n",
       "377  2021-06-13 02:13:17  \n",
       "455  2021-06-13 02:16:42  \n",
       "492  2021-06-13 02:19:54  \n",
       "511  2021-06-13 02:23:00  \n",
       "563  2021-06-13 02:26:19  \n",
       "602  2021-06-13 02:29:31  "
      ],
      "text/html": "<div>\n<style scoped>\n    .dataframe tbody tr th:only-of-type {\n        vertical-align: middle;\n    }\n\n    .dataframe tbody tr th {\n        vertical-align: top;\n    }\n\n    .dataframe thead th {\n        text-align: right;\n    }\n</style>\n<table border=\"1\" class=\"dataframe\">\n  <thead>\n    <tr style=\"text-align: right;\">\n      <th></th>\n      <th>City ID</th>\n      <th>City</th>\n      <th>Country</th>\n      <th>Latitude</th>\n      <th>Longitude</th>\n      <th>Max Temperature</th>\n      <th>Humidity</th>\n      <th>Percent Clouds</th>\n      <th>Wind Speed</th>\n      <th>Description</th>\n      <th>Date</th>\n    </tr>\n  </thead>\n  <tbody>\n    <tr>\n      <th>299</th>\n      <td>299</td>\n      <td>Oranjemund</td>\n      <td>NaN</td>\n      <td>-28.5500</td>\n      <td>16.4333</td>\n      <td>56.59</td>\n      <td>84</td>\n      <td>14</td>\n      <td>6.51</td>\n      <td>few clouds</td>\n      <td>2021-06-13 02:06:51</td>\n    </tr>\n    <tr>\n      <th>377</th>\n      <td>377</td>\n      <td>Keetmanshoop</td>\n      <td>NaN</td>\n      <td>-26.5833</td>\n      <td>18.1333</td>\n      <td>61.16</td>\n      <td>30</td>\n      <td>28</td>\n      <td>5.66</td>\n      <td>scattered clouds</td>\n      <td>2021-06-13 02:13:17</td>\n    </tr>\n    <tr>\n      <th>455</th>\n      <td>455</td>\n      <td>Luderitz</td>\n      <td>NaN</td>\n      <td>-26.6481</td>\n      <td>15.1594</td>\n      <td>57.43</td>\n      <td>83</td>\n      <td>11</td>\n      <td>2.28</td>\n      <td>few clouds</td>\n      <td>2021-06-13 02:16:42</td>\n    </tr>\n    <tr>\n      <th>492</th>\n      <td>492</td>\n      <td>Mariental</td>\n      <td>NaN</td>\n      <td>-24.6333</td>\n      <td>17.9667</td>\n      <td>55.90</td>\n      <td>31</td>\n      <td>55</td>\n      <td>7.96</td>\n      <td>broken clouds</td>\n      <td>2021-06-13 02:19:54</td>\n    </tr>\n    <tr>\n      <th>511</th>\n      <td>511</td>\n      <td>Opuwo</td>\n      <td>NaN</td>\n      <td>-18.0607</td>\n      <td>13.8400</td>\n      <td>56.26</td>\n      <td>33</td>\n      <td>3</td>\n      <td>7.38</td>\n      <td>clear sky</td>\n      <td>2021-06-13 02:23:00</td>\n    </tr>\n    <tr>\n      <th>563</th>\n      <td>563</td>\n      <td>Ongandjera</td>\n      <td>NaN</td>\n      <td>-17.8833</td>\n      <td>15.0667</td>\n      <td>56.66</td>\n      <td>33</td>\n      <td>10</td>\n      <td>6.76</td>\n      <td>clear sky</td>\n      <td>2021-06-13 02:26:19</td>\n    </tr>\n    <tr>\n      <th>602</th>\n      <td>602</td>\n      <td>Khorixas</td>\n      <td>NaN</td>\n      <td>-20.3667</td>\n      <td>14.9667</td>\n      <td>60.96</td>\n      <td>29</td>\n      <td>16</td>\n      <td>8.99</td>\n      <td>few clouds</td>\n      <td>2021-06-13 02:29:31</td>\n    </tr>\n  </tbody>\n</table>\n</div>"
     },
     "metadata": {},
     "execution_count": 116
    }
   ],
   "source": [
    "# 4a-1. Further examination for empty rows/data.\n",
    "series = pd.isnull(user_pref_cities_df[\"Country\"])\n",
    "user_pref_cities_df[series]"
   ]
  },
  {
   "cell_type": "code",
   "execution_count": 117,
   "metadata": {},
   "outputs": [
    {
     "output_type": "execute_result",
     "data": {
      "text/plain": [
       "City ID            486\n",
       "City               486\n",
       "Country            486\n",
       "Latitude           486\n",
       "Longitude          486\n",
       "Max Temperature    486\n",
       "Humidity           486\n",
       "Percent Clouds     486\n",
       "Wind Speed         486\n",
       "Description        486\n",
       "Date               486\n",
       "dtype: int64"
      ]
     },
     "metadata": {},
     "execution_count": 117
    }
   ],
   "source": [
    "# 4b. Drop any empty rows and create a new DataFrame that doesn’t have empty rows.\n",
    "pref_cities_clean_df = user_pref_cities_df.dropna()\n",
    "pref_cities_clean_df.count()"
   ]
  },
  {
   "cell_type": "code",
   "execution_count": 118,
   "metadata": {},
   "outputs": [
    {
     "output_type": "execute_result",
     "data": {
      "text/plain": [
       "           City Country  Max Temperature       Description  Latitude  \\\n",
       "0        Avarua      CK            73.45   overcast clouds  -21.2078   \n",
       "1         Vaini      TO            77.16  scattered clouds  -21.2000   \n",
       "2        Albany      US            66.07        few clouds   42.6001   \n",
       "4       Iquique      CL            62.64         clear sky  -20.2208   \n",
       "5         Hobyo      SO            77.14   overcast clouds    5.3505   \n",
       "6         Pisco      PE            64.45   overcast clouds  -13.7000   \n",
       "7        Atuona      PF            79.09         clear sky   -9.8000   \n",
       "8        Tairua      NZ            62.10   overcast clouds  -37.0167   \n",
       "11  Bandarbeyla      SO            79.16     broken clouds    9.4942   \n",
       "15  Yellowknife      CA            61.32        few clouds   62.4560   \n",
       "\n",
       "    Longitude Hotel Name  \n",
       "0   -159.7750             \n",
       "1   -175.2000             \n",
       "2    -73.9662             \n",
       "4    -70.1431             \n",
       "5     48.5268             \n",
       "6    -76.2167             \n",
       "7   -139.0333             \n",
       "8    175.8500             \n",
       "11    50.8122             \n",
       "15  -114.3525             "
      ],
      "text/html": "<div>\n<style scoped>\n    .dataframe tbody tr th:only-of-type {\n        vertical-align: middle;\n    }\n\n    .dataframe tbody tr th {\n        vertical-align: top;\n    }\n\n    .dataframe thead th {\n        text-align: right;\n    }\n</style>\n<table border=\"1\" class=\"dataframe\">\n  <thead>\n    <tr style=\"text-align: right;\">\n      <th></th>\n      <th>City</th>\n      <th>Country</th>\n      <th>Max Temperature</th>\n      <th>Description</th>\n      <th>Latitude</th>\n      <th>Longitude</th>\n      <th>Hotel Name</th>\n    </tr>\n  </thead>\n  <tbody>\n    <tr>\n      <th>0</th>\n      <td>Avarua</td>\n      <td>CK</td>\n      <td>73.45</td>\n      <td>overcast clouds</td>\n      <td>-21.2078</td>\n      <td>-159.7750</td>\n      <td></td>\n    </tr>\n    <tr>\n      <th>1</th>\n      <td>Vaini</td>\n      <td>TO</td>\n      <td>77.16</td>\n      <td>scattered clouds</td>\n      <td>-21.2000</td>\n      <td>-175.2000</td>\n      <td></td>\n    </tr>\n    <tr>\n      <th>2</th>\n      <td>Albany</td>\n      <td>US</td>\n      <td>66.07</td>\n      <td>few clouds</td>\n      <td>42.6001</td>\n      <td>-73.9662</td>\n      <td></td>\n    </tr>\n    <tr>\n      <th>4</th>\n      <td>Iquique</td>\n      <td>CL</td>\n      <td>62.64</td>\n      <td>clear sky</td>\n      <td>-20.2208</td>\n      <td>-70.1431</td>\n      <td></td>\n    </tr>\n    <tr>\n      <th>5</th>\n      <td>Hobyo</td>\n      <td>SO</td>\n      <td>77.14</td>\n      <td>overcast clouds</td>\n      <td>5.3505</td>\n      <td>48.5268</td>\n      <td></td>\n    </tr>\n    <tr>\n      <th>6</th>\n      <td>Pisco</td>\n      <td>PE</td>\n      <td>64.45</td>\n      <td>overcast clouds</td>\n      <td>-13.7000</td>\n      <td>-76.2167</td>\n      <td></td>\n    </tr>\n    <tr>\n      <th>7</th>\n      <td>Atuona</td>\n      <td>PF</td>\n      <td>79.09</td>\n      <td>clear sky</td>\n      <td>-9.8000</td>\n      <td>-139.0333</td>\n      <td></td>\n    </tr>\n    <tr>\n      <th>8</th>\n      <td>Tairua</td>\n      <td>NZ</td>\n      <td>62.10</td>\n      <td>overcast clouds</td>\n      <td>-37.0167</td>\n      <td>175.8500</td>\n      <td></td>\n    </tr>\n    <tr>\n      <th>11</th>\n      <td>Bandarbeyla</td>\n      <td>SO</td>\n      <td>79.16</td>\n      <td>broken clouds</td>\n      <td>9.4942</td>\n      <td>50.8122</td>\n      <td></td>\n    </tr>\n    <tr>\n      <th>15</th>\n      <td>Yellowknife</td>\n      <td>CA</td>\n      <td>61.32</td>\n      <td>few clouds</td>\n      <td>62.4560</td>\n      <td>-114.3525</td>\n      <td></td>\n    </tr>\n  </tbody>\n</table>\n</div>"
     },
     "metadata": {},
     "execution_count": 118
    }
   ],
   "source": [
    "# 5a. Create DataFrame called hotel_df to store hotel names along with city, country, max temp, and coordinates.\n",
    "hotel_df = pref_cities_clean_df[[\"City\", \"Country\", \"Max Temperature\", \"Description\", \"Latitude\", \"Longitude\"]].copy()\n",
    "\n",
    "# 5b. Create a new column \"Hotel Name\"\n",
    "hotel_df[\"Hotel Name\"] = \"\"\n",
    "hotel_df.head(10)"
   ]
  },
  {
   "cell_type": "code",
   "execution_count": 119,
   "metadata": {},
   "outputs": [],
   "source": [
    "# scratch for verifying my request without running thru the entire df...\n",
    "# params = {\n",
    "#     \"radius\": 5000,\n",
    "#     \"type\": \"lodging\",\n",
    "#     \"key\": google_map_api_key\n",
    "# }\n",
    "# latitude = -21.2078\n",
    "# longitude = -159.7750\n",
    "# params[\"location\"] = latitude, longitude\n",
    "# # params\n",
    "# places_url = \"https://maps.googleapis.com/maps/api/place/textsearch/json?\"\n",
    "# result = requests.get(places_url, params).json()\n",
    "# result[\"results\"][0][\"name\"]"
   ]
  },
  {
   "cell_type": "code",
   "execution_count": 120,
   "metadata": {
    "tags": []
   },
   "outputs": [
    {
     "output_type": "stream",
     "name": "stdout",
     "text": [
      "No hotels found for index: 2, skipping.\n",
      "No hotels found for index: 80, skipping.\n",
      "No hotels found for index: 101, skipping.\n",
      "No hotels found for index: 120, skipping.\n",
      "No hotels found for index: 138, skipping.\n",
      "No hotels found for index: 142, skipping.\n",
      "No hotels found for index: 174, skipping.\n",
      "No hotels found for index: 177, skipping.\n",
      "No hotels found for index: 207, skipping.\n",
      "No hotels found for index: 217, skipping.\n",
      "No hotels found for index: 226, skipping.\n",
      "No hotels found for index: 239, skipping.\n",
      "No hotels found for index: 247, skipping.\n",
      "No hotels found for index: 248, skipping.\n",
      "No hotels found for index: 253, skipping.\n",
      "No hotels found for index: 267, skipping.\n",
      "No hotels found for index: 286, skipping.\n",
      "No hotels found for index: 295, skipping.\n",
      "No hotels found for index: 306, skipping.\n",
      "No hotels found for index: 319, skipping.\n",
      "No hotels found for index: 366, skipping.\n",
      "No hotels found for index: 385, skipping.\n",
      "No hotels found for index: 388, skipping.\n",
      "No hotels found for index: 408, skipping.\n",
      "No hotels found for index: 412, skipping.\n",
      "No hotels found for index: 442, skipping.\n",
      "No hotels found for index: 447, skipping.\n",
      "No hotels found for index: 472, skipping.\n",
      "No hotels found for index: 507, skipping.\n",
      "No hotels found for index: 519, skipping.\n",
      "No hotels found for index: 526, skipping.\n",
      "No hotels found for index: 533, skipping.\n",
      "No hotels found for index: 539, skipping.\n",
      "No hotels found for index: 556, skipping.\n",
      "No hotels found for index: 560, skipping.\n",
      "No hotels found for index: 582, skipping.\n",
      "No hotels found for index: 615, skipping.\n",
      "No hotels found for index: 622, skipping.\n",
      "No hotels found for index: 659, skipping.\n",
      "No hotels found for index: 667, skipping.\n"
     ]
    },
    {
     "output_type": "execute_result",
     "data": {
      "text/plain": [
       "           City Country  Max Temperature       Description  Latitude  \\\n",
       "0        Avarua      CK            73.45   overcast clouds  -21.2078   \n",
       "1         Vaini      TO            77.16  scattered clouds  -21.2000   \n",
       "2        Albany      US            66.07        few clouds   42.6001   \n",
       "4       Iquique      CL            62.64         clear sky  -20.2208   \n",
       "5         Hobyo      SO            77.14   overcast clouds    5.3505   \n",
       "6         Pisco      PE            64.45   overcast clouds  -13.7000   \n",
       "7        Atuona      PF            79.09         clear sky   -9.8000   \n",
       "8        Tairua      NZ            62.10   overcast clouds  -37.0167   \n",
       "11  Bandarbeyla      SO            79.16     broken clouds    9.4942   \n",
       "15  Yellowknife      CA            61.32        few clouds   62.4560   \n",
       "\n",
       "    Longitude                   Hotel Name  \n",
       "0   -159.7750                 Paradise Inn  \n",
       "1   -175.2000          Keleti Beach Resort  \n",
       "2    -73.9662                         None  \n",
       "4    -70.1431  Backpacker`s Hostel Iquique  \n",
       "5     48.5268  Halane Hotel and Restaurent  \n",
       "6    -76.2167     Hotel San Isidro Oficial  \n",
       "7   -139.0333                  Villa Enata  \n",
       "8    175.8500       Pacific Harbour Villas  \n",
       "11    50.8122                  JABIR HOTEL  \n",
       "15  -114.3525           The Explorer Hotel  "
      ],
      "text/html": "<div>\n<style scoped>\n    .dataframe tbody tr th:only-of-type {\n        vertical-align: middle;\n    }\n\n    .dataframe tbody tr th {\n        vertical-align: top;\n    }\n\n    .dataframe thead th {\n        text-align: right;\n    }\n</style>\n<table border=\"1\" class=\"dataframe\">\n  <thead>\n    <tr style=\"text-align: right;\">\n      <th></th>\n      <th>City</th>\n      <th>Country</th>\n      <th>Max Temperature</th>\n      <th>Description</th>\n      <th>Latitude</th>\n      <th>Longitude</th>\n      <th>Hotel Name</th>\n    </tr>\n  </thead>\n  <tbody>\n    <tr>\n      <th>0</th>\n      <td>Avarua</td>\n      <td>CK</td>\n      <td>73.45</td>\n      <td>overcast clouds</td>\n      <td>-21.2078</td>\n      <td>-159.7750</td>\n      <td>Paradise Inn</td>\n    </tr>\n    <tr>\n      <th>1</th>\n      <td>Vaini</td>\n      <td>TO</td>\n      <td>77.16</td>\n      <td>scattered clouds</td>\n      <td>-21.2000</td>\n      <td>-175.2000</td>\n      <td>Keleti Beach Resort</td>\n    </tr>\n    <tr>\n      <th>2</th>\n      <td>Albany</td>\n      <td>US</td>\n      <td>66.07</td>\n      <td>few clouds</td>\n      <td>42.6001</td>\n      <td>-73.9662</td>\n      <td>None</td>\n    </tr>\n    <tr>\n      <th>4</th>\n      <td>Iquique</td>\n      <td>CL</td>\n      <td>62.64</td>\n      <td>clear sky</td>\n      <td>-20.2208</td>\n      <td>-70.1431</td>\n      <td>Backpacker`s Hostel Iquique</td>\n    </tr>\n    <tr>\n      <th>5</th>\n      <td>Hobyo</td>\n      <td>SO</td>\n      <td>77.14</td>\n      <td>overcast clouds</td>\n      <td>5.3505</td>\n      <td>48.5268</td>\n      <td>Halane Hotel and Restaurent</td>\n    </tr>\n    <tr>\n      <th>6</th>\n      <td>Pisco</td>\n      <td>PE</td>\n      <td>64.45</td>\n      <td>overcast clouds</td>\n      <td>-13.7000</td>\n      <td>-76.2167</td>\n      <td>Hotel San Isidro Oficial</td>\n    </tr>\n    <tr>\n      <th>7</th>\n      <td>Atuona</td>\n      <td>PF</td>\n      <td>79.09</td>\n      <td>clear sky</td>\n      <td>-9.8000</td>\n      <td>-139.0333</td>\n      <td>Villa Enata</td>\n    </tr>\n    <tr>\n      <th>8</th>\n      <td>Tairua</td>\n      <td>NZ</td>\n      <td>62.10</td>\n      <td>overcast clouds</td>\n      <td>-37.0167</td>\n      <td>175.8500</td>\n      <td>Pacific Harbour Villas</td>\n    </tr>\n    <tr>\n      <th>11</th>\n      <td>Bandarbeyla</td>\n      <td>SO</td>\n      <td>79.16</td>\n      <td>broken clouds</td>\n      <td>9.4942</td>\n      <td>50.8122</td>\n      <td>JABIR HOTEL</td>\n    </tr>\n    <tr>\n      <th>15</th>\n      <td>Yellowknife</td>\n      <td>CA</td>\n      <td>61.32</td>\n      <td>few clouds</td>\n      <td>62.4560</td>\n      <td>-114.3525</td>\n      <td>The Explorer Hotel</td>\n    </tr>\n  </tbody>\n</table>\n</div>"
     },
     "metadata": {},
     "execution_count": 120
    }
   ],
   "source": [
    "# 6a. Set parameters to search for hotels with 5000 meters.\n",
    "params = {\n",
    "    \"radius\": 5000,\n",
    "    \"type\": \"lodging\",\n",
    "    \"key\": google_map_api_key\n",
    "}\n",
    "\n",
    "# 6b. Iterate through the hotel DataFrame.\n",
    "for index, row in hotel_df.iterrows():\n",
    "    # 6c. Get latitude and longitude from DataFrame\n",
    "    latitude = row[\"Latitude\"]\n",
    "    longitude = row[\"Longitude\"]\n",
    "    params[\"location\"] = f\"{latitude},{longitude}\"\n",
    "    # 6d. Set up the base URL for the Google Directions API to get JSON data.\n",
    "    # Directions API or Places API? Seems like Places would be the better choice...\n",
    "    # Going with Places API and NEARBY search for now...\n",
    "    places_url = \"https://maps.googleapis.com/maps/api/place/nearbysearch/json\"\n",
    "\n",
    "    # 6e. Make request and retrieve the JSON data from the search.\n",
    "    hotel_data = requests.get(places_url, params=params).json()\n",
    "    # 6f. Get the first hotel from the results and store the name, if a hotel isn't found skip the city.\n",
    "    try:\n",
    "        hotel_df.loc[index, \"Hotel Name\"] = hotel_data[\"results\"][0][\"name\"]\n",
    "    except (IndexError):\n",
    "        hotel_df.loc[index, \"Hotel Name\"] = None\n",
    "        print(f\"No hotels found for index: {index}, skipping.\")\n",
    "hotel_df.head(10)"
   ]
  },
  {
   "cell_type": "code",
   "execution_count": 121,
   "metadata": {},
   "outputs": [
    {
     "output_type": "execute_result",
     "data": {
      "text/plain": [
       "City               486\n",
       "Country            486\n",
       "Max Temperature    486\n",
       "Description        486\n",
       "Latitude           486\n",
       "Longitude          486\n",
       "Hotel Name         446\n",
       "dtype: int64"
      ]
     },
     "metadata": {},
     "execution_count": 121
    }
   ],
   "source": [
    "# examine counts looking for nulls\n",
    "hotel_df.count()"
   ]
  },
  {
   "cell_type": "code",
   "execution_count": 122,
   "metadata": {},
   "outputs": [
    {
     "output_type": "execute_result",
     "data": {
      "text/plain": [
       "              City Country  Max Temperature       Description  Latitude  \\\n",
       "2           Albany      US            66.07        few clouds   42.6001   \n",
       "80         Lusambo      CD            68.49         clear sky   -4.9667   \n",
       "101         Qarqin      AF            84.24         clear sky   37.4185   \n",
       "120  Srednekolymsk      RU            69.98   overcast clouds   67.4500   \n",
       "138           Lola      GN            70.57        light rain    7.8000   \n",
       "142          Vagay      RU            64.54   overcast clouds   57.9375   \n",
       "174     Abu Samrah      SY            64.74         clear sky   35.3029   \n",
       "177           Boda      CF            70.52        light rain    4.3189   \n",
       "207      Fonte Boa      BR            73.13   overcast clouds   -2.4959   \n",
       "217         Evensk      RU            55.85         clear sky   61.9500   \n",
       "226        Awjilah      LY            70.88         clear sky   29.1081   \n",
       "239           Emba      KZ            69.69   overcast clouds   48.8264   \n",
       "247          Dukat      RU            58.26         clear sky   62.5500   \n",
       "248          Yumen      CN            69.78        light rain   40.2833   \n",
       "253          Avera      US            75.07     broken clouds   33.1940   \n",
       "267      Kungurtug      RU            56.46     broken clouds   50.5994   \n",
       "286       Kamakwie      SL            73.40     moderate rain    9.5000   \n",
       "295      Wattegama      LK            77.92  scattered clouds    6.7989   \n",
       "306         Sangar      RU            62.51         clear sky   63.9242   \n",
       "319      Kamenskiy      RU            62.22         clear sky   50.8855   \n",
       "366          Lahij      YE            84.69   overcast clouds   13.1667   \n",
       "385      Ostrovnoy      RU            63.19        few clouds   68.0531   \n",
       "388         Beloha      MG            65.07         clear sky  -25.1667   \n",
       "408        Okhotsk      RU            56.50     broken clouds   59.3833   \n",
       "412     Novoagansk      RU            59.23     broken clouds   61.9449   \n",
       "442       Baherden      TM            82.20         clear sky   38.4362   \n",
       "447          Birao      CF            79.59   overcast clouds   10.2849   \n",
       "472       Shirokiy      RU            74.50   overcast clouds   49.7580   \n",
       "507          Nioro      GM            82.78   overcast clouds   13.3500   \n",
       "519       Beroroha      MG            64.78  scattered clouds  -21.6667   \n",
       "526       Lokosovo      RU            67.08   overcast clouds   61.1333   \n",
       "533        Aksarka      RU            71.62   overcast clouds   66.5606   \n",
       "539        Kodinsk      RU            65.19         clear sky   58.6881   \n",
       "556       Zyryanka      RU            73.69     broken clouds   65.7500   \n",
       "560         Ouadda      CF            70.50        light rain    8.0777   \n",
       "582       Suraabad      AZ            71.78         clear sky   40.8192   \n",
       "615         Heyang      CN            75.78     broken clouds   26.1011   \n",
       "622           Yaan      NG            73.99   overcast clouds    7.3833   \n",
       "659         Tadine      NC            76.59         clear sky  -21.5500   \n",
       "667         Tiznit      MA            61.07        few clouds   29.5833   \n",
       "\n",
       "     Longitude Hotel Name  \n",
       "2     -73.9662       None  \n",
       "80     23.4500       None  \n",
       "101    66.0436       None  \n",
       "120   153.6833       None  \n",
       "138    -8.5333       None  \n",
       "142    69.0217       None  \n",
       "174    37.1841       None  \n",
       "177    17.4695       None  \n",
       "207   -66.2662       None  \n",
       "217   159.2333       None  \n",
       "226    21.2869       None  \n",
       "239    58.1442       None  \n",
       "247   155.5500       None  \n",
       "248    97.2000       None  \n",
       "253   -82.5271       None  \n",
       "267    97.5228       None  \n",
       "286   -12.2333       None  \n",
       "295    81.4808       None  \n",
       "306   127.4739       None  \n",
       "319    45.4880       None  \n",
       "366    44.5833       None  \n",
       "385    39.5131       None  \n",
       "388    45.0500       None  \n",
       "408   143.3000       None  \n",
       "412    76.6625       None  \n",
       "442    57.4316       None  \n",
       "447    22.7882       None  \n",
       "472   129.5230       None  \n",
       "507   -15.7500       None  \n",
       "519    45.1667       None  \n",
       "526    74.8167       None  \n",
       "533    67.7975       None  \n",
       "539    99.1844       None  \n",
       "556   150.8500       None  \n",
       "560    22.4007       None  \n",
       "582    49.4687       None  \n",
       "615   107.4730       None  \n",
       "622     8.5667       None  \n",
       "659   167.8833       None  \n",
       "667    -9.5000       None  "
      ],
      "text/html": "<div>\n<style scoped>\n    .dataframe tbody tr th:only-of-type {\n        vertical-align: middle;\n    }\n\n    .dataframe tbody tr th {\n        vertical-align: top;\n    }\n\n    .dataframe thead th {\n        text-align: right;\n    }\n</style>\n<table border=\"1\" class=\"dataframe\">\n  <thead>\n    <tr style=\"text-align: right;\">\n      <th></th>\n      <th>City</th>\n      <th>Country</th>\n      <th>Max Temperature</th>\n      <th>Description</th>\n      <th>Latitude</th>\n      <th>Longitude</th>\n      <th>Hotel Name</th>\n    </tr>\n  </thead>\n  <tbody>\n    <tr>\n      <th>2</th>\n      <td>Albany</td>\n      <td>US</td>\n      <td>66.07</td>\n      <td>few clouds</td>\n      <td>42.6001</td>\n      <td>-73.9662</td>\n      <td>None</td>\n    </tr>\n    <tr>\n      <th>80</th>\n      <td>Lusambo</td>\n      <td>CD</td>\n      <td>68.49</td>\n      <td>clear sky</td>\n      <td>-4.9667</td>\n      <td>23.4500</td>\n      <td>None</td>\n    </tr>\n    <tr>\n      <th>101</th>\n      <td>Qarqin</td>\n      <td>AF</td>\n      <td>84.24</td>\n      <td>clear sky</td>\n      <td>37.4185</td>\n      <td>66.0436</td>\n      <td>None</td>\n    </tr>\n    <tr>\n      <th>120</th>\n      <td>Srednekolymsk</td>\n      <td>RU</td>\n      <td>69.98</td>\n      <td>overcast clouds</td>\n      <td>67.4500</td>\n      <td>153.6833</td>\n      <td>None</td>\n    </tr>\n    <tr>\n      <th>138</th>\n      <td>Lola</td>\n      <td>GN</td>\n      <td>70.57</td>\n      <td>light rain</td>\n      <td>7.8000</td>\n      <td>-8.5333</td>\n      <td>None</td>\n    </tr>\n    <tr>\n      <th>142</th>\n      <td>Vagay</td>\n      <td>RU</td>\n      <td>64.54</td>\n      <td>overcast clouds</td>\n      <td>57.9375</td>\n      <td>69.0217</td>\n      <td>None</td>\n    </tr>\n    <tr>\n      <th>174</th>\n      <td>Abu Samrah</td>\n      <td>SY</td>\n      <td>64.74</td>\n      <td>clear sky</td>\n      <td>35.3029</td>\n      <td>37.1841</td>\n      <td>None</td>\n    </tr>\n    <tr>\n      <th>177</th>\n      <td>Boda</td>\n      <td>CF</td>\n      <td>70.52</td>\n      <td>light rain</td>\n      <td>4.3189</td>\n      <td>17.4695</td>\n      <td>None</td>\n    </tr>\n    <tr>\n      <th>207</th>\n      <td>Fonte Boa</td>\n      <td>BR</td>\n      <td>73.13</td>\n      <td>overcast clouds</td>\n      <td>-2.4959</td>\n      <td>-66.2662</td>\n      <td>None</td>\n    </tr>\n    <tr>\n      <th>217</th>\n      <td>Evensk</td>\n      <td>RU</td>\n      <td>55.85</td>\n      <td>clear sky</td>\n      <td>61.9500</td>\n      <td>159.2333</td>\n      <td>None</td>\n    </tr>\n    <tr>\n      <th>226</th>\n      <td>Awjilah</td>\n      <td>LY</td>\n      <td>70.88</td>\n      <td>clear sky</td>\n      <td>29.1081</td>\n      <td>21.2869</td>\n      <td>None</td>\n    </tr>\n    <tr>\n      <th>239</th>\n      <td>Emba</td>\n      <td>KZ</td>\n      <td>69.69</td>\n      <td>overcast clouds</td>\n      <td>48.8264</td>\n      <td>58.1442</td>\n      <td>None</td>\n    </tr>\n    <tr>\n      <th>247</th>\n      <td>Dukat</td>\n      <td>RU</td>\n      <td>58.26</td>\n      <td>clear sky</td>\n      <td>62.5500</td>\n      <td>155.5500</td>\n      <td>None</td>\n    </tr>\n    <tr>\n      <th>248</th>\n      <td>Yumen</td>\n      <td>CN</td>\n      <td>69.78</td>\n      <td>light rain</td>\n      <td>40.2833</td>\n      <td>97.2000</td>\n      <td>None</td>\n    </tr>\n    <tr>\n      <th>253</th>\n      <td>Avera</td>\n      <td>US</td>\n      <td>75.07</td>\n      <td>broken clouds</td>\n      <td>33.1940</td>\n      <td>-82.5271</td>\n      <td>None</td>\n    </tr>\n    <tr>\n      <th>267</th>\n      <td>Kungurtug</td>\n      <td>RU</td>\n      <td>56.46</td>\n      <td>broken clouds</td>\n      <td>50.5994</td>\n      <td>97.5228</td>\n      <td>None</td>\n    </tr>\n    <tr>\n      <th>286</th>\n      <td>Kamakwie</td>\n      <td>SL</td>\n      <td>73.40</td>\n      <td>moderate rain</td>\n      <td>9.5000</td>\n      <td>-12.2333</td>\n      <td>None</td>\n    </tr>\n    <tr>\n      <th>295</th>\n      <td>Wattegama</td>\n      <td>LK</td>\n      <td>77.92</td>\n      <td>scattered clouds</td>\n      <td>6.7989</td>\n      <td>81.4808</td>\n      <td>None</td>\n    </tr>\n    <tr>\n      <th>306</th>\n      <td>Sangar</td>\n      <td>RU</td>\n      <td>62.51</td>\n      <td>clear sky</td>\n      <td>63.9242</td>\n      <td>127.4739</td>\n      <td>None</td>\n    </tr>\n    <tr>\n      <th>319</th>\n      <td>Kamenskiy</td>\n      <td>RU</td>\n      <td>62.22</td>\n      <td>clear sky</td>\n      <td>50.8855</td>\n      <td>45.4880</td>\n      <td>None</td>\n    </tr>\n    <tr>\n      <th>366</th>\n      <td>Lahij</td>\n      <td>YE</td>\n      <td>84.69</td>\n      <td>overcast clouds</td>\n      <td>13.1667</td>\n      <td>44.5833</td>\n      <td>None</td>\n    </tr>\n    <tr>\n      <th>385</th>\n      <td>Ostrovnoy</td>\n      <td>RU</td>\n      <td>63.19</td>\n      <td>few clouds</td>\n      <td>68.0531</td>\n      <td>39.5131</td>\n      <td>None</td>\n    </tr>\n    <tr>\n      <th>388</th>\n      <td>Beloha</td>\n      <td>MG</td>\n      <td>65.07</td>\n      <td>clear sky</td>\n      <td>-25.1667</td>\n      <td>45.0500</td>\n      <td>None</td>\n    </tr>\n    <tr>\n      <th>408</th>\n      <td>Okhotsk</td>\n      <td>RU</td>\n      <td>56.50</td>\n      <td>broken clouds</td>\n      <td>59.3833</td>\n      <td>143.3000</td>\n      <td>None</td>\n    </tr>\n    <tr>\n      <th>412</th>\n      <td>Novoagansk</td>\n      <td>RU</td>\n      <td>59.23</td>\n      <td>broken clouds</td>\n      <td>61.9449</td>\n      <td>76.6625</td>\n      <td>None</td>\n    </tr>\n    <tr>\n      <th>442</th>\n      <td>Baherden</td>\n      <td>TM</td>\n      <td>82.20</td>\n      <td>clear sky</td>\n      <td>38.4362</td>\n      <td>57.4316</td>\n      <td>None</td>\n    </tr>\n    <tr>\n      <th>447</th>\n      <td>Birao</td>\n      <td>CF</td>\n      <td>79.59</td>\n      <td>overcast clouds</td>\n      <td>10.2849</td>\n      <td>22.7882</td>\n      <td>None</td>\n    </tr>\n    <tr>\n      <th>472</th>\n      <td>Shirokiy</td>\n      <td>RU</td>\n      <td>74.50</td>\n      <td>overcast clouds</td>\n      <td>49.7580</td>\n      <td>129.5230</td>\n      <td>None</td>\n    </tr>\n    <tr>\n      <th>507</th>\n      <td>Nioro</td>\n      <td>GM</td>\n      <td>82.78</td>\n      <td>overcast clouds</td>\n      <td>13.3500</td>\n      <td>-15.7500</td>\n      <td>None</td>\n    </tr>\n    <tr>\n      <th>519</th>\n      <td>Beroroha</td>\n      <td>MG</td>\n      <td>64.78</td>\n      <td>scattered clouds</td>\n      <td>-21.6667</td>\n      <td>45.1667</td>\n      <td>None</td>\n    </tr>\n    <tr>\n      <th>526</th>\n      <td>Lokosovo</td>\n      <td>RU</td>\n      <td>67.08</td>\n      <td>overcast clouds</td>\n      <td>61.1333</td>\n      <td>74.8167</td>\n      <td>None</td>\n    </tr>\n    <tr>\n      <th>533</th>\n      <td>Aksarka</td>\n      <td>RU</td>\n      <td>71.62</td>\n      <td>overcast clouds</td>\n      <td>66.5606</td>\n      <td>67.7975</td>\n      <td>None</td>\n    </tr>\n    <tr>\n      <th>539</th>\n      <td>Kodinsk</td>\n      <td>RU</td>\n      <td>65.19</td>\n      <td>clear sky</td>\n      <td>58.6881</td>\n      <td>99.1844</td>\n      <td>None</td>\n    </tr>\n    <tr>\n      <th>556</th>\n      <td>Zyryanka</td>\n      <td>RU</td>\n      <td>73.69</td>\n      <td>broken clouds</td>\n      <td>65.7500</td>\n      <td>150.8500</td>\n      <td>None</td>\n    </tr>\n    <tr>\n      <th>560</th>\n      <td>Ouadda</td>\n      <td>CF</td>\n      <td>70.50</td>\n      <td>light rain</td>\n      <td>8.0777</td>\n      <td>22.4007</td>\n      <td>None</td>\n    </tr>\n    <tr>\n      <th>582</th>\n      <td>Suraabad</td>\n      <td>AZ</td>\n      <td>71.78</td>\n      <td>clear sky</td>\n      <td>40.8192</td>\n      <td>49.4687</td>\n      <td>None</td>\n    </tr>\n    <tr>\n      <th>615</th>\n      <td>Heyang</td>\n      <td>CN</td>\n      <td>75.78</td>\n      <td>broken clouds</td>\n      <td>26.1011</td>\n      <td>107.4730</td>\n      <td>None</td>\n    </tr>\n    <tr>\n      <th>622</th>\n      <td>Yaan</td>\n      <td>NG</td>\n      <td>73.99</td>\n      <td>overcast clouds</td>\n      <td>7.3833</td>\n      <td>8.5667</td>\n      <td>None</td>\n    </tr>\n    <tr>\n      <th>659</th>\n      <td>Tadine</td>\n      <td>NC</td>\n      <td>76.59</td>\n      <td>clear sky</td>\n      <td>-21.5500</td>\n      <td>167.8833</td>\n      <td>None</td>\n    </tr>\n    <tr>\n      <th>667</th>\n      <td>Tiznit</td>\n      <td>MA</td>\n      <td>61.07</td>\n      <td>few clouds</td>\n      <td>29.5833</td>\n      <td>-9.5000</td>\n      <td>None</td>\n    </tr>\n  </tbody>\n</table>\n</div>"
     },
     "metadata": {},
     "execution_count": 122
    }
   ],
   "source": [
    "# filter to examine potential null values\n",
    "hotel_series = pd.isnull(hotel_df[\"Hotel Name\"])\n",
    "hotel_df[hotel_series]"
   ]
  },
  {
   "cell_type": "code",
   "execution_count": 123,
   "metadata": {},
   "outputs": [],
   "source": [
    "# 7. Drop the rows where there is no Hotel Name.\n",
    "clean_hotel_df = hotel_df.dropna()"
   ]
  },
  {
   "cell_type": "code",
   "execution_count": 124,
   "metadata": {},
   "outputs": [
    {
     "output_type": "execute_result",
     "data": {
      "text/plain": [
       "City               446\n",
       "Country            446\n",
       "Max Temperature    446\n",
       "Description        446\n",
       "Latitude           446\n",
       "Longitude          446\n",
       "Hotel Name         446\n",
       "dtype: int64"
      ]
     },
     "metadata": {},
     "execution_count": 124
    }
   ],
   "source": [
    "# Re-examine for null values\n",
    "clean_hotel_df.count()"
   ]
  },
  {
   "cell_type": "code",
   "execution_count": 125,
   "metadata": {},
   "outputs": [],
   "source": [
    "# 8a. Create the output File (CSV)\n",
    "output_data_file = \"WeatherPy_vacation.csv\"\n",
    "# 8b. Export the City_Data into a csv\n",
    "clean_hotel_df.to_csv(output_data_file, index_label=\"City_ID\")"
   ]
  },
  {
   "cell_type": "code",
   "execution_count": 126,
   "metadata": {},
   "outputs": [],
   "source": [
    "# 9. Using the template add city name, the country code, the weather description and maximum temperature for the city.\n",
    "info_box_template = \"\"\"\n",
    "<dl>\n",
    "<dt>Hotel</dt><dd>{Hotel Name}</dd>\n",
    "<dt>City</dt><dd>{City}</dd>\n",
    "<dt>Country</dt><dd>{Country}</dd>\n",
    "<dt>Current Weather</dt><dd>{Description} and {Max Temperature} °F</dd>\n",
    "</dl>\n",
    "\"\"\"\n",
    "\n",
    "# 10a. Get the data from each row and add it to the formatting template and store the data in a list.\n",
    "hotel_info = [info_box_template.format(**row) for index, row in clean_hotel_df.iterrows()]\n",
    "\n",
    "# 10b. Get the latitude and longitude from each row and store in a new DataFrame.\n",
    "locations = clean_hotel_df[[\"Latitude\", \"Longitude\"]]"
   ]
  },
  {
   "cell_type": "code",
   "execution_count": 133,
   "metadata": {},
   "outputs": [
    {
     "output_type": "display_data",
     "data": {
      "text/plain": "Figure(layout=FigureLayout(height='420px'))",
      "application/vnd.jupyter.widget-view+json": {
       "version_major": 2,
       "version_minor": 0,
       "model_id": "3b46aa9f62fa4b31ba0789b0d5d81f53"
      }
     },
     "metadata": {}
    }
   ],
   "source": [
    "# 11a. Add a marker layer for each city to the map. \n",
    "map_markers = gmaps.marker_layer(locations, info_box_content=hotel_info)\n",
    "# 11b. Display the figure\n",
    "# Create the figure\n",
    "fig = gmaps.figure(center=(30.0, 31.0), zoom_level=1.85)\n",
    "fig.add_layer(map_markers)\n",
    "fig"
   ]
  },
  {
   "cell_type": "code",
   "execution_count": null,
   "metadata": {},
   "outputs": [],
   "source": []
  }
 ],
 "metadata": {
  "kernelspec": {
   "name": "python3710jvsc74a57bd0acda147c8dd3b8f0274d48e33490c3394fd067fdf96c410e3ee71258c53f02eb",
   "display_name": "Python 3.7.10 64-bit ('PythonData': conda)"
  },
  "language_info": {
   "codemirror_mode": {
    "name": "ipython",
    "version": 3
   },
   "file_extension": ".py",
   "mimetype": "text/x-python",
   "name": "python",
   "nbconvert_exporter": "python",
   "pygments_lexer": "ipython3",
   "version": "3.7.10"
  },
  "latex_envs": {
   "LaTeX_envs_menu_present": true,
   "autoclose": false,
   "autocomplete": true,
   "bibliofile": "biblio.bib",
   "cite_by": "apalike",
   "current_citInitial": 1,
   "eqLabelWithNumbers": true,
   "eqNumInitial": 1,
   "hotkeys": {
    "equation": "Ctrl-E",
    "itemize": "Ctrl-I"
   },
   "labels_anchors": false,
   "latex_user_defs": false,
   "report_style_numbering": false,
   "user_envs_cfg": false
  }
 },
 "nbformat": 4,
 "nbformat_minor": 2
}