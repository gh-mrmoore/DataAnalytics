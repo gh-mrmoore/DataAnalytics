{
 "cells": [
  {
   "cell_type": "markdown",
   "metadata": {},
   "source": [
    "## Deliverable 2. Create a Customer Travel Destinations Map."
   ]
  },
  {
   "cell_type": "code",
   "execution_count": 4,
   "metadata": {},
   "outputs": [],
   "source": [
    "# Dependencies and Setup\n",
    "import pandas as pd\n",
    "import requests\n",
    "import gmaps\n",
    "\n",
    "# Import API key\n",
    "from config import google_map_api_key\n",
    "\n",
    "# Configure gmaps API key\n",
    "gmaps.configure(api_key=google_map_api_key)"
   ]
  },
  {
   "cell_type": "code",
   "execution_count": 5,
   "metadata": {},
   "outputs": [
    {
     "output_type": "execute_result",
     "data": {
      "text/plain": [
       "   City ID      City Country  Latitude  Longitude  Max Temperature  Humidity  \\\n",
       "0        0    Avarua      CK  -21.2078  -159.7750            73.45        73   \n",
       "1        1     Vaini      TO  -21.2000  -175.2000            77.16        69   \n",
       "2        2    Albany      US   42.6001   -73.9662            66.07        82   \n",
       "3        3  Ahuimanu      US   21.4447  -157.8378            87.51        56   \n",
       "4        4   Iquique      CL  -20.2208   -70.1431            62.64        78   \n",
       "\n",
       "   Percent Clouds  Wind Speed       Description                 Date  \n",
       "0              90        6.91   overcast clouds  2021-06-13 01:47:11  \n",
       "1              40       12.66  scattered clouds  2021-06-13 01:47:11  \n",
       "2              15        2.30        few clouds  2021-06-13 01:42:32  \n",
       "3              40       13.80  scattered clouds  2021-06-13 01:47:12  \n",
       "4               5        3.20         clear sky  2021-06-13 01:47:12  "
      ],
      "text/html": "<div>\n<style scoped>\n    .dataframe tbody tr th:only-of-type {\n        vertical-align: middle;\n    }\n\n    .dataframe tbody tr th {\n        vertical-align: top;\n    }\n\n    .dataframe thead th {\n        text-align: right;\n    }\n</style>\n<table border=\"1\" class=\"dataframe\">\n  <thead>\n    <tr style=\"text-align: right;\">\n      <th></th>\n      <th>City ID</th>\n      <th>City</th>\n      <th>Country</th>\n      <th>Latitude</th>\n      <th>Longitude</th>\n      <th>Max Temperature</th>\n      <th>Humidity</th>\n      <th>Percent Clouds</th>\n      <th>Wind Speed</th>\n      <th>Description</th>\n      <th>Date</th>\n    </tr>\n  </thead>\n  <tbody>\n    <tr>\n      <th>0</th>\n      <td>0</td>\n      <td>Avarua</td>\n      <td>CK</td>\n      <td>-21.2078</td>\n      <td>-159.7750</td>\n      <td>73.45</td>\n      <td>73</td>\n      <td>90</td>\n      <td>6.91</td>\n      <td>overcast clouds</td>\n      <td>2021-06-13 01:47:11</td>\n    </tr>\n    <tr>\n      <th>1</th>\n      <td>1</td>\n      <td>Vaini</td>\n      <td>TO</td>\n      <td>-21.2000</td>\n      <td>-175.2000</td>\n      <td>77.16</td>\n      <td>69</td>\n      <td>40</td>\n      <td>12.66</td>\n      <td>scattered clouds</td>\n      <td>2021-06-13 01:47:11</td>\n    </tr>\n    <tr>\n      <th>2</th>\n      <td>2</td>\n      <td>Albany</td>\n      <td>US</td>\n      <td>42.6001</td>\n      <td>-73.9662</td>\n      <td>66.07</td>\n      <td>82</td>\n      <td>15</td>\n      <td>2.30</td>\n      <td>few clouds</td>\n      <td>2021-06-13 01:42:32</td>\n    </tr>\n    <tr>\n      <th>3</th>\n      <td>3</td>\n      <td>Ahuimanu</td>\n      <td>US</td>\n      <td>21.4447</td>\n      <td>-157.8378</td>\n      <td>87.51</td>\n      <td>56</td>\n      <td>40</td>\n      <td>13.80</td>\n      <td>scattered clouds</td>\n      <td>2021-06-13 01:47:12</td>\n    </tr>\n    <tr>\n      <th>4</th>\n      <td>4</td>\n      <td>Iquique</td>\n      <td>CL</td>\n      <td>-20.2208</td>\n      <td>-70.1431</td>\n      <td>62.64</td>\n      <td>78</td>\n      <td>5</td>\n      <td>3.20</td>\n      <td>clear sky</td>\n      <td>2021-06-13 01:47:12</td>\n    </tr>\n  </tbody>\n</table>\n</div>"
     },
     "metadata": {},
     "execution_count": 5
    }
   ],
   "source": [
    "# 1. Import the WeatherPy_database.csv file. \n",
    "city_data_df = pd.read_csv(\"../Weather_Database/WeatherPy_database.csv\")\n",
    "city_data_df.head()"
   ]
  },
  {
   "cell_type": "code",
   "execution_count": 6,
   "metadata": {},
   "outputs": [],
   "source": [
    "# 2. Prompt the user to enter minimum and maximum temperature criteria \n",
    "user_min_temp = float(input(\"What temperature minimum do you prefer?\"))\n",
    "user_max_temp = float(input(\"What temperature maximum do you prefer?\"))"
   ]
  },
  {
   "cell_type": "code",
   "execution_count": 9,
   "metadata": {},
   "outputs": [],
   "source": [
    "# 3. Filter the city_data_df DataFrame using the input statements to create a new DataFrame using the loc method.\n",
    "user_pref_cities_df = city_data_df.loc[(city_data_df[\"Max Temperature\"] <= user_max_temp) & (city_data_df[\"Max Temperature\"] >= user_min_temp)]"
   ]
  },
  {
   "cell_type": "code",
   "execution_count": 11,
   "metadata": {},
   "outputs": [
    {
     "output_type": "execute_result",
     "data": {
      "text/plain": [
       "City ID            420\n",
       "City               420\n",
       "Country            418\n",
       "Latitude           420\n",
       "Longitude          420\n",
       "Max Temperature    420\n",
       "Humidity           420\n",
       "Percent Clouds     420\n",
       "Wind Speed         420\n",
       "Description        420\n",
       "Date               420\n",
       "dtype: int64"
      ]
     },
     "metadata": {},
     "execution_count": 11
    }
   ],
   "source": [
    "# 4a. Determine if there are any empty rows.\n",
    "user_pref_cities_df.count()"
   ]
  },
  {
   "cell_type": "code",
   "execution_count": 14,
   "metadata": {},
   "outputs": [
    {
     "output_type": "execute_result",
     "data": {
      "text/plain": [
       "     City ID          City Country  Latitude  Longitude  Max Temperature  \\\n",
       "377      377  Keetmanshoop     NaN  -26.5833    18.1333            61.16   \n",
       "602      602      Khorixas     NaN  -20.3667    14.9667            60.96   \n",
       "\n",
       "     Humidity  Percent Clouds  Wind Speed       Description  \\\n",
       "377        30              28        5.66  scattered clouds   \n",
       "602        29              16        8.99        few clouds   \n",
       "\n",
       "                    Date  \n",
       "377  2021-06-13 02:13:17  \n",
       "602  2021-06-13 02:29:31  "
      ],
      "text/html": "<div>\n<style scoped>\n    .dataframe tbody tr th:only-of-type {\n        vertical-align: middle;\n    }\n\n    .dataframe tbody tr th {\n        vertical-align: top;\n    }\n\n    .dataframe thead th {\n        text-align: right;\n    }\n</style>\n<table border=\"1\" class=\"dataframe\">\n  <thead>\n    <tr style=\"text-align: right;\">\n      <th></th>\n      <th>City ID</th>\n      <th>City</th>\n      <th>Country</th>\n      <th>Latitude</th>\n      <th>Longitude</th>\n      <th>Max Temperature</th>\n      <th>Humidity</th>\n      <th>Percent Clouds</th>\n      <th>Wind Speed</th>\n      <th>Description</th>\n      <th>Date</th>\n    </tr>\n  </thead>\n  <tbody>\n    <tr>\n      <th>377</th>\n      <td>377</td>\n      <td>Keetmanshoop</td>\n      <td>NaN</td>\n      <td>-26.5833</td>\n      <td>18.1333</td>\n      <td>61.16</td>\n      <td>30</td>\n      <td>28</td>\n      <td>5.66</td>\n      <td>scattered clouds</td>\n      <td>2021-06-13 02:13:17</td>\n    </tr>\n    <tr>\n      <th>602</th>\n      <td>602</td>\n      <td>Khorixas</td>\n      <td>NaN</td>\n      <td>-20.3667</td>\n      <td>14.9667</td>\n      <td>60.96</td>\n      <td>29</td>\n      <td>16</td>\n      <td>8.99</td>\n      <td>few clouds</td>\n      <td>2021-06-13 02:29:31</td>\n    </tr>\n  </tbody>\n</table>\n</div>"
     },
     "metadata": {},
     "execution_count": 14
    }
   ],
   "source": [
    "series = pd.isnull(user_pref_cities_df[\"Country\"])\n",
    "user_pref_cities_df[series]"
   ]
  },
  {
   "cell_type": "code",
   "execution_count": 6,
   "metadata": {},
   "outputs": [],
   "source": [
    "# 4b. Drop any empty rows and create a new DataFrame that doesn’t have empty rows.\n"
   ]
  },
  {
   "cell_type": "code",
   "execution_count": 7,
   "metadata": {},
   "outputs": [],
   "source": [
    "# 5a. Create DataFrame called hotel_df to store hotel names along with city, country, max temp, and coordinates.\n",
    "hotel_df = clean_df[[\"City\", \"Country\", \"Max Temp\", \"Current Description\", \"Lat\", \"Lng\"]].copy()\n",
    "\n",
    "# 5b. Create a new column \"Hotel Name\"\n",
    "hotel_df[\"Hotel Name\"] = \"\"\n",
    "hotel_df.head(10)"
   ]
  },
  {
   "cell_type": "code",
   "execution_count": 8,
   "metadata": {},
   "outputs": [],
   "source": [
    "# 6a. Set parameters to search for hotels with 5000 meters.\n",
    "params = {\n",
    "    \"radius\": 5000,\n",
    "    \"type\": \"lodging\",\n",
    "    \"key\": g_key\n",
    "}\n",
    "\n",
    "# 6b. Iterate through the hotel DataFrame.\n",
    "\n",
    "    # 6c. Get latitude and longitude from DataFrame\n",
    "\n",
    "    \n",
    "    # 6d. Set up the base URL for the Google Directions API to get JSON data.\n",
    "    \n",
    "\n",
    "    # 6e. Make request and retrieve the JSON data from the search. \n",
    "   \n",
    "    \n",
    "    # 6f. Get the first hotel from the results and store the name, if a hotel isn't found skip the city.\n",
    "    \n",
    "        "
   ]
  },
  {
   "cell_type": "code",
   "execution_count": 9,
   "metadata": {},
   "outputs": [],
   "source": [
    "# 7. Drop the rows where there is no Hotel Name.\n"
   ]
  },
  {
   "cell_type": "code",
   "execution_count": 10,
   "metadata": {},
   "outputs": [],
   "source": [
    "# 8a. Create the output File (CSV)\n",
    "\n",
    "# 8b. Export the City_Data into a csv\n",
    "clean_hotel_df.to_csv(output_data_file, index_label=\"City_ID\")"
   ]
  },
  {
   "cell_type": "code",
   "execution_count": 11,
   "metadata": {},
   "outputs": [],
   "source": [
    "# 9. Using the template add city name, the country code, the weather description and maximum temperature for the city.\n",
    "info_box_template = \"\"\"\n",
    "\n",
    "\"\"\"\n",
    "\n",
    "# 10a. Get the data from each row and add it to the formatting template and store the data in a list.\n",
    "hotel_info = [info_box_template.format(**row) for index, row in clean_hotel_df.iterrows()]\n",
    "\n",
    "# 10b. Get the latitude and longitude from each row and store in a new DataFrame.\n",
    "locations = clean_hotel_df[[\"Lat\", \"Lng\"]]"
   ]
  },
  {
   "cell_type": "code",
   "execution_count": 12,
   "metadata": {},
   "outputs": [],
   "source": [
    "# 11a. Add a marker layer for each city to the map. \n",
    "\n",
    "# 11b. Display the figure\n"
   ]
  },
  {
   "cell_type": "code",
   "execution_count": null,
   "metadata": {},
   "outputs": [],
   "source": []
  },
  {
   "cell_type": "code",
   "execution_count": null,
   "metadata": {},
   "outputs": [],
   "source": []
  }
 ],
 "metadata": {
  "kernelspec": {
   "name": "pythondata",
   "display_name": "Python 3.7.10 64-bit ('PythonData': conda)"
  },
  "language_info": {
   "codemirror_mode": {
    "name": "ipython",
    "version": 3
   },
   "file_extension": ".py",
   "mimetype": "text/x-python",
   "name": "python",
   "nbconvert_exporter": "python",
   "pygments_lexer": "ipython3",
   "version": "3.7.10"
  },
  "latex_envs": {
   "LaTeX_envs_menu_present": true,
   "autoclose": false,
   "autocomplete": true,
   "bibliofile": "biblio.bib",
   "cite_by": "apalike",
   "current_citInitial": 1,
   "eqLabelWithNumbers": true,
   "eqNumInitial": 1,
   "hotkeys": {
    "equation": "Ctrl-E",
    "itemize": "Ctrl-I"
   },
   "labels_anchors": false,
   "latex_user_defs": false,
   "report_style_numbering": false,
   "user_envs_cfg": false
  }
 },
 "nbformat": 4,
 "nbformat_minor": 2
}