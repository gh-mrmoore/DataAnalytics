{
 "cells": [
  {
   "cell_type": "markdown",
   "metadata": {},
   "source": [
    "## Deliverable 3. Create a Travel Itinerary Map."
   ]
  },
  {
   "cell_type": "code",
   "execution_count": 39,
   "metadata": {},
   "outputs": [],
   "source": [
    "# Dependencies and Setup\n",
    "import pandas as pd\n",
    "import requests\n",
    "import gmaps\n",
    "\n",
    "# Import API key\n",
    "from config import google_map_api_key\n",
    "\n",
    "# Configure gmaps\n",
    "gmaps.configure(api_key=google_map_api_key)"
   ]
  },
  {
   "cell_type": "code",
   "execution_count": 40,
   "metadata": {},
   "outputs": [
    {
     "output_type": "execute_result",
     "data": {
      "text/plain": [
       "   City_ID     City Country  Max Temperature       Description  Latitude  \\\n",
       "0        0   Avarua      CK            73.45   overcast clouds  -21.2078   \n",
       "1        1    Vaini      TO            77.16  scattered clouds  -21.2000   \n",
       "2        4  Iquique      CL            62.64         clear sky  -20.2208   \n",
       "3        5    Hobyo      SO            77.14   overcast clouds    5.3505   \n",
       "4        6    Pisco      PE            64.45   overcast clouds  -13.7000   \n",
       "\n",
       "   Longitude                   Hotel Name  \n",
       "0  -159.7750                 Paradise Inn  \n",
       "1  -175.2000          Keleti Beach Resort  \n",
       "2   -70.1431  Backpacker`s Hostel Iquique  \n",
       "3    48.5268  Halane Hotel and Restaurent  \n",
       "4   -76.2167     Hotel San Isidro Oficial  "
      ],
      "text/html": "<div>\n<style scoped>\n    .dataframe tbody tr th:only-of-type {\n        vertical-align: middle;\n    }\n\n    .dataframe tbody tr th {\n        vertical-align: top;\n    }\n\n    .dataframe thead th {\n        text-align: right;\n    }\n</style>\n<table border=\"1\" class=\"dataframe\">\n  <thead>\n    <tr style=\"text-align: right;\">\n      <th></th>\n      <th>City_ID</th>\n      <th>City</th>\n      <th>Country</th>\n      <th>Max Temperature</th>\n      <th>Description</th>\n      <th>Latitude</th>\n      <th>Longitude</th>\n      <th>Hotel Name</th>\n    </tr>\n  </thead>\n  <tbody>\n    <tr>\n      <th>0</th>\n      <td>0</td>\n      <td>Avarua</td>\n      <td>CK</td>\n      <td>73.45</td>\n      <td>overcast clouds</td>\n      <td>-21.2078</td>\n      <td>-159.7750</td>\n      <td>Paradise Inn</td>\n    </tr>\n    <tr>\n      <th>1</th>\n      <td>1</td>\n      <td>Vaini</td>\n      <td>TO</td>\n      <td>77.16</td>\n      <td>scattered clouds</td>\n      <td>-21.2000</td>\n      <td>-175.2000</td>\n      <td>Keleti Beach Resort</td>\n    </tr>\n    <tr>\n      <th>2</th>\n      <td>4</td>\n      <td>Iquique</td>\n      <td>CL</td>\n      <td>62.64</td>\n      <td>clear sky</td>\n      <td>-20.2208</td>\n      <td>-70.1431</td>\n      <td>Backpacker`s Hostel Iquique</td>\n    </tr>\n    <tr>\n      <th>3</th>\n      <td>5</td>\n      <td>Hobyo</td>\n      <td>SO</td>\n      <td>77.14</td>\n      <td>overcast clouds</td>\n      <td>5.3505</td>\n      <td>48.5268</td>\n      <td>Halane Hotel and Restaurent</td>\n    </tr>\n    <tr>\n      <th>4</th>\n      <td>6</td>\n      <td>Pisco</td>\n      <td>PE</td>\n      <td>64.45</td>\n      <td>overcast clouds</td>\n      <td>-13.7000</td>\n      <td>-76.2167</td>\n      <td>Hotel San Isidro Oficial</td>\n    </tr>\n  </tbody>\n</table>\n</div>"
     },
     "metadata": {},
     "execution_count": 40
    }
   ],
   "source": [
    "# 1. Read the WeatherPy_vacation.csv into a DataFrame.\n",
    "vacation_df = pd.read_csv(\"../Vacation_Search/WeatherPy_vacation.csv\")\n",
    "vacation_df.head()"
   ]
  },
  {
   "cell_type": "code",
   "execution_count": 41,
   "metadata": {},
   "outputs": [],
   "source": [
    "# 2. Using the template add the city name, the country code, the weather description and maximum temperature for the city.\n",
    "info_box_template = \"\"\"\n",
    "<dl>\n",
    "<dt>Hotel</dt><dd>{Hotel Name}</dd>\n",
    "<dt>City</dt><dd>{City}</dd>\n",
    "<dt>Country</dt><dd>{Country}</dd>\n",
    "<dt>Current Weather</dt><dd>{Description} and {Max Temperature} °F</dd>\n",
    "</dl>\n",
    "\"\"\"\n",
    "\n",
    "# 3a. Get the data from each row and add it to the formatting template and store the data in a list.\n",
    "hotel_info = [info_box_template.format(**row) for index, row in vacation_df.iterrows()]\n",
    "\n",
    "# 3b. Get the latitude and longitude from each row and store in a new DataFrame.\n",
    "locations = vacation_df[[\"Latitude\", \"Longitude\"]]"
   ]
  },
  {
   "cell_type": "code",
   "execution_count": 42,
   "metadata": {},
   "outputs": [
    {
     "output_type": "display_data",
     "data": {
      "text/plain": "Figure(layout=FigureLayout(height='420px'))",
      "application/vnd.jupyter.widget-view+json": {
       "version_major": 2,
       "version_minor": 0,
       "model_id": "763315d299304de5bd9c5f043bfffd8e"
      }
     },
     "metadata": {}
    }
   ],
   "source": [
    "# 4a. Add a marker layer for each city to the map.\n",
    "map_markers = gmaps.marker_layer(locations, info_box_content=hotel_info)\n",
    "\n",
    "# 4b. Display the figure\n",
    "fig = gmaps.figure(center=(30.0, 31.0), zoom_level=1.85)\n",
    "fig.add_layer(map_markers)\n",
    "fig"
   ]
  },
  {
   "cell_type": "code",
   "execution_count": 43,
   "metadata": {},
   "outputs": [],
   "source": [
    "# From the map above pick 4 cities and create a vacation itinerary route to travel between the four cities.\n",
    "# Itinerary: Freeport, US | Sudbury, CA | Lompoc, US | Ixtapa, MX | Freeport, US\n",
    "# 5. Create DataFrames for each city by filtering the 'vacation_df' using the loc method. \n",
    "# Hint: The starting and ending city should be the same city.\n",
    "\n",
    "vacation_start = vacation_df.loc[(vacation_df[\"City\"] == \"Bethel\") & (vacation_df[\"Country\"] == \"US\")]\n",
    "vacation_stop1 = vacation_df.loc[(vacation_df[\"City\"] == \"Lock Haven\") & (vacation_df[\"Country\"] == \"US\")]\n",
    "vacation_stop2 = vacation_df.loc[(vacation_df[\"City\"] == \"Fairview\") & (vacation_df[\"Country\"] == \"US\")]\n",
    "vacation_stop3 = vacation_df.loc[(vacation_df[\"City\"] == \"Freeport\") & (vacation_df[\"Country\"] == \"US\")]\n",
    "vacation_end = vacation_df.loc[(vacation_df[\"City\"] == \"Bethel\") & (vacation_df[\"Country\"] == \"US\")]"
   ]
  },
  {
   "cell_type": "code",
   "execution_count": 44,
   "metadata": {},
   "outputs": [],
   "source": [
    "# 6. Get the latitude-longitude pairs as tuples from each city DataFrame using the to_numpy function and list indexing.\n",
    "start = (vacation_start.to_numpy()[0][5], vacation_start.to_numpy()[0][6])\n",
    "stop1 = (vacation_stop1.to_numpy()[0][5], vacation_stop1.to_numpy()[0][6])\n",
    "stop2 = (vacation_stop2.to_numpy()[0][5], vacation_stop2.to_numpy()[0][6])\n",
    "stop3 = (vacation_stop3.to_numpy()[0][5], vacation_stop3.to_numpy()[0][6])\n",
    "end = (vacation_end.to_numpy()[0][5], vacation_end.to_numpy()[0][6])"
   ]
  },
  {
   "cell_type": "code",
   "execution_count": 45,
   "metadata": {
    "scrolled": true
   },
   "outputs": [
    {
     "output_type": "display_data",
     "data": {
      "text/plain": "Figure(layout=FigureLayout(height='420px'))",
      "application/vnd.jupyter.widget-view+json": {
       "version_major": 2,
       "version_minor": 0,
       "model_id": "d8b1723b08bb45f1b4dae46c3a2dee01"
      }
     },
     "metadata": {}
    }
   ],
   "source": [
    "# 7. Create a direction layer map using the start and end latitude-longitude pairs,\n",
    "# and stop1, stop2, and stop3 as the waypoints. The travel_mode should be \"DRIVING\", \"BICYCLING\", or \"WALKING\".\n",
    "figure = gmaps.figure()\n",
    "itinerary = gmaps.directions_layer(start, end, waypoints=[stop1, stop2, stop3], travel_mode='DRIVING')\n",
    "figure.add_layer(itinerary)\n",
    "figure\n"
   ]
  },
  {
   "cell_type": "code",
   "execution_count": 46,
   "metadata": {},
   "outputs": [
    {
     "output_type": "execute_result",
     "data": {
      "text/plain": [
       "   City_ID        City Country  Max Temperature       Description  Latitude  \\\n",
       "0       38      Bethel      US            63.25         clear sky   41.3712   \n",
       "1      325  Lock Haven      US            70.36  scattered clouds   41.1370   \n",
       "2      352    Fairview      US            64.81     broken clouds   40.8126   \n",
       "3      122    Freeport      US            65.07         clear sky   40.6576   \n",
       "\n",
       "   Longitude                                     Hotel Name  \n",
       "0   -73.4140                  Courtyard by Marriott Danbury  \n",
       "1   -77.4469  Fairfield Inn & Suites by Marriott Lock Haven  \n",
       "2   -73.9990   Homewood Suites by Hilton Edgewater-NYC Area  \n",
       "3   -73.5832                    The Freeport Inn and Marina  "
      ],
      "text/html": "<div>\n<style scoped>\n    .dataframe tbody tr th:only-of-type {\n        vertical-align: middle;\n    }\n\n    .dataframe tbody tr th {\n        vertical-align: top;\n    }\n\n    .dataframe thead th {\n        text-align: right;\n    }\n</style>\n<table border=\"1\" class=\"dataframe\">\n  <thead>\n    <tr style=\"text-align: right;\">\n      <th></th>\n      <th>City_ID</th>\n      <th>City</th>\n      <th>Country</th>\n      <th>Max Temperature</th>\n      <th>Description</th>\n      <th>Latitude</th>\n      <th>Longitude</th>\n      <th>Hotel Name</th>\n    </tr>\n  </thead>\n  <tbody>\n    <tr>\n      <th>0</th>\n      <td>38</td>\n      <td>Bethel</td>\n      <td>US</td>\n      <td>63.25</td>\n      <td>clear sky</td>\n      <td>41.3712</td>\n      <td>-73.4140</td>\n      <td>Courtyard by Marriott Danbury</td>\n    </tr>\n    <tr>\n      <th>1</th>\n      <td>325</td>\n      <td>Lock Haven</td>\n      <td>US</td>\n      <td>70.36</td>\n      <td>scattered clouds</td>\n      <td>41.1370</td>\n      <td>-77.4469</td>\n      <td>Fairfield Inn &amp; Suites by Marriott Lock Haven</td>\n    </tr>\n    <tr>\n      <th>2</th>\n      <td>352</td>\n      <td>Fairview</td>\n      <td>US</td>\n      <td>64.81</td>\n      <td>broken clouds</td>\n      <td>40.8126</td>\n      <td>-73.9990</td>\n      <td>Homewood Suites by Hilton Edgewater-NYC Area</td>\n    </tr>\n    <tr>\n      <th>3</th>\n      <td>122</td>\n      <td>Freeport</td>\n      <td>US</td>\n      <td>65.07</td>\n      <td>clear sky</td>\n      <td>40.6576</td>\n      <td>-73.5832</td>\n      <td>The Freeport Inn and Marina</td>\n    </tr>\n  </tbody>\n</table>\n</div>"
     },
     "metadata": {},
     "execution_count": 46
    }
   ],
   "source": [
    "# 8. To create a marker layer map between the four cities.\n",
    "#  Combine the four city DataFrames into one DataFrame using the concat() function.\n",
    "itinerary_df = pd.concat([vacation_start, vacation_stop1, vacation_stop2, vacation_stop3],ignore_index=True)\n",
    "itinerary_df"
   ]
  },
  {
   "cell_type": "code",
   "execution_count": 47,
   "metadata": {},
   "outputs": [],
   "source": [
    "# 9 Using the template add city name, the country code, the weather description and maximum temperature for the city. \n",
    "info_box_template = \"\"\"\n",
    "<dl>\n",
    "<dt>Hotel</dt><dd>{Hotel Name}</dd>\n",
    "<dt>City</dt><dd>{City}</dd>\n",
    "<dt>Country</dt><dd>{Country}</dd>\n",
    "<dt>Current Weather</dt><dd>{Description} and {Max Temperature} °F</dd>\n",
    "</dl>\n",
    "\"\"\"\n",
    "\n",
    "# 10a Get the data from each row and add it to the formatting template and store the data in a list.\n",
    "hotel_info = [info_box_template.format(**row) for index, row in itinerary_df.iterrows()]\n",
    "\n",
    "# 10b. Get the latitude and longitude from each row and store in a new DataFrame.\n",
    "locations = itinerary_df[[\"Latitude\", \"Longitude\"]]"
   ]
  },
  {
   "cell_type": "code",
   "execution_count": 48,
   "metadata": {},
   "outputs": [
    {
     "output_type": "display_data",
     "data": {
      "text/plain": "Figure(layout=FigureLayout(height='420px'))",
      "application/vnd.jupyter.widget-view+json": {
       "version_major": 2,
       "version_minor": 0,
       "model_id": "1c8f5726613d4c5e973bc69073a00b77"
      }
     },
     "metadata": {}
    }
   ],
   "source": [
    "# 11a. Add a marker layer for each city to the map.\n",
    "itinerary_markers = gmaps.marker_layer(locations, info_box_content=hotel_info)\n",
    "# 11b. Display the figure\n",
    "fig = gmaps.figure(center=(33.0, -80.0), zoom_level=3.00)\n",
    "fig.add_layer(itinerary_markers)\n",
    "fig"
   ]
  },
  {
   "cell_type": "code",
   "execution_count": null,
   "metadata": {},
   "outputs": [],
   "source": []
  }
 ],
 "metadata": {
  "kernelspec": {
   "name": "pythondata",
   "display_name": "Python 3.7.10 64-bit ('PythonData': conda)"
  },
  "language_info": {
   "codemirror_mode": {
    "name": "ipython",
    "version": 3
   },
   "file_extension": ".py",
   "mimetype": "text/x-python",
   "name": "python",
   "nbconvert_exporter": "python",
   "pygments_lexer": "ipython3",
   "version": "3.7.10"
  },
  "latex_envs": {
   "LaTeX_envs_menu_present": true,
   "autoclose": false,
   "autocomplete": true,
   "bibliofile": "biblio.bib",
   "cite_by": "apalike",
   "current_citInitial": 1,
   "eqLabelWithNumbers": true,
   "eqNumInitial": 1,
   "hotkeys": {
    "equation": "Ctrl-E",
    "itemize": "Ctrl-I"
   },
   "labels_anchors": false,
   "latex_user_defs": false,
   "report_style_numbering": false,
   "user_envs_cfg": false
  }
 },
 "nbformat": 4,
 "nbformat_minor": 2
}